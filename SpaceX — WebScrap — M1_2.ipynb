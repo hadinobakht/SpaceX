{
 "cells": [
  {
   "cell_type": "markdown",
   "source": [
    "## Space X Falcon 9 First Stage Landing Prediction\n",
    "\n",
    "### Web scraping Falcon 9 and Falcon Heavy Launches Records from Wikipedia\n",
    "\n",
    "In this lab, you will be performing web scraping to collect Falcon 9 historical launch records from a Wikipedia page titled List of Falcon 9 and Falcon Heavy launches\n",
    "\n",
    "https://en.wikipedia.org/wiki/List_of_Falcon_9_and_Falcon_Heavy_launches"
   ],
   "metadata": {
    "collapsed": false
   }
  },
  {
   "cell_type": "markdown",
   "source": [
    "## Objectives\n",
    "\n",
    "Web scrap Falcon 9 launch records with `BeautifulSoup`:\n",
    "\n",
    "*   Extract a Falcon 9 launch records HTML table from Wikipedia\n",
    "*   Parse the table and convert it into a Pandas data frame\n",
    "\n",
    "First let's import required packages for this lab"
   ],
   "metadata": {
    "collapsed": false
   }
  },
  {
   "cell_type": "code",
   "execution_count": 1,
   "outputs": [
    {
     "name": "stdout",
     "output_type": "stream",
     "text": [
      "Requirement already satisfied: beautifulsoup4 in c:\\users\\hadin\\anaconda3\\lib\\site-packages (4.11.1)\n",
      "Requirement already satisfied: soupsieve>1.2 in c:\\users\\hadin\\anaconda3\\lib\\site-packages (from beautifulsoup4) (2.3.1)\n",
      "Requirement already satisfied: requests in c:\\users\\hadin\\anaconda3\\lib\\site-packages (2.28.1)\n",
      "Requirement already satisfied: urllib3<1.27,>=1.21.1 in c:\\users\\hadin\\anaconda3\\lib\\site-packages (from requests) (1.26.11)\n",
      "Requirement already satisfied: idna<4,>=2.5 in c:\\users\\hadin\\anaconda3\\lib\\site-packages (from requests) (3.3)\n",
      "Requirement already satisfied: certifi>=2017.4.17 in c:\\users\\hadin\\anaconda3\\lib\\site-packages (from requests) (2022.9.14)\n",
      "Requirement already satisfied: charset-normalizer<3,>=2 in c:\\users\\hadin\\anaconda3\\lib\\site-packages (from requests) (2.0.4)\n"
     ]
    }
   ],
   "source": [
    "!pip install beautifulsoup4\n",
    "!pip install requests"
   ],
   "metadata": {
    "collapsed": false,
    "ExecuteTime": {
     "start_time": "2023-04-01T11:38:11.375858Z",
     "end_time": "2023-04-01T11:38:20.228523Z"
    }
   }
  },
  {
   "cell_type": "code",
   "execution_count": 2,
   "outputs": [],
   "source": [
    "import sys\n",
    "import requests\n",
    "from bs4 import BeautifulSoup\n",
    "import re\n",
    "import unicodedata\n",
    "import pandas as pd"
   ],
   "metadata": {
    "collapsed": false,
    "ExecuteTime": {
     "start_time": "2023-04-01T11:38:30.361746Z",
     "end_time": "2023-04-01T11:38:31.655456Z"
    }
   }
  },
  {
   "cell_type": "markdown",
   "source": [
    "and we will provide some helper functions for you to process web scraped HTML table"
   ],
   "metadata": {
    "collapsed": false
   }
  },
  {
   "cell_type": "code",
   "execution_count": 3,
   "outputs": [],
   "source": [
    "def date_time(table_cells):\n",
    "    \"\"\"\n",
    "    This function returns the data and time from the HTML  table cell\n",
    "    Input: the  element of a table data cell extracts extra row\n",
    "    \"\"\"\n",
    "    return [data_time.strip() for data_time in list(table_cells.strings)][0:2]\n",
    "\n",
    "def booster_version(table_cells):\n",
    "    \"\"\"\n",
    "    This function returns the booster version from the HTML  table cell\n",
    "    Input: the  element of a table data cell extracts extra row\n",
    "    \"\"\"\n",
    "    out=''.join([booster_version for i,booster_version in enumerate( table_cells.strings) if i%2==0][0:-1])\n",
    "    return out\n",
    "\n",
    "def landing_status(table_cells):\n",
    "    \"\"\"\n",
    "    This function returns the landing status from the HTML table cell\n",
    "    Input: the  element of a table data cell extracts extra row\n",
    "    \"\"\"\n",
    "    out=[i for i in table_cells.strings][0]\n",
    "    return out\n",
    "\n",
    "\n",
    "def get_mass(table_cells):\n",
    "    mass=unicodedata.normalize(\"NFKD\", table_cells.text).strip()\n",
    "    if mass:\n",
    "        mass.find(\"kg\")\n",
    "        new_mass=mass[0:mass.find(\"kg\")+2]\n",
    "    else:\n",
    "        new_mass=0\n",
    "    return new_mass\n",
    "\n",
    "\n",
    "def extract_column_from_header(row):\n",
    "    \"\"\"\n",
    "    This function returns the landing status from the HTML table cell\n",
    "    Input: the  element of a table data cell extracts extra row\n",
    "    \"\"\"\n",
    "    if (row.br):\n",
    "        row.br.extract()\n",
    "    if row.a:\n",
    "        row.a.extract()\n",
    "    if row.sup:\n",
    "        row.sup.extract()\n",
    "\n",
    "    colunm_name = ' '.join(row.contents)\n",
    "\n",
    "    # Filter the digit and empty names\n",
    "    if not(colunm_name.strip().isdigit()):\n",
    "        colunm_name = colunm_name.strip()\n",
    "        return colunm_name"
   ],
   "metadata": {
    "collapsed": false,
    "ExecuteTime": {
     "start_time": "2023-04-01T11:39:19.373420Z",
     "end_time": "2023-04-01T11:39:19.399466Z"
    }
   }
  },
  {
   "cell_type": "markdown",
   "source": [
    "To keep the lab tasks consistent, you will be asked to scrape the data from a snapshot of the List of Falcon 9 and Falcon Heavy launches Wikipage updated on 9th June 2021"
   ],
   "metadata": {
    "collapsed": false
   }
  },
  {
   "cell_type": "code",
   "execution_count": 4,
   "outputs": [],
   "source": [
    "static_url = \"https://en.wikipedia.org/w/index.php?title=List_of_Falcon_9_and_Falcon_Heavy_launches&oldid=1027686922\""
   ],
   "metadata": {
    "collapsed": false,
    "ExecuteTime": {
     "start_time": "2023-04-01T11:39:42.173222Z",
     "end_time": "2023-04-01T11:39:42.220256Z"
    }
   }
  },
  {
   "cell_type": "markdown",
   "source": [
    "Next, request the HTML page from the above URL and get a response object\n",
    "\n",
    "#### TASK 1: Request the Falcon9 Launch Wiki page from its URL\n",
    "\n",
    "First, let's perform an HTTP GET method to request the Falcon9 Launch HTML page, as an HTTP response."
   ],
   "metadata": {
    "collapsed": false
   }
  },
  {
   "cell_type": "code",
   "execution_count": 5,
   "outputs": [],
   "source": [
    "# use requests.get() method with the provided static_url\n",
    "# assign the response to a object"
   ],
   "metadata": {
    "collapsed": false,
    "ExecuteTime": {
     "start_time": "2023-04-01T11:40:11.334413Z",
     "end_time": "2023-04-01T11:40:11.381338Z"
    }
   }
  },
  {
   "cell_type": "code",
   "execution_count": 6,
   "outputs": [],
   "source": [
    "page = requests.get(static_url)"
   ],
   "metadata": {
    "collapsed": false,
    "ExecuteTime": {
     "start_time": "2023-04-01T11:40:17.617016Z",
     "end_time": "2023-04-01T11:40:18.732414Z"
    }
   }
  },
  {
   "cell_type": "code",
   "execution_count": 7,
   "outputs": [
    {
     "data": {
      "text/plain": "200"
     },
     "execution_count": 7,
     "metadata": {},
     "output_type": "execute_result"
    }
   ],
   "source": [
    "page.status_code"
   ],
   "metadata": {
    "collapsed": false,
    "ExecuteTime": {
     "start_time": "2023-04-01T11:40:28.910226Z",
     "end_time": "2023-04-01T11:40:28.936945Z"
    }
   }
  },
  {
   "cell_type": "markdown",
   "source": [
    "Create a BeautifulSoup object from the HTML response"
   ],
   "metadata": {
    "collapsed": false
   }
  },
  {
   "cell_type": "code",
   "execution_count": 8,
   "outputs": [],
   "source": [
    "# Create a BeautifulSoup object from the HTML response\n",
    "# Use BeautifulSoup() to create a BeautifulSoup object from a response text content"
   ],
   "metadata": {
    "collapsed": false,
    "ExecuteTime": {
     "start_time": "2023-04-01T11:40:47.929728Z",
     "end_time": "2023-04-01T11:40:47.976785Z"
    }
   }
  },
  {
   "cell_type": "code",
   "execution_count": 9,
   "outputs": [],
   "source": [
    "soup = BeautifulSoup(page.text, 'html.parser')"
   ],
   "metadata": {
    "collapsed": false,
    "ExecuteTime": {
     "start_time": "2023-04-01T11:40:55.149343Z",
     "end_time": "2023-04-01T11:40:56.106107Z"
    }
   }
  },
  {
   "cell_type": "code",
   "execution_count": 10,
   "outputs": [
    {
     "data": {
      "text/plain": "<title>List of Falcon 9 and Falcon Heavy launches - Wikipedia</title>"
     },
     "execution_count": 10,
     "metadata": {},
     "output_type": "execute_result"
    }
   ],
   "source": [
    "soup.title"
   ],
   "metadata": {
    "collapsed": false,
    "ExecuteTime": {
     "start_time": "2023-04-01T11:41:02.974610Z",
     "end_time": "2023-04-01T11:41:02.993750Z"
    }
   }
  },
  {
   "cell_type": "markdown",
   "source": [
    "### TASK 2: Extract all column/variable names from the HTML table header"
   ],
   "metadata": {
    "collapsed": false
   }
  },
  {
   "cell_type": "markdown",
   "source": [
    "##### Next, we want to collect all relevant column names from the HTML table header\n",
    "\n",
    " Let's try to find all tables on the wiki page first. If you need to refresh your memory about BeautifulSoup, please check the external reference link towards the end of this lab"
   ],
   "metadata": {
    "collapsed": false
   }
  },
  {
   "cell_type": "code",
   "execution_count": 11,
   "outputs": [],
   "source": [
    "# Use the find_all function in the BeautifulSoup object, with element type `table`\n",
    "# Assign the result to a list called `html_tables`"
   ],
   "metadata": {
    "collapsed": false,
    "ExecuteTime": {
     "start_time": "2023-04-01T11:41:44.132890Z",
     "end_time": "2023-04-01T11:41:44.195847Z"
    }
   }
  },
  {
   "cell_type": "code",
   "execution_count": 12,
   "outputs": [],
   "source": [
    "html_tables = soup.find_all('table')"
   ],
   "metadata": {
    "collapsed": false,
    "ExecuteTime": {
     "start_time": "2023-04-01T11:41:51.857406Z",
     "end_time": "2023-04-01T11:41:51.936077Z"
    }
   }
  },
  {
   "cell_type": "markdown",
   "source": [
    "#### Starting from the third table is our target table contains the actual launch records."
   ],
   "metadata": {
    "collapsed": false
   }
  },
  {
   "cell_type": "code",
   "execution_count": 13,
   "outputs": [],
   "source": [
    "# Let's print the third table and check its content\n",
    "first_launch_table = html_tables[2]"
   ],
   "metadata": {
    "collapsed": false,
    "ExecuteTime": {
     "start_time": "2023-04-01T11:42:25.361091Z",
     "end_time": "2023-04-01T11:42:25.370104Z"
    }
   }
  },
  {
   "cell_type": "markdown",
   "source": [
    "###### You should able to see the columns names embedded in the table header elements <th> as follows:"
   ],
   "metadata": {
    "collapsed": false
   }
  },
  {
   "cell_type": "markdown",
   "source": [
    "#### Next, we just need to iterate through the <th> elements and apply the provided extract_column_from_header() to extract column name one by one"
   ],
   "metadata": {
    "collapsed": false
   }
  },
  {
   "cell_type": "code",
   "execution_count": 14,
   "outputs": [],
   "source": [
    "column_names = []"
   ],
   "metadata": {
    "collapsed": false,
    "ExecuteTime": {
     "start_time": "2023-04-01T11:43:55.221684Z",
     "end_time": "2023-04-01T11:43:55.268749Z"
    }
   }
  },
  {
   "cell_type": "code",
   "execution_count": 15,
   "outputs": [],
   "source": [
    "# Apply find_all() function with `th` element on first_launch_table\n",
    "# Iterate each th element and apply the provided extract_column_from_header() to get a column name\n",
    "# Append the Non-empty column name (`if name is not None and len(name) > 0`) into a list called column_names"
   ],
   "metadata": {
    "collapsed": false,
    "ExecuteTime": {
     "start_time": "2023-04-01T11:44:14.714824Z",
     "end_time": "2023-04-01T11:44:14.730457Z"
    }
   }
  },
  {
   "cell_type": "code",
   "execution_count": 16,
   "outputs": [],
   "source": [
    "for i in first_launch_table.find_all('th'):\n",
    "    if extract_column_from_header(i) != None:\n",
    "        if len (extract_column_from_header(i))>0:\n",
    "            column_names.append(extract_column_from_header(i))"
   ],
   "metadata": {
    "collapsed": false,
    "ExecuteTime": {
     "start_time": "2023-04-01T11:44:22.161677Z",
     "end_time": "2023-04-01T11:44:22.224724Z"
    }
   }
  },
  {
   "cell_type": "code",
   "execution_count": 17,
   "outputs": [
    {
     "name": "stdout",
     "output_type": "stream",
     "text": [
      "['Flight No.', 'Date and time ( )', 'Launch site', 'Payload', 'Payload mass', 'Orbit', 'Customer', 'Launch outcome']\n"
     ]
    }
   ],
   "source": [
    "print(column_names)"
   ],
   "metadata": {
    "collapsed": false,
    "ExecuteTime": {
     "start_time": "2023-04-01T11:44:30.623991Z",
     "end_time": "2023-04-01T11:44:30.702654Z"
    }
   }
  },
  {
   "cell_type": "markdown",
   "source": [
    "### TASK 3: Create a data frame by parsing the launch HTML tables"
   ],
   "metadata": {
    "collapsed": false
   }
  },
  {
   "cell_type": "markdown",
   "source": [
    "#### We will create an empty dictionary with keys from the extracted column names in the previous task. Later, this dictionary will be converted into a Pandas dataframe"
   ],
   "metadata": {
    "collapsed": false
   }
  },
  {
   "cell_type": "code",
   "execution_count": 19,
   "outputs": [],
   "source": [
    "launch_dict= dict.fromkeys(column_names)\n",
    "\n",
    "# Remove an irrelvant column\n",
    "del launch_dict['Date and time ( )']\n",
    "\n",
    "# Let's initial the launch_dict with each value to be an empty list\n",
    "launch_dict['Flight No.'] = []\n",
    "launch_dict['Launch site'] = []\n",
    "launch_dict['Payload'] = []\n",
    "launch_dict['Payload mass'] = []\n",
    "launch_dict['Orbit'] = []\n",
    "launch_dict['Customer'] = []\n",
    "launch_dict['Launch outcome'] = []\n",
    "# Added some new columns\n",
    "launch_dict['Version Booster']=[]\n",
    "launch_dict['Booster landing']=[]\n",
    "launch_dict['Date']=[]\n",
    "launch_dict['Time']=[]"
   ],
   "metadata": {
    "collapsed": false,
    "ExecuteTime": {
     "start_time": "2023-04-01T11:45:16.210923Z",
     "end_time": "2023-04-01T11:45:16.226608Z"
    }
   }
  },
  {
   "cell_type": "markdown",
   "source": [
    "##### Next, we just need to fill up the launch_dict with launch records extracted from table rows.\n",
    " Usually, HTML tables in Wiki pages are likely to contain unexpected annotations and other types of noises, such as reference links B0004.1[8], missing values N/A [e], inconsistent formatting, etc.\n",
    " To simplify the parsing process, we have provided an incomplete code snippet below to help you to fill up the launch_dict. Please complete the following code snippet with TODOs or you can choose to write your own logic to parse all launch tables:"
   ],
   "metadata": {
    "collapsed": false
   }
  },
  {
   "cell_type": "code",
   "execution_count": 20,
   "outputs": [],
   "source": [
    "extracted_row = 0\n",
    "#Extract each table\n",
    "for table_number,table in enumerate(soup.find_all('table',\"wikitable plainrowheaders collapsible\")):\n",
    "    # get table row\n",
    "    for rows in table.find_all(\"tr\"):\n",
    "        #check to see if first table heading is as number corresponding to launch a number\n",
    "        if rows.th:\n",
    "            if rows.th.string:\n",
    "                flight_number=rows.th.string.strip()\n",
    "                flag=flight_number.isdigit()\n",
    "        else:\n",
    "            flag=False\n",
    "        #get table element\n",
    "        row=rows.find_all('td')\n",
    "        #if it is number save cells in a dictonary\n",
    "        if flag:\n",
    "            extracted_row += 1\n",
    "            # Flight Number value\n",
    "            # TODO: Append the flight_number into launch_dict with key `Flight No.`\n",
    "            launch_dict['Flight No.'].append(flight_number)\n",
    "            #print(flight_number)\n",
    "            datatimelist=date_time(row[0])\n",
    "\n",
    "            # Date value\n",
    "            # TODO: Append the date into launch_dict with key `Date`\n",
    "            date = datatimelist[0].strip(',')\n",
    "            launch_dict['Date'].append(date)\n",
    "            #print(date)\n",
    "\n",
    "            # Time value\n",
    "            # TODO: Append the time into launch_dict with key `Time`\n",
    "            time = datatimelist[1]\n",
    "            launch_dict['Time'].append(time)\n",
    "            #print(time)\n",
    "\n",
    "            # Booster version\n",
    "            # TODO: Append the bv into launch_dict with key `Version Booster`\n",
    "            bv=booster_version(row[1])\n",
    "            if not(bv):\n",
    "                bv=row[1]\n",
    "            #print(bv)\n",
    "            launch_dict['Version Booster'].append(bv)\n",
    "\n",
    "            # Launch Site\n",
    "            # TODO: Append the bv into launch_dict with key `Launch Site`\n",
    "            launch_site = row[2]\n",
    "            launch_dict['Launch site'].append(launch_site)\n",
    "            #print(launch_site)\n",
    "\n",
    "            # Payload\n",
    "            # TODO: Append the payload into launch_dict with key `Payload`\n",
    "            payload = row[3]\n",
    "            launch_dict['Payload'].append(payload)\n",
    "            #print(payload)\n",
    "\n",
    "            # Payload Mass\n",
    "            # TODO: Append the payload_mass into launch_dict with key `Payload mass`\n",
    "            payload_mass = get_mass(row[4])\n",
    "            launch_dict['Payload mass'].append(payload_mass)\n",
    "            #print(payload)\n",
    "\n",
    "            # Orbit\n",
    "            # TODO: Append the orbit into launch_dict with key `Orbit`\n",
    "            orbit = row[5]\n",
    "            launch_dict['Orbit'].append(orbit)\n",
    "            #print(orbit)\n",
    "\n",
    "            # Customer\n",
    "            # TODO: Append the customer into launch_dict with key `Customer`\n",
    "            customer = row[6]\n",
    "            launch_dict['Customer'].append(customer)\n",
    "            #print(customer)\n",
    "\n",
    "            # Launch outcome\n",
    "            # TODO: Append the launch_outcome into launch_dict with key `Launch outcome`\n",
    "            launch_outcome = list(row[7].strings)[0]\n",
    "            launch_dict['Launch outcome'].append(launch_outcome)\n",
    "            #print(launch_outcome)\n",
    "\n",
    "            # Booster landing\n",
    "            # TODO: Append the launch_outcome into launch_dict with key `Booster landing`\n",
    "            booster_landing = landing_status(row[8])\n",
    "            launch_dict['Booster landing'].append(booster_landing)\n",
    "            #print(booster_landing)"
   ],
   "metadata": {
    "collapsed": false,
    "ExecuteTime": {
     "start_time": "2023-04-01T11:54:29.509633Z",
     "end_time": "2023-04-01T11:54:29.588103Z"
    }
   }
  },
  {
   "cell_type": "code",
   "execution_count": 21,
   "outputs": [],
   "source": [
    "def pad_dict_list(dict_list, padel):\n",
    "    lmax = 0\n",
    "    for lname in dict_list.keys():\n",
    "        lmax = max(lmax, len(dict_list[lname]))\n",
    "    for lname in dict_list.keys():\n",
    "        l1 = len(dict_list[lname])\n",
    "        if l1 < lmax:\n",
    "            dict_list[lname] += [padel] * (lmax - l1)\n",
    "    return dict_list"
   ],
   "metadata": {
    "collapsed": false,
    "ExecuteTime": {
     "start_time": "2023-04-01T11:54:39.737540Z",
     "end_time": "2023-04-01T11:54:39.848227Z"
    }
   }
  },
  {
   "cell_type": "code",
   "execution_count": 22,
   "outputs": [
    {
     "name": "stdout",
     "output_type": "stream",
     "text": [
      "{'Flight No.': ['1', '2', '3', '4', '5', '6', '7', '8', '9', '10', '11', '12', '13', '14', '15', '16', '17', '18', '19', '20', '21', '22', '23', '24', '25', '26', '27', '28', '29', '30', '31', '32', '33', '34', '35', '36', '37', '38', '39', '40', '41', '42', '43', '44', '45', '46', '47', '48', '49', '50', '51', '52', '53', '54', '55', '56', '57', '58', '59', '60', '61', '62', '63', '64', '65', '66', '67', '68', '69', '70', '71', '72', '73', '74', '75', '76', '77', '78', '79', '80', '81', '82', '83', '84', '85', '86', '87', '88', '89', '90', '91', '92', '93', '94', '95', '96', '97', '98', '99', '100', '101', '102', '103', '104', '105', '106', '107', '108', '109', '110', '111', '112', '113', '114', '115', '116', '117', '118', '119', '120', '121'], 'Launch site': [<td><a href=\"/wiki/Cape_Canaveral_Space_Force_Station\" title=\"Cape Canaveral Space Force Station\">CCAFS</a>,<br/><a href=\"/wiki/Cape_Canaveral_Space_Launch_Complex_40\" title=\"Cape Canaveral Space Launch Complex 40\">SLC-40</a>\n",
      "</td>, <td><a href=\"/wiki/Cape_Canaveral_Space_Force_Station\" title=\"Cape Canaveral Space Force Station\">CCAFS</a>,<br/><a href=\"/wiki/Cape_Canaveral_Space_Launch_Complex_40\" title=\"Cape Canaveral Space Launch Complex 40\">SLC-40</a>\n",
      "</td>, <td><a href=\"/wiki/Cape_Canaveral_Space_Force_Station\" title=\"Cape Canaveral Space Force Station\">CCAFS</a>,<br/><a href=\"/wiki/Cape_Canaveral_Space_Launch_Complex_40\" title=\"Cape Canaveral Space Launch Complex 40\">SLC-40</a>\n",
      "</td>, <td rowspan=\"2\"><a href=\"/wiki/Cape_Canaveral_Space_Force_Station\" title=\"Cape Canaveral Space Force Station\">CCAFS</a>,<br/><a href=\"/wiki/Cape_Canaveral_Space_Launch_Complex_40\" title=\"Cape Canaveral Space Launch Complex 40\">SLC-40</a>\n",
      "</td>, <td><a href=\"/wiki/Cape_Canaveral_Space_Force_Station\" title=\"Cape Canaveral Space Force Station\">CCAFS</a>,<br/><a href=\"/wiki/Cape_Canaveral_Space_Launch_Complex_40\" title=\"Cape Canaveral Space Launch Complex 40\">SLC-40</a>\n",
      "</td>, <td><a class=\"mw-redirect\" href=\"/wiki/Vandenberg_Air_Force_Base\" title=\"Vandenberg Air Force Base\">VAFB</a>,<br/><a href=\"/wiki/Vandenberg_Space_Launch_Complex_4\" title=\"Vandenberg Space Launch Complex 4\">SLC-4E</a>\n",
      "</td>, <td><a href=\"/wiki/Cape_Canaveral_Space_Force_Station\" title=\"Cape Canaveral Space Force Station\">CCAFS</a>,<br/><a href=\"/wiki/Cape_Canaveral_Space_Launch_Complex_40\" title=\"Cape Canaveral Space Launch Complex 40\">SLC-40</a>\n",
      "</td>, <td><a href=\"/wiki/Cape_Canaveral_Space_Force_Station\" title=\"Cape Canaveral Space Force Station\">CCAFS</a>,<br/><a href=\"/wiki/Cape_Canaveral_Space_Launch_Complex_40\" title=\"Cape Canaveral Space Launch Complex 40\">SLC-40</a>\n",
      "</td>, <td><a class=\"mw-redirect\" href=\"/wiki/Cape_Canaveral_Air_Force_Station\" title=\"Cape Canaveral Air Force Station\">Cape Canaveral</a>,<br/><a href=\"/wiki/Cape_Canaveral_Space_Launch_Complex_40\" title=\"Cape Canaveral Space Launch Complex 40\">LC-40</a>\n",
      "</td>, <td><a class=\"mw-redirect\" href=\"/wiki/Cape_Canaveral_Air_Force_Station\" title=\"Cape Canaveral Air Force Station\">Cape Canaveral</a>,<br/><a href=\"/wiki/Cape_Canaveral_Space_Launch_Complex_40\" title=\"Cape Canaveral Space Launch Complex 40\">LC-40</a>\n",
      "</td>, <td><a class=\"mw-redirect\" href=\"/wiki/Cape_Canaveral_Air_Force_Station\" title=\"Cape Canaveral Air Force Station\">Cape Canaveral</a>,<br/><a href=\"/wiki/Cape_Canaveral_Space_Launch_Complex_40\" title=\"Cape Canaveral Space Launch Complex 40\">LC-40</a>\n",
      "</td>, <td><a class=\"mw-redirect\" href=\"/wiki/Cape_Canaveral_Air_Force_Station\" title=\"Cape Canaveral Air Force Station\">Cape Canaveral</a>,<br/><a href=\"/wiki/Cape_Canaveral_Space_Launch_Complex_40\" title=\"Cape Canaveral Space Launch Complex 40\">LC-40</a>\n",
      "</td>, <td><a class=\"mw-redirect\" href=\"/wiki/Cape_Canaveral_Air_Force_Station\" title=\"Cape Canaveral Air Force Station\">Cape Canaveral</a>,<br/><a href=\"/wiki/Cape_Canaveral_Space_Launch_Complex_40\" title=\"Cape Canaveral Space Launch Complex 40\">LC-40</a>\n",
      "</td>, <td><a href=\"/wiki/Cape_Canaveral_Space_Force_Station\" title=\"Cape Canaveral Space Force Station\">Cape Canaveral</a>,<br/><a href=\"/wiki/Cape_Canaveral_Space_Launch_Complex_40\" title=\"Cape Canaveral Space Launch Complex 40\">LC-40</a>\n",
      "</td>, <td><a href=\"/wiki/Cape_Canaveral_Space_Force_Station\" title=\"Cape Canaveral Space Force Station\">Cape Canaveral</a>,<br/><a href=\"/wiki/Cape_Canaveral_Space_Launch_Complex_40\" title=\"Cape Canaveral Space Launch Complex 40\">LC-40</a>\n",
      "</td>, <td><a href=\"/wiki/Cape_Canaveral_Space_Force_Station\" title=\"Cape Canaveral Space Force Station\">Cape Canaveral</a>,<br/><a href=\"/wiki/Cape_Canaveral_Space_Launch_Complex_40\" title=\"Cape Canaveral Space Launch Complex 40\">LC-40</a>\n",
      "</td>, <td><a class=\"mw-redirect\" href=\"/wiki/Cape_Canaveral_Air_Force_Station\" title=\"Cape Canaveral Air Force Station\">Cape Canaveral</a>,<br/><a href=\"/wiki/Cape_Canaveral_Space_Launch_Complex_40\" title=\"Cape Canaveral Space Launch Complex 40\">LC-40</a>\n",
      "</td>, <td><a href=\"/wiki/Cape_Canaveral_Space_Force_Station\" title=\"Cape Canaveral Space Force Station\">Cape Canaveral</a>,<br/><a href=\"/wiki/Cape_Canaveral_Space_Launch_Complex_40\" title=\"Cape Canaveral Space Launch Complex 40\">LC-40</a>\n",
      "</td>, <td><a href=\"/wiki/Cape_Canaveral_Space_Force_Station\" title=\"Cape Canaveral Space Force Station\">Cape Canaveral</a>,<br/><a href=\"/wiki/Cape_Canaveral_Space_Launch_Complex_40\" title=\"Cape Canaveral Space Launch Complex 40\">LC-40</a>\n",
      "</td>, <td><a href=\"/wiki/Cape_Canaveral_Space_Force_Station\" title=\"Cape Canaveral Space Force Station\">Cape Canaveral</a>,<br/><a href=\"/wiki/Cape_Canaveral_Space_Launch_Complex_40\" title=\"Cape Canaveral Space Launch Complex 40\">LC-40</a>\n",
      "</td>, <td><a class=\"mw-redirect\" href=\"/wiki/Vandenberg_Air_Force_Base\" title=\"Vandenberg Air Force Base\">VAFB</a>,<br/><a href=\"/wiki/Vandenberg_Space_Launch_Complex_4\" title=\"Vandenberg Space Launch Complex 4\">SLC-4E</a>\n",
      "</td>, <td><a href=\"/wiki/Cape_Canaveral_Space_Force_Station\" title=\"Cape Canaveral Space Force Station\">Cape Canaveral</a>,<br/><a href=\"/wiki/Cape_Canaveral_Space_Launch_Complex_40\" title=\"Cape Canaveral Space Launch Complex 40\">LC-40</a>\n",
      "</td>, <td><a href=\"/wiki/Cape_Canaveral_Space_Force_Station\" title=\"Cape Canaveral Space Force Station\">Cape Canaveral</a>,<br/><a href=\"/wiki/Cape_Canaveral_Space_Launch_Complex_40\" title=\"Cape Canaveral Space Launch Complex 40\">LC-40</a>\n",
      "</td>, <td><a href=\"/wiki/Cape_Canaveral_Space_Force_Station\" title=\"Cape Canaveral Space Force Station\">Cape Canaveral</a>,<br/><a href=\"/wiki/Cape_Canaveral_Space_Launch_Complex_40\" title=\"Cape Canaveral Space Launch Complex 40\">LC-40</a>\n",
      "</td>, <td><a href=\"/wiki/Cape_Canaveral_Space_Force_Station\" title=\"Cape Canaveral Space Force Station\">Cape Canaveral</a>,<br/><a href=\"/wiki/Cape_Canaveral_Space_Launch_Complex_40\" title=\"Cape Canaveral Space Launch Complex 40\">LC-40</a>\n",
      "</td>, <td><a href=\"/wiki/Cape_Canaveral_Space_Force_Station\" title=\"Cape Canaveral Space Force Station\">Cape Canaveral</a>,<br/><a href=\"/wiki/Cape_Canaveral_Space_Launch_Complex_40\" title=\"Cape Canaveral Space Launch Complex 40\">LC-40</a>\n",
      "</td>, <td><a href=\"/wiki/Cape_Canaveral_Space_Force_Station\" title=\"Cape Canaveral Space Force Station\">Cape Canaveral</a>,<br/><a href=\"/wiki/Cape_Canaveral_Space_Launch_Complex_40\" title=\"Cape Canaveral Space Launch Complex 40\">LC-40</a>\n",
      "</td>, <td><a href=\"/wiki/Cape_Canaveral_Space_Force_Station\" title=\"Cape Canaveral Space Force Station\">Cape Canaveral</a>,<br/><a href=\"/wiki/Cape_Canaveral_Space_Launch_Complex_40\" title=\"Cape Canaveral Space Launch Complex 40\">LC-40</a>\n",
      "</td>, <td><a class=\"mw-redirect\" href=\"/wiki/Vandenberg_Air_Force_Base\" title=\"Vandenberg Air Force Base\">VAFB</a>,<br/><a href=\"/wiki/Vandenberg_Space_Launch_Complex_4\" title=\"Vandenberg Space Launch Complex 4\">SLC-4E</a>\n",
      "</td>, <td><a href=\"/wiki/Kennedy_Space_Center\" title=\"Kennedy Space Center\">KSC</a>,<br/><a href=\"/wiki/Kennedy_Space_Center_Launch_Complex_39A\" title=\"Kennedy Space Center Launch Complex 39A\">LC-39A</a>\n",
      "</td>, <td><a href=\"/wiki/Kennedy_Space_Center\" title=\"Kennedy Space Center\">KSC</a>,<br/><a href=\"/wiki/Kennedy_Space_Center_Launch_Complex_39A\" title=\"Kennedy Space Center Launch Complex 39A\">LC-39A</a>\n",
      "</td>, <td><a href=\"/wiki/Kennedy_Space_Center\" title=\"Kennedy Space Center\">KSC</a>,<br/><a href=\"/wiki/Kennedy_Space_Center_Launch_Complex_39A\" title=\"Kennedy Space Center Launch Complex 39A\">LC-39A</a>\n",
      "</td>, <td><a href=\"/wiki/Kennedy_Space_Center\" title=\"Kennedy Space Center\">KSC</a>,<br/><a href=\"/wiki/Kennedy_Space_Center_Launch_Complex_39A\" title=\"Kennedy Space Center Launch Complex 39A\">LC-39A</a>\n",
      "</td>, <td><a href=\"/wiki/Kennedy_Space_Center\" title=\"Kennedy Space Center\">KSC</a>,<br/><a href=\"/wiki/Kennedy_Space_Center_Launch_Complex_39A\" title=\"Kennedy Space Center Launch Complex 39A\">LC-39A</a>\n",
      "</td>, <td><a href=\"/wiki/Kennedy_Space_Center\" title=\"Kennedy Space Center\">KSC</a>,<br/><a href=\"/wiki/Kennedy_Space_Center_Launch_Complex_39A\" title=\"Kennedy Space Center Launch Complex 39A\">LC-39A</a>\n",
      "</td>, <td><a href=\"/wiki/Kennedy_Space_Center\" title=\"Kennedy Space Center\">KSC</a>,<br/><a href=\"/wiki/Kennedy_Space_Center_Launch_Complex_39A\" title=\"Kennedy Space Center Launch Complex 39A\">LC-39A</a>\n",
      "</td>, <td><a class=\"mw-redirect\" href=\"/wiki/Vandenberg_Air_Force_Base\" title=\"Vandenberg Air Force Base\">VAFB</a>,<br/><a href=\"/wiki/Vandenberg_Space_Launch_Complex_4\" title=\"Vandenberg Space Launch Complex 4\">SLC-4E</a>\n",
      "</td>, <td><a href=\"/wiki/Kennedy_Space_Center\" title=\"Kennedy Space Center\">KSC</a>,<br/><a href=\"/wiki/Kennedy_Space_Center_Launch_Complex_39A\" title=\"Kennedy Space Center Launch Complex 39A\">LC-39A</a>\n",
      "</td>, <td><a href=\"/wiki/Kennedy_Space_Center\" title=\"Kennedy Space Center\">KSC</a>,<br/><a href=\"/wiki/Kennedy_Space_Center_Launch_Complex_39A\" title=\"Kennedy Space Center Launch Complex 39A\">LC-39A</a>\n",
      "</td>, <td><a class=\"mw-redirect\" href=\"/wiki/Vandenberg_Air_Force_Base\" title=\"Vandenberg Air Force Base\">VAFB</a>,<br/><a href=\"/wiki/Vandenberg_Space_Launch_Complex_4\" title=\"Vandenberg Space Launch Complex 4\">SLC-4E</a>\n",
      "</td>, <td><a href=\"/wiki/Kennedy_Space_Center\" title=\"Kennedy Space Center\">KSC</a>,<br/><a href=\"/wiki/Kennedy_Space_Center_Launch_Complex_39A\" title=\"Kennedy Space Center Launch Complex 39A\">LC-39A</a>\n",
      "</td>, <td><a class=\"mw-redirect\" href=\"/wiki/Vandenberg_Air_Force_Base\" title=\"Vandenberg Air Force Base\">VAFB</a>,<br/><a href=\"/wiki/Vandenberg_Space_Launch_Complex_4\" title=\"Vandenberg Space Launch Complex 4\">SLC-4E</a>\n",
      "</td>, <td><a href=\"/wiki/Kennedy_Space_Center\" title=\"Kennedy Space Center\">KSC</a>,<br/><a href=\"/wiki/Kennedy_Space_Center_Launch_Complex_39A\" title=\"Kennedy Space Center Launch Complex 39A\">LC-39A</a>\n",
      "</td>, <td><a href=\"/wiki/Kennedy_Space_Center\" title=\"Kennedy Space Center\">KSC</a>,<br/><a href=\"/wiki/Kennedy_Space_Center_Launch_Complex_39A\" title=\"Kennedy Space Center Launch Complex 39A\">LC-39A</a>\n",
      "</td>, <td><a href=\"/wiki/Cape_Canaveral_Space_Force_Station\" title=\"Cape Canaveral Space Force Station\">Cape Canaveral</a>,<br/><a href=\"/wiki/Cape_Canaveral_Space_Launch_Complex_40\" title=\"Cape Canaveral Space Launch Complex 40\">SLC-40</a>\n",
      "</td>, <td><a class=\"mw-redirect\" href=\"/wiki/Vandenberg_Air_Force_Base\" title=\"Vandenberg Air Force Base\">VAFB</a>,<br/><a href=\"/wiki/Vandenberg_Space_Launch_Complex_4\" title=\"Vandenberg Space Launch Complex 4\">SLC-4E</a>\n",
      "</td>, <td><a href=\"/wiki/Cape_Canaveral_Space_Force_Station\" title=\"Cape Canaveral Space Force Station\">CCAFS</a>,<br/><a href=\"/wiki/Cape_Canaveral_Space_Launch_Complex_40\" title=\"Cape Canaveral Space Launch Complex 40\">SLC-40</a><br/>\n",
      "</td>, <td><a href=\"/wiki/Cape_Canaveral_Space_Force_Station\" title=\"Cape Canaveral Space Force Station\">CCAFS</a>,<br/><a href=\"/wiki/Cape_Canaveral_Space_Launch_Complex_40\" title=\"Cape Canaveral Space Launch Complex 40\">SLC-40</a>\n",
      "</td>, <td><a class=\"mw-redirect\" href=\"/wiki/Vandenberg_Air_Force_Base\" title=\"Vandenberg Air Force Base\">VAFB</a>,<br/><a href=\"/wiki/Vandenberg_Space_Launch_Complex_4\" title=\"Vandenberg Space Launch Complex 4\">SLC-4E</a>\n",
      "</td>, <td><a href=\"/wiki/Cape_Canaveral_Space_Force_Station\" title=\"Cape Canaveral Space Force Station\">CCAFS</a>,<br/><a href=\"/wiki/Cape_Canaveral_Space_Launch_Complex_40\" title=\"Cape Canaveral Space Launch Complex 40\">SLC-40</a>\n",
      "</td>, <td><a class=\"mw-redirect\" href=\"/wiki/Vandenberg_Air_Force_Base\" title=\"Vandenberg Air Force Base\">VAFB</a>,<br/><a href=\"/wiki/Vandenberg_Space_Launch_Complex_4\" title=\"Vandenberg Space Launch Complex 4\">SLC-4E</a>\n",
      "</td>, <td><a href=\"/wiki/Cape_Canaveral_Space_Force_Station\" title=\"Cape Canaveral Space Force Station\">CCAFS</a>,<br/><a href=\"/wiki/Cape_Canaveral_Space_Launch_Complex_40\" title=\"Cape Canaveral Space Launch Complex 40\">SLC-40</a>\n",
      "</td>, <td><a href=\"/wiki/Cape_Canaveral_Space_Force_Station\" title=\"Cape Canaveral Space Force Station\">CCAFS</a>,<br/><a href=\"/wiki/Cape_Canaveral_Space_Launch_Complex_40\" title=\"Cape Canaveral Space Launch Complex 40\">SLC-40</a>\n",
      "</td>, <td><a href=\"/wiki/Kennedy_Space_Center\" title=\"Kennedy Space Center\">KSC</a>,<br/><a href=\"/wiki/Kennedy_Space_Center_Launch_Complex_39A\" title=\"Kennedy Space Center Launch Complex 39A\">LC-39A</a>\n",
      "</td>, <td><a class=\"mw-redirect\" href=\"/wiki/Vandenberg_Air_Force_Base\" title=\"Vandenberg Air Force Base\">VAFB</a>,<br/><a href=\"/wiki/Vandenberg_Space_Launch_Complex_4\" title=\"Vandenberg Space Launch Complex 4\">SLC-4E</a>\n",
      "</td>, <td><a href=\"/wiki/Cape_Canaveral_Space_Force_Station\" title=\"Cape Canaveral Space Force Station\">CCAFS</a>,<br/><a href=\"/wiki/Cape_Canaveral_Space_Launch_Complex_40\" title=\"Cape Canaveral Space Launch Complex 40\">SLC-40</a>\n",
      "</td>, <td><a href=\"/wiki/Cape_Canaveral_Space_Force_Station\" title=\"Cape Canaveral Space Force Station\">CCAFS</a>,<br/><a href=\"/wiki/Cape_Canaveral_Space_Launch_Complex_40\" title=\"Cape Canaveral Space Launch Complex 40\">SLC-40</a>\n",
      "</td>, <td><a href=\"/wiki/Cape_Canaveral_Space_Force_Station\" title=\"Cape Canaveral Space Force Station\">CCAFS</a>,<br/><a href=\"/wiki/Cape_Canaveral_Space_Launch_Complex_40\" title=\"Cape Canaveral Space Launch Complex 40\">SLC-40</a>\n",
      "</td>, <td><a class=\"mw-redirect\" href=\"/wiki/Vandenberg_Air_Force_Base\" title=\"Vandenberg Air Force Base\">VAFB</a>,<br/><a href=\"/wiki/Vandenberg_Space_Launch_Complex_4\" title=\"Vandenberg Space Launch Complex 4\">SLC-4E</a>\n",
      "</td>, <td><a class=\"mw-redirect\" href=\"/wiki/Cape_Canaveral_Air_Force_Station\" title=\"Cape Canaveral Air Force Station\">CCAFS</a>,<br/><a href=\"/wiki/Cape_Canaveral_Space_Launch_Complex_40\" title=\"Cape Canaveral Space Launch Complex 40\">SLC-40</a>\n",
      "</td>, <td><a class=\"mw-redirect\" href=\"/wiki/Cape_Canaveral_Air_Force_Station\" title=\"Cape Canaveral Air Force Station\">CCAFS</a>,<br/><a href=\"/wiki/Cape_Canaveral_Space_Launch_Complex_40\" title=\"Cape Canaveral Space Launch Complex 40\">SLC-40</a>\n",
      "</td>, <td><a class=\"mw-redirect\" href=\"/wiki/Vandenberg_Air_Force_Base\" title=\"Vandenberg Air Force Base\">VAFB</a>,<br/><a href=\"/wiki/Vandenberg_Space_Launch_Complex_4\" title=\"Vandenberg Space Launch Complex 4\">SLC-4E</a>\n",
      "</td>, <td><a href=\"/wiki/Kennedy_Space_Center\" title=\"Kennedy Space Center\">KSC</a>,<br/><a href=\"/wiki/Kennedy_Space_Center_Launch_Complex_39A\" title=\"Kennedy Space Center Launch Complex 39A\">LC-39A</a>\n",
      "</td>, <td><a class=\"mw-redirect\" href=\"/wiki/Vandenberg_Air_Force_Base\" title=\"Vandenberg Air Force Base\">VAFB</a>,<br/><a href=\"/wiki/Vandenberg_Space_Launch_Complex_4\" title=\"Vandenberg Space Launch Complex 4\">SLC-4E</a>\n",
      "</td>, <td><a class=\"mw-redirect\" href=\"/wiki/Cape_Canaveral_Air_Force_Station\" title=\"Cape Canaveral Air Force Station\">CCAFS</a>,<br/><a href=\"/wiki/Cape_Canaveral_Space_Launch_Complex_40\" title=\"Cape Canaveral Space Launch Complex 40\">SLC-40</a>\n",
      "</td>, <td><a class=\"mw-redirect\" href=\"/wiki/Cape_Canaveral_Air_Force_Station\" title=\"Cape Canaveral Air Force Station\">CCAFS</a>,<br/><a href=\"/wiki/Cape_Canaveral_Space_Launch_Complex_40\" title=\"Cape Canaveral Space Launch Complex 40\">SLC-40</a>\n",
      "</td>, <td><a class=\"mw-redirect\" href=\"/wiki/Vandenberg_Air_Force_Base\" title=\"Vandenberg Air Force Base\">VAFB</a>,<br/><a href=\"/wiki/Vandenberg_Space_Launch_Complex_4\" title=\"Vandenberg Space Launch Complex 4\">SLC-4E</a>\n",
      "</td>, <td><a class=\"mw-redirect\" href=\"/wiki/Cape_Canaveral_Air_Force_Station\" title=\"Cape Canaveral Air Force Station\">CCAFS</a>,<br/><a href=\"/wiki/Cape_Canaveral_Space_Launch_Complex_40\" title=\"Cape Canaveral Space Launch Complex 40\">SLC-40</a>\n",
      "</td>, <td><a href=\"/wiki/Kennedy_Space_Center\" title=\"Kennedy Space Center\">KSC</a>,<br/><a href=\"/wiki/Kennedy_Space_Center_Launch_Complex_39A\" title=\"Kennedy Space Center Launch Complex 39A\">LC-39A</a>\n",
      "</td>, <td><a class=\"mw-redirect\" href=\"/wiki/Cape_Canaveral_Air_Force_Station\" title=\"Cape Canaveral Air Force Station\">CCAFS</a>,<br/><a href=\"/wiki/Cape_Canaveral_Space_Launch_Complex_40\" title=\"Cape Canaveral Space Launch Complex 40\">SLC-40</a>\n",
      "</td>, <td><a class=\"mw-redirect\" href=\"/wiki/Cape_Canaveral_Air_Force_Station\" title=\"Cape Canaveral Air Force Station\">CCAFS</a>,<br/><a href=\"/wiki/Cape_Canaveral_Space_Launch_Complex_40\" title=\"Cape Canaveral Space Launch Complex 40\">SLC-40</a>\n",
      "</td>, <td><a class=\"mw-redirect\" href=\"/wiki/Vandenberg_Air_Force_Base\" title=\"Vandenberg Air Force Base\">VAFB</a>,<br/><a href=\"/wiki/Vandenberg_Space_Launch_Complex_4\" title=\"Vandenberg Space Launch Complex 4\">SLC-4E</a>\n",
      "</td>, <td><a class=\"mw-redirect\" href=\"/wiki/Cape_Canaveral_Air_Force_Station\" title=\"Cape Canaveral Air Force Station\">CCAFS</a><br/><a href=\"/wiki/Cape_Canaveral_Space_Launch_Complex_40\" title=\"Cape Canaveral Space Launch Complex 40\">SLC-40</a>\n",
      "</td>, <td nowrap=\"\"><a class=\"mw-redirect\" href=\"/wiki/Cape_Canaveral_Air_Force_Station\" title=\"Cape Canaveral Air Force Station\">CCAFS</a>,<br/><a href=\"/wiki/Cape_Canaveral_Space_Launch_Complex_40\" title=\"Cape Canaveral Space Launch Complex 40\">SLC-40</a>\n",
      "</td>, <td><a class=\"mw-redirect\" href=\"/wiki/Cape_Canaveral_Air_Force_Station\" title=\"Cape Canaveral Air Force Station\">CCAFS</a>,<br/><a href=\"/wiki/Cape_Canaveral_Space_Launch_Complex_40\" title=\"Cape Canaveral Space Launch Complex 40\">SLC-40</a>\n",
      "</td>, <td><a class=\"mw-redirect\" href=\"/wiki/Cape_Canaveral_Air_Force_Station\" title=\"Cape Canaveral Air Force Station\">CCAFS</a>,<br/><a href=\"/wiki/Cape_Canaveral_Space_Launch_Complex_40\" title=\"Cape Canaveral Space Launch Complex 40\">SLC-40</a>\n",
      "</td>, <td><a class=\"mw-redirect\" href=\"/wiki/Cape_Canaveral_Air_Force_Station\" title=\"Cape Canaveral Air Force Station\">CCAFS</a>,<br/><a href=\"/wiki/Cape_Canaveral_Space_Launch_Complex_40\" title=\"Cape Canaveral Space Launch Complex 40\">SLC-40</a>\n",
      "</td>, <td><a class=\"mw-redirect\" href=\"/wiki/Cape_Canaveral_Air_Force_Station\" title=\"Cape Canaveral Air Force Station\">CCAFS</a>,<br/><a href=\"/wiki/Cape_Canaveral_Space_Launch_Complex_40\" title=\"Cape Canaveral Space Launch Complex 40\">SLC-40</a>\n",
      "</td>, <td><a href=\"/wiki/Kennedy_Space_Center\" title=\"Kennedy Space Center\">KSC</a>,<br/><a href=\"/wiki/Kennedy_Space_Center_Launch_Complex_39A\" title=\"Kennedy Space Center Launch Complex 39A\">LC-39A</a>\n",
      "</td>, <td><a class=\"mw-redirect\" href=\"/wiki/Cape_Canaveral_Air_Force_Station\" title=\"Cape Canaveral Air Force Station\">CCAFS</a>,<br/><a href=\"/wiki/Cape_Canaveral_Space_Launch_Complex_40\" title=\"Cape Canaveral Space Launch Complex 40\">SLC-40</a>\n",
      "</td>, <td><a class=\"mw-redirect\" href=\"/wiki/Cape_Canaveral_Air_Force_Station\" title=\"Cape Canaveral Air Force Station\">CCAFS</a>,<br/><a href=\"/wiki/Cape_Canaveral_Space_Launch_Complex_40\" title=\"Cape Canaveral Space Launch Complex 40\">SLC-40</a>\n",
      "</td>, <td><a class=\"mw-redirect\" href=\"/wiki/Cape_Canaveral_Air_Force_Station\" title=\"Cape Canaveral Air Force Station\">CCAFS</a>,<br/><a href=\"/wiki/Cape_Canaveral_Space_Launch_Complex_40\" title=\"Cape Canaveral Space Launch Complex 40\">SLC-40</a>\n",
      "</td>, <td><a href=\"/wiki/Kennedy_Space_Center\" title=\"Kennedy Space Center\">KSC</a>,<br/><a href=\"/wiki/Kennedy_Space_Center_Launch_Complex_39A\" title=\"Kennedy Space Center Launch Complex 39A\">LC-39A</a>\n",
      "</td>, <td><a href=\"/wiki/Kennedy_Space_Center\" title=\"Kennedy Space Center\">KSC</a>,<br/><a href=\"/wiki/Kennedy_Space_Center_Launch_Complex_39A\" title=\"Kennedy Space Center Launch Complex 39A\">LC-39A</a>\n",
      "</td>, <td><a href=\"/wiki/Kennedy_Space_Center\" title=\"Kennedy Space Center\">KSC</a>,<br/><a href=\"/wiki/Kennedy_Space_Center_Launch_Complex_39A\" title=\"Kennedy Space Center Launch Complex 39A\">LC-39A</a>\n",
      "</td>, <td><a class=\"mw-redirect\" href=\"/wiki/Cape_Canaveral_Air_Force_Station\" title=\"Cape Canaveral Air Force Station\">CCAFS</a>,<br/><a href=\"/wiki/Cape_Canaveral_Space_Launch_Complex_40\" title=\"Cape Canaveral Space Launch Complex 40\">SLC-40</a>\n",
      "</td>, <td><a class=\"mw-redirect\" href=\"/wiki/Cape_Canaveral_Air_Force_Station\" title=\"Cape Canaveral Air Force Station\">CCAFS</a>,<br/><a href=\"/wiki/Cape_Canaveral_Space_Launch_Complex_40\" title=\"Cape Canaveral Space Launch Complex 40\">SLC-40</a>\n",
      "</td>, <td><a class=\"mw-redirect\" href=\"/wiki/Cape_Canaveral_Air_Force_Station\" title=\"Cape Canaveral Air Force Station\">CCAFS</a>,<br/><a href=\"/wiki/Cape_Canaveral_Space_Launch_Complex_40\" title=\"Cape Canaveral Space Launch Complex 40\">SLC-40</a>\n",
      "</td>, <td><a class=\"mw-redirect\" href=\"/wiki/Cape_Canaveral_Air_Force_Station\" title=\"Cape Canaveral Air Force Station\">CCAFS</a>,<br/><a href=\"/wiki/Cape_Canaveral_Space_Launch_Complex_40\" title=\"Cape Canaveral Space Launch Complex 40\">SLC-40</a>\n",
      "</td>, <td><a href=\"/wiki/Kennedy_Space_Center\" title=\"Kennedy Space Center\">KSC</a>,<br/><a href=\"/wiki/Kennedy_Space_Center_Launch_Complex_39A\" title=\"Kennedy Space Center Launch Complex 39A\">LC-39A</a>\n",
      "</td>, <td><a class=\"mw-redirect\" href=\"/wiki/Cape_Canaveral_Air_Force_Station\" title=\"Cape Canaveral Air Force Station\">CCAFS</a>,<br/><a href=\"/wiki/Cape_Canaveral_Space_Launch_Complex_40\" title=\"Cape Canaveral Space Launch Complex 40\">SLC-40</a>\n",
      "</td>, <td><a class=\"mw-redirect\" href=\"/wiki/Cape_Canaveral_Air_Force_Station\" title=\"Cape Canaveral Air Force Station\">CCAFS</a>,<br/><a href=\"/wiki/Cape_Canaveral_Space_Launch_Complex_40\" title=\"Cape Canaveral Space Launch Complex 40\">SLC-40</a>\n",
      "</td>, <td><a href=\"/wiki/Kennedy_Space_Center\" title=\"Kennedy Space Center\">KSC</a>,<br/><a href=\"/wiki/Kennedy_Space_Center_Launch_Complex_39A\" title=\"Kennedy Space Center Launch Complex 39A\">LC-39A</a>\n",
      "</td>, <td><a href=\"/wiki/Kennedy_Space_Center\" title=\"Kennedy Space Center\">KSC</a>,<br/><a href=\"/wiki/Kennedy_Space_Center_Launch_Complex_39A\" title=\"Kennedy Space Center Launch Complex 39A\">LC-39A</a>\n",
      "</td>, <td><a href=\"/wiki/Kennedy_Space_Center\" title=\"Kennedy Space Center\">KSC</a>,<br/><a href=\"/wiki/Kennedy_Space_Center_Launch_Complex_39A\" title=\"Kennedy Space Center Launch Complex 39A\">LC-39A</a>\n",
      "</td>, <td><a class=\"mw-redirect\" href=\"/wiki/Cape_Canaveral_Air_Force_Station\" title=\"Cape Canaveral Air Force Station\">CCAFS</a>,<br/><a href=\"/wiki/Cape_Canaveral_Space_Launch_Complex_40\" title=\"Cape Canaveral Space Launch Complex 40\">SLC-40</a>\n",
      "</td>, <td><a class=\"mw-redirect\" href=\"/wiki/Cape_Canaveral_Air_Force_Station\" title=\"Cape Canaveral Air Force Station\">CCAFS</a>,<br/><a href=\"/wiki/Cape_Canaveral_Space_Launch_Complex_40\" title=\"Cape Canaveral Space Launch Complex 40\">SLC-40</a>\n",
      "</td>, <td><a href=\"/wiki/Kennedy_Space_Center\" title=\"Kennedy Space Center\">KSC</a>,<br/><a href=\"/wiki/Kennedy_Space_Center_Launch_Complex_39A\" title=\"Kennedy Space Center Launch Complex 39A\">LC-39A</a>\n",
      "</td>, <td><a class=\"mw-redirect\" href=\"/wiki/Vandenberg_Air_Force_Base\" title=\"Vandenberg Air Force Base\">VAFB</a>,<br/><a href=\"/wiki/Vandenberg_Space_Launch_Complex_4\" title=\"Vandenberg Space Launch Complex 4\">SLC-4E</a>\n",
      "</td>, <td><a class=\"mw-redirect\" href=\"/wiki/Cape_Canaveral_Air_Force_Station\" title=\"Cape Canaveral Air Force Station\">CCAFS</a>,<br/><a href=\"/wiki/Cape_Canaveral_Space_Launch_Complex_40\" title=\"Cape Canaveral Space Launch Complex 40\">SLC-40</a>\n",
      "</td>, <td><a href=\"/wiki/Kennedy_Space_Center\" title=\"Kennedy Space Center\">KSC</a>,<br/><a href=\"/wiki/Kennedy_Space_Center_Launch_Complex_39A\" title=\"Kennedy Space Center Launch Complex 39A\">LC-39A</a>\n",
      "</td>, <td><a href=\"/wiki/Cape_Canaveral_Space_Force_Station\" title=\"Cape Canaveral Space Force Station\">CCSFS</a>,<br/><a href=\"/wiki/Cape_Canaveral_Space_Launch_Complex_40\" title=\"Cape Canaveral Space Launch Complex 40\">SLC-40</a><sup class=\"reference\" id=\"cite_ref-609\"><a href=\"#cite_note-609\">[597]</a></sup>\n",
      "</td>, <td><a href=\"/wiki/Kennedy_Space_Center\" title=\"Kennedy Space Center\">KSC</a>,<br/><a href=\"/wiki/Kennedy_Space_Center_Launch_Complex_39A\" title=\"Kennedy Space Center Launch Complex 39A\">LC-39A</a>\n",
      "</td>, <td><a href=\"/wiki/Cape_Canaveral_Space_Force_Station\" title=\"Cape Canaveral Space Force Station\">CCSFS</a>,<br/><a href=\"/wiki/Cape_Canaveral_Space_Launch_Complex_40\" title=\"Cape Canaveral Space Launch Complex 40\">SLC-40</a>\n",
      "</td>, <td><a href=\"/wiki/Kennedy_Space_Center\" title=\"Kennedy Space Center\">KSC</a>,<br/><a href=\"/wiki/Kennedy_Space_Center_Launch_Complex_39A\" title=\"Kennedy Space Center Launch Complex 39A\">LC-39A</a>\n",
      "</td>, <td><a href=\"/wiki/Cape_Canaveral_Space_Force_Station\" title=\"Cape Canaveral Space Force Station\">CCSFS</a>,<br/><a href=\"/wiki/Cape_Canaveral_Space_Launch_Complex_40\" title=\"Cape Canaveral Space Launch Complex 40\">SLC-40</a>\n",
      "</td>, <td><a href=\"/wiki/Cape_Canaveral_Space_Force_Station\" title=\"Cape Canaveral Space Force Station\">CCSFS</a>,<br/><a href=\"/wiki/Cape_Canaveral_Space_Launch_Complex_40\" title=\"Cape Canaveral Space Launch Complex 40\">SLC-40</a>\n",
      "</td>, <td><a href=\"/wiki/Cape_Canaveral_Space_Force_Station\" title=\"Cape Canaveral Space Force Station\">CCSFS</a>,<br/><a href=\"/wiki/Cape_Canaveral_Space_Launch_Complex_40\" title=\"Cape Canaveral Space Launch Complex 40\">SLC-40</a>\n",
      "</td>, <td><a href=\"/wiki/Kennedy_Space_Center\" title=\"Kennedy Space Center\">KSC</a>,<br/><a href=\"/wiki/Kennedy_Space_Center_Launch_Complex_39A\" title=\"Kennedy Space Center Launch Complex 39A\">LC-39A</a>\n",
      "</td>, <td><a href=\"/wiki/Cape_Canaveral_Space_Force_Station\" title=\"Cape Canaveral Space Force Station\">CCSFS</a>,<br/><a href=\"/wiki/Cape_Canaveral_Space_Launch_Complex_40\" title=\"Cape Canaveral Space Launch Complex 40\">SLC-40</a>\n",
      "</td>, <td><a href=\"/wiki/Kennedy_Space_Center\" title=\"Kennedy Space Center\">KSC</a>,<br/><a href=\"/wiki/Kennedy_Space_Center_Launch_Complex_39A\" title=\"Kennedy Space Center Launch Complex 39A\">LC-39A</a>\n",
      "</td>, <td><a href=\"/wiki/Cape_Canaveral_Space_Force_Station\" title=\"Cape Canaveral Space Force Station\">CCSFS</a>,<br/><a href=\"/wiki/Cape_Canaveral_Space_Launch_Complex_40\" title=\"Cape Canaveral Space Launch Complex 40\">SLC-40</a>\n",
      "</td>, <td><a href=\"/wiki/Cape_Canaveral_Space_Force_Station\" title=\"Cape Canaveral Space Force Station\">CCSFS</a>,<br/><a href=\"/wiki/Cape_Canaveral_Space_Launch_Complex_40\" title=\"Cape Canaveral Space Launch Complex 40\">SLC-40</a>\n",
      "</td>, <td><a href=\"/wiki/Kennedy_Space_Center\" title=\"Kennedy Space Center\">KSC</a>,<br/><a href=\"/wiki/Kennedy_Space_Center_Launch_Complex_39A\" title=\"Kennedy Space Center Launch Complex 39A\">LC-39A</a>\n",
      "</td>, <td><a href=\"/wiki/Cape_Canaveral_Space_Force_Station\" title=\"Cape Canaveral Space Force Station\">CCSFS</a>,<br/><a href=\"/wiki/Cape_Canaveral_Space_Launch_Complex_40\" title=\"Cape Canaveral Space Launch Complex 40\">SLC-40</a>\n",
      "</td>, <td><a href=\"/wiki/Kennedy_Space_Center\" title=\"Kennedy Space Center\">KSC</a>,<br/><a href=\"/wiki/Kennedy_Space_Center_Launch_Complex_39A\" title=\"Kennedy Space Center Launch Complex 39A\">LC-39A</a>\n",
      "</td>, <td><a href=\"/wiki/Cape_Canaveral_Space_Force_Station\" title=\"Cape Canaveral Space Force Station\">CCSFS</a>,<br/><a href=\"/wiki/Cape_Canaveral_Space_Launch_Complex_40\" title=\"Cape Canaveral Space Launch Complex 40\">SLC-40</a>\n",
      "</td>, <td><a href=\"/wiki/Kennedy_Space_Center\" title=\"Kennedy Space Center\">KSC</a>,<br/><a href=\"/wiki/Kennedy_Space_Center_Launch_Complex_39A\" title=\"Kennedy Space Center Launch Complex 39A\">LC-39A</a><sup class=\"reference\" id=\"cite_ref-673\"><a href=\"#cite_note-673\">[661]</a></sup>\n",
      "</td>, <td><a href=\"/wiki/Cape_Canaveral_Space_Force_Station\" title=\"Cape Canaveral Space Force Station\">CCSFS</a>,<br/><a href=\"/wiki/Cape_Canaveral_Space_Launch_Complex_40\" title=\"Cape Canaveral Space Launch Complex 40\">SLC-40</a><sup class=\"reference\" id=\"cite_ref-NSFSl28_677-1\"><a href=\"#cite_note-NSFSl28-677\">[665]</a></sup>\n",
      "</td>, <td><a href=\"/wiki/Kennedy_Space_Center\" title=\"Kennedy Space Center\">KSC</a>,<br/><a href=\"/wiki/Kennedy_Space_Center_Launch_Complex_39A\" title=\"Kennedy Space Center Launch Complex 39A\">LC-39A</a>\n",
      "</td>, <td><a href=\"/wiki/Cape_Canaveral_Space_Force_Station\" title=\"Cape Canaveral Space Force Station\">CCSFS</a>,<br/><a href=\"/wiki/Cape_Canaveral_Space_Launch_Complex_40\" title=\"Cape Canaveral Space Launch Complex 40\">SLC-40</a>\n",
      "</td>], 'Payload': [<td><a href=\"/wiki/Dragon_Spacecraft_Qualification_Unit\" title=\"Dragon Spacecraft Qualification Unit\">Dragon Spacecraft Qualification Unit</a>\n",
      "</td>, <td><a href=\"/wiki/SpaceX_Dragon\" title=\"SpaceX Dragon\">Dragon</a> <a class=\"mw-redirect\" href=\"/wiki/COTS_Demo_Flight_1\" title=\"COTS Demo Flight 1\">demo flight C1</a><br/>(Dragon C101)\n",
      "</td>, <td><a href=\"/wiki/SpaceX_Dragon\" title=\"SpaceX Dragon\">Dragon</a> <a class=\"mw-redirect\" href=\"/wiki/Dragon_C2%2B\" title=\"Dragon C2+\">demo flight C2+</a><sup class=\"reference\" id=\"cite_ref-C2_24-0\"><a href=\"#cite_note-C2-24\">[18]</a></sup><br/>(Dragon C102)\n",
      "</td>, <td><a href=\"/wiki/SpaceX_CRS-1\" title=\"SpaceX CRS-1\">SpaceX CRS-1</a><sup class=\"reference\" id=\"cite_ref-sxManifest20120925_28-0\"><a href=\"#cite_note-sxManifest20120925-28\">[22]</a></sup><br/>(Dragon C103)\n",
      "</td>, <td><a href=\"/wiki/SpaceX_CRS-2\" title=\"SpaceX CRS-2\">SpaceX CRS-2</a><sup class=\"reference\" id=\"cite_ref-sxManifest20120925_28-1\"><a href=\"#cite_note-sxManifest20120925-28\">[22]</a></sup><br/>(Dragon C104)\n",
      "</td>, <td><a href=\"/wiki/CASSIOPE\" title=\"CASSIOPE\">CASSIOPE</a><sup class=\"reference\" id=\"cite_ref-sxManifest20120925_28-2\"><a href=\"#cite_note-sxManifest20120925-28\">[22]</a></sup><sup class=\"reference\" id=\"cite_ref-CASSIOPE_MDA_37-0\"><a href=\"#cite_note-CASSIOPE_MDA-37\">[31]</a></sup>\n",
      "</td>, <td><a href=\"/wiki/SES-8\" title=\"SES-8\">SES-8</a><sup class=\"reference\" id=\"cite_ref-sxManifest20120925_28-3\"><a href=\"#cite_note-sxManifest20120925-28\">[22]</a></sup><sup class=\"reference\" id=\"cite_ref-spx-pr_42-0\"><a href=\"#cite_note-spx-pr-42\">[35]</a></sup><sup class=\"reference\" id=\"cite_ref-aw20110323_43-0\"><a href=\"#cite_note-aw20110323-43\">[36]</a></sup>\n",
      "</td>, <td><a href=\"/wiki/Thaicom_6\" title=\"Thaicom 6\">Thaicom 6</a><sup class=\"reference\" id=\"cite_ref-sxManifest20120925_28-4\"><a href=\"#cite_note-sxManifest20120925-28\">[22]</a></sup>\n",
      "</td>, <td><a href=\"/wiki/SpaceX_CRS-3\" title=\"SpaceX CRS-3\">SpaceX CRS-3</a><sup class=\"reference\" id=\"cite_ref-sxManifest20120925_28-5\"><a href=\"#cite_note-sxManifest20120925-28\">[22]</a></sup><br/>(Dragon C105)\n",
      "</td>, <td><a class=\"mw-redirect\" href=\"/wiki/Orbcomm-OG2\" title=\"Orbcomm-OG2\">Orbcomm-OG2</a>-1<br/>(6 satellites)<sup class=\"reference\" id=\"cite_ref-sxManifest20120925_28-6\"><a href=\"#cite_note-sxManifest20120925-28\">[22]</a></sup>\n",
      "</td>, <td><a href=\"/wiki/AsiaSat_8\" title=\"AsiaSat 8\">AsiaSat 8</a><sup class=\"reference\" id=\"cite_ref-sxManifest20120925_28-7\"><a href=\"#cite_note-sxManifest20120925-28\">[22]</a></sup><sup class=\"reference\" id=\"cite_ref-AsiaSat_SpaceX_61-0\"><a href=\"#cite_note-AsiaSat_SpaceX-61\">[54]</a></sup><sup class=\"reference\" id=\"cite_ref-62\"><a href=\"#cite_note-62\">[55]</a></sup>\n",
      "</td>, <td><a href=\"/wiki/AsiaSat_6\" title=\"AsiaSat 6\">AsiaSat 6</a><sup class=\"reference\" id=\"cite_ref-sxManifest20120925_28-8\"><a href=\"#cite_note-sxManifest20120925-28\">[22]</a></sup><sup class=\"reference\" id=\"cite_ref-AsiaSat_SpaceX_61-1\"><a href=\"#cite_note-AsiaSat_SpaceX-61\">[54]</a></sup><sup class=\"reference\" id=\"cite_ref-65\"><a href=\"#cite_note-65\">[58]</a></sup>\n",
      "</td>, <td><a href=\"/wiki/SpaceX_CRS-4\" title=\"SpaceX CRS-4\">SpaceX CRS-4</a><sup class=\"reference\" id=\"cite_ref-sxManifest20120925_28-9\"><a href=\"#cite_note-sxManifest20120925-28\">[22]</a></sup><br/>(Dragon <a href=\"/wiki/Dragon_C106\" title=\"Dragon C106\">C106</a>.1)\n",
      "</td>, <td><a href=\"/wiki/SpaceX_CRS-5\" title=\"SpaceX CRS-5\">SpaceX CRS-5</a><sup class=\"reference\" id=\"cite_ref-sxManifest20130731_75-0\"><a href=\"#cite_note-sxManifest20130731-75\">[68]</a></sup><br/>(Dragon C107)\n",
      "</td>, <td><a class=\"mw-redirect\" href=\"/wiki/DSCOVR\" title=\"DSCOVR\">DSCOVR</a><sup class=\"reference\" id=\"cite_ref-sxManifest20130731_75-1\"><a href=\"#cite_note-sxManifest20130731-75\">[68]</a></sup><sup class=\"reference\" id=\"cite_ref-80\"><a href=\"#cite_note-80\">[73]</a></sup>\n",
      "</td>, <td><link href=\"mw-data:TemplateStyles:r1126788409\" rel=\"mw-deduplicated-inline-style\"/><div class=\"plainlist\">\n",
      "<ul><li><a href=\"/wiki/ABS-3A\" title=\"ABS-3A\">ABS-3A</a></li>\n",
      "<li><a href=\"/wiki/Eutelsat_115_West_B\" title=\"Eutelsat 115 West B\">Eutelsat 115 West B</a><sup class=\"reference\" id=\"cite_ref-sxManifest20130731_75-2\"><a href=\"#cite_note-sxManifest20130731-75\">[68]</a></sup></li></ul>\n",
      "</div>\n",
      "</td>, <td><a href=\"/wiki/SpaceX_CRS-6\" title=\"SpaceX CRS-6\">SpaceX CRS-6</a><sup class=\"reference\" id=\"cite_ref-sxManifest20130731_75-3\"><a href=\"#cite_note-sxManifest20130731-75\">[68]</a></sup><br/>(Dragon <a href=\"/wiki/Dragon_C108\" title=\"Dragon C108\">C108.1</a>)\n",
      "</td>, <td><a href=\"/wiki/T%C3%BCrkmen%C3%84lem_52%C2%B0E_/_MonacoSAT\" title=\"TürkmenÄlem 52°E / MonacoSAT\">TürkmenÄlem 52°E / MonacoSAT</a><sup class=\"reference\" id=\"cite_ref-sxManifest20130731_75-4\"><a href=\"#cite_note-sxManifest20130731-75\">[68]</a></sup><sup class=\"reference\" id=\"cite_ref-turkmen-monaco_94-0\"><a href=\"#cite_note-turkmen-monaco-94\">[87]</a></sup>\n",
      "</td>, <td><a href=\"/wiki/SpaceX_CRS-7\" title=\"SpaceX CRS-7\">SpaceX CRS-7</a><sup class=\"reference\" id=\"cite_ref-sxManifest20130731_75-5\"><a href=\"#cite_note-sxManifest20130731-75\">[68]</a></sup><br/>(Dragon C109)\n",
      "</td>, <td><a class=\"mw-redirect\" href=\"/wiki/Orbcomm-OG2\" title=\"Orbcomm-OG2\">Orbcomm-OG2</a>-2<br/>(11 satellites)<sup class=\"reference\" id=\"cite_ref-sxManifest20120925_28-10\"><a href=\"#cite_note-sxManifest20120925-28\">[22]</a></sup><sup class=\"reference\" id=\"cite_ref-orbcomm-og2_104-1\"><a href=\"#cite_note-orbcomm-og2-104\">[97]</a></sup>\n",
      "</td>, <td><a href=\"/wiki/Jason-3\" title=\"Jason-3\">Jason-3</a><sup class=\"reference\" id=\"cite_ref-sxManifest20130731_75-6\"><a href=\"#cite_note-sxManifest20130731-75\">[68]</a></sup><sup class=\"reference\" id=\"cite_ref-111\"><a href=\"#cite_note-111\">[104]</a></sup>\n",
      "</td>, <td><a href=\"/wiki/SES-9\" title=\"SES-9\">SES-9</a><sup class=\"reference\" id=\"cite_ref-sxManifest20130731_75-7\"><a href=\"#cite_note-sxManifest20130731-75\">[68]</a></sup><sup class=\"reference\" id=\"cite_ref-spacenews20140410_116-0\"><a href=\"#cite_note-spacenews20140410-116\">[109]</a></sup><sup class=\"reference\" id=\"cite_ref-nsf20160208_117-0\"><a href=\"#cite_note-nsf20160208-117\">[110]</a></sup>\n",
      "</td>, <td><a href=\"/wiki/SpaceX_CRS-8\" title=\"SpaceX CRS-8\">SpaceX CRS-8</a><sup class=\"reference\" id=\"cite_ref-sxManifest20130731_75-8\"><a href=\"#cite_note-sxManifest20130731-75\">[68]</a></sup><sup class=\"reference\" id=\"cite_ref-nsf20160208_117-1\"><a href=\"#cite_note-nsf20160208-117\">[110]</a></sup><br/>(Dragon C110.1)\n",
      "</td>, <td><a href=\"/wiki/SKY_Perfect_JSAT\" title=\"SKY Perfect JSAT\">JCSAT-14</a><sup class=\"reference\" id=\"cite_ref-130\"><a href=\"#cite_note-130\">[123]</a></sup>\n",
      "</td>, <td><a href=\"/wiki/Thaicom_8\" title=\"Thaicom 8\">Thaicom 8</a><sup class=\"reference\" id=\"cite_ref-sn20140430_137-0\"><a href=\"#cite_note-sn20140430-137\">[130]</a></sup><sup class=\"reference\" id=\"cite_ref-138\"><a href=\"#cite_note-138\">[131]</a></sup>\n",
      "</td>, <td><link href=\"mw-data:TemplateStyles:r1126788409\" rel=\"mw-deduplicated-inline-style\"/><div class=\"plainlist\">\n",
      "<ul><li><a href=\"/wiki/ABS_(satellite_operator)\" title=\"ABS (satellite operator)\">ABS-2A</a></li>\n",
      "<li><a href=\"/wiki/Eutelsat\" title=\"Eutelsat\">Eutelsat 117 West B</a><sup class=\"reference\" id=\"cite_ref-sxManifest20130731_75-9\"><a href=\"#cite_note-sxManifest20130731-75\">[68]</a></sup></li></ul>\n",
      "</div>\n",
      "</td>, <td><a href=\"/wiki/SpaceX_CRS-9\" title=\"SpaceX CRS-9\">SpaceX CRS-9</a><sup class=\"reference\" id=\"cite_ref-sxManifest20130731_75-10\"><a href=\"#cite_note-sxManifest20130731-75\">[68]</a></sup><sup class=\"reference\" id=\"cite_ref-spn-20160224_148-0\"><a href=\"#cite_note-spn-20160224-148\">[141]</a></sup><br/>(Dragon C111.1)\n",
      "</td>, <td><a href=\"/wiki/JCSAT-16\" title=\"JCSAT-16\">JCSAT-16</a>\n",
      "</td>, <td><a class=\"mw-redirect\" href=\"/wiki/Iridium_NEXT\" title=\"Iridium NEXT\">Iridium NEXT</a>-1<br/>(10 satellites)<sup class=\"reference\" id=\"cite_ref-sdc20100616_160-0\"><a href=\"#cite_note-sdc20100616-160\">[152]</a></sup><sup class=\"reference\" id=\"cite_ref-161\"><a href=\"#cite_note-161\">[153]</a></sup>\n",
      "</td>, <td><a href=\"/wiki/SpaceX_CRS-10\" title=\"SpaceX CRS-10\">SpaceX CRS-10</a><sup class=\"reference\" id=\"cite_ref-spn-20160224_148-1\"><a href=\"#cite_note-spn-20160224-148\">[141]</a></sup><br/>(Dragon C112.1)\n",
      "</td>, <td><a class=\"mw-redirect\" href=\"/wiki/EchoStar_23\" title=\"EchoStar 23\">EchoStar 23</a>\n",
      "</td>, <td><a href=\"/wiki/SES-10\" title=\"SES-10\">SES-10</a><sup class=\"reference\" id=\"cite_ref-spacenews20140410_116-1\"><a href=\"#cite_note-spacenews20140410-116\">[109]</a></sup><sup class=\"reference\" id=\"cite_ref-ses-date-sfn_176-0\"><a href=\"#cite_note-ses-date-sfn-176\">[168]</a></sup>\n",
      "</td>, <td><a href=\"/wiki/List_of_NRO_launches\" title=\"List of NRO launches\">NROL-76</a><sup class=\"reference\" id=\"cite_ref-nrol-76_182-0\"><a href=\"#cite_note-nrol-76-182\">[174]</a></sup>\n",
      "</td>, <td><a href=\"/wiki/Inmarsat\" title=\"Inmarsat\">Inmarsat-5 F4</a><sup class=\"reference\" id=\"cite_ref-spacenews20140702_188-0\"><a href=\"#cite_note-spacenews20140702-188\">[180]</a></sup>\n",
      "</td>, <td><a href=\"/wiki/SpaceX_CRS-11\" title=\"SpaceX CRS-11\">SpaceX CRS-11</a><sup class=\"reference\" id=\"cite_ref-spn-20160224_148-2\"><a href=\"#cite_note-spn-20160224-148\">[141]</a></sup><br/>(Dragon C106.2 ♺)\n",
      "</td>, <td><a href=\"/wiki/BulgariaSat-1\" title=\"BulgariaSat-1\">BulgariaSat-1</a><sup class=\"reference\" id=\"cite_ref-ssloral20140908_204-0\"><a href=\"#cite_note-ssloral20140908-204\">[196]</a></sup>\n",
      "</td>, <td><a class=\"mw-redirect\" href=\"/wiki/Iridium_NEXT\" title=\"Iridium NEXT\">Iridium NEXT</a>-2<br/>(10 satellites)\n",
      "</td>, <td><a href=\"/wiki/Intelsat_35e\" title=\"Intelsat 35e\">Intelsat 35e</a><sup class=\"reference\" id=\"cite_ref-sfn-20160830_209-0\"><a href=\"#cite_note-sfn-20160830-209\">[201]</a></sup>\n",
      "</td>, <td><a href=\"/wiki/SpaceX_CRS-12\" title=\"SpaceX CRS-12\">SpaceX CRS-12</a><sup class=\"reference\" id=\"cite_ref-spn-20160224_148-3\"><a href=\"#cite_note-spn-20160224-148\">[141]</a></sup><br/>(Dragon C113.1)\n",
      "</td>, <td><a href=\"/wiki/Formosat-5\" title=\"Formosat-5\">Formosat-5</a><sup class=\"reference\" id=\"cite_ref-eoportal-formosat5_218-0\"><a href=\"#cite_note-eoportal-formosat5-218\">[210]</a></sup><sup class=\"reference\" id=\"cite_ref-Formosat5_homepage_219-0\"><a href=\"#cite_note-Formosat5_homepage-219\">[211]</a></sup>\n",
      "</td>, <td><a href=\"/wiki/Boeing_X-37\" title=\"Boeing X-37\">Boeing X-37B</a> <a href=\"/wiki/USA-277\" title=\"USA-277\">OTV-5</a>\n",
      "</td>, <td><a class=\"mw-redirect\" href=\"/wiki/Iridium_NEXT\" title=\"Iridium NEXT\">Iridium NEXT</a>-3<br/>(10 satellites)<sup class=\"reference\" id=\"cite_ref-sdc20100616_160-1\"><a href=\"#cite_note-sdc20100616-160\">[152]</a></sup>\n",
      "</td>, <td><a href=\"/wiki/List_of_SES_satellites\" title=\"List of SES satellites\">SES-11</a> / <a href=\"/wiki/EchoStar\" title=\"EchoStar\">EchoStar 105</a>\n",
      "</td>, <td><a href=\"/wiki/Koreasat_5A\" title=\"Koreasat 5A\">Koreasat 5A</a><sup class=\"reference\" id=\"cite_ref-spacenews20140512_230-0\"><a href=\"#cite_note-spacenews20140512-230\">[222]</a></sup>\n",
      "</td>, <td><a href=\"/wiki/SpaceX_CRS-13\" title=\"SpaceX CRS-13\">SpaceX CRS-13</a><sup class=\"reference\" id=\"cite_ref-spn-20160224_148-4\"><a href=\"#cite_note-spn-20160224-148\">[141]</a></sup><br/>(Dragon C108.2 ♺)\n",
      "</td>, <td><a class=\"mw-redirect\" href=\"/wiki/Iridium_NEXT\" title=\"Iridium NEXT\">Iridium NEXT</a>-4<br/>(10 satellites)<sup class=\"reference\" id=\"cite_ref-sdc20100616_160-2\"><a href=\"#cite_note-sdc20100616-160\">[152]</a></sup>\n",
      "</td>, <td><a href=\"/wiki/Zuma_(satellite)\" title=\"Zuma (satellite)\">Zuma</a><sup class=\"reference\" id=\"cite_ref-zuma_246-1\"><a href=\"#cite_note-zuma-246\">[238]</a></sup><sup class=\"reference\" id=\"cite_ref-247\"><a href=\"#cite_note-247\">[239]</a></sup><sup class=\"reference\" id=\"cite_ref-248\"><a href=\"#cite_note-248\">[240]</a></sup>\n",
      "</td>, <td><a href=\"/wiki/SES-16\" title=\"SES-16\">GovSat-1</a> (SES-16)<sup class=\"reference\" id=\"cite_ref-ses20150225_255-0\"><a href=\"#cite_note-ses20150225-255\">[246]</a></sup>\n",
      "</td>, <td><link href=\"mw-data:TemplateStyles:r1126788409\" rel=\"mw-deduplicated-inline-style\"/><div class=\"plainlist\">\n",
      "<ul><li><a href=\"/wiki/Paz_(satellite)\" title=\"Paz (satellite)\">Paz</a><sup class=\"reference\" id=\"cite_ref-paz_278-0\"><a href=\"#cite_note-paz-278\">[269]</a></sup></li>\n",
      "<li><a href=\"/wiki/Starlink\" title=\"Starlink\">Tintin A and Tintin B</a><sup class=\"reference\" id=\"cite_ref-gunter-microsat2_279-0\"><a href=\"#cite_note-gunter-microsat2-279\">[270]</a></sup></li></ul>\n",
      "</div>\n",
      "</td>, <td><link href=\"mw-data:TemplateStyles:r1126788409\" rel=\"mw-deduplicated-inline-style\"/><div class=\"plainlist\">\n",
      "<ul><li><a href=\"/wiki/Hispasat_30W-6\" title=\"Hispasat 30W-6\">Hispasat 30W-6</a><sup class=\"reference\" id=\"cite_ref-spx20150914_286-0\"><a href=\"#cite_note-spx20150914-286\">[277]</a></sup></li>\n",
      "<li>PODSat<sup class=\"reference\" id=\"cite_ref-287\"><a href=\"#cite_note-287\">[278]</a></sup></li></ul>\n",
      "</div>\n",
      "</td>, <td><a class=\"mw-redirect\" href=\"/wiki/Iridium_NEXT\" title=\"Iridium NEXT\">Iridium NEXT</a>-5<br/>(10 satellites)<sup class=\"reference\" id=\"cite_ref-sdc20100616_160-3\"><a href=\"#cite_note-sdc20100616-160\">[152]</a></sup>\n",
      "</td>, <td><a href=\"/wiki/SpaceX_CRS-14\" title=\"SpaceX CRS-14\">SpaceX CRS-14</a><sup class=\"reference\" id=\"cite_ref-spn-20160224_148-5\"><a href=\"#cite_note-spn-20160224-148\">[141]</a></sup><br/>(Dragon C110.2 ♺)\n",
      "</td>, <td><a href=\"/wiki/Transiting_Exoplanet_Survey_Satellite\" title=\"Transiting Exoplanet Survey Satellite\">Transiting Exoplanet Survey Satellite</a> (TESS)<sup class=\"reference\" id=\"cite_ref-NASA_C14_313-0\"><a href=\"#cite_note-NASA_C14-313\">[304]</a></sup>\n",
      "</td>, <td><a href=\"/wiki/Bangabandhu-1\" title=\"Bangabandhu-1\">Bangabandhu-1</a><sup class=\"reference\" id=\"cite_ref-dhakatribune_321-0\"><a href=\"#cite_note-dhakatribune-321\">[312]</a></sup><sup class=\"reference\" id=\"cite_ref-gunter-bd1_322-0\"><a href=\"#cite_note-gunter-bd1-322\">[313]</a></sup>\n",
      "</td>, <td><link href=\"mw-data:TemplateStyles:r1126788409\" rel=\"mw-deduplicated-inline-style\"/><div class=\"plainlist\">\n",
      "<ul><li><a class=\"mw-redirect\" href=\"/wiki/Iridium_NEXT\" title=\"Iridium NEXT\">Iridium NEXT</a>-6<br/>(5 satellites)<sup class=\"reference\" id=\"cite_ref-sdc20100616_160-4\"><a href=\"#cite_note-sdc20100616-160\">[152]</a></sup><sup class=\"reference\" id=\"cite_ref-IridiumridesharePR_163-1\"><a href=\"#cite_note-IridiumridesharePR-163\">[155]</a></sup></li>\n",
      "<li><span class=\"nowrap\"><a class=\"mw-redirect\" href=\"/wiki/GRACE-FO\" title=\"GRACE-FO\">GRACE-FO</a> × 2</span><sup class=\"reference\" id=\"cite_ref-iridium-rideshare_332-0\"><a href=\"#cite_note-iridium-rideshare-332\">[323]</a></sup><sup class=\"reference\" id=\"cite_ref-grace-fo-launch_333-0\"><a href=\"#cite_note-grace-fo-launch-333\">[324]</a></sup></li></ul>\n",
      "</div>\n",
      "</td>, <td><a href=\"/wiki/SES-12\" title=\"SES-12\">SES-12</a><sup class=\"reference\" id=\"cite_ref-SES12_341-0\"><a href=\"#cite_note-SES12-341\">[331]</a></sup>\n",
      "</td>, <td><a href=\"/wiki/SpaceX_CRS-15\" title=\"SpaceX CRS-15\">SpaceX CRS-15</a><br/>(Dragon C111.2 ♺)\n",
      "</td>, <td><a href=\"/wiki/Telstar_19V\" title=\"Telstar 19V\">Telstar 19V</a><sup class=\"reference\" id=\"cite_ref-sfn-20160226_351-0\"><a href=\"#cite_note-sfn-20160226-351\">[341]</a></sup>\n",
      "</td>, <td><a class=\"mw-redirect\" href=\"/wiki/Iridium_NEXT\" title=\"Iridium NEXT\">Iridium NEXT</a>-7<br/>(10 satellites)<sup class=\"reference\" id=\"cite_ref-sdc20100616_160-5\"><a href=\"#cite_note-sdc20100616-160\">[152]</a></sup>\n",
      "</td>, <td><a class=\"mw-redirect\" href=\"/wiki/Merah_Putih_(satellite)\" title=\"Merah Putih (satellite)\">Merah Putih</a> (formerly Telkom 4)<sup class=\"reference\" id=\"cite_ref-365\"><a href=\"#cite_note-365\">[355]</a></sup><sup class=\"reference\" id=\"cite_ref-366\"><a href=\"#cite_note-366\">[356]</a></sup>\n",
      "</td>, <td><a href=\"/wiki/Telstar_18V\" title=\"Telstar 18V\">Telstar 18V</a> / <a class=\"mw-redirect\" href=\"/wiki/Apstar\" title=\"Apstar\">Apstar</a>-5C<sup class=\"reference\" id=\"cite_ref-sfn-20160226_351-1\"><a href=\"#cite_note-sfn-20160226-351\">[341]</a></sup>\n",
      "</td>, <td><a class=\"mw-redirect\" href=\"/wiki/SAOCOM_1A\" title=\"SAOCOM 1A\">SAOCOM 1A</a><sup class=\"reference\" id=\"cite_ref-SAOCOM20090416_375-0\"><a href=\"#cite_note-SAOCOM20090416-375\">[365]</a></sup><sup class=\"reference\" id=\"cite_ref-saocom_revision_376-0\"><a href=\"#cite_note-saocom_revision-376\">[366]</a></sup>\n",
      "</td>, <td><a href=\"/wiki/Es%27hail_2\" title=\"Es'hail 2\">Es'hail 2</a><sup class=\"reference\" id=\"cite_ref-eshail2_378-0\"><a href=\"#cite_note-eshail2-378\">[368]</a></sup>\n",
      "</td>, <td><a class=\"mw-redirect\" href=\"/wiki/SSO-A\" title=\"SSO-A\">SSO-A</a> (<i>SmallSat Express</i>)\n",
      "</td>, <td><a href=\"/wiki/SpaceX_CRS-16\" title=\"SpaceX CRS-16\">SpaceX CRS-16</a><br/>(Dragon C112.2♺ )\n",
      "</td>, <td><a href=\"/wiki/GPS_Block_III\" title=\"GPS Block III\">GPS III</a>-<a href=\"/wiki/List_of_GPS_satellites#Planned_launches\" title=\"List of GPS satellites\">01</a> (<i>Vespucci</i>)\n",
      "</td>, <td nowrap=\"\"><a class=\"mw-redirect\" href=\"/wiki/Iridium_NEXT\" title=\"Iridium NEXT\">Iridium NEXT</a>-8<br/>(10 satellites)<sup class=\"reference\" id=\"cite_ref-sdc20100616_160-6\"><a href=\"#cite_note-sdc20100616-160\">[152]</a></sup>\n",
      "</td>, <td><link href=\"mw-data:TemplateStyles:r1126788409\" rel=\"mw-deduplicated-inline-style\"/><div class=\"plainlist\">\n",
      "<ul><li><a href=\"/wiki/Nusantara_Satu\" title=\"Nusantara Satu\">Nusantara Satu</a> (PSN-6)<sup class=\"reference\" id=\"cite_ref-jls-201801012_410-0\"><a href=\"#cite_note-jls-201801012-410\">[400]</a></sup></li>\n",
      "<li><i><a href=\"/wiki/Beresheet\" title=\"Beresheet\">Beresheet</a></i> Moon lander<sup class=\"reference\" id=\"cite_ref-sn-20181218_411-0\"><a href=\"#cite_note-sn-20181218-411\">[401]</a></sup></li>\n",
      "<li>S5<sup class=\"reference\" id=\"cite_ref-sn150219_412-0\"><a href=\"#cite_note-sn150219-412\">[402]</a></sup></li></ul>\n",
      "</div>\n",
      "</td>, <td><a href=\"/wiki/Crew_Dragon_Demo-1\" title=\"Crew Dragon Demo-1\">Crew Dragon Demo-1</a><sup class=\"reference\" id=\"cite_ref-nsf20150305_424-0\"><a href=\"#cite_note-nsf20150305-424\">[414]</a></sup><br/>(Dragon C201)\n",
      "</td>, <td><a href=\"/wiki/SpaceX_CRS-17\" title=\"SpaceX CRS-17\">SpaceX CRS-17</a><sup class=\"reference\" id=\"cite_ref-spn-20160224_148-6\"><a href=\"#cite_note-spn-20160224-148\">[141]</a></sup><br/>(Dragon C113.2 ♺)\n",
      "</td>, <td><a href=\"/wiki/Starlink\" title=\"Starlink\">Starlink</a> v0.9 <br/>(60 satellites)\n",
      "</td>, <td><a href=\"/wiki/RADARSAT_Constellation\" title=\"RADARSAT Constellation\">RADARSAT Constellation</a><br/>(3 satellites)\n",
      "</td>, <td><a href=\"/wiki/SpaceX_CRS-18\" title=\"SpaceX CRS-18\">SpaceX CRS-18</a><sup class=\"reference\" id=\"cite_ref-spn-20160224_148-7\"><a href=\"#cite_note-spn-20160224-148\">[141]</a></sup><br/>(<a href=\"/wiki/Dragon_C108\" title=\"Dragon C108\">Dragon C108</a>.3 ♺)\n",
      "</td>, <td><a class=\"mw-redirect\" href=\"/wiki/Amos-17\" title=\"Amos-17\">AMOS-17</a><sup class=\"reference\" id=\"cite_ref-485\"><a href=\"#cite_note-485\">[473]</a></sup>\n",
      "</td>, <td><a href=\"/wiki/Starlink\" title=\"Starlink\">Starlink</a> 1 v1.0 (60 satellites)\n",
      "</td>, <td><a href=\"/wiki/SpaceX_CRS-19\" title=\"SpaceX CRS-19\">SpaceX CRS-19</a><sup class=\"reference\" id=\"cite_ref-spn-201602242_495-0\"><a href=\"#cite_note-spn-201602242-495\">[483]</a></sup><br/>(Dragon C106.3 ♺)\n",
      "</td>, <td><a href=\"/wiki/JSAT_(satellite_constellation)\" title=\"JSAT (satellite constellation)\">JCSat-18</a> / <a href=\"/wiki/Kacific_Broadband_Satellites\" title=\"Kacific Broadband Satellites\">Kacific 1</a><sup class=\"reference\" id=\"cite_ref-sn-20170905_499-0\"><a href=\"#cite_note-sn-20170905-499\">[487]</a></sup>\n",
      "</td>, <td><a href=\"/wiki/Starlink\" title=\"Starlink\">Starlink</a> 2 v1.0 (60 satellites)\n",
      "</td>, <td><a href=\"/wiki/SpaceX_Dragon_2#In-flight_abort_test\" title=\"SpaceX Dragon 2\">Crew Dragon in-flight abort test</a><sup class=\"reference\" id=\"cite_ref-sn20150702_507-0\"><a href=\"#cite_note-sn20150702-507\">[495]</a></sup><br/>(Dragon C205.1)\n",
      "</td>, <td><a href=\"/wiki/Starlink\" title=\"Starlink\">Starlink</a> 3 v1.0 (60 satellites)\n",
      "</td>, <td><a href=\"/wiki/Starlink\" title=\"Starlink\">Starlink</a> 4 v1.0 (60 satellites)\n",
      "</td>, <td><a href=\"/wiki/SpaceX_CRS-20\" title=\"SpaceX CRS-20\">SpaceX CRS-20</a><br/>(Dragon C112.3 ♺)\n",
      "</td>, <td><a href=\"/wiki/Starlink\" title=\"Starlink\">Starlink</a> 5 v1.0 (60 satellites)\n",
      "</td>, <td><a href=\"/wiki/Starlink\" title=\"Starlink\">Starlink</a> 6 v1.0 (60 satellites)\n",
      "</td>, <td><a href=\"/wiki/Crew_Dragon_Demo-2\" title=\"Crew Dragon Demo-2\">Crew Dragon Demo-2</a><sup class=\"reference\" id=\"cite_ref-nsf20150305_424-1\"><a href=\"#cite_note-nsf20150305-424\">[414]</a></sup><br/>(<a class=\"mw-redirect\" href=\"/wiki/SpaceX_Crew_Dragon_Endeavour\" title=\"SpaceX Crew Dragon Endeavour\">Crew Dragon C206.1 <i>Endeavour</i></a>)\n",
      "</td>, <td><a href=\"/wiki/Starlink\" title=\"Starlink\">Starlink</a> 7 v1.0 (60 satellites)\n",
      "</td>, <td><a href=\"/wiki/Starlink\" title=\"Starlink\">Starlink</a> 8 v1.0 (58 satellites),<sup class=\"reference\" id=\"cite_ref-nsf20200612_536-0\"><a href=\"#cite_note-nsf20200612-536\">[524]</a></sup><sup class=\"reference\" id=\"cite_ref-537\"><a href=\"#cite_note-537\">[525]</a></sup><br/><a href=\"/wiki/SkySat\" title=\"SkySat\">SkySats</a>-16, -17, -18\n",
      "</td>, <td><a href=\"/wiki/GPS_Block_III\" title=\"GPS Block III\">GPS III</a>-<a href=\"/wiki/List_of_GPS_satellites\" title=\"List of GPS satellites\">03</a> (<i><a href=\"/wiki/Matthew_Henson\" title=\"Matthew Henson\">Matthew Henson</a></i>)\n",
      "</td>, <td><a href=\"/wiki/ANASIS-II\" title=\"ANASIS-II\">ANASIS-II</a>\n",
      "</td>, <td><a href=\"/wiki/Starlink\" title=\"Starlink\">Starlink</a> 9 v1.0 (57 Satellites),<sup class=\"reference\" id=\"cite_ref-nsf20200612_536-1\"><a href=\"#cite_note-nsf20200612-536\">[524]</a></sup><br/><a href=\"/wiki/Spaceflight_Industries#BlackSky\" title=\"Spaceflight Industries\">SXRS-1 (BlackSky Global 7 and 8)</a>\n",
      "</td>, <td><a href=\"/wiki/Starlink\" title=\"Starlink\">Starlink</a> 10 v1.0 (58 satellites)<br/><a href=\"/wiki/SkySat\" title=\"SkySat\">SkySat</a>-19, -20, -21\n",
      "</td>, <td><a class=\"mw-redirect\" href=\"/wiki/SAOCOM_1B\" title=\"SAOCOM 1B\">SAOCOM 1B</a><sup class=\"reference\" id=\"cite_ref-skyrocket-saocom1b_568-0\"><a href=\"#cite_note-skyrocket-saocom1b-568\">[556]</a></sup><br/><a class=\"new\" href=\"/w/index.php?title=GNOMES_1&amp;action=edit&amp;redlink=1\" title=\"GNOMES 1 (page does not exist)\">GNOMES 1</a><sup class=\"reference\" id=\"cite_ref-skyrocket-saocom1b_568-1\"><a href=\"#cite_note-skyrocket-saocom1b-568\">[556]</a></sup><br/><a href=\"/wiki/Tyvak\" title=\"Tyvak\">Tyvak-0172</a><sup class=\"reference\" id=\"cite_ref-SAOCOM_1B_Mission_569-0\"><a href=\"#cite_note-SAOCOM_1B_Mission-569\">[557]</a></sup>\n",
      "</td>, <td><a href=\"/wiki/Starlink\" title=\"Starlink\">Starlink</a> 11 v1.0 (60 satellites)\n",
      "</td>, <td><a href=\"/wiki/Starlink\" title=\"Starlink\">Starlink</a> 12 v1.0 (60 satellites)\n",
      "</td>, <td><a href=\"/wiki/Starlink\" title=\"Starlink\">Starlink</a> 13 v1.0 (60 satellites)\n",
      "</td>, <td><a href=\"/wiki/Starlink\" title=\"Starlink\">Starlink</a> 14 v1.0 (60 satellites)\n",
      "</td>, <td><a href=\"/wiki/GPS_Block_III\" title=\"GPS Block III\">GPS III</a>-<a href=\"/wiki/List_of_GPS_satellites#Planned_launches\" title=\"List of GPS satellites\">04</a> (<i><a href=\"/wiki/Sacagawea\" title=\"Sacagawea\">Sacagawea</a></i>)<sup class=\"reference\" id=\"cite_ref-GPS_553-1\"><a href=\"#cite_note-GPS-553\">[541]</a></sup><sup class=\"reference\" id=\"cite_ref-cr-048-15_585-0\"><a href=\"#cite_note-cr-048-15-585\">[573]</a></sup>\n",
      "</td>, <td><a href=\"/wiki/SpaceX_Crew-1\" title=\"SpaceX Crew-1\">Crew-1</a><br/>(<a href=\"/wiki/Crew_Dragon_Resilience\" title=\"Crew Dragon Resilience\">Crew Dragon C207.1 <i>Resilience</i></a>)\n",
      "</td>, <td><a class=\"mw-redirect\" href=\"/wiki/Copernicus_Sentinel-6\" title=\"Copernicus Sentinel-6\">Sentinel-6 Michael Freilich (Jason-CS A)</a>\n",
      "</td>, <td><a href=\"/wiki/Starlink\" title=\"Starlink\">Starlink</a> 15 v1.0 (60 satellites)\n",
      "</td>, <td><a href=\"/wiki/SpaceX_CRS-21\" title=\"SpaceX CRS-21\">SpaceX CRS-21</a><br/>(Dragon C208.1)\n",
      "</td>, <td><a href=\"/wiki/Sirius_XM\" title=\"Sirius XM\">SXM-7</a>\n",
      "</td>, <td><a href=\"/wiki/List_of_NRO_launches\" title=\"List of NRO launches\">NROL-108</a>\n",
      "</td>, <td><a href=\"/wiki/T%C3%BCrksat_5A\" title=\"Türksat 5A\">Türksat 5A</a><sup class=\"reference\" id=\"cite_ref-turk5a_617-0\"><a href=\"#cite_note-turk5a-617\">[605]</a></sup>\n",
      "</td>, <td><a href=\"/wiki/Starlink\" title=\"Starlink\">Starlink</a> 16 v1.0 (60 satellites)\n",
      "</td>, <td><i><a class=\"new\" href=\"/w/index.php?title=Transporter-1&amp;action=edit&amp;redlink=1\" title=\"Transporter-1 (page does not exist)\">Transporter-1</a></i> (<a href=\"/wiki/List_of_spaceflight_launches_in_January%E2%80%93June_2021#SpXTransporter1\" title=\"List of spaceflight launches in January–June 2021\">143 smallsat rideshare</a>)\n",
      "</td>, <td><a href=\"/wiki/Starlink\" title=\"Starlink\">Starlink</a> 18 v1.0 (60 satellites)\n",
      "</td>, <td><a href=\"/wiki/Starlink\" title=\"Starlink\">Starlink</a> 19 v1.0 (60 satellites)<sup class=\"reference\" id=\"cite_ref-nextSL19_639-0\"><a href=\"#cite_note-nextSL19-639\">[627]</a></sup>\n",
      "</td>, <td><a href=\"/wiki/Starlink\" title=\"Starlink\">Starlink</a> 17 v1.0 (60 satellites)\n",
      "</td>, <td><a href=\"/wiki/Starlink\" title=\"Starlink\">Starlink</a> 20 v1.0 (60 satellites)\n",
      "</td>, <td><a href=\"/wiki/Starlink\" title=\"Starlink\">Starlink</a> 21 v1.0 (60 satellites)\n",
      "</td>, <td><a href=\"/wiki/Starlink\" title=\"Starlink\">Starlink</a> 22 v1.0 (60 satellites)\n",
      "</td>, <td><a href=\"/wiki/Starlink\" title=\"Starlink\">Starlink</a> 23 v1.0 (60 satellites)\n",
      "</td>, <td><a href=\"/wiki/SpaceX_Crew-2\" title=\"SpaceX Crew-2\">Crew-2</a><br/>(<a class=\"mw-redirect\" href=\"/wiki/SpaceX_Crew_Dragon_Endeavour\" title=\"SpaceX Crew Dragon Endeavour\">Crew Dragon C206.2 <i>Endeavour</i></a> ♺)\n",
      "</td>, <td><a href=\"/wiki/Starlink\" title=\"Starlink\">Starlink</a> 24 v1.0 (60 satellites)\n",
      "</td>, <td><a href=\"/wiki/Starlink\" title=\"Starlink\">Starlink</a> 25 v1.0 (60 satellites)\n",
      "</td>, <td><a href=\"/wiki/Starlink\" title=\"Starlink\">Starlink</a> 27 v1.0 (60 satellites)\n",
      "</td>, <td><a href=\"/wiki/Starlink\" title=\"Starlink\">Starlink</a> 26 v1.0 (52 Satellites)<br/> <a href=\"/wiki/Capella_Space\" title=\"Capella Space\">Capella</a>-6 &amp;<a href=\"/wiki/Tyvak\" title=\"Tyvak\">Tyvak</a>-0130<sup class=\"reference\" id=\"cite_ref-674\"><a href=\"#cite_note-674\">[662]</a></sup>\n",
      "</td>, <td><a href=\"/wiki/Starlink\" title=\"Starlink\">Starlink</a> 28 v1.0 (60 Satellites)<sup class=\"reference\" id=\"cite_ref-NSFSl28_677-2\"><a href=\"#cite_note-NSFSl28-677\">[665]</a></sup>\n",
      "</td>, <td><a href=\"/wiki/SpaceX_CRS-22\" title=\"SpaceX CRS-22\">SpaceX CRS-22</a><br/>(<a href=\"/wiki/Cargo_Dragon_C209\" title=\"Cargo Dragon C209\">Dragon C209.1</a>)\n",
      "</td>, <td><a href=\"/wiki/Sirius_XM#Satellites\" title=\"Sirius XM\">SXM-8</a><sup class=\"reference\" id=\"cite_ref-spacex_manifest_686-0\"><a href=\"#cite_note-spacex_manifest-686\">[674]</a></sup>\n",
      "</td>], 'Payload mass': [0, 0, '525 kg', '4,700 kg', '4,877 kg', '500 kg', '3,170 kg', '3,325 kg', '2,296 kg', '1,316 kg', '4,535 kg', '4,428 kg', '2,216 kg', '2,395 kg', '570 kg', '4,159 kg', '1,898 kg', '4,707 kg', '1,952 kg', '2,034 kg', '553 kg', '5,271 kg', '3,136 kg', '4,696 kg', '3,100 kg', '3,600 kg', '2,257 kg', '4,600 kg', '9,600 kg', '2,490 kg', '5,600 kg', '5,300 kg', 'C', '6,070 kg', '2,708 kg', '3,669 kg', '9,600 kg', '6,761 kg', '3,310 kg', '475 kg', '4,990 kg', '9,600 kg', '5,200 kg', '3,500 kg', '2,205 kg', '9,600 kg', 'C', '4,230 kg', '2,150 kg', '6,092 kg', '9,600 kg', '2,647 kg', '362 kg', '3,600 kg', '6,460 kg', '5,384 kg', '2,697 kg', '7,075 kg', '9,600 kg', '5,800 kg', '7,060 kg', '3,000 kg', '5,300 kg', '~4,000 kg', '2,500 kg', '4,400 kg', '9,600 kg', '4,850 kg', '12,055 kg', '2,495 kg', '13,620 kg', '4,200 kg', '2,268 kg', '6,500 kg', '15,600 kg', '2,617 kg', '6,956 kg', '15,600 kg', '12,050 kg', '15,600 kg', '15,600 kg', '1,977 kg', '15,600 kg', '15,600 kg', '12,530 kg', '15,600 kg', '15,410 kg', '4,311 kg', '5,000–6,000 kg', '14,932 kg', '~15,440 kg', '3,130 kg', '15,600 kg', '15,600 kg', '15,600 kg', '15,600 kg', '4,311 kg', '~12,500 kg', '1,192 kg', '15,600 kg', '2,972 kg', '7,000 kg', 'C', '3,500 kg', '15,600 kg', '~5,000 kg', '15,600 kg', '15,600 kg', '15,600 kg', '15,600 kg', '15,600 kg', '15,600 kg', '15,600 kg', '~13,000 kg', '15,600 kg', '15,600 kg', '15,600 kg', '~14,000 kg', '15,600 kg', '3,328 kg', '7,000 kg'], 'Orbit': [<td><a href=\"/wiki/Low_Earth_orbit\" title=\"Low Earth orbit\">LEO</a>\n",
      "</td>, <td><a href=\"/wiki/Low_Earth_orbit\" title=\"Low Earth orbit\">LEO</a> (<a href=\"/wiki/International_Space_Station\" title=\"International Space Station\">ISS</a>)\n",
      "</td>, <td><a href=\"/wiki/Low_Earth_orbit\" title=\"Low Earth orbit\">LEO</a> (<a href=\"/wiki/International_Space_Station\" title=\"International Space Station\">ISS</a>)\n",
      "</td>, <td><a href=\"/wiki/Low_Earth_orbit\" title=\"Low Earth orbit\">LEO</a> (<a href=\"/wiki/International_Space_Station\" title=\"International Space Station\">ISS</a>)\n",
      "</td>, <td><a href=\"/wiki/Low_Earth_orbit\" title=\"Low Earth orbit\">LEO</a> (<a class=\"mw-redirect\" href=\"/wiki/ISS\" title=\"ISS\">ISS</a>)\n",
      "</td>, <td><a href=\"/wiki/Polar_orbit\" title=\"Polar orbit\">Polar orbit</a> <a href=\"/wiki/Low_Earth_orbit\" title=\"Low Earth orbit\">LEO</a>\n",
      "</td>, <td><a href=\"/wiki/Geostationary_transfer_orbit\" title=\"Geostationary transfer orbit\">GTO</a>\n",
      "</td>, <td><a href=\"/wiki/Geostationary_transfer_orbit\" title=\"Geostationary transfer orbit\">GTO</a>\n",
      "</td>, <td><a href=\"/wiki/Low_Earth_orbit\" title=\"Low Earth orbit\">LEO</a> (<a class=\"mw-redirect\" href=\"/wiki/ISS\" title=\"ISS\">ISS</a>)\n",
      "</td>, <td><a href=\"/wiki/Low_Earth_orbit\" title=\"Low Earth orbit\">LEO</a>\n",
      "</td>, <td><a href=\"/wiki/Geostationary_transfer_orbit\" title=\"Geostationary transfer orbit\">GTO</a>\n",
      "</td>, <td><a href=\"/wiki/Geostationary_transfer_orbit\" title=\"Geostationary transfer orbit\">GTO</a>\n",
      "</td>, <td><a href=\"/wiki/Low_Earth_orbit\" title=\"Low Earth orbit\">LEO</a> (<a class=\"mw-redirect\" href=\"/wiki/ISS\" title=\"ISS\">ISS</a>)\n",
      "</td>, <td><a class=\"mw-redirect\" href=\"/wiki/Low_Earth_Orbit\" title=\"Low Earth Orbit\">LEO</a> (<a class=\"mw-redirect\" href=\"/wiki/ISS\" title=\"ISS\">ISS</a>)\n",
      "</td>, <td><a href=\"/wiki/High_Earth_orbit\" title=\"High Earth orbit\">HEO</a><br/>(<a href=\"/wiki/Lagrange_point\" title=\"Lagrange point\">Sun–Earth L<sub>1</sub></a> insertion)\n",
      "</td>, <td><a href=\"/wiki/Geostationary_transfer_orbit\" title=\"Geostationary transfer orbit\">GTO</a>\n",
      "</td>, <td><a class=\"mw-redirect\" href=\"/wiki/Low_Earth_Orbit\" title=\"Low Earth Orbit\">LEO</a> (<a class=\"mw-redirect\" href=\"/wiki/ISS\" title=\"ISS\">ISS</a>)\n",
      "</td>, <td><a href=\"/wiki/Geostationary_transfer_orbit\" title=\"Geostationary transfer orbit\">GTO</a>\n",
      "</td>, <td><a class=\"mw-redirect\" href=\"/wiki/Low_Earth_Orbit\" title=\"Low Earth Orbit\">LEO</a> (<a class=\"mw-redirect\" href=\"/wiki/ISS\" title=\"ISS\">ISS</a>)\n",
      "</td>, <td><a class=\"mw-redirect\" href=\"/wiki/Low_Earth_Orbit\" title=\"Low Earth Orbit\">LEO</a>\n",
      "</td>, <td><a href=\"/wiki/Low_Earth_orbit\" title=\"Low Earth orbit\">LEO</a>\n",
      "</td>, <td><a href=\"/wiki/Geostationary_transfer_orbit\" title=\"Geostationary transfer orbit\">GTO</a>\n",
      "</td>, <td><a class=\"mw-redirect\" href=\"/wiki/Low_Earth_Orbit\" title=\"Low Earth Orbit\">LEO</a> (<a class=\"mw-redirect\" href=\"/wiki/ISS\" title=\"ISS\">ISS</a>)\n",
      "</td>, <td><a href=\"/wiki/Geostationary_transfer_orbit\" title=\"Geostationary transfer orbit\">GTO</a>\n",
      "</td>, <td><a href=\"/wiki/Geostationary_transfer_orbit\" title=\"Geostationary transfer orbit\">GTO</a>\n",
      "</td>, <td><a href=\"/wiki/Geostationary_transfer_orbit\" title=\"Geostationary transfer orbit\">GTO</a>\n",
      "</td>, <td><a class=\"mw-redirect\" href=\"/wiki/Low_Earth_Orbit\" title=\"Low Earth Orbit\">LEO</a> (<a class=\"mw-redirect\" href=\"/wiki/ISS\" title=\"ISS\">ISS</a>)\n",
      "</td>, <td><a href=\"/wiki/Geostationary_transfer_orbit\" title=\"Geostationary transfer orbit\">GTO</a>\n",
      "</td>, <td><a href=\"/wiki/Polar_orbit\" title=\"Polar orbit\">Polar</a> <a href=\"/wiki/Low_Earth_orbit\" title=\"Low Earth orbit\">LEO</a>\n",
      "</td>, <td><a href=\"/wiki/Low_Earth_orbit\" title=\"Low Earth orbit\">LEO</a> (<a class=\"mw-redirect\" href=\"/wiki/ISS\" title=\"ISS\">ISS</a>)\n",
      "</td>, <td><a href=\"/wiki/Geostationary_transfer_orbit\" title=\"Geostationary transfer orbit\">GTO</a>\n",
      "</td>, <td><a href=\"/wiki/Geostationary_transfer_orbit\" title=\"Geostationary transfer orbit\">GTO</a>\n",
      "</td>, <td><a href=\"/wiki/Low_Earth_orbit\" title=\"Low Earth orbit\">LEO</a><sup class=\"reference\" id=\"cite_ref-183\"><a href=\"#cite_note-183\">[175]</a></sup>\n",
      "</td>, <td><a href=\"/wiki/Geostationary_transfer_orbit\" title=\"Geostationary transfer orbit\">GTO</a>\n",
      "</td>, <td><a href=\"/wiki/Low_Earth_orbit\" title=\"Low Earth orbit\">LEO</a> (<a class=\"mw-redirect\" href=\"/wiki/ISS\" title=\"ISS\">ISS</a>)\n",
      "</td>, <td><a href=\"/wiki/Geostationary_transfer_orbit\" title=\"Geostationary transfer orbit\">GTO</a>\n",
      "</td>, <td><a href=\"/wiki/Low_Earth_orbit\" title=\"Low Earth orbit\">LEO</a>\n",
      "</td>, <td><a href=\"/wiki/Geostationary_transfer_orbit\" title=\"Geostationary transfer orbit\">GTO</a>\n",
      "</td>, <td><a href=\"/wiki/Low_Earth_orbit\" title=\"Low Earth orbit\">LEO</a> (<a class=\"mw-redirect\" href=\"/wiki/ISS\" title=\"ISS\">ISS</a>)\n",
      "</td>, <td><a href=\"/wiki/Sun-synchronous_orbit\" title=\"Sun-synchronous orbit\">SSO</a>\n",
      "</td>, <td><a class=\"mw-redirect\" href=\"/wiki/Low_Earth_Orbit\" title=\"Low Earth Orbit\">LEO</a>\n",
      "</td>, <td><a href=\"/wiki/Polar_orbit\" title=\"Polar orbit\">Polar</a> <a href=\"/wiki/Low_Earth_orbit\" title=\"Low Earth orbit\">LEO</a>\n",
      "</td>, <td><a href=\"/wiki/Geostationary_transfer_orbit\" title=\"Geostationary transfer orbit\">GTO</a>\n",
      "</td>, <td><a href=\"/wiki/Geostationary_transfer_orbit\" title=\"Geostationary transfer orbit\">GTO</a>\n",
      "</td>, <td><a href=\"/wiki/Low_Earth_orbit\" title=\"Low Earth orbit\">LEO</a> (<a class=\"mw-redirect\" href=\"/wiki/ISS\" title=\"ISS\">ISS</a>)\n",
      "</td>, <td><a href=\"/wiki/Polar_orbit\" title=\"Polar orbit\">Polar</a> <a href=\"/wiki/Low_Earth_orbit\" title=\"Low Earth orbit\">LEO</a>\n",
      "</td>, <td><a href=\"/wiki/Low_Earth_orbit\" title=\"Low Earth orbit\">LEO</a>\n",
      "</td>, <td><a href=\"/wiki/Geostationary_transfer_orbit\" title=\"Geostationary transfer orbit\">GTO</a>\n",
      "</td>, <td><a href=\"/wiki/Sun-synchronous_orbit\" title=\"Sun-synchronous orbit\">SSO</a>\n",
      "</td>, <td><a href=\"/wiki/Geostationary_transfer_orbit\" title=\"Geostationary transfer orbit\">GTO</a>\n",
      "</td>, <td><a href=\"/wiki/Polar_orbit\" title=\"Polar orbit\">Polar</a> <a href=\"/wiki/Low_Earth_orbit\" title=\"Low Earth orbit\">LEO</a>\n",
      "</td>, <td><a href=\"/wiki/Low_Earth_orbit\" title=\"Low Earth orbit\">LEO</a> (<a class=\"mw-redirect\" href=\"/wiki/ISS\" title=\"ISS\">ISS</a>)\n",
      "</td>, <td><a href=\"/wiki/High_Earth_orbit\" title=\"High Earth orbit\">HEO</a> for <a class=\"mw-redirect\" href=\"/wiki/P/2_orbit\" title=\"P/2 orbit\">P/2 orbit</a>\n",
      "</td>, <td><a href=\"/wiki/Geostationary_transfer_orbit\" title=\"Geostationary transfer orbit\">GTO</a>\n",
      "</td>, <td><a href=\"/wiki/Polar_orbit\" title=\"Polar orbit\">Polar</a> <a href=\"/wiki/Low_Earth_orbit\" title=\"Low Earth orbit\">LEO</a>\n",
      "</td>, <td><a href=\"/wiki/Geostationary_transfer_orbit\" title=\"Geostationary transfer orbit\">GTO</a>\n",
      "</td>, <td><a href=\"/wiki/Low_Earth_orbit\" title=\"Low Earth orbit\">LEO</a> (<a class=\"mw-redirect\" href=\"/wiki/ISS\" title=\"ISS\">ISS</a>)\n",
      "</td>, <td><a href=\"/wiki/Geostationary_transfer_orbit\" title=\"Geostationary transfer orbit\">GTO</a><sup class=\"reference\" id=\"cite_ref-sfn-20180722_353-0\"><a href=\"#cite_note-sfn-20180722-353\">[343]</a></sup>\n",
      "</td>, <td><a href=\"/wiki/Polar_orbit\" title=\"Polar orbit\">Polar</a> <a href=\"/wiki/Low_Earth_orbit\" title=\"Low Earth orbit\">LEO</a>\n",
      "</td>, <td><a href=\"/wiki/Geostationary_transfer_orbit\" title=\"Geostationary transfer orbit\">GTO</a>\n",
      "</td>, <td><a href=\"/wiki/Geostationary_transfer_orbit\" title=\"Geostationary transfer orbit\">GTO</a><sup class=\"reference\" id=\"cite_ref-sfn-20180910_371-2\"><a href=\"#cite_note-sfn-20180910-371\">[361]</a></sup>\n",
      "</td>, <td><a href=\"/wiki/Sun-synchronous_orbit\" title=\"Sun-synchronous orbit\">SSO</a>\n",
      "</td>, <td><a href=\"/wiki/Geostationary_transfer_orbit\" title=\"Geostationary transfer orbit\">GTO</a>\n",
      "</td>, <td><a href=\"/wiki/Sun-synchronous_orbit\" title=\"Sun-synchronous orbit\">SSO</a>\n",
      "</td>, <td><a href=\"/wiki/Low_Earth_orbit\" title=\"Low Earth orbit\">LEO</a> (<a class=\"mw-redirect\" href=\"/wiki/ISS\" title=\"ISS\">ISS</a>)\n",
      "</td>, <td><a href=\"/wiki/Medium_Earth_orbit\" title=\"Medium Earth orbit\">MEO</a>\n",
      "</td>, <td><span class=\"nowrap\"><a href=\"/wiki/Polar_orbit\" title=\"Polar orbit\">Polar</a> <a class=\"mw-redirect\" href=\"/wiki/Low_Earth_Orbit\" title=\"Low Earth Orbit\">LEO</a></span>\n",
      "</td>, <td><a href=\"/wiki/Geostationary_transfer_orbit\" title=\"Geostationary transfer orbit\">GTO</a>\n",
      "</td>, <td><a class=\"mw-redirect\" href=\"/wiki/Low_Earth_Orbit\" title=\"Low Earth Orbit\">LEO</a> (<a class=\"mw-redirect\" href=\"/wiki/ISS\" title=\"ISS\">ISS</a>)\n",
      "</td>, <td><a class=\"mw-redirect\" href=\"/wiki/Low_Earth_Orbit\" title=\"Low Earth Orbit\">LEO</a> (<a class=\"mw-redirect\" href=\"/wiki/ISS\" title=\"ISS\">ISS</a>)\n",
      "</td>, <td><a class=\"mw-redirect\" href=\"/wiki/Low_Earth_Orbit\" title=\"Low Earth Orbit\">LEO</a>\n",
      "</td>, <td><a href=\"/wiki/Sun-synchronous_orbit\" title=\"Sun-synchronous orbit\">SSO</a>\n",
      "</td>, <td><a class=\"mw-redirect\" href=\"/wiki/Low_Earth_Orbit\" title=\"Low Earth Orbit\">LEO</a> (<a class=\"mw-redirect\" href=\"/wiki/ISS\" title=\"ISS\">ISS</a>)\n",
      "</td>, <td><a href=\"/wiki/Geostationary_transfer_orbit\" title=\"Geostationary transfer orbit\">GTO</a>\n",
      "</td>, <td><a class=\"mw-redirect\" href=\"/wiki/Low_Earth_Orbit\" title=\"Low Earth Orbit\">LEO</a>\n",
      "</td>, <td><a class=\"mw-redirect\" href=\"/wiki/Low_Earth_Orbit\" title=\"Low Earth Orbit\">LEO</a> (<a class=\"mw-redirect\" href=\"/wiki/ISS\" title=\"ISS\">ISS</a>)\n",
      "</td>, <td><a href=\"/wiki/Geostationary_transfer_orbit\" title=\"Geostationary transfer orbit\">GTO</a>\n",
      "</td>, <td><a href=\"/wiki/Low_Earth_orbit\" title=\"Low Earth orbit\">LEO</a>\n",
      "</td>, <td><a class=\"mw-redirect\" href=\"/wiki/Sub-orbital\" title=\"Sub-orbital\">Sub-orbital</a><sup class=\"reference\" id=\"cite_ref-508\"><a href=\"#cite_note-508\">[496]</a></sup>\n",
      "</td>, <td><a href=\"/wiki/Low_Earth_orbit\" title=\"Low Earth orbit\">LEO</a>\n",
      "</td>, <td><a href=\"/wiki/Low_Earth_orbit\" title=\"Low Earth orbit\">LEO</a>\n",
      "</td>, <td><a href=\"/wiki/Low_Earth_orbit\" title=\"Low Earth orbit\">LEO</a> (<a class=\"mw-redirect\" href=\"/wiki/ISS\" title=\"ISS\">ISS</a>)\n",
      "</td>, <td><a href=\"/wiki/Low_Earth_orbit\" title=\"Low Earth orbit\">LEO</a>\n",
      "</td>, <td><a href=\"/wiki/Low_Earth_orbit\" title=\"Low Earth orbit\">LEO</a>\n",
      "</td>, <td><a class=\"mw-redirect\" href=\"/wiki/Low_Earth_Orbit\" title=\"Low Earth Orbit\">LEO</a> (<a class=\"mw-redirect\" href=\"/wiki/ISS\" title=\"ISS\">ISS</a>)\n",
      "</td>, <td><a href=\"/wiki/Low_Earth_orbit\" title=\"Low Earth orbit\">LEO</a>\n",
      "</td>, <td><a href=\"/wiki/Low_Earth_orbit\" title=\"Low Earth orbit\">LEO</a>\n",
      "</td>, <td><a href=\"/wiki/Medium_Earth_orbit\" title=\"Medium Earth orbit\">MEO</a>\n",
      "</td>, <td><a href=\"/wiki/Geostationary_transfer_orbit\" title=\"Geostationary transfer orbit\">GTO</a>\n",
      "</td>, <td><a href=\"/wiki/Low_Earth_orbit\" title=\"Low Earth orbit\">LEO</a>\n",
      "</td>, <td><a href=\"/wiki/Low_Earth_orbit\" title=\"Low Earth orbit\">LEO</a>\n",
      "</td>, <td><a href=\"/wiki/Sun-synchronous_orbit\" title=\"Sun-synchronous orbit\">SSO</a>\n",
      "</td>, <td><a href=\"/wiki/Low_Earth_orbit\" title=\"Low Earth orbit\">LEO</a>\n",
      "</td>, <td><a href=\"/wiki/Low_Earth_orbit\" title=\"Low Earth orbit\">LEO</a>\n",
      "</td>, <td><a href=\"/wiki/Low_Earth_orbit\" title=\"Low Earth orbit\">LEO</a>\n",
      "</td>, <td><a href=\"/wiki/Low_Earth_orbit\" title=\"Low Earth orbit\">LEO</a>\n",
      "</td>, <td><a href=\"/wiki/Medium_Earth_orbit\" title=\"Medium Earth orbit\">MEO</a>\n",
      "</td>, <td><a class=\"mw-redirect\" href=\"/wiki/Low_Earth_Orbit\" title=\"Low Earth Orbit\">LEO</a> (<a class=\"mw-redirect\" href=\"/wiki/ISS\" title=\"ISS\">ISS</a>)\n",
      "</td>, <td><a class=\"mw-redirect\" href=\"/wiki/Low_Earth_Orbit\" title=\"Low Earth Orbit\">LEO</a>\n",
      "</td>, <td><a href=\"/wiki/Low_Earth_orbit\" title=\"Low Earth orbit\">LEO</a>\n",
      "</td>, <td><a class=\"mw-redirect\" href=\"/wiki/Low_Earth_Orbit\" title=\"Low Earth Orbit\">LEO</a> (<a class=\"mw-redirect\" href=\"/wiki/ISS\" title=\"ISS\">ISS</a>)\n",
      "</td>, <td><a href=\"/wiki/Geostationary_transfer_orbit\" title=\"Geostationary transfer orbit\">GTO</a>\n",
      "</td>, <td><a href=\"/wiki/Low_Earth_orbit\" title=\"Low Earth orbit\">LEO</a>\n",
      "</td>, <td><a href=\"/wiki/Geostationary_transfer_orbit\" title=\"Geostationary transfer orbit\">GTO</a>\n",
      "</td>, <td><a href=\"/wiki/Low_Earth_orbit\" title=\"Low Earth orbit\">LEO</a>\n",
      "</td>, <td><a href=\"/wiki/Sun-synchronous_orbit\" title=\"Sun-synchronous orbit\">SSO</a>\n",
      "</td>, <td><a href=\"/wiki/Low_Earth_orbit\" title=\"Low Earth orbit\">LEO</a>\n",
      "</td>, <td><a href=\"/wiki/Low_Earth_orbit\" title=\"Low Earth orbit\">LEO</a>\n",
      "</td>, <td><a href=\"/wiki/Low_Earth_orbit\" title=\"Low Earth orbit\">LEO</a>\n",
      "</td>, <td><a href=\"/wiki/Low_Earth_orbit\" title=\"Low Earth orbit\">LEO</a>\n",
      "</td>, <td><a href=\"/wiki/Low_Earth_orbit\" title=\"Low Earth orbit\">LEO</a>\n",
      "</td>, <td><a href=\"/wiki/Low_Earth_orbit\" title=\"Low Earth orbit\">LEO</a>\n",
      "</td>, <td><a href=\"/wiki/Low_Earth_orbit\" title=\"Low Earth orbit\">LEO</a>\n",
      "</td>, <td><a class=\"mw-redirect\" href=\"/wiki/Low_Earth_Orbit\" title=\"Low Earth Orbit\">LEO</a> (<a class=\"mw-redirect\" href=\"/wiki/ISS\" title=\"ISS\">ISS</a>)\n",
      "</td>, <td><a href=\"/wiki/Low_Earth_orbit\" title=\"Low Earth orbit\">LEO</a>\n",
      "</td>, <td><a href=\"/wiki/Low_Earth_orbit\" title=\"Low Earth orbit\">LEO</a>\n",
      "</td>, <td><a href=\"/wiki/Low_Earth_orbit\" title=\"Low Earth orbit\">LEO</a>\n",
      "</td>, <td><a href=\"/wiki/Low_Earth_orbit\" title=\"Low Earth orbit\">LEO</a>\n",
      "</td>, <td><a href=\"/wiki/Low_Earth_orbit\" title=\"Low Earth orbit\">LEO</a>\n",
      "</td>, <td><a class=\"mw-redirect\" href=\"/wiki/Low_Earth_Orbit\" title=\"Low Earth Orbit\">LEO</a> (<a class=\"mw-redirect\" href=\"/wiki/ISS\" title=\"ISS\">ISS</a>)\n",
      "</td>, <td><a href=\"/wiki/Geostationary_transfer_orbit\" title=\"Geostationary transfer orbit\">GTO</a>\n",
      "</td>], 'Customer': [<td><a href=\"/wiki/SpaceX\" title=\"SpaceX\">SpaceX</a>\n",
      "</td>, <td><style data-mw-deduplicate=\"TemplateStyles:r1126788409\">.mw-parser-output .plainlist ol,.mw-parser-output .plainlist ul{line-height:inherit;list-style:none;margin:0;padding:0}.mw-parser-output .plainlist ol li,.mw-parser-output .plainlist ul li{margin-bottom:0}</style><div class=\"plainlist\">\n",
      "<ul><li><a href=\"/wiki/NASA\" title=\"NASA\">NASA</a> (<a href=\"/wiki/Commercial_Orbital_Transportation_Services\" title=\"Commercial Orbital Transportation Services\">COTS</a>)</li>\n",
      "<li><a href=\"/wiki/National_Reconnaissance_Office\" title=\"National Reconnaissance Office\">NRO</a></li></ul>\n",
      "</div>\n",
      "</td>, <td><a href=\"/wiki/NASA\" title=\"NASA\">NASA</a> (<a href=\"/wiki/Commercial_Orbital_Transportation_Services\" title=\"Commercial Orbital Transportation Services\">COTS</a>)\n",
      "</td>, <td><a href=\"/wiki/NASA\" title=\"NASA\">NASA</a> (<a href=\"/wiki/Commercial_Resupply_Services\" title=\"Commercial Resupply Services\">CRS</a>)\n",
      "</td>, <td><a href=\"/wiki/NASA\" title=\"NASA\">NASA</a> (<a href=\"/wiki/Commercial_Resupply_Services\" title=\"Commercial Resupply Services\">CRS</a>)\n",
      "</td>, <td><a href=\"/wiki/Maxar_Technologies\" title=\"Maxar Technologies\">MDA</a>\n",
      "</td>, <td><a href=\"/wiki/SES_S.A.\" title=\"SES S.A.\">SES</a>\n",
      "</td>, <td><a href=\"/wiki/Thaicom\" title=\"Thaicom\">Thaicom</a>\n",
      "</td>, <td><a href=\"/wiki/NASA\" title=\"NASA\">NASA</a> (<a href=\"/wiki/Commercial_Resupply_Services\" title=\"Commercial Resupply Services\">CRS</a>)\n",
      "</td>, <td><a href=\"/wiki/Orbcomm\" title=\"Orbcomm\">Orbcomm</a>\n",
      "</td>, <td><a href=\"/wiki/AsiaSat\" title=\"AsiaSat\">AsiaSat</a>\n",
      "</td>, <td><a href=\"/wiki/AsiaSat\" title=\"AsiaSat\">AsiaSat</a>\n",
      "</td>, <td><a href=\"/wiki/NASA\" title=\"NASA\">NASA</a> (<a href=\"/wiki/Commercial_Resupply_Services\" title=\"Commercial Resupply Services\">CRS</a>)\n",
      "</td>, <td><a href=\"/wiki/NASA\" title=\"NASA\">NASA</a> (<a href=\"/wiki/Commercial_Resupply_Services\" title=\"Commercial Resupply Services\">CRS</a>)\n",
      "</td>, <td><link href=\"mw-data:TemplateStyles:r1126788409\" rel=\"mw-deduplicated-inline-style\"/><div class=\"plainlist\">\n",
      "<ul><li><a href=\"/wiki/United_States_Air_Force\" title=\"United States Air Force\">USAF</a></li>\n",
      "<li><a href=\"/wiki/NASA\" title=\"NASA\">NASA</a></li>\n",
      "<li><a class=\"mw-redirect\" href=\"/wiki/NOAA\" title=\"NOAA\">NOAA</a></li></ul>\n",
      "</div>\n",
      "</td>, <td><link href=\"mw-data:TemplateStyles:r1126788409\" rel=\"mw-deduplicated-inline-style\"/><div class=\"plainlist\">\n",
      "<ul><li><a class=\"mw-redirect\" href=\"/wiki/Asia_Broadcast_Satellite\" title=\"Asia Broadcast Satellite\">ABS</a></li>\n",
      "<li><a href=\"/wiki/Eutelsat\" title=\"Eutelsat\">Eutelsat</a></li></ul>\n",
      "</div>\n",
      "</td>, <td><a href=\"/wiki/NASA\" title=\"NASA\">NASA</a> (<a href=\"/wiki/Commercial_Resupply_Services\" title=\"Commercial Resupply Services\">CRS</a>)\n",
      "</td>, <td><a href=\"/wiki/Turkmenistan_National_Space_Agency\" title=\"Turkmenistan National Space Agency\">Turkmenistan National<br/>Space Agency</a><sup class=\"reference\" id=\"cite_ref-95\"><a href=\"#cite_note-95\">[88]</a></sup>\n",
      "</td>, <td><a href=\"/wiki/NASA\" title=\"NASA\">NASA</a> (<a href=\"/wiki/Commercial_Resupply_Services\" title=\"Commercial Resupply Services\">CRS</a>)\n",
      "</td>, <td><a href=\"/wiki/Orbcomm\" title=\"Orbcomm\">Orbcomm</a>\n",
      "</td>, <td><link href=\"mw-data:TemplateStyles:r1126788409\" rel=\"mw-deduplicated-inline-style\"/><div class=\"plainlist\">\n",
      "<ul><li><a href=\"/wiki/NASA\" title=\"NASA\">NASA</a> (<a class=\"mw-redirect\" href=\"/wiki/Launch_Services_Program\" title=\"Launch Services Program\">LSP</a>)</li>\n",
      "<li><a class=\"mw-redirect\" href=\"/wiki/NOAA\" title=\"NOAA\">NOAA</a></li>\n",
      "<li><a href=\"/wiki/CNES\" title=\"CNES\">CNES</a></li></ul>\n",
      "</div>\n",
      "</td>, <td><a href=\"/wiki/SES_S.A.\" title=\"SES S.A.\">SES</a>\n",
      "</td>, <td><a href=\"/wiki/NASA\" title=\"NASA\">NASA</a> (<a href=\"/wiki/Commercial_Resupply_Services\" title=\"Commercial Resupply Services\">CRS</a>)\n",
      "</td>, <td><a href=\"/wiki/SKY_Perfect_JSAT\" title=\"SKY Perfect JSAT\">SKY Perfect JSAT Group</a>\n",
      "</td>, <td><a href=\"/wiki/Thaicom\" title=\"Thaicom\">Thaicom</a>\n",
      "</td>, <td><link href=\"mw-data:TemplateStyles:r1126788409\" rel=\"mw-deduplicated-inline-style\"/><div class=\"plainlist\">\n",
      "<ul><li><a class=\"mw-redirect\" href=\"/wiki/Asia_Broadcast_Satellite\" title=\"Asia Broadcast Satellite\">ABS</a></li>\n",
      "<li><a href=\"/wiki/Eutelsat\" title=\"Eutelsat\">Eutelsat</a></li></ul>\n",
      "</div>\n",
      "</td>, <td><a href=\"/wiki/NASA\" title=\"NASA\">NASA</a> (<a href=\"/wiki/Commercial_Resupply_Services\" title=\"Commercial Resupply Services\">CRS</a>)\n",
      "</td>, <td><a class=\"mw-redirect\" href=\"/wiki/SKY_Perfect_JSAT_Group\" title=\"SKY Perfect JSAT Group\">SKY Perfect JSAT Group</a>\n",
      "</td>, <td><a href=\"/wiki/Iridium_Communications\" title=\"Iridium Communications\">Iridium Communications</a>\n",
      "</td>, <td><a href=\"/wiki/NASA\" title=\"NASA\">NASA</a> (<a href=\"/wiki/Commercial_Resupply_Services\" title=\"Commercial Resupply Services\">CRS</a>)\n",
      "</td>, <td><a href=\"/wiki/EchoStar\" title=\"EchoStar\">EchoStar</a>\n",
      "</td>, <td><a href=\"/wiki/SES_S.A.\" title=\"SES S.A.\">SES</a>\n",
      "</td>, <td><a href=\"/wiki/National_Reconnaissance_Office\" title=\"National Reconnaissance Office\">NRO</a>\n",
      "</td>, <td><a href=\"/wiki/Inmarsat\" title=\"Inmarsat\">Inmarsat</a>\n",
      "</td>, <td><a href=\"/wiki/NASA\" title=\"NASA\">NASA</a> (<a href=\"/wiki/Commercial_Resupply_Services\" title=\"Commercial Resupply Services\">CRS</a>)\n",
      "</td>, <td><a href=\"/wiki/Bulsatcom\" title=\"Bulsatcom\">Bulsatcom</a>\n",
      "</td>, <td><a href=\"/wiki/Iridium_Communications\" title=\"Iridium Communications\">Iridium Communications</a>\n",
      "</td>, <td><a href=\"/wiki/Intelsat\" title=\"Intelsat\">Intelsat</a>\n",
      "</td>, <td><a href=\"/wiki/NASA\" title=\"NASA\">NASA</a> (<a href=\"/wiki/Commercial_Resupply_Services\" title=\"Commercial Resupply Services\">CRS</a>)\n",
      "</td>, <td><a class=\"mw-redirect\" href=\"/wiki/National_Space_Organization\" title=\"National Space Organization\">NSPO</a>\n",
      "</td>, <td><a href=\"/wiki/United_States_Air_Force\" title=\"United States Air Force\">USAF</a>\n",
      "</td>, <td><a href=\"/wiki/Iridium_Communications\" title=\"Iridium Communications\">Iridium Communications</a>\n",
      "</td>, <td><link href=\"mw-data:TemplateStyles:r1126788409\" rel=\"mw-deduplicated-inline-style\"/><div class=\"plainlist\">\n",
      "<ul><li><a href=\"/wiki/SES_S.A.\" title=\"SES S.A.\">SES S.A.</a></li>\n",
      "<li><a href=\"/wiki/EchoStar\" title=\"EchoStar\">EchoStar</a></li></ul>\n",
      "</div>\n",
      "</td>, <td><a href=\"/wiki/KT_Corporation\" title=\"KT Corporation\">KT Corporation</a>\n",
      "</td>, <td><a href=\"/wiki/NASA\" title=\"NASA\">NASA</a> (<a href=\"/wiki/Commercial_Resupply_Services\" title=\"Commercial Resupply Services\">CRS</a>)\n",
      "</td>, <td><a href=\"/wiki/Iridium_Communications\" title=\"Iridium Communications\">Iridium Communications</a>\n",
      "</td>, <td><a href=\"/wiki/Northrop_Grumman\" title=\"Northrop Grumman\">Northrop Grumman</a> <sup class=\"reference\" id=\"cite_ref-249\"><a href=\"#cite_note-249\">[f]</a></sup><sup class=\"reference\" id=\"cite_ref-zuma_246-2\"><a href=\"#cite_note-zuma-246\">[238]</a></sup>\n",
      "</td>, <td><a href=\"/wiki/SES_S.A.\" title=\"SES S.A.\">SES</a>\n",
      "</td>, <td><link href=\"mw-data:TemplateStyles:r1126788409\" rel=\"mw-deduplicated-inline-style\"/><div class=\"plainlist\">\n",
      "<ul><li><a href=\"/wiki/Hisdesat\" title=\"Hisdesat\">Hisdesat</a></li>\n",
      "<li><a href=\"/wiki/ExactEarth\" title=\"ExactEarth\">exactEarth</a></li>\n",
      "<li><a href=\"/wiki/SpaceX\" title=\"SpaceX\">SpaceX</a></li></ul>\n",
      "</div>\n",
      "</td>, <td><link href=\"mw-data:TemplateStyles:r1126788409\" rel=\"mw-deduplicated-inline-style\"/><div class=\"plainlist\">\n",
      "<ul><li><a href=\"/wiki/Hispasat\" title=\"Hispasat\">Hispasat</a><sup class=\"reference\" id=\"cite_ref-spx20150914_286-1\"><a href=\"#cite_note-spx20150914-286\">[277]</a></sup></li>\n",
      "<li><a href=\"/wiki/NovaWurks\" title=\"NovaWurks\">NovaWurks</a></li></ul>\n",
      "</div>\n",
      "</td>, <td><a href=\"/wiki/Iridium_Communications\" title=\"Iridium Communications\">Iridium Communications</a>\n",
      "</td>, <td><a href=\"/wiki/NASA\" title=\"NASA\">NASA</a> (<a href=\"/wiki/Commercial_Resupply_Services\" title=\"Commercial Resupply Services\">CRS</a>)\n",
      "</td>, <td><a href=\"/wiki/NASA\" title=\"NASA\">NASA</a> (<a class=\"mw-redirect\" href=\"/wiki/Launch_Services_Program\" title=\"Launch Services Program\">LSP</a>)\n",
      "</td>, <td><a href=\"/wiki/Thales_Alenia_Space\" title=\"Thales Alenia Space\">Thales-Alenia</a> / <a href=\"/wiki/Bangladesh_Telecommunication_Regulatory_Commission\" title=\"Bangladesh Telecommunication Regulatory Commission\">BTRC</a>\n",
      "</td>, <td><link href=\"mw-data:TemplateStyles:r1126788409\" rel=\"mw-deduplicated-inline-style\"/><div class=\"plainlist\">\n",
      "<ul><li><a href=\"/wiki/Iridium_Communications\" title=\"Iridium Communications\">Iridium Communications</a></li>\n",
      "<li><a href=\"/wiki/GFZ_German_Research_Centre_for_Geosciences\" title=\"GFZ German Research Centre for Geosciences\">GFZ</a> • <a href=\"/wiki/NASA\" title=\"NASA\">NASA</a></li></ul>\n",
      "</div>\n",
      "</td>, <td><a href=\"/wiki/SES_S.A.\" title=\"SES S.A.\">SES</a>\n",
      "</td>, <td><a href=\"/wiki/NASA\" title=\"NASA\">NASA</a> (<a href=\"/wiki/Commercial_Resupply_Services\" title=\"Commercial Resupply Services\">CRS</a>)\n",
      "</td>, <td><a href=\"/wiki/Telesat\" title=\"Telesat\">Telesat</a>\n",
      "</td>, <td><a href=\"/wiki/Iridium_Communications\" title=\"Iridium Communications\">Iridium Communications</a>\n",
      "</td>, <td><a href=\"/wiki/Telkom_Indonesia\" title=\"Telkom Indonesia\">Telkom Indonesia</a>\n",
      "</td>, <td><a href=\"/wiki/Telesat\" title=\"Telesat\">Telesat</a>\n",
      "</td>, <td><a href=\"/wiki/Comisi%C3%B3n_Nacional_de_Actividades_Espaciales\" title=\"Comisión Nacional de Actividades Espaciales\">CONAE</a>\n",
      "</td>, <td><a href=\"/wiki/Es%27hailSat\" title=\"Es'hailSat\">Es'hailSat</a>\n",
      "</td>, <td><a href=\"/wiki/Spaceflight_Industries\" title=\"Spaceflight Industries\">Spaceflight Industries</a>\n",
      "</td>, <td><a href=\"/wiki/NASA\" title=\"NASA\">NASA</a> (<a href=\"/wiki/Commercial_Resupply_Services\" title=\"Commercial Resupply Services\">CRS</a>)\n",
      "</td>, <td><a href=\"/wiki/United_States_Air_Force\" title=\"United States Air Force\">USAF</a>\n",
      "</td>, <td><a href=\"/wiki/Iridium_Communications\" title=\"Iridium Communications\">Iridium Communications</a>\n",
      "</td>, <td><link href=\"mw-data:TemplateStyles:r1126788409\" rel=\"mw-deduplicated-inline-style\"/><div class=\"plainlist\">\n",
      "<ul><li><a href=\"/wiki/PT_Pasifik_Satelit_Nusantara\" title=\"PT Pasifik Satelit Nusantara\">PSN</a></li>\n",
      "<li><a href=\"/wiki/SpaceIL\" title=\"SpaceIL\">SpaceIL</a> / <a href=\"/wiki/Israel_Aerospace_Industries\" title=\"Israel Aerospace Industries\">IAI</a></li>\n",
      "<li><a href=\"/wiki/Air_Force_Research_Laboratory\" title=\"Air Force Research Laboratory\">Air Force Research</a></li></ul>\n",
      "</div>\n",
      "</td>, <td><span class=\"nowrap\"> <a href=\"/wiki/NASA\" title=\"NASA\">NASA</a> (<a class=\"mw-redirect\" href=\"/wiki/Commercial_Crew_Development\" title=\"Commercial Crew Development\">CCD</a>) </span>\n",
      "</td>, <td><a href=\"/wiki/NASA\" title=\"NASA\">NASA</a> (<a href=\"/wiki/Commercial_Resupply_Services\" title=\"Commercial Resupply Services\">CRS</a>)\n",
      "</td>, <td><a href=\"/wiki/SpaceX\" title=\"SpaceX\">SpaceX</a>\n",
      "</td>, <td><a href=\"/wiki/Canadian_Space_Agency\" title=\"Canadian Space Agency\">Canadian Space Agency</a> (CSA)\n",
      "</td>, <td><a href=\"/wiki/NASA\" title=\"NASA\">NASA</a> (<a href=\"/wiki/Commercial_Resupply_Services\" title=\"Commercial Resupply Services\">CRS</a>)\n",
      "</td>, <td><a href=\"/wiki/Spacecom\" title=\"Spacecom\">Spacecom</a>\n",
      "</td>, <td><a href=\"/wiki/Spacecom\" title=\"Spacecom\">SpaceX</a>\n",
      "</td>, <td><a href=\"/wiki/NASA\" title=\"NASA\">NASA</a> (<a href=\"/wiki/Commercial_Resupply_Services\" title=\"Commercial Resupply Services\">CRS</a>)\n",
      "</td>, <td><a class=\"mw-redirect\" href=\"/wiki/SKY_Perfect_JSAT_Group\" title=\"SKY Perfect JSAT Group\">Sky Perfect JSAT</a><br/><a href=\"/wiki/Kacific_Broadband_Satellites\" title=\"Kacific Broadband Satellites\">Kacific 1</a>\n",
      "</td>, <td><a href=\"/wiki/SpaceX\" title=\"SpaceX\">SpaceX</a>\n",
      "</td>, <td><a href=\"/wiki/NASA\" title=\"NASA\">NASA</a> (<a class=\"mw-redirect\" href=\"/wiki/ISS_Crew_Transportation_Services\" title=\"ISS Crew Transportation Services\">CTS</a>)<sup class=\"reference\" id=\"cite_ref-CCD6_509-0\"><a href=\"#cite_note-CCD6-509\">[497]</a></sup>\n",
      "</td>, <td><a href=\"/wiki/SpaceX\" title=\"SpaceX\">SpaceX</a>\n",
      "</td>, <td><a href=\"/wiki/SpaceX\" title=\"SpaceX\">SpaceX</a>\n",
      "</td>, <td><a href=\"/wiki/NASA\" title=\"NASA\">NASA</a> (<a href=\"/wiki/Commercial_Resupply_Services\" title=\"Commercial Resupply Services\">CRS</a>)\n",
      "</td>, <td><a href=\"/wiki/SpaceX\" title=\"SpaceX\">SpaceX</a>\n",
      "</td>, <td><a href=\"/wiki/SpaceX\" title=\"SpaceX\">SpaceX</a>\n",
      "</td>, <td><a href=\"/wiki/NASA\" title=\"NASA\">NASA</a> (<a class=\"mw-redirect\" href=\"/wiki/Commercial_Crew_Development\" title=\"Commercial Crew Development\">CCDev</a>)\n",
      "</td>, <td><a href=\"/wiki/SpaceX\" title=\"SpaceX\">SpaceX</a>\n",
      "</td>, <td><a href=\"/wiki/SpaceX\" title=\"SpaceX\">SpaceX</a><br/><a href=\"/wiki/Planet_Labs\" title=\"Planet Labs\">Planet Labs</a>\n",
      "</td>, <td><a href=\"/wiki/United_States_Space_Force\" title=\"United States Space Force\">U.S. Space Force</a><sup class=\"reference\" id=\"cite_ref-clark-20200630_542-1\"><a href=\"#cite_note-clark-20200630-542\">[530]</a></sup>\n",
      "</td>, <td><a href=\"/wiki/Republic_of_Korea_Army\" title=\"Republic of Korea Army\">Republic of Korea Army</a>\n",
      "</td>, <td><a href=\"/wiki/SpaceX\" title=\"SpaceX\">SpaceX</a><br/><a href=\"/wiki/Spaceflight_Industries\" title=\"Spaceflight Industries\">Spaceflight Industries</a> (BlackSky)\n",
      "</td>, <td><a href=\"/wiki/SpaceX\" title=\"SpaceX\">SpaceX</a><br/><a href=\"/wiki/Planet_Labs\" title=\"Planet Labs\">Planet Labs</a>\n",
      "</td>, <td><a class=\"mw-redirect\" href=\"/wiki/CONAE\" title=\"CONAE\">CONAE</a><br/><a class=\"new\" href=\"/w/index.php?title=PlanetIQ&amp;action=edit&amp;redlink=1\" title=\"PlanetIQ (page does not exist)\">PlanetIQ</a><br/><a href=\"/wiki/Tyvak\" title=\"Tyvak\">Tyvak</a>\n",
      "</td>, <td><a href=\"/wiki/SpaceX\" title=\"SpaceX\">SpaceX</a>\n",
      "</td>, <td><a href=\"/wiki/SpaceX\" title=\"SpaceX\">SpaceX</a>\n",
      "</td>, <td><a href=\"/wiki/SpaceX\" title=\"SpaceX\">SpaceX</a>\n",
      "</td>, <td><a href=\"/wiki/SpaceX\" title=\"SpaceX\">SpaceX</a>\n",
      "</td>, <td><a href=\"/wiki/United_States_Space_Force\" title=\"United States Space Force\">USSF</a>\n",
      "</td>, <td><a href=\"/wiki/NASA\" title=\"NASA\">NASA</a> (<a href=\"/wiki/Commercial_Crew_Program\" title=\"Commercial Crew Program\">CCP</a>)<sup class=\"reference\" id=\"cite_ref-CCD6_509-1\"><a href=\"#cite_note-CCD6-509\">[497]</a></sup>\n",
      "</td>, <td><a href=\"/wiki/NASA\" title=\"NASA\">NASA</a> / <a class=\"mw-redirect\" href=\"/wiki/NOAA\" title=\"NOAA\">NOAA</a> / <a class=\"mw-redirect\" href=\"/wiki/ESA\" title=\"ESA\">ESA</a> / <a class=\"mw-redirect\" href=\"/wiki/EUMETSAT\" title=\"EUMETSAT\">EUMETSAT</a>\n",
      "</td>, <td><a href=\"/wiki/SpaceX\" title=\"SpaceX\">SpaceX</a>\n",
      "</td>, <td><a href=\"/wiki/NASA\" title=\"NASA\">NASA</a> (<a href=\"/wiki/Commercial_Resupply_Services\" title=\"Commercial Resupply Services\">CRS</a>)\n",
      "</td>, <td><a href=\"/wiki/Sirius_XM\" title=\"Sirius XM\">Sirius XM</a>\n",
      "</td>, <td><a href=\"/wiki/National_Reconnaissance_Office\" title=\"National Reconnaissance Office\">NRO</a>\n",
      "</td>, <td><a href=\"/wiki/T%C3%BCrksat_(company)\" title=\"Türksat (company)\">Türksat</a>\n",
      "</td>, <td><a href=\"/wiki/SpaceX\" title=\"SpaceX\">SpaceX</a>\n",
      "</td>, <td>Various\n",
      "</td>, <td><a href=\"/wiki/SpaceX\" title=\"SpaceX\">SpaceX</a>\n",
      "</td>, <td><a href=\"/wiki/SpaceX\" title=\"SpaceX\">SpaceX</a>\n",
      "</td>, <td><a href=\"/wiki/SpaceX\" title=\"SpaceX\">SpaceX</a>\n",
      "</td>, <td><a href=\"/wiki/SpaceX\" title=\"SpaceX\">SpaceX</a>\n",
      "</td>, <td><a href=\"/wiki/SpaceX\" title=\"SpaceX\">SpaceX</a>\n",
      "</td>, <td><a href=\"/wiki/SpaceX\" title=\"SpaceX\">SpaceX</a>\n",
      "</td>, <td><a href=\"/wiki/SpaceX\" title=\"SpaceX\">SpaceX</a>\n",
      "</td>, <td><a href=\"/wiki/NASA\" title=\"NASA\">NASA</a> (<a class=\"mw-redirect\" href=\"/wiki/ISS_Crew_Transportation_Services\" title=\"ISS Crew Transportation Services\">CTS</a>)<sup class=\"reference\" id=\"cite_ref-CCD6_509-2\"><a href=\"#cite_note-CCD6-509\">[497]</a></sup>\n",
      "</td>, <td><a href=\"/wiki/SpaceX\" title=\"SpaceX\">SpaceX</a>\n",
      "</td>, <td><a href=\"/wiki/SpaceX\" title=\"SpaceX\">SpaceX</a>\n",
      "</td>, <td><a href=\"/wiki/SpaceX\" title=\"SpaceX\">SpaceX</a>\n",
      "</td>, <td><a href=\"/wiki/SpaceX\" title=\"SpaceX\">SpaceX</a><br/> <a href=\"/wiki/Capella_Space\" title=\"Capella Space\">Capella Space</a> and <a href=\"/wiki/Tyvak\" title=\"Tyvak\">Tyvak</a>\n",
      "</td>, <td><a href=\"/wiki/SpaceX\" title=\"SpaceX\">SpaceX</a>\n",
      "</td>, <td><a href=\"/wiki/NASA\" title=\"NASA\">NASA</a> (<a href=\"/wiki/Commercial_Resupply_Services\" title=\"Commercial Resupply Services\">CRS</a>)\n",
      "</td>, <td><a href=\"/wiki/Sirius_XM\" title=\"Sirius XM\">Sirius XM</a>\n",
      "</td>], 'Launch outcome': ['Success\\n', 'Success', 'Success', 'Success\\n', 'Success\\n', 'Success', 'Success', 'Success', 'Success\\n', 'Success', 'Success', 'Success', 'Success', 'Success', 'Success\\n', 'Success\\n', 'Success\\n', 'Success\\n', 'Failure', 'Success\\n', 'Success\\n', 'Success\\n', 'Success', 'Success\\n', 'Success\\n', 'Success\\n', 'Success\\n', 'Success\\n', 'Success\\n', 'Success\\n', 'Success\\n', 'Success', 'Success\\n', 'Success\\n', 'Success\\n', 'Success\\n', 'Success\\n', 'Success\\n', 'Success\\n', 'Success\\n', 'Success\\n', 'Success\\n', 'Success\\n', 'Success\\n', 'Success\\n', 'Success', 'Success', 'Success', 'Success', 'Success', 'Success', 'Success', 'Success', 'Success', 'Success', 'Success', 'Success', 'Success', 'Success', 'Success', 'Success', 'Success', 'Success', 'Success', 'Success\\n', 'Success', 'Success\\n', 'Success\\n', 'Success\\n', 'Success\\n', 'Success\\n', 'Success\\n', 'Success\\n', 'Success\\n', 'Success\\n', 'Success\\n', 'Success\\n', 'Success\\n', 'Success\\n', 'Success\\n', 'Success\\n', 'Success\\n', 'Success\\n', 'Success\\n', 'Success\\n', 'Success\\n', 'Success\\n', 'Success\\n', 'Success\\n', 'Success\\n', 'Success\\n', 'Success\\n', 'Success\\n', 'Success\\n', 'Success\\n', 'Success\\n', 'Success\\n', 'Success\\n', 'Success\\n', 'Success\\n', 'Success\\n', 'Success\\n', 'Success\\n', 'Success\\n', 'Success\\n', 'Success\\n', 'Success\\n', 'Success\\n', 'Success\\n', 'Success\\n', 'Success\\n', 'Success\\n', 'Success\\n', 'Success\\n', 'Success\\n', 'Success\\n', 'Success\\n', 'Success\\n', 'Success\\n', 'Success\\n', 'Success\\n'], 'Version Booster': ['F9 v1.0B0003.1', 'F9 v1.0B0004.1', 'F9 v1.0B0005.1', 'F9 v1.0B0006.1', 'F9 v1.0B0007.1', 'F9 v1.1B1003', <td><a href=\"/wiki/Falcon_9_v1.1\" title=\"Falcon 9 v1.1\">F9 v1.1</a><br/>B1004\n",
      "</td>, <td><a href=\"/wiki/Falcon_9_v1.1\" title=\"Falcon 9 v1.1\">F9 v1.1</a>\n",
      "</td>, <td><a href=\"/wiki/Falcon_9_v1.1\" title=\"Falcon 9 v1.1\">F9 v1.1</a>\n",
      "</td>, <td><a href=\"/wiki/Falcon_9_v1.1\" title=\"Falcon 9 v1.1\">F9 v1.1</a>\n",
      "</td>, <td><a href=\"/wiki/Falcon_9_v1.1\" title=\"Falcon 9 v1.1\">F9 v1.1</a>\n",
      "</td>, 'F9 v1.1', 'F9 v1.1', 'F9 v1.1', 'F9 v1.1', 'F9 v1.1', 'F9 v1.1', 'F9 v1.1', 'F9 v1.1', 'F9 FT', 'F9 v1.1', 'F9 FT', 'F9 FT', 'F9 FT', 'F9 FT', 'F9 FT', 'F9 FT', 'F9 FT', 'F9 FT', 'F9 FT', 'F9 FT', 'F9 FT♺', 'F9 FT', 'F9 FT', 'F9 FT', 'F9 FTB1029.2', 'F9 FT', 'F9 FT', 'F9 B4', 'F9 FT', 'F9 B4', 'F9 B4', 'F9 FTB1031.2', 'F9 B4', 'F9 FTB1035.2', 'F9 FTB1036.2', 'F9 B4', 'F9 FTB1032.2', 'F9 FTB1038.2', 'F9 B4', 'F9 B4B1041.2', 'F9 B4B1039.2', 'F9 B4', 'F9 B5B1046.1', 'F9 B4B1043.2', 'F9 B4B1040.2', 'F9 B4B1045.2', 'F9 B5', 'F9 B5B1048', 'F9 B5B1046.2', 'F9 B5', 'F9 B5B1048.2', 'F9 B5B1047.2', 'F9 B5B1046.3', 'F9 B5', 'F9 B5', 'F9 B5B1049.2', 'F9 B5B1048.3', 'F9 B5[268]', 'F9 B5', 'F9 B5B1049.3', 'F9 B5B1051.2', 'F9 B5B1056.2', 'F9 B5B1047.3', 'F9 B5', 'F9 B5', 'F9 B5B1056.3', 'F9 B5', 'F9 B5', 'F9 B5', 'F9 B5', 'F9 B5', 'F9 B5', 'F9 B5', 'F9 B5', 'F9 B5', 'F9 B5', 'F9 B5', 'F9 B5B1058.2', 'F9 B5', 'F9 B5B1049.6', 'F9 B5', 'F9 B5B1060.2', 'F9 B5B1058.3', 'F9 B5B1051.6', 'F9 B5', 'F9 B5', 'F9 B5', 'F9 B5', 'F9 B5 ♺', 'F9 B5 ♺', 'F9 B5 ♺', 'F9 B5 ♺', 'F9 B5', 'F9 B5B1051.8', 'F9 B5B1058.5', 'F9 B5 ♺', 'F9 B5 ♺', 'F9 B5 ♺', 'F9 B5 ♺', 'F9 B5 ♺', 'F9 B5B1060.6', 'F9 B5 ♺', 'F9 B5B1061.2', 'F9 B5B1060.7', 'F9 B5B1049.9', 'F9 B5B1051.10', 'F9 B5B1058.8', 'F9 B5B1063.2', 'F9 B5B1067.1', 'F9 B5'], 'Booster landing': ['Failure', 'Failure', 'No attempt\\n', 'No attempt', 'No attempt\\n', 'Uncontrolled', 'No attempt', 'No attempt', 'Controlled', 'Controlled', 'No attempt', 'No attempt\\n', 'Uncontrolled', 'Failure ', 'Controlled', 'No attempt', 'Failure', 'No attempt', 'Precluded', 'Success', 'Failure', 'Failure', 'Success', 'Success', 'Success', 'Failure', 'Success', 'Success', 'Success', 'Success', 'No attempt', 'Success', 'Success', 'No attempt', 'Success', 'Success', 'Success', 'No attempt', 'Success', 'Success', 'Success', 'Success', 'Success', 'Success', 'Success', 'Controlled', 'Success', 'Controlled', 'No attempt', 'No attempt', 'No attempt', 'No attempt', 'Success', 'Success', 'No attempt', 'No attempt', 'No attempt', 'Success', 'Success', 'Success', 'Success', 'Success', 'Success', 'Success', 'Failure', 'No attempt', 'Success', 'Success', 'Success', 'Success', 'Success', 'Success', 'Success', 'No attempt', 'Success', 'Success', 'Success', 'Success', 'No attempt\\n', 'Success', 'Failure', 'Success', 'Failure', 'Success', 'Success', 'Success', 'Success', 'Success', 'Success', 'Success', 'Success', 'Success', 'Success', 'Success', 'Success', 'Success', 'Success', 'Success', 'Success', 'Success', 'Success', 'Success', 'Success', 'Success', 'Success', 'Success', 'Success', 'Failure', 'Success', 'Success', 'Success', 'Success', 'Success', 'Success', 'Success', 'Success', 'Success', 'Success', 'Success', 'Success', 'Success'], 'Date': ['4 June 2010', '8 December 2010', '22 May 2012', '8 October 2012', '1 March 2013', '29 September 2013', '3 December 2013', '6 January 2014', '18 April 2014', '14 July 2014', '5 August 2014', '7 September 2014', '21 September 2014', '10 January 2015', '11 February 2015', '2 March 2015', '14 April 2015', '27 April 2015', '28 June 2015', '22 December 2015', '17 January 2016', '4 March 2016', '8 April 2016', '6 May 2016', '27 May 2016', '15 June 2016', '18 July 2016', '14 August 2016', '14 January 2017', '19 February 2017', '16 March 2017', '30 March 2017', '1 May 2017', '15 May 2017', '3 June 2017', '23 June 2017', '25 June 2017', '5 July 2017', '14 August 2017', '24 August 2017', '7 September 2017', '9 October 2017', '11 October 2017', '30 October 2017', '15 December 2017', '23 December 2017', '8 January 2018', '31 January 2018', '22 February 2018', '6 March 2018', '30 March 2018', '2 April 2018', '18 April 2018', '11 May 2018', '22 May 2018', '4 June 2018', '29 June 2018', '22 July 2018', '25 July 2018', '7 August 2018', '10 September 2018', '8 October 2018', '15 November 2018', '3 December 2018', '5 December 2018', '23 December 2018', '11 January 2019', '22 February 2019', '2 March 2019', '4 May 2019', '24 May 2019', '12 June 2019', '25 July 2019', '6 August 2019', '11 November 2019', '5 December 2019', '17 December 2019', '7 January 2020', '19 January 2020', '29 January 2020', '17 February 2020', '7 March 2020', '18 March 2020', '22 April 2020', '30 May 2020', '4 June 2020', '13 June 2020', '30 June 2020', '20 July 2020', '7 August 2020', '18 August 2020', '30 August 2020', '3 September 2020', '6 October 2020', '18 October 2020', '24 October 2020', '5 November 2020', '16 November 2020', '21 November 2020', '25 November 2020', '6 December 2020', '13 December 2020', '19 December 2020', '8 January 2021', '20 January 2021', '24 January 2021', '4 February 2021', '16 February 2021', '4 March 2021', '11 March 2021', '14 March 2021', '24 March 2021', '7 April 2021', '23 April 2021', '29 April 2021', '4 May 2021', '9 May 2021', '15 May 2021', '26 May 2021', '3 June 2021', '6 June 2021'], 'Time': ['18:45', '15:43', '07:44', '00:35', '15:10', '16:00', '22:41', '22:06', '19:25', '15:15', '08:00', '05:00', '05:52', '09:47', '23:03', '03:50', '20:10', '23:03', '14:21', '01:29', '18:42', '23:35', '20:43', '05:21', '21:39', '14:29', '04:45', '05:26', '17:54', '14:39', '06:00', '22:27', '11:15', '23:21', '21:07', '19:10', '20:25', '23:38', '16:31', '18:51', '14:00', '12:37', '22:53:00', '19:34', '15:36', '01:27', '01:00', '21:25', '14:17', '05:33', '14:14', '20:30', '22:51', '20:14', '19:47', '04:45', '09:42', '05:50', '11:39', '05:18', '04:45', '02:22', '20:46', '18:34:05', '18:16', '13:51', '15:31', '01:45', '07:49', '06:48', '02:30', '14:17', '22:01', '23:23', '14:56', '17:29', '00:10', '02:19:21', '15:30', '14:07', '15:05', '04:50', '12:16', '19:30', '19:22', '01:25', '09:21', '20:10:46', '21:30', '05:12', '14:31', '23:18', '12:46:14', '11:29:34', '12:25:57', '15:31:34', '23:24:23', '00:27', '17:17:08', '02:13', '16:17:08', '17:30:00', '14:00:00', '02:15', '13:02', '15:00', '06:19', '03:59:37', '08:24', '08:13:29', '10:01', '08:28', '16:34', '9:49', '03:44', '19:01', '06:42', '22:56', '18:59', '17:29', '04:26']}\n"
     ]
    }
   ],
   "source": [
    "print(pad_dict_list(launch_dict, 0))"
   ],
   "metadata": {
    "collapsed": false,
    "ExecuteTime": {
     "start_time": "2023-04-01T11:54:46.725796Z",
     "end_time": "2023-04-01T11:54:46.804445Z"
    }
   }
  },
  {
   "cell_type": "markdown",
   "source": [
    "#### After you have fill in the parsed launch record values into launch_dict, you can create a dataframe from it."
   ],
   "metadata": {
    "collapsed": false
   }
  },
  {
   "cell_type": "code",
   "execution_count": 23,
   "outputs": [],
   "source": [
    "df = pd.DataFrame(launch_dict)"
   ],
   "metadata": {
    "collapsed": false,
    "ExecuteTime": {
     "start_time": "2023-04-01T11:57:31.168246Z",
     "end_time": "2023-04-01T11:57:31.183776Z"
    }
   }
  },
  {
   "cell_type": "code",
   "execution_count": 24,
   "outputs": [],
   "source": [
    "df.loc[:,'Flight No.'] = list(range(1, df.shape[0]+1))"
   ],
   "metadata": {
    "collapsed": false,
    "ExecuteTime": {
     "start_time": "2023-04-01T11:57:41.120199Z",
     "end_time": "2023-04-01T11:57:41.182641Z"
    }
   }
  },
  {
   "cell_type": "code",
   "execution_count": 25,
   "outputs": [
    {
     "data": {
      "text/plain": "     Flight No.                                Launch site  \\\n0             1             [[CCAFS], ,, [], [SLC-40], \\n]   \n1             2             [[CCAFS], ,, [], [SLC-40], \\n]   \n2             3             [[CCAFS], ,, [], [SLC-40], \\n]   \n3             4             [[CCAFS], ,, [], [SLC-40], \\n]   \n4             5             [[CCAFS], ,, [], [SLC-40], \\n]   \n..          ...                                        ...   \n116         117             [[CCSFS], ,, [], [SLC-40], \\n]   \n117         118    [[KSC], ,, [], [LC-39A], [[[661]]], \\n]   \n118         119  [[CCSFS], ,, [], [SLC-40], [[[665]]], \\n]   \n119         120               [[KSC], ,, [], [LC-39A], \\n]   \n120         121             [[CCSFS], ,, [], [SLC-40], \\n]   \n\n                                               Payload Payload mass  \\\n0         [[Dragon Spacecraft Qualification Unit], \\n]            0   \n1    [[Dragon],  , [demo flight C1], [], (Dragon C1...            0   \n2    [[Dragon],  , [demo flight C2+], [[[18]]], [],...       525 kg   \n3      [[SpaceX CRS-1], [[[22]]], [], (Dragon C103)\\n]     4,700 kg   \n4      [[SpaceX CRS-2], [[[22]]], [], (Dragon C104)\\n]     4,877 kg   \n..                                                 ...          ...   \n116           [[Starlink],  27 v1.0 (60 satellites)\\n]    15,600 kg   \n117  [[Starlink],  26 v1.0 (52 Satellites), [],  , ...   ~14,000 kg   \n118  [[Starlink],  28 v1.0 (60 Satellites), [[[665]...    15,600 kg   \n119     [[SpaceX CRS-22], [], (, [Dragon C209.1], )\\n]     3,328 kg   \n120                           [[SXM-8], [[[674]]], \\n]     7,000 kg   \n\n                       Orbit  \\\n0                [[LEO], \\n]   \n1    [[LEO],  (, [ISS], )\\n]   \n2    [[LEO],  (, [ISS], )\\n]   \n3    [[LEO],  (, [ISS], )\\n]   \n4    [[LEO],  (, [ISS], )\\n]   \n..                       ...   \n116              [[LEO], \\n]   \n117              [[LEO], \\n]   \n118              [[LEO], \\n]   \n119  [[LEO],  (, [ISS], )\\n]   \n120              [[GTO], \\n]   \n\n                                              Customer Launch outcome  \\\n0                                       [[SpaceX], \\n]      Success\\n   \n1    [[.mw-parser-output .plainlist ol,.mw-parser-o...        Success   \n2                            [[NASA],  (, [COTS], )\\n]        Success   \n3                             [[NASA],  (, [CRS], )\\n]      Success\\n   \n4                             [[NASA],  (, [CRS], )\\n]      Success\\n   \n..                                                 ...            ...   \n116                                     [[SpaceX], \\n]      Success\\n   \n117  [[SpaceX], [],  , [Capella Space],  and , [Tyv...      Success\\n   \n118                                     [[SpaceX], \\n]      Success\\n   \n119                           [[NASA],  (, [CRS], )\\n]      Success\\n   \n120                                  [[Sirius XM], \\n]      Success\\n   \n\n    Version Booster Booster landing             Date   Time  \n0    F9 v1.0B0003.1         Failure      4 June 2010  18:45  \n1    F9 v1.0B0004.1         Failure  8 December 2010  15:43  \n2    F9 v1.0B0005.1    No attempt\\n      22 May 2012  07:44  \n3    F9 v1.0B0006.1      No attempt   8 October 2012  00:35  \n4    F9 v1.0B0007.1    No attempt\\n     1 March 2013  15:10  \n..              ...             ...              ...    ...  \n116   F9 B5B1051.10         Success       9 May 2021  06:42  \n117    F9 B5B1058.8         Success      15 May 2021  22:56  \n118    F9 B5B1063.2         Success      26 May 2021  18:59  \n119    F9 B5B1067.1         Success      3 June 2021  17:29  \n120           F9 B5         Success      6 June 2021  04:26  \n\n[121 rows x 11 columns]",
      "text/html": "<div>\n<style scoped>\n    .dataframe tbody tr th:only-of-type {\n        vertical-align: middle;\n    }\n\n    .dataframe tbody tr th {\n        vertical-align: top;\n    }\n\n    .dataframe thead th {\n        text-align: right;\n    }\n</style>\n<table border=\"1\" class=\"dataframe\">\n  <thead>\n    <tr style=\"text-align: right;\">\n      <th></th>\n      <th>Flight No.</th>\n      <th>Launch site</th>\n      <th>Payload</th>\n      <th>Payload mass</th>\n      <th>Orbit</th>\n      <th>Customer</th>\n      <th>Launch outcome</th>\n      <th>Version Booster</th>\n      <th>Booster landing</th>\n      <th>Date</th>\n      <th>Time</th>\n    </tr>\n  </thead>\n  <tbody>\n    <tr>\n      <th>0</th>\n      <td>1</td>\n      <td>[[CCAFS], ,, [], [SLC-40], \\n]</td>\n      <td>[[Dragon Spacecraft Qualification Unit], \\n]</td>\n      <td>0</td>\n      <td>[[LEO], \\n]</td>\n      <td>[[SpaceX], \\n]</td>\n      <td>Success\\n</td>\n      <td>F9 v1.0B0003.1</td>\n      <td>Failure</td>\n      <td>4 June 2010</td>\n      <td>18:45</td>\n    </tr>\n    <tr>\n      <th>1</th>\n      <td>2</td>\n      <td>[[CCAFS], ,, [], [SLC-40], \\n]</td>\n      <td>[[Dragon],  , [demo flight C1], [], (Dragon C1...</td>\n      <td>0</td>\n      <td>[[LEO],  (, [ISS], )\\n]</td>\n      <td>[[.mw-parser-output .plainlist ol,.mw-parser-o...</td>\n      <td>Success</td>\n      <td>F9 v1.0B0004.1</td>\n      <td>Failure</td>\n      <td>8 December 2010</td>\n      <td>15:43</td>\n    </tr>\n    <tr>\n      <th>2</th>\n      <td>3</td>\n      <td>[[CCAFS], ,, [], [SLC-40], \\n]</td>\n      <td>[[Dragon],  , [demo flight C2+], [[[18]]], [],...</td>\n      <td>525 kg</td>\n      <td>[[LEO],  (, [ISS], )\\n]</td>\n      <td>[[NASA],  (, [COTS], )\\n]</td>\n      <td>Success</td>\n      <td>F9 v1.0B0005.1</td>\n      <td>No attempt\\n</td>\n      <td>22 May 2012</td>\n      <td>07:44</td>\n    </tr>\n    <tr>\n      <th>3</th>\n      <td>4</td>\n      <td>[[CCAFS], ,, [], [SLC-40], \\n]</td>\n      <td>[[SpaceX CRS-1], [[[22]]], [], (Dragon C103)\\n]</td>\n      <td>4,700 kg</td>\n      <td>[[LEO],  (, [ISS], )\\n]</td>\n      <td>[[NASA],  (, [CRS], )\\n]</td>\n      <td>Success\\n</td>\n      <td>F9 v1.0B0006.1</td>\n      <td>No attempt</td>\n      <td>8 October 2012</td>\n      <td>00:35</td>\n    </tr>\n    <tr>\n      <th>4</th>\n      <td>5</td>\n      <td>[[CCAFS], ,, [], [SLC-40], \\n]</td>\n      <td>[[SpaceX CRS-2], [[[22]]], [], (Dragon C104)\\n]</td>\n      <td>4,877 kg</td>\n      <td>[[LEO],  (, [ISS], )\\n]</td>\n      <td>[[NASA],  (, [CRS], )\\n]</td>\n      <td>Success\\n</td>\n      <td>F9 v1.0B0007.1</td>\n      <td>No attempt\\n</td>\n      <td>1 March 2013</td>\n      <td>15:10</td>\n    </tr>\n    <tr>\n      <th>...</th>\n      <td>...</td>\n      <td>...</td>\n      <td>...</td>\n      <td>...</td>\n      <td>...</td>\n      <td>...</td>\n      <td>...</td>\n      <td>...</td>\n      <td>...</td>\n      <td>...</td>\n      <td>...</td>\n    </tr>\n    <tr>\n      <th>116</th>\n      <td>117</td>\n      <td>[[CCSFS], ,, [], [SLC-40], \\n]</td>\n      <td>[[Starlink],  27 v1.0 (60 satellites)\\n]</td>\n      <td>15,600 kg</td>\n      <td>[[LEO], \\n]</td>\n      <td>[[SpaceX], \\n]</td>\n      <td>Success\\n</td>\n      <td>F9 B5B1051.10</td>\n      <td>Success</td>\n      <td>9 May 2021</td>\n      <td>06:42</td>\n    </tr>\n    <tr>\n      <th>117</th>\n      <td>118</td>\n      <td>[[KSC], ,, [], [LC-39A], [[[661]]], \\n]</td>\n      <td>[[Starlink],  26 v1.0 (52 Satellites), [],  , ...</td>\n      <td>~14,000 kg</td>\n      <td>[[LEO], \\n]</td>\n      <td>[[SpaceX], [],  , [Capella Space],  and , [Tyv...</td>\n      <td>Success\\n</td>\n      <td>F9 B5B1058.8</td>\n      <td>Success</td>\n      <td>15 May 2021</td>\n      <td>22:56</td>\n    </tr>\n    <tr>\n      <th>118</th>\n      <td>119</td>\n      <td>[[CCSFS], ,, [], [SLC-40], [[[665]]], \\n]</td>\n      <td>[[Starlink],  28 v1.0 (60 Satellites), [[[665]...</td>\n      <td>15,600 kg</td>\n      <td>[[LEO], \\n]</td>\n      <td>[[SpaceX], \\n]</td>\n      <td>Success\\n</td>\n      <td>F9 B5B1063.2</td>\n      <td>Success</td>\n      <td>26 May 2021</td>\n      <td>18:59</td>\n    </tr>\n    <tr>\n      <th>119</th>\n      <td>120</td>\n      <td>[[KSC], ,, [], [LC-39A], \\n]</td>\n      <td>[[SpaceX CRS-22], [], (, [Dragon C209.1], )\\n]</td>\n      <td>3,328 kg</td>\n      <td>[[LEO],  (, [ISS], )\\n]</td>\n      <td>[[NASA],  (, [CRS], )\\n]</td>\n      <td>Success\\n</td>\n      <td>F9 B5B1067.1</td>\n      <td>Success</td>\n      <td>3 June 2021</td>\n      <td>17:29</td>\n    </tr>\n    <tr>\n      <th>120</th>\n      <td>121</td>\n      <td>[[CCSFS], ,, [], [SLC-40], \\n]</td>\n      <td>[[SXM-8], [[[674]]], \\n]</td>\n      <td>7,000 kg</td>\n      <td>[[GTO], \\n]</td>\n      <td>[[Sirius XM], \\n]</td>\n      <td>Success\\n</td>\n      <td>F9 B5</td>\n      <td>Success</td>\n      <td>6 June 2021</td>\n      <td>04:26</td>\n    </tr>\n  </tbody>\n</table>\n<p>121 rows × 11 columns</p>\n</div>"
     },
     "execution_count": 25,
     "metadata": {},
     "output_type": "execute_result"
    }
   ],
   "source": [
    "df"
   ],
   "metadata": {
    "collapsed": false,
    "ExecuteTime": {
     "start_time": "2023-04-01T11:57:48.119584Z",
     "end_time": "2023-04-01T11:57:48.213854Z"
    }
   }
  },
  {
   "cell_type": "markdown",
   "source": [
    "We can now export it to a CSV for the next section, but to make the answers consistent and in case you have difficulties finishing this lab.\n",
    "\n",
    "Following labs will be using a provided dataset to make each lab independent.\n",
    "\n",
    "### df.to_csv('spacex_web_scraped.csv', index=False)"
   ],
   "metadata": {
    "collapsed": false
   }
  },
  {
   "cell_type": "code",
   "execution_count": null,
   "outputs": [],
   "source": [],
   "metadata": {
    "collapsed": false
   }
  }
 ],
 "metadata": {
  "kernelspec": {
   "display_name": "Python 3",
   "language": "python",
   "name": "python3"
  },
  "language_info": {
   "codemirror_mode": {
    "name": "ipython",
    "version": 2
   },
   "file_extension": ".py",
   "mimetype": "text/x-python",
   "name": "python",
   "nbconvert_exporter": "python",
   "pygments_lexer": "ipython2",
   "version": "2.7.6"
  }
 },
 "nbformat": 4,
 "nbformat_minor": 0
}
