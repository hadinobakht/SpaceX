{
 "cells": [
  {
   "cell_type": "markdown",
   "source": [
    "# **Launch Sites Locations Analysis with Folium**\n",
    "The launch success rate may depend on many factors such as payload mass, orbit type, and so on. It may also depend on the location and proximities of a launch site, i.e., the initial position of rocket trajectories. Finding an optimal location for building a launch site certainly involves many factors and hopefully we could discover some of the factors by analyzing the existing launch site locations.\n",
    "\n",
    "In the previous exploratory data analysis labs, you have visualized the SpaceX launch dataset using matplotlib and seaborn and discovered some preliminary correlations between the launch site and success rates. In this lab, you will be performing more interactive visual analytics using Folium."
   ],
   "metadata": {
    "collapsed": false
   }
  },
  {
   "cell_type": "markdown",
   "source": [
    "## Objectives\n",
    "This lab contains the following tasks:\n",
    "\n",
    "*   **TASK 1:** Mark all launch sites on a map\n",
    "*   **TASK 2:** Mark the success/failed launches for each site on the map\n",
    "*   **TASK 3:** Calculate the distances between a launch site to its proximities\n",
    "\n",
    "After completed the above tasks, you should be able to find some geographical patterns about launch sites.\n",
    "\n",
    "Let's first import required Python packages for this lab:"
   ],
   "metadata": {
    "collapsed": false
   }
  },
  {
   "cell_type": "code",
   "execution_count": 1,
   "outputs": [
    {
     "name": "stdout",
     "output_type": "stream",
     "text": [
      "Requirement already satisfied: folium in c:\\users\\hadin\\anaconda3\\lib\\site-packages (0.14.0)\n",
      "Requirement already satisfied: branca>=0.6.0 in c:\\users\\hadin\\anaconda3\\lib\\site-packages (from folium) (0.6.0)\n",
      "Requirement already satisfied: numpy in c:\\users\\hadin\\anaconda3\\lib\\site-packages (from folium) (1.21.5)\n",
      "Requirement already satisfied: requests in c:\\users\\hadin\\anaconda3\\lib\\site-packages (from folium) (2.28.1)\n",
      "Requirement already satisfied: jinja2>=2.9 in c:\\users\\hadin\\anaconda3\\lib\\site-packages (from folium) (2.11.3)\n",
      "Requirement already satisfied: MarkupSafe>=0.23 in c:\\users\\hadin\\anaconda3\\lib\\site-packages (from jinja2>=2.9->folium) (2.0.1)\n",
      "Requirement already satisfied: urllib3<1.27,>=1.21.1 in c:\\users\\hadin\\anaconda3\\lib\\site-packages (from requests->folium) (1.26.11)\n",
      "Requirement already satisfied: charset-normalizer<3,>=2 in c:\\users\\hadin\\anaconda3\\lib\\site-packages (from requests->folium) (2.0.4)\n",
      "Requirement already satisfied: certifi>=2017.4.17 in c:\\users\\hadin\\anaconda3\\lib\\site-packages (from requests->folium) (2022.9.14)\n",
      "Requirement already satisfied: idna<4,>=2.5 in c:\\users\\hadin\\anaconda3\\lib\\site-packages (from requests->folium) (3.3)\n"
     ]
    }
   ],
   "source": [
    "!pip install folium"
   ],
   "metadata": {
    "collapsed": false,
    "ExecuteTime": {
     "start_time": "2023-04-01T14:51:46.578822Z",
     "end_time": "2023-04-01T14:51:51.082695Z"
    }
   }
  },
  {
   "cell_type": "code",
   "execution_count": 2,
   "outputs": [],
   "source": [
    "import folium\n",
    "import pandas as pd"
   ],
   "metadata": {
    "collapsed": false,
    "ExecuteTime": {
     "start_time": "2023-04-01T14:51:57.051224Z",
     "end_time": "2023-04-01T14:51:58.200773Z"
    }
   }
  },
  {
   "cell_type": "code",
   "execution_count": 3,
   "outputs": [],
   "source": [
    "# Import folium MarkerCluster plugin\n",
    "from folium.plugins import MarkerCluster\n",
    "# Import folium MousePosition plugin\n",
    "from folium.plugins import MousePosition\n",
    "# Import folium DivIcon plugin\n",
    "from folium.features import DivIcon"
   ],
   "metadata": {
    "collapsed": false,
    "ExecuteTime": {
     "start_time": "2023-04-01T14:52:06.106804Z",
     "end_time": "2023-04-01T14:52:06.282369Z"
    }
   }
  },
  {
   "cell_type": "markdown",
   "source": [
    "If you need to refresh your memory about folium, you may download and refer to this previous folium lab:"
   ],
   "metadata": {
    "collapsed": false
   }
  },
  {
   "cell_type": "markdown",
   "source": [
    "## Task 1: Mark all launch sites on a map\n",
    "First, let's try to add each site's location on a map using site's latitude and longitude coordinates\n",
    "\n",
    "The following dataset with the name spacex_launch_geo.csv is an augmented dataset with latitude and longitude added for each site."
   ],
   "metadata": {
    "collapsed": false
   }
  },
  {
   "cell_type": "code",
   "execution_count": 4,
   "outputs": [
    {
     "name": "stdout",
     "output_type": "stream",
     "text": [
      "Requirement already satisfied: js in c:\\users\\hadin\\anaconda3\\lib\\site-packages (1.0)\n",
      "Requirement already satisfied: fanstatic in c:\\users\\hadin\\anaconda3\\lib\\site-packages (from js) (1.3)\n",
      "Requirement already satisfied: setuptools in c:\\users\\hadin\\anaconda3\\lib\\site-packages (from js) (63.4.1)\n",
      "Requirement already satisfied: WebOb>=1.2 in c:\\users\\hadin\\anaconda3\\lib\\site-packages (from fanstatic->js) (1.8.7)\n",
      "Collecting fetch\n",
      "  Using cached fetch-0.0.tar.gz (7.3 kB)\n",
      "  Preparing metadata (setup.py): started\n",
      "  Preparing metadata (setup.py): finished with status 'error'\n"
     ]
    },
    {
     "name": "stderr",
     "output_type": "stream",
     "text": [
      "  error: subprocess-exited-with-error\n",
      "  \n",
      "  python setup.py egg_info did not run successfully.\n",
      "  exit code: 1\n",
      "  \n",
      "  [6 lines of output]\n",
      "  Traceback (most recent call last):\n",
      "    File \"<string>\", line 2, in <module>\n",
      "    File \"<pip-setuptools-caller>\", line 34, in <module>\n",
      "    File \"C:\\Users\\hadin\\AppData\\Local\\Temp\\pip-install-fnnt41xb\\fetch_1227eafb43e24e4abdb1971f6bf38fbc\\setup.py\", line 6, in <module>\n",
      "      description = file(os.path.join(here, 'README.txt')).read()\n",
      "  NameError: name 'file' is not defined\n",
      "  [end of output]\n",
      "  \n",
      "  note: This error originates from a subprocess, and is likely not a problem with pip.\n",
      "error: metadata-generation-failed\n",
      "\n",
      "Encountered error while generating package metadata.\n",
      "\n",
      "See above for output.\n",
      "\n",
      "note: This is an issue with the package mentioned above, not pip.\n",
      "hint: See above for details.\n"
     ]
    }
   ],
   "source": [
    "!pip install js\n",
    "!pip install fetch"
   ],
   "metadata": {
    "collapsed": false,
    "ExecuteTime": {
     "start_time": "2023-04-01T14:52:41.663575Z",
     "end_time": "2023-04-01T14:52:48.599097Z"
    }
   }
  },
  {
   "cell_type": "code",
   "execution_count": 5,
   "outputs": [
    {
     "ename": "ModuleNotFoundError",
     "evalue": "No module named 'fetch_import'",
     "output_type": "error",
     "traceback": [
      "\u001B[1;31m---------------------------------------------------------------------------\u001B[0m",
      "\u001B[1;31mModuleNotFoundError\u001B[0m                       Traceback (most recent call last)",
      "\u001B[1;32m~\\AppData\\Local\\Temp\\ipykernel_14712\\1705547178.py\u001B[0m in \u001B[0;36m<module>\u001B[1;34m\u001B[0m\n\u001B[1;32m----> 1\u001B[1;33m \u001B[1;32mimport\u001B[0m \u001B[0mfetch_import\u001B[0m\u001B[1;33m\u001B[0m\u001B[1;33m\u001B[0m\u001B[0m\n\u001B[0m",
      "\u001B[1;31mModuleNotFoundError\u001B[0m: No module named 'fetch_import'"
     ]
    }
   ],
   "source": [
    "import fetch_import"
   ],
   "metadata": {
    "collapsed": false
   }
  },
  {
   "cell_type": "code",
   "execution_count": 6,
   "outputs": [],
   "source": [
    "# Download and read the `spacex_launch_geo.csv`\n",
    "#from js import fetch\n",
    "import io\n",
    "\n",
    "URL = 'https://cf-courses-data.s3.us.cloud-object-storage.appdomain.cloud/IBM-DS0321EN-SkillsNetwork/datasets/spacex_launch_geo.csv'\n",
    "#resp = await fetch(URL)\n",
    "#spacex_csv_file = io.BytesIO((await resp.arrayBuffer()).to_py())\n",
    "#spacex_df=pd.read_csv('sspacex_csv_file.csv')"
   ],
   "metadata": {
    "collapsed": false,
    "ExecuteTime": {
     "start_time": "2023-04-01T14:53:12.781788Z",
     "end_time": "2023-04-01T14:53:12.797454Z"
    }
   }
  },
  {
   "cell_type": "code",
   "execution_count": 7,
   "outputs": [],
   "source": [
    "import os"
   ],
   "metadata": {
    "collapsed": false,
    "ExecuteTime": {
     "start_time": "2023-04-01T14:53:22.002268Z",
     "end_time": "2023-04-01T14:53:22.033546Z"
    }
   }
  },
  {
   "cell_type": "code",
   "execution_count": 8,
   "outputs": [
    {
     "data": {
      "text/plain": "'C:\\\\Projects\\\\Data Science - Applied\\\\IBM - Applied Data Science Capstone'"
     },
     "execution_count": 8,
     "metadata": {},
     "output_type": "execute_result"
    }
   ],
   "source": [
    "os.getcwd()"
   ],
   "metadata": {
    "collapsed": false,
    "ExecuteTime": {
     "start_time": "2023-04-01T14:53:27.333046Z",
     "end_time": "2023-04-01T14:53:27.395263Z"
    }
   }
  },
  {
   "cell_type": "code",
   "execution_count": 10,
   "outputs": [],
   "source": [
    "spacex_df=pd.read_csv('spacex_launch_geo.csv')"
   ],
   "metadata": {
    "collapsed": false,
    "ExecuteTime": {
     "start_time": "2023-04-01T14:55:06.980571Z",
     "end_time": "2023-04-01T14:55:07.012280Z"
    }
   }
  },
  {
   "cell_type": "code",
   "execution_count": 11,
   "outputs": [
    {
     "data": {
      "text/plain": "   Flight Number        Date Time (UTC) Booster Version  Launch Site  \\\n0              1  2010-06-04   18:45:00  F9 v1.0  B0003  CCAFS LC-40   \n1              2  2010-12-08   15:43:00  F9 v1.0  B0004  CCAFS LC-40   \n2              3  2012-05-22    7:44:00  F9 v1.0  B0005  CCAFS LC-40   \n3              4  2012-10-08    0:35:00  F9 v1.0  B0006  CCAFS LC-40   \n4              5  2013-03-01   15:10:00  F9 v1.0  B0007  CCAFS LC-40   \n\n                                             Payload  Payload Mass (kg)  \\\n0               Dragon Spacecraft Qualification Unit                0.0   \n1  Dragon demo flight C1, two CubeSats,  barrel o...                0.0   \n2                             Dragon demo flight C2+              525.0   \n3                                       SpaceX CRS-1              500.0   \n4                                       SpaceX CRS-2              677.0   \n\n       Orbit         Customer        Landing Outcome  class        Lat  \\\n0        LEO           SpaceX  Failure   (parachute)      0  28.562302   \n1  LEO (ISS)  NASA (COTS) NRO  Failure   (parachute)      0  28.562302   \n2  LEO (ISS)      NASA (COTS)             No attempt      0  28.562302   \n3  LEO (ISS)       NASA (CRS)             No attempt      0  28.562302   \n4  LEO (ISS)       NASA (CRS)             No attempt      0  28.562302   \n\n        Long  \n0 -80.577356  \n1 -80.577356  \n2 -80.577356  \n3 -80.577356  \n4 -80.577356  ",
      "text/html": "<div>\n<style scoped>\n    .dataframe tbody tr th:only-of-type {\n        vertical-align: middle;\n    }\n\n    .dataframe tbody tr th {\n        vertical-align: top;\n    }\n\n    .dataframe thead th {\n        text-align: right;\n    }\n</style>\n<table border=\"1\" class=\"dataframe\">\n  <thead>\n    <tr style=\"text-align: right;\">\n      <th></th>\n      <th>Flight Number</th>\n      <th>Date</th>\n      <th>Time (UTC)</th>\n      <th>Booster Version</th>\n      <th>Launch Site</th>\n      <th>Payload</th>\n      <th>Payload Mass (kg)</th>\n      <th>Orbit</th>\n      <th>Customer</th>\n      <th>Landing Outcome</th>\n      <th>class</th>\n      <th>Lat</th>\n      <th>Long</th>\n    </tr>\n  </thead>\n  <tbody>\n    <tr>\n      <th>0</th>\n      <td>1</td>\n      <td>2010-06-04</td>\n      <td>18:45:00</td>\n      <td>F9 v1.0  B0003</td>\n      <td>CCAFS LC-40</td>\n      <td>Dragon Spacecraft Qualification Unit</td>\n      <td>0.0</td>\n      <td>LEO</td>\n      <td>SpaceX</td>\n      <td>Failure   (parachute)</td>\n      <td>0</td>\n      <td>28.562302</td>\n      <td>-80.577356</td>\n    </tr>\n    <tr>\n      <th>1</th>\n      <td>2</td>\n      <td>2010-12-08</td>\n      <td>15:43:00</td>\n      <td>F9 v1.0  B0004</td>\n      <td>CCAFS LC-40</td>\n      <td>Dragon demo flight C1, two CubeSats,  barrel o...</td>\n      <td>0.0</td>\n      <td>LEO (ISS)</td>\n      <td>NASA (COTS) NRO</td>\n      <td>Failure   (parachute)</td>\n      <td>0</td>\n      <td>28.562302</td>\n      <td>-80.577356</td>\n    </tr>\n    <tr>\n      <th>2</th>\n      <td>3</td>\n      <td>2012-05-22</td>\n      <td>7:44:00</td>\n      <td>F9 v1.0  B0005</td>\n      <td>CCAFS LC-40</td>\n      <td>Dragon demo flight C2+</td>\n      <td>525.0</td>\n      <td>LEO (ISS)</td>\n      <td>NASA (COTS)</td>\n      <td>No attempt</td>\n      <td>0</td>\n      <td>28.562302</td>\n      <td>-80.577356</td>\n    </tr>\n    <tr>\n      <th>3</th>\n      <td>4</td>\n      <td>2012-10-08</td>\n      <td>0:35:00</td>\n      <td>F9 v1.0  B0006</td>\n      <td>CCAFS LC-40</td>\n      <td>SpaceX CRS-1</td>\n      <td>500.0</td>\n      <td>LEO (ISS)</td>\n      <td>NASA (CRS)</td>\n      <td>No attempt</td>\n      <td>0</td>\n      <td>28.562302</td>\n      <td>-80.577356</td>\n    </tr>\n    <tr>\n      <th>4</th>\n      <td>5</td>\n      <td>2013-03-01</td>\n      <td>15:10:00</td>\n      <td>F9 v1.0  B0007</td>\n      <td>CCAFS LC-40</td>\n      <td>SpaceX CRS-2</td>\n      <td>677.0</td>\n      <td>LEO (ISS)</td>\n      <td>NASA (CRS)</td>\n      <td>No attempt</td>\n      <td>0</td>\n      <td>28.562302</td>\n      <td>-80.577356</td>\n    </tr>\n  </tbody>\n</table>\n</div>"
     },
     "execution_count": 11,
     "metadata": {},
     "output_type": "execute_result"
    }
   ],
   "source": [
    "spacex_df.head()"
   ],
   "metadata": {
    "collapsed": false,
    "ExecuteTime": {
     "start_time": "2023-04-01T14:55:27.832985Z",
     "end_time": "2023-04-01T14:55:27.927759Z"
    }
   }
  },
  {
   "cell_type": "markdown",
   "source": [
    "Now, you can take a look at what are the coordinates for each site."
   ],
   "metadata": {
    "collapsed": false
   }
  },
  {
   "cell_type": "code",
   "execution_count": 12,
   "outputs": [
    {
     "data": {
      "text/plain": "    Launch Site        Lat        Long\n0   CCAFS LC-40  28.562302  -80.577356\n1  CCAFS SLC-40  28.563197  -80.576820\n2    KSC LC-39A  28.573255  -80.646895\n3   VAFB SLC-4E  34.632834 -120.610746",
      "text/html": "<div>\n<style scoped>\n    .dataframe tbody tr th:only-of-type {\n        vertical-align: middle;\n    }\n\n    .dataframe tbody tr th {\n        vertical-align: top;\n    }\n\n    .dataframe thead th {\n        text-align: right;\n    }\n</style>\n<table border=\"1\" class=\"dataframe\">\n  <thead>\n    <tr style=\"text-align: right;\">\n      <th></th>\n      <th>Launch Site</th>\n      <th>Lat</th>\n      <th>Long</th>\n    </tr>\n  </thead>\n  <tbody>\n    <tr>\n      <th>0</th>\n      <td>CCAFS LC-40</td>\n      <td>28.562302</td>\n      <td>-80.577356</td>\n    </tr>\n    <tr>\n      <th>1</th>\n      <td>CCAFS SLC-40</td>\n      <td>28.563197</td>\n      <td>-80.576820</td>\n    </tr>\n    <tr>\n      <th>2</th>\n      <td>KSC LC-39A</td>\n      <td>28.573255</td>\n      <td>-80.646895</td>\n    </tr>\n    <tr>\n      <th>3</th>\n      <td>VAFB SLC-4E</td>\n      <td>34.632834</td>\n      <td>-120.610746</td>\n    </tr>\n  </tbody>\n</table>\n</div>"
     },
     "execution_count": 12,
     "metadata": {},
     "output_type": "execute_result"
    }
   ],
   "source": [
    "# Select relevant sub-columns: `Launch Site`, `Lat(Latitude)`, `Long(Longitude)`, `class`\n",
    "spacex_df = spacex_df[['Launch Site', 'Lat', 'Long', 'class']]\n",
    "launch_sites_df = spacex_df.groupby(['Launch Site'], as_index=False).first()\n",
    "launch_sites_df = launch_sites_df[['Launch Site', 'Lat', 'Long']]\n",
    "launch_sites_df"
   ],
   "metadata": {
    "collapsed": false,
    "ExecuteTime": {
     "start_time": "2023-04-01T14:55:46.053659Z",
     "end_time": "2023-04-01T14:55:46.100550Z"
    }
   }
  },
  {
   "cell_type": "markdown",
   "source": [
    "Above coordinates are just plain numbers that can not give you any intuitive insights about where are those launch sites. If you are very good at geography, you can interpret those numbers directly in your mind. If not, that's fine too. Let's visualize those locations by pinning them on a map.\n",
    "\n",
    "\n",
    "We first need to create a folium Map object, with an initial center location to be NASA Johnson Space Center at Houston, Texas."
   ],
   "metadata": {
    "collapsed": false
   }
  },
  {
   "cell_type": "code",
   "execution_count": 13,
   "outputs": [],
   "source": [
    "# Start location is NASA Johnson Space Center\n",
    "nasa_coordinate = [29.559684888503615, -95.0830971930759]\n",
    "site_map = folium.Map(location=nasa_coordinate, zoom_start=10)"
   ],
   "metadata": {
    "collapsed": false,
    "ExecuteTime": {
     "start_time": "2023-04-01T14:56:12.367733Z",
     "end_time": "2023-04-01T14:56:12.430852Z"
    }
   }
  },
  {
   "cell_type": "markdown",
   "source": [
    "We could use folium.Circle to add a highlighted circle area with a text label on a specific coordinate. For example,"
   ],
   "metadata": {
    "collapsed": false
   }
  },
  {
   "cell_type": "code",
   "execution_count": 14,
   "outputs": [
    {
     "ename": "NameError",
     "evalue": "name 'CCAFSLC_coordinate' is not defined",
     "output_type": "error",
     "traceback": [
      "\u001B[1;31m---------------------------------------------------------------------------\u001B[0m",
      "\u001B[1;31mNameError\u001B[0m                                 Traceback (most recent call last)",
      "\u001B[1;32m~\\AppData\\Local\\Temp\\ipykernel_14712\\2829566164.py\u001B[0m in \u001B[0;36m<module>\u001B[1;34m\u001B[0m\n\u001B[0;32m     15\u001B[0m \u001B[1;33m\u001B[0m\u001B[0m\n\u001B[0;32m     16\u001B[0m \u001B[1;31m# Create a blue circle at launch site coordinate with a popup label showing its name\u001B[0m\u001B[1;33m\u001B[0m\u001B[1;33m\u001B[0m\u001B[0m\n\u001B[1;32m---> 17\u001B[1;33m \u001B[0mcircle\u001B[0m \u001B[1;33m=\u001B[0m \u001B[0mfolium\u001B[0m\u001B[1;33m.\u001B[0m\u001B[0mCircle\u001B[0m\u001B[1;33m(\u001B[0m\u001B[0mCCAFSLC_coordinate\u001B[0m\u001B[1;33m,\u001B[0m \u001B[0mradius\u001B[0m\u001B[1;33m=\u001B[0m\u001B[1;36m1000\u001B[0m\u001B[1;33m,\u001B[0m \u001B[0mcolor\u001B[0m\u001B[1;33m=\u001B[0m\u001B[1;34m'#d35400'\u001B[0m\u001B[1;33m,\u001B[0m \u001B[0mfill\u001B[0m\u001B[1;33m=\u001B[0m\u001B[1;32mTrue\u001B[0m\u001B[1;33m)\u001B[0m\u001B[1;33m.\u001B[0m\u001B[0madd_child\u001B[0m\u001B[1;33m(\u001B[0m\u001B[0mfolium\u001B[0m\u001B[1;33m.\u001B[0m\u001B[0mPopup\u001B[0m\u001B[1;33m(\u001B[0m\u001B[1;34m'launch site Space Center'\u001B[0m\u001B[1;33m)\u001B[0m\u001B[1;33m)\u001B[0m\u001B[1;33m\u001B[0m\u001B[1;33m\u001B[0m\u001B[0m\n\u001B[0m\u001B[0;32m     18\u001B[0m \u001B[1;31m# Create a blue circle at launch site Space Center coordinate with a icon showing its name\u001B[0m\u001B[1;33m\u001B[0m\u001B[1;33m\u001B[0m\u001B[0m\n\u001B[0;32m     19\u001B[0m marker = folium.map.Marker(\n",
      "\u001B[1;31mNameError\u001B[0m: name 'CCAFSLC_coordinate' is not defined"
     ]
    }
   ],
   "source": [
    "# Create a blue circle at NASA Johnson Space Center's coordinate with a popup label showing its name\n",
    "circle = folium.Circle(nasa_coordinate, radius=1000, color='#d35400', fill=True).add_child(folium.Popup('NASA Johnson Space Center'))\n",
    "# Create a blue circle at NASA Johnson Space Center's coordinate with a icon showing its name\n",
    "marker = folium.map.Marker(\n",
    "    nasa_coordinate,\n",
    "    # Create an icon as a text label\n",
    "    icon=DivIcon(\n",
    "        icon_size=(20,20),\n",
    "        icon_anchor=(0,0),\n",
    "        html='<div style=\"font-size: 12; color:#d35400;\"><b>%s</b></div>' % 'NASA JSC',\n",
    "    )\n",
    ")\n",
    "site_map.add_child(circle)\n",
    "site_map.add_child(marker)\n",
    "\n",
    "# Create a blue circle at launch site coordinate with a popup label showing its name\n",
    "circle = folium.Circle(CCAFSLC_coordinate, radius=1000, color='#d35400', fill=True).add_child(folium.Popup('launch site Space Center'))\n",
    "# Create a blue circle at launch site Space Center coordinate with a icon showing its name\n",
    "marker = folium.map.Marker(\n",
    "    CCAFSLC_coordinate,\n",
    "    # Create an icon as a text label\n",
    "    icon=DivIcon(\n",
    "        icon_size=(20,20),\n",
    "        icon_anchor=(0,0),\n",
    "        html='<div style=\"font-size: 12; color:#d35400;\"><b>%s</b></div>' % 'CCAFSLC',\n",
    "    )\n",
    ")\n",
    "site_map.add_child(circle)\n",
    "site_map.add_child(marker)"
   ],
   "metadata": {
    "collapsed": false
   }
  },
  {
   "cell_type": "markdown",
   "source": [
    "and you should find a small yellow circle near the city of Houston and you can zoom-in to see a larger circle.\n",
    "\n",
    "Now, let's add a circle for each launch site in data frame launch_sites\n",
    "\n",
    "TODO: Create and add folium.Circle and folium.Marker for each launch site on the site map\n",
    "\n",
    "An example of folium.Circle:\n",
    "\n",
    "folium.Circle(coordinate, radius=1000, color='#000000', fill=True).add_child(folium.Popup(...))\n",
    "\n",
    "An example of folium.Marker:\n",
    "\n",
    "folium.map.Marker(coordinate, icon=DivIcon(icon_size=(20,20),icon_anchor=(0,0), html='<div style=\"font-size: 12; color:#d35400;\"><b>%s</b></div>' % 'label', ))"
   ],
   "metadata": {
    "collapsed": false
   }
  },
  {
   "cell_type": "code",
   "execution_count": 15,
   "outputs": [],
   "source": [
    "# Initial the map\n",
    "site_map = folium.Map(location=nasa_coordinate, zoom_start=5)"
   ],
   "metadata": {
    "collapsed": false,
    "ExecuteTime": {
     "start_time": "2023-04-01T14:58:05.127181Z",
     "end_time": "2023-04-01T14:58:05.221084Z"
    }
   }
  },
  {
   "cell_type": "code",
   "execution_count": 16,
   "outputs": [
    {
     "data": {
      "text/plain": "    Launch Site        Lat        Long\n0   CCAFS LC-40  28.562302  -80.577356\n1  CCAFS SLC-40  28.563197  -80.576820\n2    KSC LC-39A  28.573255  -80.646895\n3   VAFB SLC-4E  34.632834 -120.610746",
      "text/html": "<div>\n<style scoped>\n    .dataframe tbody tr th:only-of-type {\n        vertical-align: middle;\n    }\n\n    .dataframe tbody tr th {\n        vertical-align: top;\n    }\n\n    .dataframe thead th {\n        text-align: right;\n    }\n</style>\n<table border=\"1\" class=\"dataframe\">\n  <thead>\n    <tr style=\"text-align: right;\">\n      <th></th>\n      <th>Launch Site</th>\n      <th>Lat</th>\n      <th>Long</th>\n    </tr>\n  </thead>\n  <tbody>\n    <tr>\n      <th>0</th>\n      <td>CCAFS LC-40</td>\n      <td>28.562302</td>\n      <td>-80.577356</td>\n    </tr>\n    <tr>\n      <th>1</th>\n      <td>CCAFS SLC-40</td>\n      <td>28.563197</td>\n      <td>-80.576820</td>\n    </tr>\n    <tr>\n      <th>2</th>\n      <td>KSC LC-39A</td>\n      <td>28.573255</td>\n      <td>-80.646895</td>\n    </tr>\n    <tr>\n      <th>3</th>\n      <td>VAFB SLC-4E</td>\n      <td>34.632834</td>\n      <td>-120.610746</td>\n    </tr>\n  </tbody>\n</table>\n</div>"
     },
     "execution_count": 16,
     "metadata": {},
     "output_type": "execute_result"
    }
   ],
   "source": [
    "launch_sites_df"
   ],
   "metadata": {
    "collapsed": false,
    "ExecuteTime": {
     "start_time": "2023-04-01T14:58:14.283845Z",
     "end_time": "2023-04-01T14:58:14.378153Z"
    }
   }
  },
  {
   "cell_type": "markdown",
   "source": [
    " For each launch site, add a Circle object based on its coordinate (Lat, Long) values. In addition, add Launch site name as a popup label"
   ],
   "metadata": {
    "collapsed": false
   }
  },
  {
   "cell_type": "code",
   "execution_count": 17,
   "outputs": [],
   "source": [
    "CCAFSLC_coordinate = [28.562302, -80.577356]\n",
    "site_mapLC = folium.Map(location=CCAFSLC_coordinate, zoom_start=10)"
   ],
   "metadata": {
    "collapsed": false,
    "ExecuteTime": {
     "start_time": "2023-04-01T14:58:35.162791Z",
     "end_time": "2023-04-01T14:58:35.210166Z"
    }
   }
  },
  {
   "cell_type": "code",
   "execution_count": 18,
   "outputs": [
    {
     "data": {
      "text/plain": "<folium.folium.Map at 0x23976f90820>",
      "text/html": "<div style=\"width:100%;\"><div style=\"position:relative;width:100%;height:0;padding-bottom:60%;\"><span style=\"color:#565656\">Make this Notebook Trusted to load map: File -> Trust Notebook</span><iframe srcdoc=\"&lt;!DOCTYPE html&gt;\n&lt;html&gt;\n&lt;head&gt;\n    \n    &lt;meta http-equiv=&quot;content-type&quot; content=&quot;text/html; charset=UTF-8&quot; /&gt;\n    \n        &lt;script&gt;\n            L_NO_TOUCH = false;\n            L_DISABLE_3D = false;\n        &lt;/script&gt;\n    \n    &lt;style&gt;html, body {width: 100%;height: 100%;margin: 0;padding: 0;}&lt;/style&gt;\n    &lt;style&gt;#map {position:absolute;top:0;bottom:0;right:0;left:0;}&lt;/style&gt;\n    &lt;script src=&quot;https://cdn.jsdelivr.net/npm/leaflet@1.9.3/dist/leaflet.js&quot;&gt;&lt;/script&gt;\n    &lt;script src=&quot;https://code.jquery.com/jquery-1.12.4.min.js&quot;&gt;&lt;/script&gt;\n    &lt;script src=&quot;https://cdn.jsdelivr.net/npm/bootstrap@5.2.2/dist/js/bootstrap.bundle.min.js&quot;&gt;&lt;/script&gt;\n    &lt;script src=&quot;https://cdnjs.cloudflare.com/ajax/libs/Leaflet.awesome-markers/2.0.2/leaflet.awesome-markers.js&quot;&gt;&lt;/script&gt;\n    &lt;link rel=&quot;stylesheet&quot; href=&quot;https://cdn.jsdelivr.net/npm/leaflet@1.9.3/dist/leaflet.css&quot;/&gt;\n    &lt;link rel=&quot;stylesheet&quot; href=&quot;https://cdn.jsdelivr.net/npm/bootstrap@5.2.2/dist/css/bootstrap.min.css&quot;/&gt;\n    &lt;link rel=&quot;stylesheet&quot; href=&quot;https://netdna.bootstrapcdn.com/bootstrap/3.0.0/css/bootstrap.min.css&quot;/&gt;\n    &lt;link rel=&quot;stylesheet&quot; href=&quot;https://cdn.jsdelivr.net/npm/@fortawesome/fontawesome-free@6.2.0/css/all.min.css&quot;/&gt;\n    &lt;link rel=&quot;stylesheet&quot; href=&quot;https://cdnjs.cloudflare.com/ajax/libs/Leaflet.awesome-markers/2.0.2/leaflet.awesome-markers.css&quot;/&gt;\n    &lt;link rel=&quot;stylesheet&quot; href=&quot;https://cdn.jsdelivr.net/gh/python-visualization/folium/folium/templates/leaflet.awesome.rotate.min.css&quot;/&gt;\n    \n            &lt;meta name=&quot;viewport&quot; content=&quot;width=device-width,\n                initial-scale=1.0, maximum-scale=1.0, user-scalable=no&quot; /&gt;\n            &lt;style&gt;\n                #map_0ff61f6f93c21e1f3c3fe1c1ed26b19b {\n                    position: relative;\n                    width: 100.0%;\n                    height: 100.0%;\n                    left: 0.0%;\n                    top: 0.0%;\n                }\n                .leaflet-container { font-size: 1rem; }\n            &lt;/style&gt;\n        \n&lt;/head&gt;\n&lt;body&gt;\n    \n    \n            &lt;div class=&quot;folium-map&quot; id=&quot;map_0ff61f6f93c21e1f3c3fe1c1ed26b19b&quot; &gt;&lt;/div&gt;\n        \n&lt;/body&gt;\n&lt;script&gt;\n    \n    \n            var map_0ff61f6f93c21e1f3c3fe1c1ed26b19b = L.map(\n                &quot;map_0ff61f6f93c21e1f3c3fe1c1ed26b19b&quot;,\n                {\n                    center: [29.559684888503615, -95.0830971930759],\n                    crs: L.CRS.EPSG3857,\n                    zoom: 5,\n                    zoomControl: true,\n                    preferCanvas: false,\n                }\n            );\n\n            \n\n        \n    \n            var tile_layer_f3768ba8a5a13565eaa6fc2c745057fa = L.tileLayer(\n                &quot;https://{s}.tile.openstreetmap.org/{z}/{x}/{y}.png&quot;,\n                {&quot;attribution&quot;: &quot;Data by \\u0026copy; \\u003ca target=\\&quot;_blank\\&quot; href=\\&quot;http://openstreetmap.org\\&quot;\\u003eOpenStreetMap\\u003c/a\\u003e, under \\u003ca target=\\&quot;_blank\\&quot; href=\\&quot;http://www.openstreetmap.org/copyright\\&quot;\\u003eODbL\\u003c/a\\u003e.&quot;, &quot;detectRetina&quot;: false, &quot;maxNativeZoom&quot;: 18, &quot;maxZoom&quot;: 18, &quot;minZoom&quot;: 0, &quot;noWrap&quot;: false, &quot;opacity&quot;: 1, &quot;subdomains&quot;: &quot;abc&quot;, &quot;tms&quot;: false}\n            ).addTo(map_0ff61f6f93c21e1f3c3fe1c1ed26b19b);\n        \n    \n            var circle_ae78d905468fc241d8fae93b023cb9ae = L.circle(\n                [28.562302, -80.577356],\n                {&quot;bubblingMouseEvents&quot;: true, &quot;color&quot;: &quot;#d35400&quot;, &quot;dashArray&quot;: null, &quot;dashOffset&quot;: null, &quot;fill&quot;: true, &quot;fillColor&quot;: &quot;#d35400&quot;, &quot;fillOpacity&quot;: 0.2, &quot;fillRule&quot;: &quot;evenodd&quot;, &quot;lineCap&quot;: &quot;round&quot;, &quot;lineJoin&quot;: &quot;round&quot;, &quot;opacity&quot;: 1.0, &quot;radius&quot;: 1000, &quot;stroke&quot;: true, &quot;weight&quot;: 3}\n            ).addTo(map_0ff61f6f93c21e1f3c3fe1c1ed26b19b);\n        \n    \n        var popup_45e57d38a39a3cef9f0eb6c03bc763e6 = L.popup({&quot;maxWidth&quot;: &quot;100%&quot;});\n\n        \n            \n                var html_848d7f068157236f948b3a82cb0a19aa = $(`&lt;div id=&quot;html_848d7f068157236f948b3a82cb0a19aa&quot; style=&quot;width: 100.0%; height: 100.0%;&quot;&gt;launch site Space Center&lt;/div&gt;`)[0];\n                popup_45e57d38a39a3cef9f0eb6c03bc763e6.setContent(html_848d7f068157236f948b3a82cb0a19aa);\n            \n        \n\n        circle_ae78d905468fc241d8fae93b023cb9ae.bindPopup(popup_45e57d38a39a3cef9f0eb6c03bc763e6)\n        ;\n\n        \n    \n    \n            var marker_8df4f2d6c59f720ab314308e136026ab = L.marker(\n                [28.562302, -80.577356],\n                {}\n            ).addTo(map_0ff61f6f93c21e1f3c3fe1c1ed26b19b);\n        \n    \n            var div_icon_41b9d996536d53d05a6697b7f1d39f8a = L.divIcon({&quot;className&quot;: &quot;empty&quot;, &quot;html&quot;: &quot;\\u003cdiv style=\\&quot;font-size: 12; color:#d35400;\\&quot;\\u003e\\u003cb\\u003eCCAFSLC\\u003c/b\\u003e\\u003c/div\\u003e&quot;, &quot;iconAnchor&quot;: [0, 0], &quot;iconSize&quot;: [20, 20]});\n            marker_8df4f2d6c59f720ab314308e136026ab.setIcon(div_icon_41b9d996536d53d05a6697b7f1d39f8a);\n        \n&lt;/script&gt;\n&lt;/html&gt;\" style=\"position:absolute;width:100%;height:100%;left:0;top:0;border:none !important;\" allowfullscreen webkitallowfullscreen mozallowfullscreen></iframe></div></div>"
     },
     "execution_count": 18,
     "metadata": {},
     "output_type": "execute_result"
    }
   ],
   "source": [
    "# Create a blue circle at launch site coordinate with a popup label showing its name\n",
    "circle = folium.Circle(CCAFSLC_coordinate, radius=1000, color='#d35400', fill=True).add_child(folium.Popup('launch site Space Center'))\n",
    "# Create a blue circle at launch site Space Center coordinate with a icon showing its name\n",
    "marker = folium.map.Marker(\n",
    "    CCAFSLC_coordinate,\n",
    "    # Create an icon as a text label\n",
    "    icon=DivIcon(\n",
    "        icon_size=(20,20),\n",
    "        icon_anchor=(0,0),\n",
    "        html='<div style=\"font-size: 12; color:#d35400;\"><b>%s</b></div>' % 'CCAFSLC',\n",
    "    )\n",
    ")\n",
    "site_map.add_child(circle)\n",
    "site_map.add_child(marker)"
   ],
   "metadata": {
    "collapsed": false,
    "ExecuteTime": {
     "start_time": "2023-04-01T14:58:42.133156Z",
     "end_time": "2023-04-01T14:58:42.842876Z"
    }
   }
  },
  {
   "cell_type": "markdown",
   "source": [
    "Now, you can explore the map by zoom-in/out the marked areas\n",
    ", and try to answer the following questions:\n",
    "\n",
    "*   Are all launch sites in proximity to the Equator line?\n",
    "*   Are all launch sites in very close proximity to the coast?\n",
    "\n",
    "Also please try to explain your findings."
   ],
   "metadata": {
    "collapsed": false
   }
  },
  {
   "cell_type": "markdown",
   "source": [
    "#### Task 2: Mark the success/failed launches for each site on the map"
   ],
   "metadata": {
    "collapsed": false
   }
  },
  {
   "cell_type": "code",
   "execution_count": 19,
   "outputs": [
    {
     "data": {
      "text/plain": "    Launch Site        Lat        Long\n0   CCAFS LC-40  28.562302  -80.577356\n1  CCAFS SLC-40  28.563197  -80.576820\n2    KSC LC-39A  28.573255  -80.646895\n3   VAFB SLC-4E  34.632834 -120.610746",
      "text/html": "<div>\n<style scoped>\n    .dataframe tbody tr th:only-of-type {\n        vertical-align: middle;\n    }\n\n    .dataframe tbody tr th {\n        vertical-align: top;\n    }\n\n    .dataframe thead th {\n        text-align: right;\n    }\n</style>\n<table border=\"1\" class=\"dataframe\">\n  <thead>\n    <tr style=\"text-align: right;\">\n      <th></th>\n      <th>Launch Site</th>\n      <th>Lat</th>\n      <th>Long</th>\n    </tr>\n  </thead>\n  <tbody>\n    <tr>\n      <th>0</th>\n      <td>CCAFS LC-40</td>\n      <td>28.562302</td>\n      <td>-80.577356</td>\n    </tr>\n    <tr>\n      <th>1</th>\n      <td>CCAFS SLC-40</td>\n      <td>28.563197</td>\n      <td>-80.576820</td>\n    </tr>\n    <tr>\n      <th>2</th>\n      <td>KSC LC-39A</td>\n      <td>28.573255</td>\n      <td>-80.646895</td>\n    </tr>\n    <tr>\n      <th>3</th>\n      <td>VAFB SLC-4E</td>\n      <td>34.632834</td>\n      <td>-120.610746</td>\n    </tr>\n  </tbody>\n</table>\n</div>"
     },
     "execution_count": 19,
     "metadata": {},
     "output_type": "execute_result"
    }
   ],
   "source": [
    "launch_sites_df"
   ],
   "metadata": {
    "collapsed": false,
    "ExecuteTime": {
     "start_time": "2023-04-01T14:59:16.044524Z",
     "end_time": "2023-04-01T14:59:16.107861Z"
    }
   }
  },
  {
   "cell_type": "code",
   "execution_count": 20,
   "outputs": [],
   "source": [
    "nasa_coordinate = [29.559684888503615, -95.0830971930759]\n",
    "site_map = folium.Map(location=nasa_coordinate, zoom_start=10)\n",
    "#---------------------------------------\n",
    "CCAFSLC_coordinate = [28.562302, -80.577356]\n",
    "site_mapLC = folium.Map(location=CCAFSLC_coordinate, zoom_start=10)\n",
    "#------------------------------------------\n",
    "CCAFSSLC_coordinate = [28.563197, -80.576820]\n",
    "site_mapLC = folium.Map(location=CCAFSSLC_coordinate, zoom_start=10)\n",
    "#--------------------------------------------\n",
    "KSCLC_coordinate = [28.573255, -80.646895]\n",
    "site_mapLC = folium.Map(location=KSCLC_coordinate, zoom_start=10)\n",
    "#-----------------------------------------\n",
    "VAFBSLC_coordinate = [34.632834, -120.610746]\n",
    "site_mapLC = folium.Map(location=VAFBSLC_coordinate, zoom_start=10)"
   ],
   "metadata": {
    "collapsed": false,
    "ExecuteTime": {
     "start_time": "2023-04-01T14:59:23.677811Z",
     "end_time": "2023-04-01T14:59:23.803266Z"
    }
   }
  },
  {
   "cell_type": "code",
   "execution_count": 22,
   "outputs": [
    {
     "data": {
      "text/plain": "<folium.folium.Map at 0x23976f907c0>",
      "text/html": "<div style=\"width:100%;\"><div style=\"position:relative;width:100%;height:0;padding-bottom:60%;\"><span style=\"color:#565656\">Make this Notebook Trusted to load map: File -> Trust Notebook</span><iframe srcdoc=\"&lt;!DOCTYPE html&gt;\n&lt;html&gt;\n&lt;head&gt;\n    \n    &lt;meta http-equiv=&quot;content-type&quot; content=&quot;text/html; charset=UTF-8&quot; /&gt;\n    \n        &lt;script&gt;\n            L_NO_TOUCH = false;\n            L_DISABLE_3D = false;\n        &lt;/script&gt;\n    \n    &lt;style&gt;html, body {width: 100%;height: 100%;margin: 0;padding: 0;}&lt;/style&gt;\n    &lt;style&gt;#map {position:absolute;top:0;bottom:0;right:0;left:0;}&lt;/style&gt;\n    &lt;script src=&quot;https://cdn.jsdelivr.net/npm/leaflet@1.9.3/dist/leaflet.js&quot;&gt;&lt;/script&gt;\n    &lt;script src=&quot;https://code.jquery.com/jquery-1.12.4.min.js&quot;&gt;&lt;/script&gt;\n    &lt;script src=&quot;https://cdn.jsdelivr.net/npm/bootstrap@5.2.2/dist/js/bootstrap.bundle.min.js&quot;&gt;&lt;/script&gt;\n    &lt;script src=&quot;https://cdnjs.cloudflare.com/ajax/libs/Leaflet.awesome-markers/2.0.2/leaflet.awesome-markers.js&quot;&gt;&lt;/script&gt;\n    &lt;link rel=&quot;stylesheet&quot; href=&quot;https://cdn.jsdelivr.net/npm/leaflet@1.9.3/dist/leaflet.css&quot;/&gt;\n    &lt;link rel=&quot;stylesheet&quot; href=&quot;https://cdn.jsdelivr.net/npm/bootstrap@5.2.2/dist/css/bootstrap.min.css&quot;/&gt;\n    &lt;link rel=&quot;stylesheet&quot; href=&quot;https://netdna.bootstrapcdn.com/bootstrap/3.0.0/css/bootstrap.min.css&quot;/&gt;\n    &lt;link rel=&quot;stylesheet&quot; href=&quot;https://cdn.jsdelivr.net/npm/@fortawesome/fontawesome-free@6.2.0/css/all.min.css&quot;/&gt;\n    &lt;link rel=&quot;stylesheet&quot; href=&quot;https://cdnjs.cloudflare.com/ajax/libs/Leaflet.awesome-markers/2.0.2/leaflet.awesome-markers.css&quot;/&gt;\n    &lt;link rel=&quot;stylesheet&quot; href=&quot;https://cdn.jsdelivr.net/gh/python-visualization/folium/folium/templates/leaflet.awesome.rotate.min.css&quot;/&gt;\n    \n            &lt;meta name=&quot;viewport&quot; content=&quot;width=device-width,\n                initial-scale=1.0, maximum-scale=1.0, user-scalable=no&quot; /&gt;\n            &lt;style&gt;\n                #map_a72f26924533117da5d58eac987a1f80 {\n                    position: relative;\n                    width: 100.0%;\n                    height: 100.0%;\n                    left: 0.0%;\n                    top: 0.0%;\n                }\n                .leaflet-container { font-size: 1rem; }\n            &lt;/style&gt;\n        \n&lt;/head&gt;\n&lt;body&gt;\n    \n    \n            &lt;div class=&quot;folium-map&quot; id=&quot;map_a72f26924533117da5d58eac987a1f80&quot; &gt;&lt;/div&gt;\n        \n&lt;/body&gt;\n&lt;script&gt;\n    \n    \n            var map_a72f26924533117da5d58eac987a1f80 = L.map(\n                &quot;map_a72f26924533117da5d58eac987a1f80&quot;,\n                {\n                    center: [29.559684888503615, -95.0830971930759],\n                    crs: L.CRS.EPSG3857,\n                    zoom: 10,\n                    zoomControl: true,\n                    preferCanvas: false,\n                }\n            );\n\n            \n\n        \n    \n            var tile_layer_6e3cdc546bee316ca32c1b558130f3e6 = L.tileLayer(\n                &quot;https://{s}.tile.openstreetmap.org/{z}/{x}/{y}.png&quot;,\n                {&quot;attribution&quot;: &quot;Data by \\u0026copy; \\u003ca target=\\&quot;_blank\\&quot; href=\\&quot;http://openstreetmap.org\\&quot;\\u003eOpenStreetMap\\u003c/a\\u003e, under \\u003ca target=\\&quot;_blank\\&quot; href=\\&quot;http://www.openstreetmap.org/copyright\\&quot;\\u003eODbL\\u003c/a\\u003e.&quot;, &quot;detectRetina&quot;: false, &quot;maxNativeZoom&quot;: 18, &quot;maxZoom&quot;: 18, &quot;minZoom&quot;: 0, &quot;noWrap&quot;: false, &quot;opacity&quot;: 1, &quot;subdomains&quot;: &quot;abc&quot;, &quot;tms&quot;: false}\n            ).addTo(map_a72f26924533117da5d58eac987a1f80);\n        \n    \n            var circle_e4c92d345398ac9f8a87bd4bb69efd8d = L.circle(\n                [29.559684888503615, -95.0830971930759],\n                {&quot;bubblingMouseEvents&quot;: true, &quot;color&quot;: &quot;#d35400&quot;, &quot;dashArray&quot;: null, &quot;dashOffset&quot;: null, &quot;fill&quot;: true, &quot;fillColor&quot;: &quot;#d35400&quot;, &quot;fillOpacity&quot;: 0.2, &quot;fillRule&quot;: &quot;evenodd&quot;, &quot;lineCap&quot;: &quot;round&quot;, &quot;lineJoin&quot;: &quot;round&quot;, &quot;opacity&quot;: 1.0, &quot;radius&quot;: 1000, &quot;stroke&quot;: true, &quot;weight&quot;: 3}\n            ).addTo(map_a72f26924533117da5d58eac987a1f80);\n        \n    \n        var popup_f038645036fd8ec55db6f24544813e7d = L.popup({&quot;maxWidth&quot;: &quot;100%&quot;});\n\n        \n            \n                var html_0bc48af64c31e83215e23c2064cfbf0e = $(`&lt;div id=&quot;html_0bc48af64c31e83215e23c2064cfbf0e&quot; style=&quot;width: 100.0%; height: 100.0%;&quot;&gt;NASA Johnson Space Center&lt;/div&gt;`)[0];\n                popup_f038645036fd8ec55db6f24544813e7d.setContent(html_0bc48af64c31e83215e23c2064cfbf0e);\n            \n        \n\n        circle_e4c92d345398ac9f8a87bd4bb69efd8d.bindPopup(popup_f038645036fd8ec55db6f24544813e7d)\n        ;\n\n        \n    \n    \n            var marker_355c4f8620d744c84763846e9e3505e9 = L.marker(\n                [29.559684888503615, -95.0830971930759],\n                {}\n            ).addTo(map_a72f26924533117da5d58eac987a1f80);\n        \n    \n            var div_icon_c74a872b49d8dee72fc1efd664891ae6 = L.divIcon({&quot;className&quot;: &quot;empty&quot;, &quot;html&quot;: &quot;\\u003cdiv style=\\&quot;font-size: 12; color:#d35400;\\&quot;\\u003e\\u003cb\\u003eNASA JSC\\u003c/b\\u003e\\u003c/div\\u003e&quot;, &quot;iconAnchor&quot;: [0, 0], &quot;iconSize&quot;: [20, 20]});\n            marker_355c4f8620d744c84763846e9e3505e9.setIcon(div_icon_c74a872b49d8dee72fc1efd664891ae6);\n        \n    \n            var circle_7b652d39f05bedb0724be6ae870074d0 = L.circle(\n                [28.562302, -80.577356],\n                {&quot;bubblingMouseEvents&quot;: true, &quot;color&quot;: &quot;#d35400&quot;, &quot;dashArray&quot;: null, &quot;dashOffset&quot;: null, &quot;fill&quot;: true, &quot;fillColor&quot;: &quot;#d35400&quot;, &quot;fillOpacity&quot;: 0.2, &quot;fillRule&quot;: &quot;evenodd&quot;, &quot;lineCap&quot;: &quot;round&quot;, &quot;lineJoin&quot;: &quot;round&quot;, &quot;opacity&quot;: 1.0, &quot;radius&quot;: 1000, &quot;stroke&quot;: true, &quot;weight&quot;: 3}\n            ).addTo(map_a72f26924533117da5d58eac987a1f80);\n        \n    \n        var popup_fd1a2e6c4bdb84fba419c472fee26924 = L.popup({&quot;maxWidth&quot;: &quot;100%&quot;});\n\n        \n            \n                var html_112b5bd92498924a3ce710a6416c9634 = $(`&lt;div id=&quot;html_112b5bd92498924a3ce710a6416c9634&quot; style=&quot;width: 100.0%; height: 100.0%;&quot;&gt;CCAFSLC Space Center&lt;/div&gt;`)[0];\n                popup_fd1a2e6c4bdb84fba419c472fee26924.setContent(html_112b5bd92498924a3ce710a6416c9634);\n            \n        \n\n        circle_7b652d39f05bedb0724be6ae870074d0.bindPopup(popup_fd1a2e6c4bdb84fba419c472fee26924)\n        ;\n\n        \n    \n    \n            var marker_afbc19043a30575fe18463df8bfce26f = L.marker(\n                [28.562302, -80.577356],\n                {}\n            ).addTo(map_a72f26924533117da5d58eac987a1f80);\n        \n    \n            var div_icon_c6ac212f805ebdfba9b803697e211a95 = L.divIcon({&quot;className&quot;: &quot;empty&quot;, &quot;html&quot;: &quot;\\u003cdiv style=\\&quot;font-size: 12; color:#d35400;\\&quot;\\u003e\\u003cb\\u003eCCAFSLC\\u003c/b\\u003e\\u003c/div\\u003e&quot;, &quot;iconAnchor&quot;: [0, 0], &quot;iconSize&quot;: [20, 20]});\n            marker_afbc19043a30575fe18463df8bfce26f.setIcon(div_icon_c6ac212f805ebdfba9b803697e211a95);\n        \n    \n            var circle_ed9540f32363037925b6610f4cdb800d = L.circle(\n                [28.563197, -80.57682],\n                {&quot;bubblingMouseEvents&quot;: true, &quot;color&quot;: &quot;#d35400&quot;, &quot;dashArray&quot;: null, &quot;dashOffset&quot;: null, &quot;fill&quot;: true, &quot;fillColor&quot;: &quot;#d35400&quot;, &quot;fillOpacity&quot;: 0.2, &quot;fillRule&quot;: &quot;evenodd&quot;, &quot;lineCap&quot;: &quot;round&quot;, &quot;lineJoin&quot;: &quot;round&quot;, &quot;opacity&quot;: 1.0, &quot;radius&quot;: 1000, &quot;stroke&quot;: true, &quot;weight&quot;: 3}\n            ).addTo(map_a72f26924533117da5d58eac987a1f80);\n        \n    \n        var popup_4617a172c1898bbb4e499cf8f212721e = L.popup({&quot;maxWidth&quot;: &quot;100%&quot;});\n\n        \n            \n                var html_cd08337fbd18e54778a7b1f931899be3 = $(`&lt;div id=&quot;html_cd08337fbd18e54778a7b1f931899be3&quot; style=&quot;width: 100.0%; height: 100.0%;&quot;&gt;CCAFSSLC Space Center&lt;/div&gt;`)[0];\n                popup_4617a172c1898bbb4e499cf8f212721e.setContent(html_cd08337fbd18e54778a7b1f931899be3);\n            \n        \n\n        circle_ed9540f32363037925b6610f4cdb800d.bindPopup(popup_4617a172c1898bbb4e499cf8f212721e)\n        ;\n\n        \n    \n    \n            var marker_03ff75b5a58e8d4d6081b7980e8f427e = L.marker(\n                [28.563197, -80.57682],\n                {}\n            ).addTo(map_a72f26924533117da5d58eac987a1f80);\n        \n    \n            var div_icon_6ec039548fba4a6f11c156fe4b2cadff = L.divIcon({&quot;className&quot;: &quot;empty&quot;, &quot;html&quot;: &quot;\\u003cdiv style=\\&quot;font-size: 12; color:#d35400;\\&quot;\\u003e\\u003cb\\u003eCCAFSSLC\\u003c/b\\u003e\\u003c/div\\u003e&quot;, &quot;iconAnchor&quot;: [0, 0], &quot;iconSize&quot;: [20, 20]});\n            marker_03ff75b5a58e8d4d6081b7980e8f427e.setIcon(div_icon_6ec039548fba4a6f11c156fe4b2cadff);\n        \n    \n            var circle_4b6f3e74895f1704a6b650023e27bf33 = L.circle(\n                [28.573255, -80.646895],\n                {&quot;bubblingMouseEvents&quot;: true, &quot;color&quot;: &quot;#d35400&quot;, &quot;dashArray&quot;: null, &quot;dashOffset&quot;: null, &quot;fill&quot;: true, &quot;fillColor&quot;: &quot;#d35400&quot;, &quot;fillOpacity&quot;: 0.2, &quot;fillRule&quot;: &quot;evenodd&quot;, &quot;lineCap&quot;: &quot;round&quot;, &quot;lineJoin&quot;: &quot;round&quot;, &quot;opacity&quot;: 1.0, &quot;radius&quot;: 1000, &quot;stroke&quot;: true, &quot;weight&quot;: 3}\n            ).addTo(map_a72f26924533117da5d58eac987a1f80);\n        \n    \n        var popup_90f59d85548c9fc773969129b010381a = L.popup({&quot;maxWidth&quot;: &quot;100%&quot;});\n\n        \n            \n                var html_2095eb8c399503bf006bbb94bda7e686 = $(`&lt;div id=&quot;html_2095eb8c399503bf006bbb94bda7e686&quot; style=&quot;width: 100.0%; height: 100.0%;&quot;&gt;KSCLC Space Center&lt;/div&gt;`)[0];\n                popup_90f59d85548c9fc773969129b010381a.setContent(html_2095eb8c399503bf006bbb94bda7e686);\n            \n        \n\n        circle_4b6f3e74895f1704a6b650023e27bf33.bindPopup(popup_90f59d85548c9fc773969129b010381a)\n        ;\n\n        \n    \n    \n            var marker_956ba068b0d3bb31112ab894eb5d707c = L.marker(\n                [28.573255, -80.646895],\n                {}\n            ).addTo(map_a72f26924533117da5d58eac987a1f80);\n        \n    \n            var div_icon_4a14b851e94cea016c1a194bea08fd86 = L.divIcon({&quot;className&quot;: &quot;empty&quot;, &quot;html&quot;: &quot;\\u003cdiv style=\\&quot;font-size: 12; color:#d35400;\\&quot;\\u003e\\u003cb\\u003eKSCLC\\u003c/b\\u003e\\u003c/div\\u003e&quot;, &quot;iconAnchor&quot;: [0, 0], &quot;iconSize&quot;: [20, 20]});\n            marker_956ba068b0d3bb31112ab894eb5d707c.setIcon(div_icon_4a14b851e94cea016c1a194bea08fd86);\n        \n    \n            var circle_b46f74bd679a0a210b467ec462fe7cb4 = L.circle(\n                [34.632834, -120.610746],\n                {&quot;bubblingMouseEvents&quot;: true, &quot;color&quot;: &quot;#d35400&quot;, &quot;dashArray&quot;: null, &quot;dashOffset&quot;: null, &quot;fill&quot;: true, &quot;fillColor&quot;: &quot;#d35400&quot;, &quot;fillOpacity&quot;: 0.2, &quot;fillRule&quot;: &quot;evenodd&quot;, &quot;lineCap&quot;: &quot;round&quot;, &quot;lineJoin&quot;: &quot;round&quot;, &quot;opacity&quot;: 1.0, &quot;radius&quot;: 1000, &quot;stroke&quot;: true, &quot;weight&quot;: 3}\n            ).addTo(map_a72f26924533117da5d58eac987a1f80);\n        \n    \n        var popup_f3fe0391029f9539fafdfd8c6026f251 = L.popup({&quot;maxWidth&quot;: &quot;100%&quot;});\n\n        \n            \n                var html_a19c9f8801bebc64ccc4a32a59d862b0 = $(`&lt;div id=&quot;html_a19c9f8801bebc64ccc4a32a59d862b0&quot; style=&quot;width: 100.0%; height: 100.0%;&quot;&gt;VAFBSLC Space Center&lt;/div&gt;`)[0];\n                popup_f3fe0391029f9539fafdfd8c6026f251.setContent(html_a19c9f8801bebc64ccc4a32a59d862b0);\n            \n        \n\n        circle_b46f74bd679a0a210b467ec462fe7cb4.bindPopup(popup_f3fe0391029f9539fafdfd8c6026f251)\n        ;\n\n        \n    \n    \n            var marker_c6626866c2882a51d522e5ba59c61af1 = L.marker(\n                [34.632834, -120.610746],\n                {}\n            ).addTo(map_a72f26924533117da5d58eac987a1f80);\n        \n    \n            var div_icon_bb1269f1864dc126fde7f01b96cdaf83 = L.divIcon({&quot;className&quot;: &quot;empty&quot;, &quot;html&quot;: &quot;\\u003cdiv style=\\&quot;font-size: 12; color:#d35400;\\&quot;\\u003e\\u003cb\\u003eVAFBSLC\\u003c/b\\u003e\\u003c/div\\u003e&quot;, &quot;iconAnchor&quot;: [0, 0], &quot;iconSize&quot;: [20, 20]});\n            marker_c6626866c2882a51d522e5ba59c61af1.setIcon(div_icon_bb1269f1864dc126fde7f01b96cdaf83);\n        \n    \n            var circle_6a37e27097cb758e333a1da3d36f9acb = L.circle(\n                [29.559684888503615, -95.0830971930759],\n                {&quot;bubblingMouseEvents&quot;: true, &quot;color&quot;: &quot;#d35400&quot;, &quot;dashArray&quot;: null, &quot;dashOffset&quot;: null, &quot;fill&quot;: true, &quot;fillColor&quot;: &quot;#d35400&quot;, &quot;fillOpacity&quot;: 0.2, &quot;fillRule&quot;: &quot;evenodd&quot;, &quot;lineCap&quot;: &quot;round&quot;, &quot;lineJoin&quot;: &quot;round&quot;, &quot;opacity&quot;: 1.0, &quot;radius&quot;: 1000, &quot;stroke&quot;: true, &quot;weight&quot;: 3}\n            ).addTo(map_a72f26924533117da5d58eac987a1f80);\n        \n    \n        var popup_f06cd9f4e87c052e0f1244f01895b252 = L.popup({&quot;maxWidth&quot;: &quot;100%&quot;});\n\n        \n            \n                var html_21b7f8f30b5060eb74df05a8bfe3fb36 = $(`&lt;div id=&quot;html_21b7f8f30b5060eb74df05a8bfe3fb36&quot; style=&quot;width: 100.0%; height: 100.0%;&quot;&gt;NASA Johnson Space Center&lt;/div&gt;`)[0];\n                popup_f06cd9f4e87c052e0f1244f01895b252.setContent(html_21b7f8f30b5060eb74df05a8bfe3fb36);\n            \n        \n\n        circle_6a37e27097cb758e333a1da3d36f9acb.bindPopup(popup_f06cd9f4e87c052e0f1244f01895b252)\n        ;\n\n        \n    \n    \n            var marker_2f47eff827efa0c655d216b875c15a96 = L.marker(\n                [29.559684888503615, -95.0830971930759],\n                {}\n            ).addTo(map_a72f26924533117da5d58eac987a1f80);\n        \n    \n            var div_icon_3b47517c6d535003e2e903677eecd8d3 = L.divIcon({&quot;className&quot;: &quot;empty&quot;, &quot;html&quot;: &quot;\\u003cdiv style=\\&quot;font-size: 12; color:#d35400;\\&quot;\\u003e\\u003cb\\u003eNASA JSC\\u003c/b\\u003e\\u003c/div\\u003e&quot;, &quot;iconAnchor&quot;: [0, 0], &quot;iconSize&quot;: [20, 20]});\n            marker_2f47eff827efa0c655d216b875c15a96.setIcon(div_icon_3b47517c6d535003e2e903677eecd8d3);\n        \n    \n            var circle_feeffd2b33d9239aa4b612edd5fee148 = L.circle(\n                [28.562302, -80.577356],\n                {&quot;bubblingMouseEvents&quot;: true, &quot;color&quot;: &quot;#d35400&quot;, &quot;dashArray&quot;: null, &quot;dashOffset&quot;: null, &quot;fill&quot;: true, &quot;fillColor&quot;: &quot;#d35400&quot;, &quot;fillOpacity&quot;: 0.2, &quot;fillRule&quot;: &quot;evenodd&quot;, &quot;lineCap&quot;: &quot;round&quot;, &quot;lineJoin&quot;: &quot;round&quot;, &quot;opacity&quot;: 1.0, &quot;radius&quot;: 1000, &quot;stroke&quot;: true, &quot;weight&quot;: 3}\n            ).addTo(map_a72f26924533117da5d58eac987a1f80);\n        \n    \n        var popup_fdfe097501ce4efbbc3399ebe71de172 = L.popup({&quot;maxWidth&quot;: &quot;100%&quot;});\n\n        \n            \n                var html_fd5e6e2a891c6a9c7b5668f34fb86311 = $(`&lt;div id=&quot;html_fd5e6e2a891c6a9c7b5668f34fb86311&quot; style=&quot;width: 100.0%; height: 100.0%;&quot;&gt;CCAFSLC Space Center&lt;/div&gt;`)[0];\n                popup_fdfe097501ce4efbbc3399ebe71de172.setContent(html_fd5e6e2a891c6a9c7b5668f34fb86311);\n            \n        \n\n        circle_feeffd2b33d9239aa4b612edd5fee148.bindPopup(popup_fdfe097501ce4efbbc3399ebe71de172)\n        ;\n\n        \n    \n    \n            var marker_bc5373552c8d2a2fb7a633e37abdaeb7 = L.marker(\n                [28.562302, -80.577356],\n                {}\n            ).addTo(map_a72f26924533117da5d58eac987a1f80);\n        \n    \n            var div_icon_27ba64db438084ba25d774708b62e317 = L.divIcon({&quot;className&quot;: &quot;empty&quot;, &quot;html&quot;: &quot;\\u003cdiv style=\\&quot;font-size: 12; color:#d35400;\\&quot;\\u003e\\u003cb\\u003eCCAFSLC\\u003c/b\\u003e\\u003c/div\\u003e&quot;, &quot;iconAnchor&quot;: [0, 0], &quot;iconSize&quot;: [20, 20]});\n            marker_bc5373552c8d2a2fb7a633e37abdaeb7.setIcon(div_icon_27ba64db438084ba25d774708b62e317);\n        \n    \n            var circle_f81458da77972136ee098bee926b9a1d = L.circle(\n                [28.563197, -80.57682],\n                {&quot;bubblingMouseEvents&quot;: true, &quot;color&quot;: &quot;#d35400&quot;, &quot;dashArray&quot;: null, &quot;dashOffset&quot;: null, &quot;fill&quot;: true, &quot;fillColor&quot;: &quot;#d35400&quot;, &quot;fillOpacity&quot;: 0.2, &quot;fillRule&quot;: &quot;evenodd&quot;, &quot;lineCap&quot;: &quot;round&quot;, &quot;lineJoin&quot;: &quot;round&quot;, &quot;opacity&quot;: 1.0, &quot;radius&quot;: 1000, &quot;stroke&quot;: true, &quot;weight&quot;: 3}\n            ).addTo(map_a72f26924533117da5d58eac987a1f80);\n        \n    \n        var popup_06ca51a8b64d40352222b9c5920225f0 = L.popup({&quot;maxWidth&quot;: &quot;100%&quot;});\n\n        \n            \n                var html_aa5847ca1a5ca3dd740d5e01bba2a5c5 = $(`&lt;div id=&quot;html_aa5847ca1a5ca3dd740d5e01bba2a5c5&quot; style=&quot;width: 100.0%; height: 100.0%;&quot;&gt;CCAFSSLC Space Center&lt;/div&gt;`)[0];\n                popup_06ca51a8b64d40352222b9c5920225f0.setContent(html_aa5847ca1a5ca3dd740d5e01bba2a5c5);\n            \n        \n\n        circle_f81458da77972136ee098bee926b9a1d.bindPopup(popup_06ca51a8b64d40352222b9c5920225f0)\n        ;\n\n        \n    \n    \n            var marker_ea6a03e110aaef0dce8053754a557717 = L.marker(\n                [28.563197, -80.57682],\n                {}\n            ).addTo(map_a72f26924533117da5d58eac987a1f80);\n        \n    \n            var div_icon_4a777bd4651a2f7621121e5d84f5e06d = L.divIcon({&quot;className&quot;: &quot;empty&quot;, &quot;html&quot;: &quot;\\u003cdiv style=\\&quot;font-size: 12; color:#d35400;\\&quot;\\u003e\\u003cb\\u003eCCAFSSLC\\u003c/b\\u003e\\u003c/div\\u003e&quot;, &quot;iconAnchor&quot;: [0, 0], &quot;iconSize&quot;: [20, 20]});\n            marker_ea6a03e110aaef0dce8053754a557717.setIcon(div_icon_4a777bd4651a2f7621121e5d84f5e06d);\n        \n    \n            var circle_0c52db90dd157b9aa760bda82cb970ff = L.circle(\n                [28.573255, -80.646895],\n                {&quot;bubblingMouseEvents&quot;: true, &quot;color&quot;: &quot;#d35400&quot;, &quot;dashArray&quot;: null, &quot;dashOffset&quot;: null, &quot;fill&quot;: true, &quot;fillColor&quot;: &quot;#d35400&quot;, &quot;fillOpacity&quot;: 0.2, &quot;fillRule&quot;: &quot;evenodd&quot;, &quot;lineCap&quot;: &quot;round&quot;, &quot;lineJoin&quot;: &quot;round&quot;, &quot;opacity&quot;: 1.0, &quot;radius&quot;: 1000, &quot;stroke&quot;: true, &quot;weight&quot;: 3}\n            ).addTo(map_a72f26924533117da5d58eac987a1f80);\n        \n    \n        var popup_8e1ec43d4cee4aade39cbc8e79092228 = L.popup({&quot;maxWidth&quot;: &quot;100%&quot;});\n\n        \n            \n                var html_5f64e02d86f62bdb7aba8d6fb1da0b2a = $(`&lt;div id=&quot;html_5f64e02d86f62bdb7aba8d6fb1da0b2a&quot; style=&quot;width: 100.0%; height: 100.0%;&quot;&gt;KSCLC Space Center&lt;/div&gt;`)[0];\n                popup_8e1ec43d4cee4aade39cbc8e79092228.setContent(html_5f64e02d86f62bdb7aba8d6fb1da0b2a);\n            \n        \n\n        circle_0c52db90dd157b9aa760bda82cb970ff.bindPopup(popup_8e1ec43d4cee4aade39cbc8e79092228)\n        ;\n\n        \n    \n    \n            var marker_08bbf907acf07fb79321220ff90115e4 = L.marker(\n                [28.573255, -80.646895],\n                {}\n            ).addTo(map_a72f26924533117da5d58eac987a1f80);\n        \n    \n            var div_icon_edde57c637f0b4341dac9bb7cf00159e = L.divIcon({&quot;className&quot;: &quot;empty&quot;, &quot;html&quot;: &quot;\\u003cdiv style=\\&quot;font-size: 12; color:#d35400;\\&quot;\\u003e\\u003cb\\u003eKSCLC\\u003c/b\\u003e\\u003c/div\\u003e&quot;, &quot;iconAnchor&quot;: [0, 0], &quot;iconSize&quot;: [20, 20]});\n            marker_08bbf907acf07fb79321220ff90115e4.setIcon(div_icon_edde57c637f0b4341dac9bb7cf00159e);\n        \n    \n            var circle_7ec5654ed0df130601ca614e82dc395a = L.circle(\n                [34.632834, -120.610746],\n                {&quot;bubblingMouseEvents&quot;: true, &quot;color&quot;: &quot;#d35400&quot;, &quot;dashArray&quot;: null, &quot;dashOffset&quot;: null, &quot;fill&quot;: true, &quot;fillColor&quot;: &quot;#d35400&quot;, &quot;fillOpacity&quot;: 0.2, &quot;fillRule&quot;: &quot;evenodd&quot;, &quot;lineCap&quot;: &quot;round&quot;, &quot;lineJoin&quot;: &quot;round&quot;, &quot;opacity&quot;: 1.0, &quot;radius&quot;: 1000, &quot;stroke&quot;: true, &quot;weight&quot;: 3}\n            ).addTo(map_a72f26924533117da5d58eac987a1f80);\n        \n    \n        var popup_0684055283954cb9ed50cf5e9c8341f0 = L.popup({&quot;maxWidth&quot;: &quot;100%&quot;});\n\n        \n            \n                var html_533537876e69ba07f971e76075b383f0 = $(`&lt;div id=&quot;html_533537876e69ba07f971e76075b383f0&quot; style=&quot;width: 100.0%; height: 100.0%;&quot;&gt;VAFBSLC Space Center&lt;/div&gt;`)[0];\n                popup_0684055283954cb9ed50cf5e9c8341f0.setContent(html_533537876e69ba07f971e76075b383f0);\n            \n        \n\n        circle_7ec5654ed0df130601ca614e82dc395a.bindPopup(popup_0684055283954cb9ed50cf5e9c8341f0)\n        ;\n\n        \n    \n    \n            var marker_e02d486cd65beb439d912aebf6c38ba0 = L.marker(\n                [34.632834, -120.610746],\n                {}\n            ).addTo(map_a72f26924533117da5d58eac987a1f80);\n        \n    \n            var div_icon_9d944f134f66cd7083d29df1c0bcb89f = L.divIcon({&quot;className&quot;: &quot;empty&quot;, &quot;html&quot;: &quot;\\u003cdiv style=\\&quot;font-size: 12; color:#d35400;\\&quot;\\u003e\\u003cb\\u003eVAFBSLC\\u003c/b\\u003e\\u003c/div\\u003e&quot;, &quot;iconAnchor&quot;: [0, 0], &quot;iconSize&quot;: [20, 20]});\n            marker_e02d486cd65beb439d912aebf6c38ba0.setIcon(div_icon_9d944f134f66cd7083d29df1c0bcb89f);\n        \n&lt;/script&gt;\n&lt;/html&gt;\" style=\"position:absolute;width:100%;height:100%;left:0;top:0;border:none !important;\" allowfullscreen webkitallowfullscreen mozallowfullscreen></iframe></div></div>"
     },
     "execution_count": 22,
     "metadata": {},
     "output_type": "execute_result"
    }
   ],
   "source": [
    "# Create a blue circle at NASA Johnson Space Center's coordinate with a popup label showing its name\n",
    "circle = folium.Circle(nasa_coordinate, radius=1000, color='#d35400', fill=True).add_child(folium.Popup('NASA Johnson Space Center'))\n",
    "# Create a blue circle at NASA Johnson Space Center's coordinate with a icon showing its name\n",
    "marker = folium.map.Marker(\n",
    "    nasa_coordinate,\n",
    "    # Create an icon as a text label\n",
    "    icon=DivIcon(\n",
    "        icon_size=(20,20),\n",
    "        icon_anchor=(0,0),\n",
    "        html='<div style=\"font-size: 12; color:#d35400;\"><b>%s</b></div>' % 'NASA JSC',\n",
    "    )\n",
    ")\n",
    "site_map.add_child(circle)\n",
    "site_map.add_child(marker)\n",
    "#--------------------------------------------------\n",
    "# Create a blue circle at launch site coordinate with a popup label showing its name\n",
    "circle = folium.Circle(CCAFSLC_coordinate, radius=1000, color='#d35400', fill=True).add_child(folium.Popup('CCAFSLC Space Center'))\n",
    "# Create a blue circle at launch site Space Center coordinate with a icon showing its name\n",
    "marker = folium.map.Marker(\n",
    "    CCAFSLC_coordinate,\n",
    "    # Create an icon as a text label\n",
    "    icon=DivIcon(\n",
    "        icon_size=(20,20),\n",
    "        icon_anchor=(0,0),\n",
    "        html='<div style=\"font-size: 12; color:#d35400;\"><b>%s</b></div>' % 'CCAFSLC',\n",
    "    )\n",
    ")\n",
    "site_map.add_child(circle)\n",
    "site_map.add_child(marker)\n",
    "#-------------------------------------------\n",
    "# Create a blue circle at launch site coordinate with a popup label showing its name\n",
    "circle = folium.Circle(CCAFSSLC_coordinate, radius=1000, color='#d35400', fill=True).add_child(folium.Popup('CCAFSSLC Space Center'))\n",
    "# Create a blue circle at launch site Space Center coordinate with a icon showing its name\n",
    "marker = folium.map.Marker(\n",
    "    CCAFSSLC_coordinate,\n",
    "    # Create an icon as a text label\n",
    "    icon=DivIcon(\n",
    "        icon_size=(20,20),\n",
    "        icon_anchor=(0,0),\n",
    "        html='<div style=\"font-size: 12; color:#d35400;\"><b>%s</b></div>' % 'CCAFSSLC',\n",
    "    )\n",
    ")\n",
    "site_map.add_child(circle)\n",
    "site_map.add_child(marker)\n",
    "#-----------------------------------------------\n",
    "# Create a blue circle at launch site coordinate with a popup label showing its name\n",
    "circle = folium.Circle(KSCLC_coordinate, radius=1000, color='#d35400', fill=True).add_child(folium.Popup('KSCLC Space Center'))\n",
    "# Create a blue circle at launch site Space Center coordinate with a icon showing its name\n",
    "marker = folium.map.Marker(\n",
    "    KSCLC_coordinate,\n",
    "    # Create an icon as a text label\n",
    "    icon=DivIcon(\n",
    "        icon_size=(20,20),\n",
    "        icon_anchor=(0,0),\n",
    "        html='<div style=\"font-size: 12; color:#d35400;\"><b>%s</b></div>' % 'KSCLC',\n",
    "    )\n",
    ")\n",
    "site_map.add_child(circle)\n",
    "site_map.add_child(marker)\n",
    "#------------------------------------------------\n",
    "# Create a blue circle at launch site coordinate with a popup label showing its name\n",
    "circle = folium.Circle(VAFBSLC_coordinate, radius=1000, color='#d35400', fill=True).add_child(folium.Popup('VAFBSLC Space Center'))\n",
    "# Create a blue circle at launch site Space Center coordinate with a icon showing its name\n",
    "marker = folium.map.Marker(\n",
    "    VAFBSLC_coordinate,\n",
    "    # Create an icon as a text label\n",
    "    icon=DivIcon(\n",
    "        icon_size=(20,20),\n",
    "        icon_anchor=(0,0),\n",
    "        html='<div style=\"font-size: 12; color:#d35400;\"><b>%s</b></div>' % 'VAFBSLC',\n",
    "    )\n",
    ")\n",
    "site_map.add_child(circle)\n",
    "site_map.add_child(marker)"
   ],
   "metadata": {
    "collapsed": false,
    "ExecuteTime": {
     "start_time": "2023-04-01T15:00:00.822512Z",
     "end_time": "2023-04-01T15:00:00.889373Z"
    }
   }
  },
  {
   "cell_type": "markdown",
   "source": [
    "Next, let's try to enhance the map by adding the launch outcomes for each site, and see which sites have high success rates. Recall that data frame spacex_df has detailed launch records, and the class column indicates if this launch was successful or not"
   ],
   "metadata": {
    "collapsed": false
   }
  },
  {
   "cell_type": "code",
   "execution_count": 23,
   "outputs": [
    {
     "data": {
      "text/plain": "     Launch Site        Lat       Long  class\n46    KSC LC-39A  28.573255 -80.646895      1\n47    KSC LC-39A  28.573255 -80.646895      1\n48    KSC LC-39A  28.573255 -80.646895      1\n49  CCAFS SLC-40  28.563197 -80.576820      1\n50  CCAFS SLC-40  28.563197 -80.576820      1\n51  CCAFS SLC-40  28.563197 -80.576820      0\n52  CCAFS SLC-40  28.563197 -80.576820      0\n53  CCAFS SLC-40  28.563197 -80.576820      0\n54  CCAFS SLC-40  28.563197 -80.576820      1\n55  CCAFS SLC-40  28.563197 -80.576820      0",
      "text/html": "<div>\n<style scoped>\n    .dataframe tbody tr th:only-of-type {\n        vertical-align: middle;\n    }\n\n    .dataframe tbody tr th {\n        vertical-align: top;\n    }\n\n    .dataframe thead th {\n        text-align: right;\n    }\n</style>\n<table border=\"1\" class=\"dataframe\">\n  <thead>\n    <tr style=\"text-align: right;\">\n      <th></th>\n      <th>Launch Site</th>\n      <th>Lat</th>\n      <th>Long</th>\n      <th>class</th>\n    </tr>\n  </thead>\n  <tbody>\n    <tr>\n      <th>46</th>\n      <td>KSC LC-39A</td>\n      <td>28.573255</td>\n      <td>-80.646895</td>\n      <td>1</td>\n    </tr>\n    <tr>\n      <th>47</th>\n      <td>KSC LC-39A</td>\n      <td>28.573255</td>\n      <td>-80.646895</td>\n      <td>1</td>\n    </tr>\n    <tr>\n      <th>48</th>\n      <td>KSC LC-39A</td>\n      <td>28.573255</td>\n      <td>-80.646895</td>\n      <td>1</td>\n    </tr>\n    <tr>\n      <th>49</th>\n      <td>CCAFS SLC-40</td>\n      <td>28.563197</td>\n      <td>-80.576820</td>\n      <td>1</td>\n    </tr>\n    <tr>\n      <th>50</th>\n      <td>CCAFS SLC-40</td>\n      <td>28.563197</td>\n      <td>-80.576820</td>\n      <td>1</td>\n    </tr>\n    <tr>\n      <th>51</th>\n      <td>CCAFS SLC-40</td>\n      <td>28.563197</td>\n      <td>-80.576820</td>\n      <td>0</td>\n    </tr>\n    <tr>\n      <th>52</th>\n      <td>CCAFS SLC-40</td>\n      <td>28.563197</td>\n      <td>-80.576820</td>\n      <td>0</td>\n    </tr>\n    <tr>\n      <th>53</th>\n      <td>CCAFS SLC-40</td>\n      <td>28.563197</td>\n      <td>-80.576820</td>\n      <td>0</td>\n    </tr>\n    <tr>\n      <th>54</th>\n      <td>CCAFS SLC-40</td>\n      <td>28.563197</td>\n      <td>-80.576820</td>\n      <td>1</td>\n    </tr>\n    <tr>\n      <th>55</th>\n      <td>CCAFS SLC-40</td>\n      <td>28.563197</td>\n      <td>-80.576820</td>\n      <td>0</td>\n    </tr>\n  </tbody>\n</table>\n</div>"
     },
     "execution_count": 23,
     "metadata": {},
     "output_type": "execute_result"
    }
   ],
   "source": [
    "spacex_df.tail(10)"
   ],
   "metadata": {
    "collapsed": false,
    "ExecuteTime": {
     "start_time": "2023-04-01T15:00:21.165177Z",
     "end_time": "2023-04-01T15:00:21.208806Z"
    }
   }
  },
  {
   "cell_type": "markdown",
   "source": [
    "Next, let's create markers for all launch records. If a launch was successful (class=1), then we use a green marker and if a launch was failed, we use a red marker (class=0)\n",
    "Note that a launch only happens in one of the four launch sites, which means many launch records will have the exact same coordinate. Marker clusters can be a good way to simplify a map containing many markers having the same coordinate.\n",
    "\n",
    "Let's first create a MarkerCluster object"
   ],
   "metadata": {
    "collapsed": false
   }
  },
  {
   "cell_type": "code",
   "execution_count": 24,
   "outputs": [],
   "source": [
    "marker_cluster = MarkerCluster()"
   ],
   "metadata": {
    "collapsed": false,
    "ExecuteTime": {
     "start_time": "2023-04-01T15:00:42.805890Z",
     "end_time": "2023-04-01T15:00:42.866783Z"
    }
   }
  },
  {
   "cell_type": "markdown",
   "source": [
    "TODO: Create a new column in launch_sites dataframe called marker_color to store the marker colors based on the class value"
   ],
   "metadata": {
    "collapsed": false
   }
  },
  {
   "cell_type": "code",
   "execution_count": 25,
   "outputs": [],
   "source": [
    "# Apply a function to check the value of `class` column\n",
    "# If class=1, marker_color value will be green\n",
    "# If class=0, marker_color value will be red"
   ],
   "metadata": {
    "collapsed": false,
    "ExecuteTime": {
     "start_time": "2023-04-01T15:01:02.878036Z",
     "end_time": "2023-04-01T15:01:02.940651Z"
    }
   }
  },
  {
   "cell_type": "code",
   "execution_count": 26,
   "outputs": [
    {
     "data": {
      "text/plain": "     Launch Site        Lat       Long  class marker_color\n46    KSC LC-39A  28.573255 -80.646895      1        green\n47    KSC LC-39A  28.573255 -80.646895      1        green\n48    KSC LC-39A  28.573255 -80.646895      1        green\n49  CCAFS SLC-40  28.563197 -80.576820      1        green\n50  CCAFS SLC-40  28.563197 -80.576820      1        green\n51  CCAFS SLC-40  28.563197 -80.576820      0          red\n52  CCAFS SLC-40  28.563197 -80.576820      0          red\n53  CCAFS SLC-40  28.563197 -80.576820      0          red\n54  CCAFS SLC-40  28.563197 -80.576820      1        green\n55  CCAFS SLC-40  28.563197 -80.576820      0          red",
      "text/html": "<div>\n<style scoped>\n    .dataframe tbody tr th:only-of-type {\n        vertical-align: middle;\n    }\n\n    .dataframe tbody tr th {\n        vertical-align: top;\n    }\n\n    .dataframe thead th {\n        text-align: right;\n    }\n</style>\n<table border=\"1\" class=\"dataframe\">\n  <thead>\n    <tr style=\"text-align: right;\">\n      <th></th>\n      <th>Launch Site</th>\n      <th>Lat</th>\n      <th>Long</th>\n      <th>class</th>\n      <th>marker_color</th>\n    </tr>\n  </thead>\n  <tbody>\n    <tr>\n      <th>46</th>\n      <td>KSC LC-39A</td>\n      <td>28.573255</td>\n      <td>-80.646895</td>\n      <td>1</td>\n      <td>green</td>\n    </tr>\n    <tr>\n      <th>47</th>\n      <td>KSC LC-39A</td>\n      <td>28.573255</td>\n      <td>-80.646895</td>\n      <td>1</td>\n      <td>green</td>\n    </tr>\n    <tr>\n      <th>48</th>\n      <td>KSC LC-39A</td>\n      <td>28.573255</td>\n      <td>-80.646895</td>\n      <td>1</td>\n      <td>green</td>\n    </tr>\n    <tr>\n      <th>49</th>\n      <td>CCAFS SLC-40</td>\n      <td>28.563197</td>\n      <td>-80.576820</td>\n      <td>1</td>\n      <td>green</td>\n    </tr>\n    <tr>\n      <th>50</th>\n      <td>CCAFS SLC-40</td>\n      <td>28.563197</td>\n      <td>-80.576820</td>\n      <td>1</td>\n      <td>green</td>\n    </tr>\n    <tr>\n      <th>51</th>\n      <td>CCAFS SLC-40</td>\n      <td>28.563197</td>\n      <td>-80.576820</td>\n      <td>0</td>\n      <td>red</td>\n    </tr>\n    <tr>\n      <th>52</th>\n      <td>CCAFS SLC-40</td>\n      <td>28.563197</td>\n      <td>-80.576820</td>\n      <td>0</td>\n      <td>red</td>\n    </tr>\n    <tr>\n      <th>53</th>\n      <td>CCAFS SLC-40</td>\n      <td>28.563197</td>\n      <td>-80.576820</td>\n      <td>0</td>\n      <td>red</td>\n    </tr>\n    <tr>\n      <th>54</th>\n      <td>CCAFS SLC-40</td>\n      <td>28.563197</td>\n      <td>-80.576820</td>\n      <td>1</td>\n      <td>green</td>\n    </tr>\n    <tr>\n      <th>55</th>\n      <td>CCAFS SLC-40</td>\n      <td>28.563197</td>\n      <td>-80.576820</td>\n      <td>0</td>\n      <td>red</td>\n    </tr>\n  </tbody>\n</table>\n</div>"
     },
     "execution_count": 26,
     "metadata": {},
     "output_type": "execute_result"
    }
   ],
   "source": [
    "# Function to assign color to launch outcome\n",
    "def assign_marker_color(launch_outcome):\n",
    "    if launch_outcome == 1:\n",
    "        return 'green'\n",
    "    else:\n",
    "        return 'red'\n",
    "\n",
    "spacex_df['marker_color'] = spacex_df['class'].apply(assign_marker_color)\n",
    "spacex_df.tail(10)"
   ],
   "metadata": {
    "collapsed": false,
    "ExecuteTime": {
     "start_time": "2023-04-01T15:01:10.918630Z",
     "end_time": "2023-04-01T15:01:10.997013Z"
    }
   }
  },
  {
   "cell_type": "markdown",
   "source": [
    "TODO: For each launch result in spacex_df data frame, add a folium.Marker to marker_cluster"
   ],
   "metadata": {
    "collapsed": false
   }
  },
  {
   "cell_type": "code",
   "execution_count": 27,
   "outputs": [
    {
     "data": {
      "text/plain": "<folium.folium.Map at 0x23976f907c0>",
      "text/html": "<div style=\"width:100%;\"><div style=\"position:relative;width:100%;height:0;padding-bottom:60%;\"><span style=\"color:#565656\">Make this Notebook Trusted to load map: File -> Trust Notebook</span><iframe srcdoc=\"&lt;!DOCTYPE html&gt;\n&lt;html&gt;\n&lt;head&gt;\n    \n    &lt;meta http-equiv=&quot;content-type&quot; content=&quot;text/html; charset=UTF-8&quot; /&gt;\n    \n        &lt;script&gt;\n            L_NO_TOUCH = false;\n            L_DISABLE_3D = false;\n        &lt;/script&gt;\n    \n    &lt;style&gt;html, body {width: 100%;height: 100%;margin: 0;padding: 0;}&lt;/style&gt;\n    &lt;style&gt;#map {position:absolute;top:0;bottom:0;right:0;left:0;}&lt;/style&gt;\n    &lt;script src=&quot;https://cdn.jsdelivr.net/npm/leaflet@1.9.3/dist/leaflet.js&quot;&gt;&lt;/script&gt;\n    &lt;script src=&quot;https://code.jquery.com/jquery-1.12.4.min.js&quot;&gt;&lt;/script&gt;\n    &lt;script src=&quot;https://cdn.jsdelivr.net/npm/bootstrap@5.2.2/dist/js/bootstrap.bundle.min.js&quot;&gt;&lt;/script&gt;\n    &lt;script src=&quot;https://cdnjs.cloudflare.com/ajax/libs/Leaflet.awesome-markers/2.0.2/leaflet.awesome-markers.js&quot;&gt;&lt;/script&gt;\n    &lt;link rel=&quot;stylesheet&quot; href=&quot;https://cdn.jsdelivr.net/npm/leaflet@1.9.3/dist/leaflet.css&quot;/&gt;\n    &lt;link rel=&quot;stylesheet&quot; href=&quot;https://cdn.jsdelivr.net/npm/bootstrap@5.2.2/dist/css/bootstrap.min.css&quot;/&gt;\n    &lt;link rel=&quot;stylesheet&quot; href=&quot;https://netdna.bootstrapcdn.com/bootstrap/3.0.0/css/bootstrap.min.css&quot;/&gt;\n    &lt;link rel=&quot;stylesheet&quot; href=&quot;https://cdn.jsdelivr.net/npm/@fortawesome/fontawesome-free@6.2.0/css/all.min.css&quot;/&gt;\n    &lt;link rel=&quot;stylesheet&quot; href=&quot;https://cdnjs.cloudflare.com/ajax/libs/Leaflet.awesome-markers/2.0.2/leaflet.awesome-markers.css&quot;/&gt;\n    &lt;link rel=&quot;stylesheet&quot; href=&quot;https://cdn.jsdelivr.net/gh/python-visualization/folium/folium/templates/leaflet.awesome.rotate.min.css&quot;/&gt;\n    \n            &lt;meta name=&quot;viewport&quot; content=&quot;width=device-width,\n                initial-scale=1.0, maximum-scale=1.0, user-scalable=no&quot; /&gt;\n            &lt;style&gt;\n                #map_a72f26924533117da5d58eac987a1f80 {\n                    position: relative;\n                    width: 100.0%;\n                    height: 100.0%;\n                    left: 0.0%;\n                    top: 0.0%;\n                }\n                .leaflet-container { font-size: 1rem; }\n            &lt;/style&gt;\n        \n    &lt;script src=&quot;https://cdnjs.cloudflare.com/ajax/libs/leaflet.markercluster/1.1.0/leaflet.markercluster.js&quot;&gt;&lt;/script&gt;\n    &lt;link rel=&quot;stylesheet&quot; href=&quot;https://cdnjs.cloudflare.com/ajax/libs/leaflet.markercluster/1.1.0/MarkerCluster.css&quot;/&gt;\n    &lt;link rel=&quot;stylesheet&quot; href=&quot;https://cdnjs.cloudflare.com/ajax/libs/leaflet.markercluster/1.1.0/MarkerCluster.Default.css&quot;/&gt;\n&lt;/head&gt;\n&lt;body&gt;\n    \n    \n            &lt;div class=&quot;folium-map&quot; id=&quot;map_a72f26924533117da5d58eac987a1f80&quot; &gt;&lt;/div&gt;\n        \n&lt;/body&gt;\n&lt;script&gt;\n    \n    \n            var map_a72f26924533117da5d58eac987a1f80 = L.map(\n                &quot;map_a72f26924533117da5d58eac987a1f80&quot;,\n                {\n                    center: [29.559684888503615, -95.0830971930759],\n                    crs: L.CRS.EPSG3857,\n                    zoom: 10,\n                    zoomControl: true,\n                    preferCanvas: false,\n                }\n            );\n\n            \n\n        \n    \n            var tile_layer_6e3cdc546bee316ca32c1b558130f3e6 = L.tileLayer(\n                &quot;https://{s}.tile.openstreetmap.org/{z}/{x}/{y}.png&quot;,\n                {&quot;attribution&quot;: &quot;Data by \\u0026copy; \\u003ca target=\\&quot;_blank\\&quot; href=\\&quot;http://openstreetmap.org\\&quot;\\u003eOpenStreetMap\\u003c/a\\u003e, under \\u003ca target=\\&quot;_blank\\&quot; href=\\&quot;http://www.openstreetmap.org/copyright\\&quot;\\u003eODbL\\u003c/a\\u003e.&quot;, &quot;detectRetina&quot;: false, &quot;maxNativeZoom&quot;: 18, &quot;maxZoom&quot;: 18, &quot;minZoom&quot;: 0, &quot;noWrap&quot;: false, &quot;opacity&quot;: 1, &quot;subdomains&quot;: &quot;abc&quot;, &quot;tms&quot;: false}\n            ).addTo(map_a72f26924533117da5d58eac987a1f80);\n        \n    \n            var circle_e4c92d345398ac9f8a87bd4bb69efd8d = L.circle(\n                [29.559684888503615, -95.0830971930759],\n                {&quot;bubblingMouseEvents&quot;: true, &quot;color&quot;: &quot;#d35400&quot;, &quot;dashArray&quot;: null, &quot;dashOffset&quot;: null, &quot;fill&quot;: true, &quot;fillColor&quot;: &quot;#d35400&quot;, &quot;fillOpacity&quot;: 0.2, &quot;fillRule&quot;: &quot;evenodd&quot;, &quot;lineCap&quot;: &quot;round&quot;, &quot;lineJoin&quot;: &quot;round&quot;, &quot;opacity&quot;: 1.0, &quot;radius&quot;: 1000, &quot;stroke&quot;: true, &quot;weight&quot;: 3}\n            ).addTo(map_a72f26924533117da5d58eac987a1f80);\n        \n    \n        var popup_f038645036fd8ec55db6f24544813e7d = L.popup({&quot;maxWidth&quot;: &quot;100%&quot;});\n\n        \n            \n                var html_0bc48af64c31e83215e23c2064cfbf0e = $(`&lt;div id=&quot;html_0bc48af64c31e83215e23c2064cfbf0e&quot; style=&quot;width: 100.0%; height: 100.0%;&quot;&gt;NASA Johnson Space Center&lt;/div&gt;`)[0];\n                popup_f038645036fd8ec55db6f24544813e7d.setContent(html_0bc48af64c31e83215e23c2064cfbf0e);\n            \n        \n\n        circle_e4c92d345398ac9f8a87bd4bb69efd8d.bindPopup(popup_f038645036fd8ec55db6f24544813e7d)\n        ;\n\n        \n    \n    \n            var marker_355c4f8620d744c84763846e9e3505e9 = L.marker(\n                [29.559684888503615, -95.0830971930759],\n                {}\n            ).addTo(map_a72f26924533117da5d58eac987a1f80);\n        \n    \n            var div_icon_c74a872b49d8dee72fc1efd664891ae6 = L.divIcon({&quot;className&quot;: &quot;empty&quot;, &quot;html&quot;: &quot;\\u003cdiv style=\\&quot;font-size: 12; color:#d35400;\\&quot;\\u003e\\u003cb\\u003eNASA JSC\\u003c/b\\u003e\\u003c/div\\u003e&quot;, &quot;iconAnchor&quot;: [0, 0], &quot;iconSize&quot;: [20, 20]});\n            marker_355c4f8620d744c84763846e9e3505e9.setIcon(div_icon_c74a872b49d8dee72fc1efd664891ae6);\n        \n    \n            var circle_7b652d39f05bedb0724be6ae870074d0 = L.circle(\n                [28.562302, -80.577356],\n                {&quot;bubblingMouseEvents&quot;: true, &quot;color&quot;: &quot;#d35400&quot;, &quot;dashArray&quot;: null, &quot;dashOffset&quot;: null, &quot;fill&quot;: true, &quot;fillColor&quot;: &quot;#d35400&quot;, &quot;fillOpacity&quot;: 0.2, &quot;fillRule&quot;: &quot;evenodd&quot;, &quot;lineCap&quot;: &quot;round&quot;, &quot;lineJoin&quot;: &quot;round&quot;, &quot;opacity&quot;: 1.0, &quot;radius&quot;: 1000, &quot;stroke&quot;: true, &quot;weight&quot;: 3}\n            ).addTo(map_a72f26924533117da5d58eac987a1f80);\n        \n    \n        var popup_fd1a2e6c4bdb84fba419c472fee26924 = L.popup({&quot;maxWidth&quot;: &quot;100%&quot;});\n\n        \n            \n                var html_112b5bd92498924a3ce710a6416c9634 = $(`&lt;div id=&quot;html_112b5bd92498924a3ce710a6416c9634&quot; style=&quot;width: 100.0%; height: 100.0%;&quot;&gt;CCAFSLC Space Center&lt;/div&gt;`)[0];\n                popup_fd1a2e6c4bdb84fba419c472fee26924.setContent(html_112b5bd92498924a3ce710a6416c9634);\n            \n        \n\n        circle_7b652d39f05bedb0724be6ae870074d0.bindPopup(popup_fd1a2e6c4bdb84fba419c472fee26924)\n        ;\n\n        \n    \n    \n            var marker_afbc19043a30575fe18463df8bfce26f = L.marker(\n                [28.562302, -80.577356],\n                {}\n            ).addTo(map_a72f26924533117da5d58eac987a1f80);\n        \n    \n            var div_icon_c6ac212f805ebdfba9b803697e211a95 = L.divIcon({&quot;className&quot;: &quot;empty&quot;, &quot;html&quot;: &quot;\\u003cdiv style=\\&quot;font-size: 12; color:#d35400;\\&quot;\\u003e\\u003cb\\u003eCCAFSLC\\u003c/b\\u003e\\u003c/div\\u003e&quot;, &quot;iconAnchor&quot;: [0, 0], &quot;iconSize&quot;: [20, 20]});\n            marker_afbc19043a30575fe18463df8bfce26f.setIcon(div_icon_c6ac212f805ebdfba9b803697e211a95);\n        \n    \n            var circle_ed9540f32363037925b6610f4cdb800d = L.circle(\n                [28.563197, -80.57682],\n                {&quot;bubblingMouseEvents&quot;: true, &quot;color&quot;: &quot;#d35400&quot;, &quot;dashArray&quot;: null, &quot;dashOffset&quot;: null, &quot;fill&quot;: true, &quot;fillColor&quot;: &quot;#d35400&quot;, &quot;fillOpacity&quot;: 0.2, &quot;fillRule&quot;: &quot;evenodd&quot;, &quot;lineCap&quot;: &quot;round&quot;, &quot;lineJoin&quot;: &quot;round&quot;, &quot;opacity&quot;: 1.0, &quot;radius&quot;: 1000, &quot;stroke&quot;: true, &quot;weight&quot;: 3}\n            ).addTo(map_a72f26924533117da5d58eac987a1f80);\n        \n    \n        var popup_4617a172c1898bbb4e499cf8f212721e = L.popup({&quot;maxWidth&quot;: &quot;100%&quot;});\n\n        \n            \n                var html_cd08337fbd18e54778a7b1f931899be3 = $(`&lt;div id=&quot;html_cd08337fbd18e54778a7b1f931899be3&quot; style=&quot;width: 100.0%; height: 100.0%;&quot;&gt;CCAFSSLC Space Center&lt;/div&gt;`)[0];\n                popup_4617a172c1898bbb4e499cf8f212721e.setContent(html_cd08337fbd18e54778a7b1f931899be3);\n            \n        \n\n        circle_ed9540f32363037925b6610f4cdb800d.bindPopup(popup_4617a172c1898bbb4e499cf8f212721e)\n        ;\n\n        \n    \n    \n            var marker_03ff75b5a58e8d4d6081b7980e8f427e = L.marker(\n                [28.563197, -80.57682],\n                {}\n            ).addTo(map_a72f26924533117da5d58eac987a1f80);\n        \n    \n            var div_icon_6ec039548fba4a6f11c156fe4b2cadff = L.divIcon({&quot;className&quot;: &quot;empty&quot;, &quot;html&quot;: &quot;\\u003cdiv style=\\&quot;font-size: 12; color:#d35400;\\&quot;\\u003e\\u003cb\\u003eCCAFSSLC\\u003c/b\\u003e\\u003c/div\\u003e&quot;, &quot;iconAnchor&quot;: [0, 0], &quot;iconSize&quot;: [20, 20]});\n            marker_03ff75b5a58e8d4d6081b7980e8f427e.setIcon(div_icon_6ec039548fba4a6f11c156fe4b2cadff);\n        \n    \n            var circle_4b6f3e74895f1704a6b650023e27bf33 = L.circle(\n                [28.573255, -80.646895],\n                {&quot;bubblingMouseEvents&quot;: true, &quot;color&quot;: &quot;#d35400&quot;, &quot;dashArray&quot;: null, &quot;dashOffset&quot;: null, &quot;fill&quot;: true, &quot;fillColor&quot;: &quot;#d35400&quot;, &quot;fillOpacity&quot;: 0.2, &quot;fillRule&quot;: &quot;evenodd&quot;, &quot;lineCap&quot;: &quot;round&quot;, &quot;lineJoin&quot;: &quot;round&quot;, &quot;opacity&quot;: 1.0, &quot;radius&quot;: 1000, &quot;stroke&quot;: true, &quot;weight&quot;: 3}\n            ).addTo(map_a72f26924533117da5d58eac987a1f80);\n        \n    \n        var popup_90f59d85548c9fc773969129b010381a = L.popup({&quot;maxWidth&quot;: &quot;100%&quot;});\n\n        \n            \n                var html_2095eb8c399503bf006bbb94bda7e686 = $(`&lt;div id=&quot;html_2095eb8c399503bf006bbb94bda7e686&quot; style=&quot;width: 100.0%; height: 100.0%;&quot;&gt;KSCLC Space Center&lt;/div&gt;`)[0];\n                popup_90f59d85548c9fc773969129b010381a.setContent(html_2095eb8c399503bf006bbb94bda7e686);\n            \n        \n\n        circle_4b6f3e74895f1704a6b650023e27bf33.bindPopup(popup_90f59d85548c9fc773969129b010381a)\n        ;\n\n        \n    \n    \n            var marker_956ba068b0d3bb31112ab894eb5d707c = L.marker(\n                [28.573255, -80.646895],\n                {}\n            ).addTo(map_a72f26924533117da5d58eac987a1f80);\n        \n    \n            var div_icon_4a14b851e94cea016c1a194bea08fd86 = L.divIcon({&quot;className&quot;: &quot;empty&quot;, &quot;html&quot;: &quot;\\u003cdiv style=\\&quot;font-size: 12; color:#d35400;\\&quot;\\u003e\\u003cb\\u003eKSCLC\\u003c/b\\u003e\\u003c/div\\u003e&quot;, &quot;iconAnchor&quot;: [0, 0], &quot;iconSize&quot;: [20, 20]});\n            marker_956ba068b0d3bb31112ab894eb5d707c.setIcon(div_icon_4a14b851e94cea016c1a194bea08fd86);\n        \n    \n            var circle_b46f74bd679a0a210b467ec462fe7cb4 = L.circle(\n                [34.632834, -120.610746],\n                {&quot;bubblingMouseEvents&quot;: true, &quot;color&quot;: &quot;#d35400&quot;, &quot;dashArray&quot;: null, &quot;dashOffset&quot;: null, &quot;fill&quot;: true, &quot;fillColor&quot;: &quot;#d35400&quot;, &quot;fillOpacity&quot;: 0.2, &quot;fillRule&quot;: &quot;evenodd&quot;, &quot;lineCap&quot;: &quot;round&quot;, &quot;lineJoin&quot;: &quot;round&quot;, &quot;opacity&quot;: 1.0, &quot;radius&quot;: 1000, &quot;stroke&quot;: true, &quot;weight&quot;: 3}\n            ).addTo(map_a72f26924533117da5d58eac987a1f80);\n        \n    \n        var popup_f3fe0391029f9539fafdfd8c6026f251 = L.popup({&quot;maxWidth&quot;: &quot;100%&quot;});\n\n        \n            \n                var html_a19c9f8801bebc64ccc4a32a59d862b0 = $(`&lt;div id=&quot;html_a19c9f8801bebc64ccc4a32a59d862b0&quot; style=&quot;width: 100.0%; height: 100.0%;&quot;&gt;VAFBSLC Space Center&lt;/div&gt;`)[0];\n                popup_f3fe0391029f9539fafdfd8c6026f251.setContent(html_a19c9f8801bebc64ccc4a32a59d862b0);\n            \n        \n\n        circle_b46f74bd679a0a210b467ec462fe7cb4.bindPopup(popup_f3fe0391029f9539fafdfd8c6026f251)\n        ;\n\n        \n    \n    \n            var marker_c6626866c2882a51d522e5ba59c61af1 = L.marker(\n                [34.632834, -120.610746],\n                {}\n            ).addTo(map_a72f26924533117da5d58eac987a1f80);\n        \n    \n            var div_icon_bb1269f1864dc126fde7f01b96cdaf83 = L.divIcon({&quot;className&quot;: &quot;empty&quot;, &quot;html&quot;: &quot;\\u003cdiv style=\\&quot;font-size: 12; color:#d35400;\\&quot;\\u003e\\u003cb\\u003eVAFBSLC\\u003c/b\\u003e\\u003c/div\\u003e&quot;, &quot;iconAnchor&quot;: [0, 0], &quot;iconSize&quot;: [20, 20]});\n            marker_c6626866c2882a51d522e5ba59c61af1.setIcon(div_icon_bb1269f1864dc126fde7f01b96cdaf83);\n        \n    \n            var circle_6a37e27097cb758e333a1da3d36f9acb = L.circle(\n                [29.559684888503615, -95.0830971930759],\n                {&quot;bubblingMouseEvents&quot;: true, &quot;color&quot;: &quot;#d35400&quot;, &quot;dashArray&quot;: null, &quot;dashOffset&quot;: null, &quot;fill&quot;: true, &quot;fillColor&quot;: &quot;#d35400&quot;, &quot;fillOpacity&quot;: 0.2, &quot;fillRule&quot;: &quot;evenodd&quot;, &quot;lineCap&quot;: &quot;round&quot;, &quot;lineJoin&quot;: &quot;round&quot;, &quot;opacity&quot;: 1.0, &quot;radius&quot;: 1000, &quot;stroke&quot;: true, &quot;weight&quot;: 3}\n            ).addTo(map_a72f26924533117da5d58eac987a1f80);\n        \n    \n        var popup_f06cd9f4e87c052e0f1244f01895b252 = L.popup({&quot;maxWidth&quot;: &quot;100%&quot;});\n\n        \n            \n                var html_21b7f8f30b5060eb74df05a8bfe3fb36 = $(`&lt;div id=&quot;html_21b7f8f30b5060eb74df05a8bfe3fb36&quot; style=&quot;width: 100.0%; height: 100.0%;&quot;&gt;NASA Johnson Space Center&lt;/div&gt;`)[0];\n                popup_f06cd9f4e87c052e0f1244f01895b252.setContent(html_21b7f8f30b5060eb74df05a8bfe3fb36);\n            \n        \n\n        circle_6a37e27097cb758e333a1da3d36f9acb.bindPopup(popup_f06cd9f4e87c052e0f1244f01895b252)\n        ;\n\n        \n    \n    \n            var marker_2f47eff827efa0c655d216b875c15a96 = L.marker(\n                [29.559684888503615, -95.0830971930759],\n                {}\n            ).addTo(map_a72f26924533117da5d58eac987a1f80);\n        \n    \n            var div_icon_3b47517c6d535003e2e903677eecd8d3 = L.divIcon({&quot;className&quot;: &quot;empty&quot;, &quot;html&quot;: &quot;\\u003cdiv style=\\&quot;font-size: 12; color:#d35400;\\&quot;\\u003e\\u003cb\\u003eNASA JSC\\u003c/b\\u003e\\u003c/div\\u003e&quot;, &quot;iconAnchor&quot;: [0, 0], &quot;iconSize&quot;: [20, 20]});\n            marker_2f47eff827efa0c655d216b875c15a96.setIcon(div_icon_3b47517c6d535003e2e903677eecd8d3);\n        \n    \n            var circle_feeffd2b33d9239aa4b612edd5fee148 = L.circle(\n                [28.562302, -80.577356],\n                {&quot;bubblingMouseEvents&quot;: true, &quot;color&quot;: &quot;#d35400&quot;, &quot;dashArray&quot;: null, &quot;dashOffset&quot;: null, &quot;fill&quot;: true, &quot;fillColor&quot;: &quot;#d35400&quot;, &quot;fillOpacity&quot;: 0.2, &quot;fillRule&quot;: &quot;evenodd&quot;, &quot;lineCap&quot;: &quot;round&quot;, &quot;lineJoin&quot;: &quot;round&quot;, &quot;opacity&quot;: 1.0, &quot;radius&quot;: 1000, &quot;stroke&quot;: true, &quot;weight&quot;: 3}\n            ).addTo(map_a72f26924533117da5d58eac987a1f80);\n        \n    \n        var popup_fdfe097501ce4efbbc3399ebe71de172 = L.popup({&quot;maxWidth&quot;: &quot;100%&quot;});\n\n        \n            \n                var html_fd5e6e2a891c6a9c7b5668f34fb86311 = $(`&lt;div id=&quot;html_fd5e6e2a891c6a9c7b5668f34fb86311&quot; style=&quot;width: 100.0%; height: 100.0%;&quot;&gt;CCAFSLC Space Center&lt;/div&gt;`)[0];\n                popup_fdfe097501ce4efbbc3399ebe71de172.setContent(html_fd5e6e2a891c6a9c7b5668f34fb86311);\n            \n        \n\n        circle_feeffd2b33d9239aa4b612edd5fee148.bindPopup(popup_fdfe097501ce4efbbc3399ebe71de172)\n        ;\n\n        \n    \n    \n            var marker_bc5373552c8d2a2fb7a633e37abdaeb7 = L.marker(\n                [28.562302, -80.577356],\n                {}\n            ).addTo(map_a72f26924533117da5d58eac987a1f80);\n        \n    \n            var div_icon_27ba64db438084ba25d774708b62e317 = L.divIcon({&quot;className&quot;: &quot;empty&quot;, &quot;html&quot;: &quot;\\u003cdiv style=\\&quot;font-size: 12; color:#d35400;\\&quot;\\u003e\\u003cb\\u003eCCAFSLC\\u003c/b\\u003e\\u003c/div\\u003e&quot;, &quot;iconAnchor&quot;: [0, 0], &quot;iconSize&quot;: [20, 20]});\n            marker_bc5373552c8d2a2fb7a633e37abdaeb7.setIcon(div_icon_27ba64db438084ba25d774708b62e317);\n        \n    \n            var circle_f81458da77972136ee098bee926b9a1d = L.circle(\n                [28.563197, -80.57682],\n                {&quot;bubblingMouseEvents&quot;: true, &quot;color&quot;: &quot;#d35400&quot;, &quot;dashArray&quot;: null, &quot;dashOffset&quot;: null, &quot;fill&quot;: true, &quot;fillColor&quot;: &quot;#d35400&quot;, &quot;fillOpacity&quot;: 0.2, &quot;fillRule&quot;: &quot;evenodd&quot;, &quot;lineCap&quot;: &quot;round&quot;, &quot;lineJoin&quot;: &quot;round&quot;, &quot;opacity&quot;: 1.0, &quot;radius&quot;: 1000, &quot;stroke&quot;: true, &quot;weight&quot;: 3}\n            ).addTo(map_a72f26924533117da5d58eac987a1f80);\n        \n    \n        var popup_06ca51a8b64d40352222b9c5920225f0 = L.popup({&quot;maxWidth&quot;: &quot;100%&quot;});\n\n        \n            \n                var html_aa5847ca1a5ca3dd740d5e01bba2a5c5 = $(`&lt;div id=&quot;html_aa5847ca1a5ca3dd740d5e01bba2a5c5&quot; style=&quot;width: 100.0%; height: 100.0%;&quot;&gt;CCAFSSLC Space Center&lt;/div&gt;`)[0];\n                popup_06ca51a8b64d40352222b9c5920225f0.setContent(html_aa5847ca1a5ca3dd740d5e01bba2a5c5);\n            \n        \n\n        circle_f81458da77972136ee098bee926b9a1d.bindPopup(popup_06ca51a8b64d40352222b9c5920225f0)\n        ;\n\n        \n    \n    \n            var marker_ea6a03e110aaef0dce8053754a557717 = L.marker(\n                [28.563197, -80.57682],\n                {}\n            ).addTo(map_a72f26924533117da5d58eac987a1f80);\n        \n    \n            var div_icon_4a777bd4651a2f7621121e5d84f5e06d = L.divIcon({&quot;className&quot;: &quot;empty&quot;, &quot;html&quot;: &quot;\\u003cdiv style=\\&quot;font-size: 12; color:#d35400;\\&quot;\\u003e\\u003cb\\u003eCCAFSSLC\\u003c/b\\u003e\\u003c/div\\u003e&quot;, &quot;iconAnchor&quot;: [0, 0], &quot;iconSize&quot;: [20, 20]});\n            marker_ea6a03e110aaef0dce8053754a557717.setIcon(div_icon_4a777bd4651a2f7621121e5d84f5e06d);\n        \n    \n            var circle_0c52db90dd157b9aa760bda82cb970ff = L.circle(\n                [28.573255, -80.646895],\n                {&quot;bubblingMouseEvents&quot;: true, &quot;color&quot;: &quot;#d35400&quot;, &quot;dashArray&quot;: null, &quot;dashOffset&quot;: null, &quot;fill&quot;: true, &quot;fillColor&quot;: &quot;#d35400&quot;, &quot;fillOpacity&quot;: 0.2, &quot;fillRule&quot;: &quot;evenodd&quot;, &quot;lineCap&quot;: &quot;round&quot;, &quot;lineJoin&quot;: &quot;round&quot;, &quot;opacity&quot;: 1.0, &quot;radius&quot;: 1000, &quot;stroke&quot;: true, &quot;weight&quot;: 3}\n            ).addTo(map_a72f26924533117da5d58eac987a1f80);\n        \n    \n        var popup_8e1ec43d4cee4aade39cbc8e79092228 = L.popup({&quot;maxWidth&quot;: &quot;100%&quot;});\n\n        \n            \n                var html_5f64e02d86f62bdb7aba8d6fb1da0b2a = $(`&lt;div id=&quot;html_5f64e02d86f62bdb7aba8d6fb1da0b2a&quot; style=&quot;width: 100.0%; height: 100.0%;&quot;&gt;KSCLC Space Center&lt;/div&gt;`)[0];\n                popup_8e1ec43d4cee4aade39cbc8e79092228.setContent(html_5f64e02d86f62bdb7aba8d6fb1da0b2a);\n            \n        \n\n        circle_0c52db90dd157b9aa760bda82cb970ff.bindPopup(popup_8e1ec43d4cee4aade39cbc8e79092228)\n        ;\n\n        \n    \n    \n            var marker_08bbf907acf07fb79321220ff90115e4 = L.marker(\n                [28.573255, -80.646895],\n                {}\n            ).addTo(map_a72f26924533117da5d58eac987a1f80);\n        \n    \n            var div_icon_edde57c637f0b4341dac9bb7cf00159e = L.divIcon({&quot;className&quot;: &quot;empty&quot;, &quot;html&quot;: &quot;\\u003cdiv style=\\&quot;font-size: 12; color:#d35400;\\&quot;\\u003e\\u003cb\\u003eKSCLC\\u003c/b\\u003e\\u003c/div\\u003e&quot;, &quot;iconAnchor&quot;: [0, 0], &quot;iconSize&quot;: [20, 20]});\n            marker_08bbf907acf07fb79321220ff90115e4.setIcon(div_icon_edde57c637f0b4341dac9bb7cf00159e);\n        \n    \n            var circle_7ec5654ed0df130601ca614e82dc395a = L.circle(\n                [34.632834, -120.610746],\n                {&quot;bubblingMouseEvents&quot;: true, &quot;color&quot;: &quot;#d35400&quot;, &quot;dashArray&quot;: null, &quot;dashOffset&quot;: null, &quot;fill&quot;: true, &quot;fillColor&quot;: &quot;#d35400&quot;, &quot;fillOpacity&quot;: 0.2, &quot;fillRule&quot;: &quot;evenodd&quot;, &quot;lineCap&quot;: &quot;round&quot;, &quot;lineJoin&quot;: &quot;round&quot;, &quot;opacity&quot;: 1.0, &quot;radius&quot;: 1000, &quot;stroke&quot;: true, &quot;weight&quot;: 3}\n            ).addTo(map_a72f26924533117da5d58eac987a1f80);\n        \n    \n        var popup_0684055283954cb9ed50cf5e9c8341f0 = L.popup({&quot;maxWidth&quot;: &quot;100%&quot;});\n\n        \n            \n                var html_533537876e69ba07f971e76075b383f0 = $(`&lt;div id=&quot;html_533537876e69ba07f971e76075b383f0&quot; style=&quot;width: 100.0%; height: 100.0%;&quot;&gt;VAFBSLC Space Center&lt;/div&gt;`)[0];\n                popup_0684055283954cb9ed50cf5e9c8341f0.setContent(html_533537876e69ba07f971e76075b383f0);\n            \n        \n\n        circle_7ec5654ed0df130601ca614e82dc395a.bindPopup(popup_0684055283954cb9ed50cf5e9c8341f0)\n        ;\n\n        \n    \n    \n            var marker_e02d486cd65beb439d912aebf6c38ba0 = L.marker(\n                [34.632834, -120.610746],\n                {}\n            ).addTo(map_a72f26924533117da5d58eac987a1f80);\n        \n    \n            var div_icon_9d944f134f66cd7083d29df1c0bcb89f = L.divIcon({&quot;className&quot;: &quot;empty&quot;, &quot;html&quot;: &quot;\\u003cdiv style=\\&quot;font-size: 12; color:#d35400;\\&quot;\\u003e\\u003cb\\u003eVAFBSLC\\u003c/b\\u003e\\u003c/div\\u003e&quot;, &quot;iconAnchor&quot;: [0, 0], &quot;iconSize&quot;: [20, 20]});\n            marker_e02d486cd65beb439d912aebf6c38ba0.setIcon(div_icon_9d944f134f66cd7083d29df1c0bcb89f);\n        \n    \n            var marker_cluster_c0be3883a4345621315572eeda596c41 = L.markerClusterGroup(\n                {}\n            );\n            map_a72f26924533117da5d58eac987a1f80.addLayer(marker_cluster_c0be3883a4345621315572eeda596c41);\n        \n    \n            var marker_36ae786b1c75d5894cf03da5ddd6313b = L.marker(\n                [28.56230197, -80.57735648],\n                {}\n            ).addTo(marker_cluster_c0be3883a4345621315572eeda596c41);\n        \n    \n            var icon_bd2d1662d82d033a102e3020b521cabd = L.AwesomeMarkers.icon(\n                {&quot;extraClasses&quot;: &quot;fa-rotate-0&quot;, &quot;icon&quot;: &quot;info-sign&quot;, &quot;iconColor&quot;: &quot;red&quot;, &quot;markerColor&quot;: &quot;white&quot;, &quot;prefix&quot;: &quot;glyphicon&quot;}\n            );\n            marker_36ae786b1c75d5894cf03da5ddd6313b.setIcon(icon_bd2d1662d82d033a102e3020b521cabd);\n        \n    \n            var marker_a36dd67548c4a25f14753cefef28c19e = L.marker(\n                [28.56230197, -80.57735648],\n                {}\n            ).addTo(marker_cluster_c0be3883a4345621315572eeda596c41);\n        \n    \n            var icon_d6aaa9d754c29135f96e7f972f3592b4 = L.AwesomeMarkers.icon(\n                {&quot;extraClasses&quot;: &quot;fa-rotate-0&quot;, &quot;icon&quot;: &quot;info-sign&quot;, &quot;iconColor&quot;: &quot;red&quot;, &quot;markerColor&quot;: &quot;white&quot;, &quot;prefix&quot;: &quot;glyphicon&quot;}\n            );\n            marker_a36dd67548c4a25f14753cefef28c19e.setIcon(icon_d6aaa9d754c29135f96e7f972f3592b4);\n        \n    \n            var marker_83d961fdcfca49bb4eef08e87844337f = L.marker(\n                [28.56230197, -80.57735648],\n                {}\n            ).addTo(marker_cluster_c0be3883a4345621315572eeda596c41);\n        \n    \n            var icon_2e42873e3da8c3b22ece4032568e809d = L.AwesomeMarkers.icon(\n                {&quot;extraClasses&quot;: &quot;fa-rotate-0&quot;, &quot;icon&quot;: &quot;info-sign&quot;, &quot;iconColor&quot;: &quot;red&quot;, &quot;markerColor&quot;: &quot;white&quot;, &quot;prefix&quot;: &quot;glyphicon&quot;}\n            );\n            marker_83d961fdcfca49bb4eef08e87844337f.setIcon(icon_2e42873e3da8c3b22ece4032568e809d);\n        \n    \n            var marker_7c34beee85bcd834346346351ae72c81 = L.marker(\n                [28.56230197, -80.57735648],\n                {}\n            ).addTo(marker_cluster_c0be3883a4345621315572eeda596c41);\n        \n    \n            var icon_a32acf37a1559f9e77a7c36d18cc8ccf = L.AwesomeMarkers.icon(\n                {&quot;extraClasses&quot;: &quot;fa-rotate-0&quot;, &quot;icon&quot;: &quot;info-sign&quot;, &quot;iconColor&quot;: &quot;red&quot;, &quot;markerColor&quot;: &quot;white&quot;, &quot;prefix&quot;: &quot;glyphicon&quot;}\n            );\n            marker_7c34beee85bcd834346346351ae72c81.setIcon(icon_a32acf37a1559f9e77a7c36d18cc8ccf);\n        \n    \n            var marker_001d59def43e2110a3ee70eaee266286 = L.marker(\n                [28.56230197, -80.57735648],\n                {}\n            ).addTo(marker_cluster_c0be3883a4345621315572eeda596c41);\n        \n    \n            var icon_62a9914b114c5f3f483486b8df76fff6 = L.AwesomeMarkers.icon(\n                {&quot;extraClasses&quot;: &quot;fa-rotate-0&quot;, &quot;icon&quot;: &quot;info-sign&quot;, &quot;iconColor&quot;: &quot;red&quot;, &quot;markerColor&quot;: &quot;white&quot;, &quot;prefix&quot;: &quot;glyphicon&quot;}\n            );\n            marker_001d59def43e2110a3ee70eaee266286.setIcon(icon_62a9914b114c5f3f483486b8df76fff6);\n        \n    \n            var marker_9694b2e594853d23782374ec8b91c54d = L.marker(\n                [28.56230197, -80.57735648],\n                {}\n            ).addTo(marker_cluster_c0be3883a4345621315572eeda596c41);\n        \n    \n            var icon_f1d95b1113ac293d734dbe256b22212f = L.AwesomeMarkers.icon(\n                {&quot;extraClasses&quot;: &quot;fa-rotate-0&quot;, &quot;icon&quot;: &quot;info-sign&quot;, &quot;iconColor&quot;: &quot;red&quot;, &quot;markerColor&quot;: &quot;white&quot;, &quot;prefix&quot;: &quot;glyphicon&quot;}\n            );\n            marker_9694b2e594853d23782374ec8b91c54d.setIcon(icon_f1d95b1113ac293d734dbe256b22212f);\n        \n    \n            var marker_41c759ca14065315fd9dc390cedf4a06 = L.marker(\n                [28.56230197, -80.57735648],\n                {}\n            ).addTo(marker_cluster_c0be3883a4345621315572eeda596c41);\n        \n    \n            var icon_280adeaed8d9208fb34b9dec7c83560d = L.AwesomeMarkers.icon(\n                {&quot;extraClasses&quot;: &quot;fa-rotate-0&quot;, &quot;icon&quot;: &quot;info-sign&quot;, &quot;iconColor&quot;: &quot;red&quot;, &quot;markerColor&quot;: &quot;white&quot;, &quot;prefix&quot;: &quot;glyphicon&quot;}\n            );\n            marker_41c759ca14065315fd9dc390cedf4a06.setIcon(icon_280adeaed8d9208fb34b9dec7c83560d);\n        \n    \n            var marker_fbe26d79d23e8560a3b9b84ac650ddde = L.marker(\n                [28.56230197, -80.57735648],\n                {}\n            ).addTo(marker_cluster_c0be3883a4345621315572eeda596c41);\n        \n    \n            var icon_4e02cff2a6fcf95dedc6563eb305f82a = L.AwesomeMarkers.icon(\n                {&quot;extraClasses&quot;: &quot;fa-rotate-0&quot;, &quot;icon&quot;: &quot;info-sign&quot;, &quot;iconColor&quot;: &quot;red&quot;, &quot;markerColor&quot;: &quot;white&quot;, &quot;prefix&quot;: &quot;glyphicon&quot;}\n            );\n            marker_fbe26d79d23e8560a3b9b84ac650ddde.setIcon(icon_4e02cff2a6fcf95dedc6563eb305f82a);\n        \n    \n            var marker_8d800726ef0315ba28400607edcc7743 = L.marker(\n                [28.56230197, -80.57735648],\n                {}\n            ).addTo(marker_cluster_c0be3883a4345621315572eeda596c41);\n        \n    \n            var icon_5a42d0f405508c5010f4e9eabf69e0cd = L.AwesomeMarkers.icon(\n                {&quot;extraClasses&quot;: &quot;fa-rotate-0&quot;, &quot;icon&quot;: &quot;info-sign&quot;, &quot;iconColor&quot;: &quot;red&quot;, &quot;markerColor&quot;: &quot;white&quot;, &quot;prefix&quot;: &quot;glyphicon&quot;}\n            );\n            marker_8d800726ef0315ba28400607edcc7743.setIcon(icon_5a42d0f405508c5010f4e9eabf69e0cd);\n        \n    \n            var marker_b1a6dbe379009178db9f92f1435fc795 = L.marker(\n                [28.56230197, -80.57735648],\n                {}\n            ).addTo(marker_cluster_c0be3883a4345621315572eeda596c41);\n        \n    \n            var icon_0f08848af97f35be7297d8bb02ef27da = L.AwesomeMarkers.icon(\n                {&quot;extraClasses&quot;: &quot;fa-rotate-0&quot;, &quot;icon&quot;: &quot;info-sign&quot;, &quot;iconColor&quot;: &quot;red&quot;, &quot;markerColor&quot;: &quot;white&quot;, &quot;prefix&quot;: &quot;glyphicon&quot;}\n            );\n            marker_b1a6dbe379009178db9f92f1435fc795.setIcon(icon_0f08848af97f35be7297d8bb02ef27da);\n        \n    \n            var marker_65568d1a7fa0db21c7a41675e6eebe6b = L.marker(\n                [28.56230197, -80.57735648],\n                {}\n            ).addTo(marker_cluster_c0be3883a4345621315572eeda596c41);\n        \n    \n            var icon_1004d44baa5261cddf35eb0c431fcda8 = L.AwesomeMarkers.icon(\n                {&quot;extraClasses&quot;: &quot;fa-rotate-0&quot;, &quot;icon&quot;: &quot;info-sign&quot;, &quot;iconColor&quot;: &quot;red&quot;, &quot;markerColor&quot;: &quot;white&quot;, &quot;prefix&quot;: &quot;glyphicon&quot;}\n            );\n            marker_65568d1a7fa0db21c7a41675e6eebe6b.setIcon(icon_1004d44baa5261cddf35eb0c431fcda8);\n        \n    \n            var marker_2aa3fa4c210729e8c5aafa8990256fb4 = L.marker(\n                [28.56230197, -80.57735648],\n                {}\n            ).addTo(marker_cluster_c0be3883a4345621315572eeda596c41);\n        \n    \n            var icon_022d625e4e1a6dab84c9df2596d0c2d4 = L.AwesomeMarkers.icon(\n                {&quot;extraClasses&quot;: &quot;fa-rotate-0&quot;, &quot;icon&quot;: &quot;info-sign&quot;, &quot;iconColor&quot;: &quot;red&quot;, &quot;markerColor&quot;: &quot;white&quot;, &quot;prefix&quot;: &quot;glyphicon&quot;}\n            );\n            marker_2aa3fa4c210729e8c5aafa8990256fb4.setIcon(icon_022d625e4e1a6dab84c9df2596d0c2d4);\n        \n    \n            var marker_8a6094ddc92fd3ad7d4a6754173db39d = L.marker(\n                [28.56230197, -80.57735648],\n                {}\n            ).addTo(marker_cluster_c0be3883a4345621315572eeda596c41);\n        \n    \n            var icon_32c07d40fa0cb907e4bbf91e418dde7b = L.AwesomeMarkers.icon(\n                {&quot;extraClasses&quot;: &quot;fa-rotate-0&quot;, &quot;icon&quot;: &quot;info-sign&quot;, &quot;iconColor&quot;: &quot;red&quot;, &quot;markerColor&quot;: &quot;white&quot;, &quot;prefix&quot;: &quot;glyphicon&quot;}\n            );\n            marker_8a6094ddc92fd3ad7d4a6754173db39d.setIcon(icon_32c07d40fa0cb907e4bbf91e418dde7b);\n        \n    \n            var marker_3e257050f76524c5a3591ec474c27ff3 = L.marker(\n                [28.56230197, -80.57735648],\n                {}\n            ).addTo(marker_cluster_c0be3883a4345621315572eeda596c41);\n        \n    \n            var icon_94199d6e6447e6b6f1817c2b7a2aec85 = L.AwesomeMarkers.icon(\n                {&quot;extraClasses&quot;: &quot;fa-rotate-0&quot;, &quot;icon&quot;: &quot;info-sign&quot;, &quot;iconColor&quot;: &quot;red&quot;, &quot;markerColor&quot;: &quot;white&quot;, &quot;prefix&quot;: &quot;glyphicon&quot;}\n            );\n            marker_3e257050f76524c5a3591ec474c27ff3.setIcon(icon_94199d6e6447e6b6f1817c2b7a2aec85);\n        \n    \n            var marker_1a046386cb5df00a08e617673c43a499 = L.marker(\n                [28.56230197, -80.57735648],\n                {}\n            ).addTo(marker_cluster_c0be3883a4345621315572eeda596c41);\n        \n    \n            var icon_7b148aea97d56841b2f0858ae60f45b1 = L.AwesomeMarkers.icon(\n                {&quot;extraClasses&quot;: &quot;fa-rotate-0&quot;, &quot;icon&quot;: &quot;info-sign&quot;, &quot;iconColor&quot;: &quot;red&quot;, &quot;markerColor&quot;: &quot;white&quot;, &quot;prefix&quot;: &quot;glyphicon&quot;}\n            );\n            marker_1a046386cb5df00a08e617673c43a499.setIcon(icon_7b148aea97d56841b2f0858ae60f45b1);\n        \n    \n            var marker_a78de5aa82f5a095766b792a0139747e = L.marker(\n                [28.56230197, -80.57735648],\n                {}\n            ).addTo(marker_cluster_c0be3883a4345621315572eeda596c41);\n        \n    \n            var icon_9372d4250ec91799519381498e27bddf = L.AwesomeMarkers.icon(\n                {&quot;extraClasses&quot;: &quot;fa-rotate-0&quot;, &quot;icon&quot;: &quot;info-sign&quot;, &quot;iconColor&quot;: &quot;red&quot;, &quot;markerColor&quot;: &quot;white&quot;, &quot;prefix&quot;: &quot;glyphicon&quot;}\n            );\n            marker_a78de5aa82f5a095766b792a0139747e.setIcon(icon_9372d4250ec91799519381498e27bddf);\n        \n    \n            var marker_e17cae61fbd7853bc9ea5962c45e4467 = L.marker(\n                [28.56230197, -80.57735648],\n                {}\n            ).addTo(marker_cluster_c0be3883a4345621315572eeda596c41);\n        \n    \n            var icon_4bb8c383e743d348fdf17ea523214a71 = L.AwesomeMarkers.icon(\n                {&quot;extraClasses&quot;: &quot;fa-rotate-0&quot;, &quot;icon&quot;: &quot;info-sign&quot;, &quot;iconColor&quot;: &quot;red&quot;, &quot;markerColor&quot;: &quot;white&quot;, &quot;prefix&quot;: &quot;glyphicon&quot;}\n            );\n            marker_e17cae61fbd7853bc9ea5962c45e4467.setIcon(icon_4bb8c383e743d348fdf17ea523214a71);\n        \n    \n            var marker_695288b4343e2992080f03c11bd4fe2d = L.marker(\n                [28.56230197, -80.57735648],\n                {}\n            ).addTo(marker_cluster_c0be3883a4345621315572eeda596c41);\n        \n    \n            var icon_a231e49fe5c1ad6feb96b114c2ae3ef5 = L.AwesomeMarkers.icon(\n                {&quot;extraClasses&quot;: &quot;fa-rotate-0&quot;, &quot;icon&quot;: &quot;info-sign&quot;, &quot;iconColor&quot;: &quot;green&quot;, &quot;markerColor&quot;: &quot;white&quot;, &quot;prefix&quot;: &quot;glyphicon&quot;}\n            );\n            marker_695288b4343e2992080f03c11bd4fe2d.setIcon(icon_a231e49fe5c1ad6feb96b114c2ae3ef5);\n        \n    \n            var marker_361ed302a685117841b35b1d655e791a = L.marker(\n                [28.56230197, -80.57735648],\n                {}\n            ).addTo(marker_cluster_c0be3883a4345621315572eeda596c41);\n        \n    \n            var icon_cb47ef6d6b1aea3ec87c9dc623d5ab83 = L.AwesomeMarkers.icon(\n                {&quot;extraClasses&quot;: &quot;fa-rotate-0&quot;, &quot;icon&quot;: &quot;info-sign&quot;, &quot;iconColor&quot;: &quot;green&quot;, &quot;markerColor&quot;: &quot;white&quot;, &quot;prefix&quot;: &quot;glyphicon&quot;}\n            );\n            marker_361ed302a685117841b35b1d655e791a.setIcon(icon_cb47ef6d6b1aea3ec87c9dc623d5ab83);\n        \n    \n            var marker_de97ca30330e2f5a150a7f516f2e4cfb = L.marker(\n                [28.56230197, -80.57735648],\n                {}\n            ).addTo(marker_cluster_c0be3883a4345621315572eeda596c41);\n        \n    \n            var icon_945cb57f1556b346cc7a9d78d5ca20b3 = L.AwesomeMarkers.icon(\n                {&quot;extraClasses&quot;: &quot;fa-rotate-0&quot;, &quot;icon&quot;: &quot;info-sign&quot;, &quot;iconColor&quot;: &quot;red&quot;, &quot;markerColor&quot;: &quot;white&quot;, &quot;prefix&quot;: &quot;glyphicon&quot;}\n            );\n            marker_de97ca30330e2f5a150a7f516f2e4cfb.setIcon(icon_945cb57f1556b346cc7a9d78d5ca20b3);\n        \n    \n            var marker_5afaa169ddf13d900a7d1f252cebb5bd = L.marker(\n                [28.56230197, -80.57735648],\n                {}\n            ).addTo(marker_cluster_c0be3883a4345621315572eeda596c41);\n        \n    \n            var icon_c4d6320709d86ae592d870dda4399cf9 = L.AwesomeMarkers.icon(\n                {&quot;extraClasses&quot;: &quot;fa-rotate-0&quot;, &quot;icon&quot;: &quot;info-sign&quot;, &quot;iconColor&quot;: &quot;green&quot;, &quot;markerColor&quot;: &quot;white&quot;, &quot;prefix&quot;: &quot;glyphicon&quot;}\n            );\n            marker_5afaa169ddf13d900a7d1f252cebb5bd.setIcon(icon_c4d6320709d86ae592d870dda4399cf9);\n        \n    \n            var marker_d24e3d29bf3bd805523a1609246fb1b7 = L.marker(\n                [28.56230197, -80.57735648],\n                {}\n            ).addTo(marker_cluster_c0be3883a4345621315572eeda596c41);\n        \n    \n            var icon_bb7d43b8447d23a9bab531a65408d9a7 = L.AwesomeMarkers.icon(\n                {&quot;extraClasses&quot;: &quot;fa-rotate-0&quot;, &quot;icon&quot;: &quot;info-sign&quot;, &quot;iconColor&quot;: &quot;green&quot;, &quot;markerColor&quot;: &quot;white&quot;, &quot;prefix&quot;: &quot;glyphicon&quot;}\n            );\n            marker_d24e3d29bf3bd805523a1609246fb1b7.setIcon(icon_bb7d43b8447d23a9bab531a65408d9a7);\n        \n    \n            var marker_09d2e722bcc32269e263a638664a8b9f = L.marker(\n                [28.56230197, -80.57735648],\n                {}\n            ).addTo(marker_cluster_c0be3883a4345621315572eeda596c41);\n        \n    \n            var icon_a9bc8828a0df014318134a7535637dfd = L.AwesomeMarkers.icon(\n                {&quot;extraClasses&quot;: &quot;fa-rotate-0&quot;, &quot;icon&quot;: &quot;info-sign&quot;, &quot;iconColor&quot;: &quot;green&quot;, &quot;markerColor&quot;: &quot;white&quot;, &quot;prefix&quot;: &quot;glyphicon&quot;}\n            );\n            marker_09d2e722bcc32269e263a638664a8b9f.setIcon(icon_a9bc8828a0df014318134a7535637dfd);\n        \n    \n            var marker_6e99c0210a1defbcac0d223356f59a0b = L.marker(\n                [28.56230197, -80.57735648],\n                {}\n            ).addTo(marker_cluster_c0be3883a4345621315572eeda596c41);\n        \n    \n            var icon_fbbdca89801a872ab106be2ef9e4b48d = L.AwesomeMarkers.icon(\n                {&quot;extraClasses&quot;: &quot;fa-rotate-0&quot;, &quot;icon&quot;: &quot;info-sign&quot;, &quot;iconColor&quot;: &quot;red&quot;, &quot;markerColor&quot;: &quot;white&quot;, &quot;prefix&quot;: &quot;glyphicon&quot;}\n            );\n            marker_6e99c0210a1defbcac0d223356f59a0b.setIcon(icon_fbbdca89801a872ab106be2ef9e4b48d);\n        \n    \n            var marker_49c57e530da1360b7290ae0631aaafb2 = L.marker(\n                [28.56230197, -80.57735648],\n                {}\n            ).addTo(marker_cluster_c0be3883a4345621315572eeda596c41);\n        \n    \n            var icon_4ce87f51dbd9361dabaae34cc7b1c3f3 = L.AwesomeMarkers.icon(\n                {&quot;extraClasses&quot;: &quot;fa-rotate-0&quot;, &quot;icon&quot;: &quot;info-sign&quot;, &quot;iconColor&quot;: &quot;green&quot;, &quot;markerColor&quot;: &quot;white&quot;, &quot;prefix&quot;: &quot;glyphicon&quot;}\n            );\n            marker_49c57e530da1360b7290ae0631aaafb2.setIcon(icon_4ce87f51dbd9361dabaae34cc7b1c3f3);\n        \n    \n            var marker_962244659fea996bd0d0020cb9d99ab9 = L.marker(\n                [28.56230197, -80.57735648],\n                {}\n            ).addTo(marker_cluster_c0be3883a4345621315572eeda596c41);\n        \n    \n            var icon_10791829d370422c5473941acc6f55bb = L.AwesomeMarkers.icon(\n                {&quot;extraClasses&quot;: &quot;fa-rotate-0&quot;, &quot;icon&quot;: &quot;info-sign&quot;, &quot;iconColor&quot;: &quot;green&quot;, &quot;markerColor&quot;: &quot;white&quot;, &quot;prefix&quot;: &quot;glyphicon&quot;}\n            );\n            marker_962244659fea996bd0d0020cb9d99ab9.setIcon(icon_10791829d370422c5473941acc6f55bb);\n        \n    \n            var marker_e7fd388698d301d579e5152dd3537303 = L.marker(\n                [34.63283416, -120.61074550000001],\n                {}\n            ).addTo(marker_cluster_c0be3883a4345621315572eeda596c41);\n        \n    \n            var icon_4046853324776b3aef6cf664ffe71319 = L.AwesomeMarkers.icon(\n                {&quot;extraClasses&quot;: &quot;fa-rotate-0&quot;, &quot;icon&quot;: &quot;info-sign&quot;, &quot;iconColor&quot;: &quot;red&quot;, &quot;markerColor&quot;: &quot;white&quot;, &quot;prefix&quot;: &quot;glyphicon&quot;}\n            );\n            marker_e7fd388698d301d579e5152dd3537303.setIcon(icon_4046853324776b3aef6cf664ffe71319);\n        \n    \n            var marker_d25df8c820377ba0a1c52484d0a1674e = L.marker(\n                [34.63283416, -120.61074550000001],\n                {}\n            ).addTo(marker_cluster_c0be3883a4345621315572eeda596c41);\n        \n    \n            var icon_e5132881554e74f7591ab815cc3d6ee5 = L.AwesomeMarkers.icon(\n                {&quot;extraClasses&quot;: &quot;fa-rotate-0&quot;, &quot;icon&quot;: &quot;info-sign&quot;, &quot;iconColor&quot;: &quot;red&quot;, &quot;markerColor&quot;: &quot;white&quot;, &quot;prefix&quot;: &quot;glyphicon&quot;}\n            );\n            marker_d25df8c820377ba0a1c52484d0a1674e.setIcon(icon_e5132881554e74f7591ab815cc3d6ee5);\n        \n    \n            var marker_9be1e50e3cbfc248e1fae7ab60e5c2a4 = L.marker(\n                [34.63283416, -120.61074550000001],\n                {}\n            ).addTo(marker_cluster_c0be3883a4345621315572eeda596c41);\n        \n    \n            var icon_850b4f7afbca005feee8cdf997f18d3f = L.AwesomeMarkers.icon(\n                {&quot;extraClasses&quot;: &quot;fa-rotate-0&quot;, &quot;icon&quot;: &quot;info-sign&quot;, &quot;iconColor&quot;: &quot;green&quot;, &quot;markerColor&quot;: &quot;white&quot;, &quot;prefix&quot;: &quot;glyphicon&quot;}\n            );\n            marker_9be1e50e3cbfc248e1fae7ab60e5c2a4.setIcon(icon_850b4f7afbca005feee8cdf997f18d3f);\n        \n    \n            var marker_daef2d32e203b7e5ca54f4989841b7d6 = L.marker(\n                [34.63283416, -120.61074550000001],\n                {}\n            ).addTo(marker_cluster_c0be3883a4345621315572eeda596c41);\n        \n    \n            var icon_02ac2d294d88afb245acafa248a48941 = L.AwesomeMarkers.icon(\n                {&quot;extraClasses&quot;: &quot;fa-rotate-0&quot;, &quot;icon&quot;: &quot;info-sign&quot;, &quot;iconColor&quot;: &quot;green&quot;, &quot;markerColor&quot;: &quot;white&quot;, &quot;prefix&quot;: &quot;glyphicon&quot;}\n            );\n            marker_daef2d32e203b7e5ca54f4989841b7d6.setIcon(icon_02ac2d294d88afb245acafa248a48941);\n        \n    \n            var marker_2683f5dca9ade44585580ab1c4d2ad01 = L.marker(\n                [34.63283416, -120.61074550000001],\n                {}\n            ).addTo(marker_cluster_c0be3883a4345621315572eeda596c41);\n        \n    \n            var icon_6ff3593a27c6d72035807199e56fcaed = L.AwesomeMarkers.icon(\n                {&quot;extraClasses&quot;: &quot;fa-rotate-0&quot;, &quot;icon&quot;: &quot;info-sign&quot;, &quot;iconColor&quot;: &quot;green&quot;, &quot;markerColor&quot;: &quot;white&quot;, &quot;prefix&quot;: &quot;glyphicon&quot;}\n            );\n            marker_2683f5dca9ade44585580ab1c4d2ad01.setIcon(icon_6ff3593a27c6d72035807199e56fcaed);\n        \n    \n            var marker_1a6d90eccd327233f9a2d1cfc23082d6 = L.marker(\n                [34.63283416, -120.61074550000001],\n                {}\n            ).addTo(marker_cluster_c0be3883a4345621315572eeda596c41);\n        \n    \n            var icon_7222332e2aabd34726514af9cccc4d66 = L.AwesomeMarkers.icon(\n                {&quot;extraClasses&quot;: &quot;fa-rotate-0&quot;, &quot;icon&quot;: &quot;info-sign&quot;, &quot;iconColor&quot;: &quot;green&quot;, &quot;markerColor&quot;: &quot;white&quot;, &quot;prefix&quot;: &quot;glyphicon&quot;}\n            );\n            marker_1a6d90eccd327233f9a2d1cfc23082d6.setIcon(icon_7222332e2aabd34726514af9cccc4d66);\n        \n    \n            var marker_732a9aa99404327ab3c3cf58b0c6d66f = L.marker(\n                [34.63283416, -120.61074550000001],\n                {}\n            ).addTo(marker_cluster_c0be3883a4345621315572eeda596c41);\n        \n    \n            var icon_a429f60edc7eff2c23e1bcb627be4921 = L.AwesomeMarkers.icon(\n                {&quot;extraClasses&quot;: &quot;fa-rotate-0&quot;, &quot;icon&quot;: &quot;info-sign&quot;, &quot;iconColor&quot;: &quot;red&quot;, &quot;markerColor&quot;: &quot;white&quot;, &quot;prefix&quot;: &quot;glyphicon&quot;}\n            );\n            marker_732a9aa99404327ab3c3cf58b0c6d66f.setIcon(icon_a429f60edc7eff2c23e1bcb627be4921);\n        \n    \n            var marker_a6fa4bb5119b55dc54fe7fb8c85803cd = L.marker(\n                [34.63283416, -120.61074550000001],\n                {}\n            ).addTo(marker_cluster_c0be3883a4345621315572eeda596c41);\n        \n    \n            var icon_8d6f2cd26f2a9b97abfbab9cf5d30f9c = L.AwesomeMarkers.icon(\n                {&quot;extraClasses&quot;: &quot;fa-rotate-0&quot;, &quot;icon&quot;: &quot;info-sign&quot;, &quot;iconColor&quot;: &quot;red&quot;, &quot;markerColor&quot;: &quot;white&quot;, &quot;prefix&quot;: &quot;glyphicon&quot;}\n            );\n            marker_a6fa4bb5119b55dc54fe7fb8c85803cd.setIcon(icon_8d6f2cd26f2a9b97abfbab9cf5d30f9c);\n        \n    \n            var marker_5561e0d818d4f6e3527c9f4075c058df = L.marker(\n                [34.63283416, -120.61074550000001],\n                {}\n            ).addTo(marker_cluster_c0be3883a4345621315572eeda596c41);\n        \n    \n            var icon_2aef5223e4ed335e811660fa4352798e = L.AwesomeMarkers.icon(\n                {&quot;extraClasses&quot;: &quot;fa-rotate-0&quot;, &quot;icon&quot;: &quot;info-sign&quot;, &quot;iconColor&quot;: &quot;red&quot;, &quot;markerColor&quot;: &quot;white&quot;, &quot;prefix&quot;: &quot;glyphicon&quot;}\n            );\n            marker_5561e0d818d4f6e3527c9f4075c058df.setIcon(icon_2aef5223e4ed335e811660fa4352798e);\n        \n    \n            var marker_a1f6dd4087a0713085e18c1694294799 = L.marker(\n                [34.63283416, -120.61074550000001],\n                {}\n            ).addTo(marker_cluster_c0be3883a4345621315572eeda596c41);\n        \n    \n            var icon_2a39fb5f1289784fe6840c7dbed813da = L.AwesomeMarkers.icon(\n                {&quot;extraClasses&quot;: &quot;fa-rotate-0&quot;, &quot;icon&quot;: &quot;info-sign&quot;, &quot;iconColor&quot;: &quot;red&quot;, &quot;markerColor&quot;: &quot;white&quot;, &quot;prefix&quot;: &quot;glyphicon&quot;}\n            );\n            marker_a1f6dd4087a0713085e18c1694294799.setIcon(icon_2a39fb5f1289784fe6840c7dbed813da);\n        \n    \n            var marker_ac9700d52c08bed67111a15845f3d805 = L.marker(\n                [28.57325457, -80.64689529],\n                {}\n            ).addTo(marker_cluster_c0be3883a4345621315572eeda596c41);\n        \n    \n            var icon_a2663781e03c15e67d7b2948c539c1ee = L.AwesomeMarkers.icon(\n                {&quot;extraClasses&quot;: &quot;fa-rotate-0&quot;, &quot;icon&quot;: &quot;info-sign&quot;, &quot;iconColor&quot;: &quot;green&quot;, &quot;markerColor&quot;: &quot;white&quot;, &quot;prefix&quot;: &quot;glyphicon&quot;}\n            );\n            marker_ac9700d52c08bed67111a15845f3d805.setIcon(icon_a2663781e03c15e67d7b2948c539c1ee);\n        \n    \n            var marker_2ed0b13fd3e30fd6d27a685fec1b9a32 = L.marker(\n                [28.57325457, -80.64689529],\n                {}\n            ).addTo(marker_cluster_c0be3883a4345621315572eeda596c41);\n        \n    \n            var icon_3ae54b02c5528c4370877f8da9867ff5 = L.AwesomeMarkers.icon(\n                {&quot;extraClasses&quot;: &quot;fa-rotate-0&quot;, &quot;icon&quot;: &quot;info-sign&quot;, &quot;iconColor&quot;: &quot;red&quot;, &quot;markerColor&quot;: &quot;white&quot;, &quot;prefix&quot;: &quot;glyphicon&quot;}\n            );\n            marker_2ed0b13fd3e30fd6d27a685fec1b9a32.setIcon(icon_3ae54b02c5528c4370877f8da9867ff5);\n        \n    \n            var marker_c32129ebd92a4aaaf9444143ae5b8d4d = L.marker(\n                [28.57325457, -80.64689529],\n                {}\n            ).addTo(marker_cluster_c0be3883a4345621315572eeda596c41);\n        \n    \n            var icon_ed41232456aa8fc22f0cd6388d0a6ff2 = L.AwesomeMarkers.icon(\n                {&quot;extraClasses&quot;: &quot;fa-rotate-0&quot;, &quot;icon&quot;: &quot;info-sign&quot;, &quot;iconColor&quot;: &quot;green&quot;, &quot;markerColor&quot;: &quot;white&quot;, &quot;prefix&quot;: &quot;glyphicon&quot;}\n            );\n            marker_c32129ebd92a4aaaf9444143ae5b8d4d.setIcon(icon_ed41232456aa8fc22f0cd6388d0a6ff2);\n        \n    \n            var marker_df02c39a5df66f4a649da5352d66ed7d = L.marker(\n                [28.57325457, -80.64689529],\n                {}\n            ).addTo(marker_cluster_c0be3883a4345621315572eeda596c41);\n        \n    \n            var icon_7aa96129cbb9dc814f2429438226a98b = L.AwesomeMarkers.icon(\n                {&quot;extraClasses&quot;: &quot;fa-rotate-0&quot;, &quot;icon&quot;: &quot;info-sign&quot;, &quot;iconColor&quot;: &quot;green&quot;, &quot;markerColor&quot;: &quot;white&quot;, &quot;prefix&quot;: &quot;glyphicon&quot;}\n            );\n            marker_df02c39a5df66f4a649da5352d66ed7d.setIcon(icon_7aa96129cbb9dc814f2429438226a98b);\n        \n    \n            var marker_c6fd955215fd71e3dea2b1aa5e26a46c = L.marker(\n                [28.57325457, -80.64689529],\n                {}\n            ).addTo(marker_cluster_c0be3883a4345621315572eeda596c41);\n        \n    \n            var icon_1d51eb5ca650fe09943b216e95f16513 = L.AwesomeMarkers.icon(\n                {&quot;extraClasses&quot;: &quot;fa-rotate-0&quot;, &quot;icon&quot;: &quot;info-sign&quot;, &quot;iconColor&quot;: &quot;red&quot;, &quot;markerColor&quot;: &quot;white&quot;, &quot;prefix&quot;: &quot;glyphicon&quot;}\n            );\n            marker_c6fd955215fd71e3dea2b1aa5e26a46c.setIcon(icon_1d51eb5ca650fe09943b216e95f16513);\n        \n    \n            var marker_e2dc8fd09df47b8858920592d6545e75 = L.marker(\n                [28.57325457, -80.64689529],\n                {}\n            ).addTo(marker_cluster_c0be3883a4345621315572eeda596c41);\n        \n    \n            var icon_569f2d40780256ee9c9b4e75cec0d5b4 = L.AwesomeMarkers.icon(\n                {&quot;extraClasses&quot;: &quot;fa-rotate-0&quot;, &quot;icon&quot;: &quot;info-sign&quot;, &quot;iconColor&quot;: &quot;green&quot;, &quot;markerColor&quot;: &quot;white&quot;, &quot;prefix&quot;: &quot;glyphicon&quot;}\n            );\n            marker_e2dc8fd09df47b8858920592d6545e75.setIcon(icon_569f2d40780256ee9c9b4e75cec0d5b4);\n        \n    \n            var marker_ff604c4ff582abb1bdfd00cb1d1a03d8 = L.marker(\n                [28.57325457, -80.64689529],\n                {}\n            ).addTo(marker_cluster_c0be3883a4345621315572eeda596c41);\n        \n    \n            var icon_337adb5bd2a599d546314acadfc7c318 = L.AwesomeMarkers.icon(\n                {&quot;extraClasses&quot;: &quot;fa-rotate-0&quot;, &quot;icon&quot;: &quot;info-sign&quot;, &quot;iconColor&quot;: &quot;green&quot;, &quot;markerColor&quot;: &quot;white&quot;, &quot;prefix&quot;: &quot;glyphicon&quot;}\n            );\n            marker_ff604c4ff582abb1bdfd00cb1d1a03d8.setIcon(icon_337adb5bd2a599d546314acadfc7c318);\n        \n    \n            var marker_55559d366feab8b4a543da94d7004b7b = L.marker(\n                [28.57325457, -80.64689529],\n                {}\n            ).addTo(marker_cluster_c0be3883a4345621315572eeda596c41);\n        \n    \n            var icon_93a166b677091cedc2b8c58f26095232 = L.AwesomeMarkers.icon(\n                {&quot;extraClasses&quot;: &quot;fa-rotate-0&quot;, &quot;icon&quot;: &quot;info-sign&quot;, &quot;iconColor&quot;: &quot;red&quot;, &quot;markerColor&quot;: &quot;white&quot;, &quot;prefix&quot;: &quot;glyphicon&quot;}\n            );\n            marker_55559d366feab8b4a543da94d7004b7b.setIcon(icon_93a166b677091cedc2b8c58f26095232);\n        \n    \n            var marker_184c3ef9350d89253a33e270772bcd5a = L.marker(\n                [28.57325457, -80.64689529],\n                {}\n            ).addTo(marker_cluster_c0be3883a4345621315572eeda596c41);\n        \n    \n            var icon_43dec26d1bc0ae38ad967c960b8c4512 = L.AwesomeMarkers.icon(\n                {&quot;extraClasses&quot;: &quot;fa-rotate-0&quot;, &quot;icon&quot;: &quot;info-sign&quot;, &quot;iconColor&quot;: &quot;green&quot;, &quot;markerColor&quot;: &quot;white&quot;, &quot;prefix&quot;: &quot;glyphicon&quot;}\n            );\n            marker_184c3ef9350d89253a33e270772bcd5a.setIcon(icon_43dec26d1bc0ae38ad967c960b8c4512);\n        \n    \n            var marker_bf7168c2d627565ea984d49ba96f2d39 = L.marker(\n                [28.57325457, -80.64689529],\n                {}\n            ).addTo(marker_cluster_c0be3883a4345621315572eeda596c41);\n        \n    \n            var icon_4eb75a364c6cfe5529841d06545f7655 = L.AwesomeMarkers.icon(\n                {&quot;extraClasses&quot;: &quot;fa-rotate-0&quot;, &quot;icon&quot;: &quot;info-sign&quot;, &quot;iconColor&quot;: &quot;green&quot;, &quot;markerColor&quot;: &quot;white&quot;, &quot;prefix&quot;: &quot;glyphicon&quot;}\n            );\n            marker_bf7168c2d627565ea984d49ba96f2d39.setIcon(icon_4eb75a364c6cfe5529841d06545f7655);\n        \n    \n            var marker_a18c877dadc72a5a8610a4fd97bccc28 = L.marker(\n                [28.57325457, -80.64689529],\n                {}\n            ).addTo(marker_cluster_c0be3883a4345621315572eeda596c41);\n        \n    \n            var icon_ea606a159fe222f7ba491966542dfb67 = L.AwesomeMarkers.icon(\n                {&quot;extraClasses&quot;: &quot;fa-rotate-0&quot;, &quot;icon&quot;: &quot;info-sign&quot;, &quot;iconColor&quot;: &quot;green&quot;, &quot;markerColor&quot;: &quot;white&quot;, &quot;prefix&quot;: &quot;glyphicon&quot;}\n            );\n            marker_a18c877dadc72a5a8610a4fd97bccc28.setIcon(icon_ea606a159fe222f7ba491966542dfb67);\n        \n    \n            var marker_10af6193eda199e7694b1bf5c965ad29 = L.marker(\n                [28.57325457, -80.64689529],\n                {}\n            ).addTo(marker_cluster_c0be3883a4345621315572eeda596c41);\n        \n    \n            var icon_c8f7f4aa5a33e626f985ca0656b9e85f = L.AwesomeMarkers.icon(\n                {&quot;extraClasses&quot;: &quot;fa-rotate-0&quot;, &quot;icon&quot;: &quot;info-sign&quot;, &quot;iconColor&quot;: &quot;green&quot;, &quot;markerColor&quot;: &quot;white&quot;, &quot;prefix&quot;: &quot;glyphicon&quot;}\n            );\n            marker_10af6193eda199e7694b1bf5c965ad29.setIcon(icon_c8f7f4aa5a33e626f985ca0656b9e85f);\n        \n    \n            var marker_c63583ffd9dbf9271c72b2e4964ceb5d = L.marker(\n                [28.57325457, -80.64689529],\n                {}\n            ).addTo(marker_cluster_c0be3883a4345621315572eeda596c41);\n        \n    \n            var icon_28d9f05377f0f30713c334d1bc08e903 = L.AwesomeMarkers.icon(\n                {&quot;extraClasses&quot;: &quot;fa-rotate-0&quot;, &quot;icon&quot;: &quot;info-sign&quot;, &quot;iconColor&quot;: &quot;green&quot;, &quot;markerColor&quot;: &quot;white&quot;, &quot;prefix&quot;: &quot;glyphicon&quot;}\n            );\n            marker_c63583ffd9dbf9271c72b2e4964ceb5d.setIcon(icon_28d9f05377f0f30713c334d1bc08e903);\n        \n    \n            var marker_2bd185d10bab0c1f618932268644810d = L.marker(\n                [28.56319718, -80.57682003],\n                {}\n            ).addTo(marker_cluster_c0be3883a4345621315572eeda596c41);\n        \n    \n            var icon_ee129ffe3c257b7234cf3a2465b5140a = L.AwesomeMarkers.icon(\n                {&quot;extraClasses&quot;: &quot;fa-rotate-0&quot;, &quot;icon&quot;: &quot;info-sign&quot;, &quot;iconColor&quot;: &quot;green&quot;, &quot;markerColor&quot;: &quot;white&quot;, &quot;prefix&quot;: &quot;glyphicon&quot;}\n            );\n            marker_2bd185d10bab0c1f618932268644810d.setIcon(icon_ee129ffe3c257b7234cf3a2465b5140a);\n        \n    \n            var marker_682636f84120d9bcb92730ea1fb2e679 = L.marker(\n                [28.56319718, -80.57682003],\n                {}\n            ).addTo(marker_cluster_c0be3883a4345621315572eeda596c41);\n        \n    \n            var icon_07d3d2467a68c5a561f334f6ed261822 = L.AwesomeMarkers.icon(\n                {&quot;extraClasses&quot;: &quot;fa-rotate-0&quot;, &quot;icon&quot;: &quot;info-sign&quot;, &quot;iconColor&quot;: &quot;green&quot;, &quot;markerColor&quot;: &quot;white&quot;, &quot;prefix&quot;: &quot;glyphicon&quot;}\n            );\n            marker_682636f84120d9bcb92730ea1fb2e679.setIcon(icon_07d3d2467a68c5a561f334f6ed261822);\n        \n    \n            var marker_c48f38a16df5bc25ee05ddda39779b45 = L.marker(\n                [28.56319718, -80.57682003],\n                {}\n            ).addTo(marker_cluster_c0be3883a4345621315572eeda596c41);\n        \n    \n            var icon_0c4ccfcf9d0fb41a2f0a7d4433fd91e4 = L.AwesomeMarkers.icon(\n                {&quot;extraClasses&quot;: &quot;fa-rotate-0&quot;, &quot;icon&quot;: &quot;info-sign&quot;, &quot;iconColor&quot;: &quot;red&quot;, &quot;markerColor&quot;: &quot;white&quot;, &quot;prefix&quot;: &quot;glyphicon&quot;}\n            );\n            marker_c48f38a16df5bc25ee05ddda39779b45.setIcon(icon_0c4ccfcf9d0fb41a2f0a7d4433fd91e4);\n        \n    \n            var marker_c3b85a1c5cb36d22592bba7347a596d9 = L.marker(\n                [28.56319718, -80.57682003],\n                {}\n            ).addTo(marker_cluster_c0be3883a4345621315572eeda596c41);\n        \n    \n            var icon_21e77320eaa68b9a97793dd1f58abf01 = L.AwesomeMarkers.icon(\n                {&quot;extraClasses&quot;: &quot;fa-rotate-0&quot;, &quot;icon&quot;: &quot;info-sign&quot;, &quot;iconColor&quot;: &quot;red&quot;, &quot;markerColor&quot;: &quot;white&quot;, &quot;prefix&quot;: &quot;glyphicon&quot;}\n            );\n            marker_c3b85a1c5cb36d22592bba7347a596d9.setIcon(icon_21e77320eaa68b9a97793dd1f58abf01);\n        \n    \n            var marker_a5d9aba07f5ca94a688739257a4226ad = L.marker(\n                [28.56319718, -80.57682003],\n                {}\n            ).addTo(marker_cluster_c0be3883a4345621315572eeda596c41);\n        \n    \n            var icon_e2622436c2c146cb697e40d7c1b9fe63 = L.AwesomeMarkers.icon(\n                {&quot;extraClasses&quot;: &quot;fa-rotate-0&quot;, &quot;icon&quot;: &quot;info-sign&quot;, &quot;iconColor&quot;: &quot;red&quot;, &quot;markerColor&quot;: &quot;white&quot;, &quot;prefix&quot;: &quot;glyphicon&quot;}\n            );\n            marker_a5d9aba07f5ca94a688739257a4226ad.setIcon(icon_e2622436c2c146cb697e40d7c1b9fe63);\n        \n    \n            var marker_91386f104454f4aa42c8e3dfb219e2d5 = L.marker(\n                [28.56319718, -80.57682003],\n                {}\n            ).addTo(marker_cluster_c0be3883a4345621315572eeda596c41);\n        \n    \n            var icon_a0382d8cdb9e3206e617f7ebf95c2ccf = L.AwesomeMarkers.icon(\n                {&quot;extraClasses&quot;: &quot;fa-rotate-0&quot;, &quot;icon&quot;: &quot;info-sign&quot;, &quot;iconColor&quot;: &quot;green&quot;, &quot;markerColor&quot;: &quot;white&quot;, &quot;prefix&quot;: &quot;glyphicon&quot;}\n            );\n            marker_91386f104454f4aa42c8e3dfb219e2d5.setIcon(icon_a0382d8cdb9e3206e617f7ebf95c2ccf);\n        \n    \n            var marker_e57722eb8e5a519e590f69d90582da09 = L.marker(\n                [28.56319718, -80.57682003],\n                {}\n            ).addTo(marker_cluster_c0be3883a4345621315572eeda596c41);\n        \n    \n            var icon_6ba913d13ac44cd802a1cc15c1c9449e = L.AwesomeMarkers.icon(\n                {&quot;extraClasses&quot;: &quot;fa-rotate-0&quot;, &quot;icon&quot;: &quot;info-sign&quot;, &quot;iconColor&quot;: &quot;red&quot;, &quot;markerColor&quot;: &quot;white&quot;, &quot;prefix&quot;: &quot;glyphicon&quot;}\n            );\n            marker_e57722eb8e5a519e590f69d90582da09.setIcon(icon_6ba913d13ac44cd802a1cc15c1c9449e);\n        \n&lt;/script&gt;\n&lt;/html&gt;\" style=\"position:absolute;width:100%;height:100%;left:0;top:0;border:none !important;\" allowfullscreen webkitallowfullscreen mozallowfullscreen></iframe></div></div>"
     },
     "execution_count": 27,
     "metadata": {},
     "output_type": "execute_result"
    }
   ],
   "source": [
    "# Add marker_cluster to current site_map\n",
    "site_map.add_child(marker_cluster)\n",
    "\n",
    "# for each row in spacex_df data frame\n",
    "# create a Marker object with its coordinate\n",
    "# and customize the Marker's icon property to indicate if this launch was successed or failed,\n",
    "# e.g., icon=folium.Icon(color='white', icon_color=row['marker_color']\n",
    "for index, row in spacex_df.iterrows():\n",
    "    # create and add a Marker cluster to the site map\n",
    "    coordinate = [row['Lat'], row['Long']]\n",
    "    folium.map.Marker(coordinate, icon=folium.Icon(color='white',icon_color=row['marker_color'])).add_to(marker_cluster)\n",
    "site_map"
   ],
   "metadata": {
    "collapsed": false,
    "ExecuteTime": {
     "start_time": "2023-04-01T15:01:30.386495Z",
     "end_time": "2023-04-01T15:01:30.449684Z"
    }
   }
  },
  {
   "cell_type": "markdown",
   "source": [
    "From the color-labeled markers in marker clusters, you should be able to easily identify which launch sites have relatively high success rates"
   ],
   "metadata": {
    "collapsed": false
   }
  },
  {
   "cell_type": "markdown",
   "source": [
    "### TASK 3: Calculate the distances between a launch site to its proximities"
   ],
   "metadata": {
    "collapsed": false
   }
  },
  {
   "cell_type": "markdown",
   "source": [
    "Next, we need to explore and analyze the proximities of launch sites.\n",
    "\n",
    "Let's first add a MousePosition on the map to get coordinate for a mouse over a point on the map. As such, while you are exploring the map, you can easily find the coordinates of any points of interests (such as railway)"
   ],
   "metadata": {
    "collapsed": false
   }
  },
  {
   "cell_type": "code",
   "execution_count": 28,
   "outputs": [
    {
     "data": {
      "text/plain": "<folium.folium.Map at 0x23976f907c0>",
      "text/html": "<div style=\"width:100%;\"><div style=\"position:relative;width:100%;height:0;padding-bottom:60%;\"><span style=\"color:#565656\">Make this Notebook Trusted to load map: File -> Trust Notebook</span><iframe srcdoc=\"&lt;!DOCTYPE html&gt;\n&lt;html&gt;\n&lt;head&gt;\n    \n    &lt;meta http-equiv=&quot;content-type&quot; content=&quot;text/html; charset=UTF-8&quot; /&gt;\n    \n        &lt;script&gt;\n            L_NO_TOUCH = false;\n            L_DISABLE_3D = false;\n        &lt;/script&gt;\n    \n    &lt;style&gt;html, body {width: 100%;height: 100%;margin: 0;padding: 0;}&lt;/style&gt;\n    &lt;style&gt;#map {position:absolute;top:0;bottom:0;right:0;left:0;}&lt;/style&gt;\n    &lt;script src=&quot;https://cdn.jsdelivr.net/npm/leaflet@1.9.3/dist/leaflet.js&quot;&gt;&lt;/script&gt;\n    &lt;script src=&quot;https://code.jquery.com/jquery-1.12.4.min.js&quot;&gt;&lt;/script&gt;\n    &lt;script src=&quot;https://cdn.jsdelivr.net/npm/bootstrap@5.2.2/dist/js/bootstrap.bundle.min.js&quot;&gt;&lt;/script&gt;\n    &lt;script src=&quot;https://cdnjs.cloudflare.com/ajax/libs/Leaflet.awesome-markers/2.0.2/leaflet.awesome-markers.js&quot;&gt;&lt;/script&gt;\n    &lt;link rel=&quot;stylesheet&quot; href=&quot;https://cdn.jsdelivr.net/npm/leaflet@1.9.3/dist/leaflet.css&quot;/&gt;\n    &lt;link rel=&quot;stylesheet&quot; href=&quot;https://cdn.jsdelivr.net/npm/bootstrap@5.2.2/dist/css/bootstrap.min.css&quot;/&gt;\n    &lt;link rel=&quot;stylesheet&quot; href=&quot;https://netdna.bootstrapcdn.com/bootstrap/3.0.0/css/bootstrap.min.css&quot;/&gt;\n    &lt;link rel=&quot;stylesheet&quot; href=&quot;https://cdn.jsdelivr.net/npm/@fortawesome/fontawesome-free@6.2.0/css/all.min.css&quot;/&gt;\n    &lt;link rel=&quot;stylesheet&quot; href=&quot;https://cdnjs.cloudflare.com/ajax/libs/Leaflet.awesome-markers/2.0.2/leaflet.awesome-markers.css&quot;/&gt;\n    &lt;link rel=&quot;stylesheet&quot; href=&quot;https://cdn.jsdelivr.net/gh/python-visualization/folium/folium/templates/leaflet.awesome.rotate.min.css&quot;/&gt;\n    \n            &lt;meta name=&quot;viewport&quot; content=&quot;width=device-width,\n                initial-scale=1.0, maximum-scale=1.0, user-scalable=no&quot; /&gt;\n            &lt;style&gt;\n                #map_a72f26924533117da5d58eac987a1f80 {\n                    position: relative;\n                    width: 100.0%;\n                    height: 100.0%;\n                    left: 0.0%;\n                    top: 0.0%;\n                }\n                .leaflet-container { font-size: 1rem; }\n            &lt;/style&gt;\n        \n    &lt;script src=&quot;https://cdnjs.cloudflare.com/ajax/libs/leaflet.markercluster/1.1.0/leaflet.markercluster.js&quot;&gt;&lt;/script&gt;\n    &lt;link rel=&quot;stylesheet&quot; href=&quot;https://cdnjs.cloudflare.com/ajax/libs/leaflet.markercluster/1.1.0/MarkerCluster.css&quot;/&gt;\n    &lt;link rel=&quot;stylesheet&quot; href=&quot;https://cdnjs.cloudflare.com/ajax/libs/leaflet.markercluster/1.1.0/MarkerCluster.Default.css&quot;/&gt;\n    &lt;script src=&quot;https://cdn.jsdelivr.net/gh/ardhi/Leaflet.MousePosition/src/L.Control.MousePosition.min.js&quot;&gt;&lt;/script&gt;\n    &lt;link rel=&quot;stylesheet&quot; href=&quot;https://cdn.jsdelivr.net/gh/ardhi/Leaflet.MousePosition/src/L.Control.MousePosition.min.css&quot;/&gt;\n&lt;/head&gt;\n&lt;body&gt;\n    \n    \n            &lt;div class=&quot;folium-map&quot; id=&quot;map_a72f26924533117da5d58eac987a1f80&quot; &gt;&lt;/div&gt;\n        \n&lt;/body&gt;\n&lt;script&gt;\n    \n    \n            var map_a72f26924533117da5d58eac987a1f80 = L.map(\n                &quot;map_a72f26924533117da5d58eac987a1f80&quot;,\n                {\n                    center: [29.559684888503615, -95.0830971930759],\n                    crs: L.CRS.EPSG3857,\n                    zoom: 10,\n                    zoomControl: true,\n                    preferCanvas: false,\n                }\n            );\n\n            \n\n        \n    \n            var tile_layer_6e3cdc546bee316ca32c1b558130f3e6 = L.tileLayer(\n                &quot;https://{s}.tile.openstreetmap.org/{z}/{x}/{y}.png&quot;,\n                {&quot;attribution&quot;: &quot;Data by \\u0026copy; \\u003ca target=\\&quot;_blank\\&quot; href=\\&quot;http://openstreetmap.org\\&quot;\\u003eOpenStreetMap\\u003c/a\\u003e, under \\u003ca target=\\&quot;_blank\\&quot; href=\\&quot;http://www.openstreetmap.org/copyright\\&quot;\\u003eODbL\\u003c/a\\u003e.&quot;, &quot;detectRetina&quot;: false, &quot;maxNativeZoom&quot;: 18, &quot;maxZoom&quot;: 18, &quot;minZoom&quot;: 0, &quot;noWrap&quot;: false, &quot;opacity&quot;: 1, &quot;subdomains&quot;: &quot;abc&quot;, &quot;tms&quot;: false}\n            ).addTo(map_a72f26924533117da5d58eac987a1f80);\n        \n    \n            var circle_e4c92d345398ac9f8a87bd4bb69efd8d = L.circle(\n                [29.559684888503615, -95.0830971930759],\n                {&quot;bubblingMouseEvents&quot;: true, &quot;color&quot;: &quot;#d35400&quot;, &quot;dashArray&quot;: null, &quot;dashOffset&quot;: null, &quot;fill&quot;: true, &quot;fillColor&quot;: &quot;#d35400&quot;, &quot;fillOpacity&quot;: 0.2, &quot;fillRule&quot;: &quot;evenodd&quot;, &quot;lineCap&quot;: &quot;round&quot;, &quot;lineJoin&quot;: &quot;round&quot;, &quot;opacity&quot;: 1.0, &quot;radius&quot;: 1000, &quot;stroke&quot;: true, &quot;weight&quot;: 3}\n            ).addTo(map_a72f26924533117da5d58eac987a1f80);\n        \n    \n        var popup_f038645036fd8ec55db6f24544813e7d = L.popup({&quot;maxWidth&quot;: &quot;100%&quot;});\n\n        \n            \n                var html_0bc48af64c31e83215e23c2064cfbf0e = $(`&lt;div id=&quot;html_0bc48af64c31e83215e23c2064cfbf0e&quot; style=&quot;width: 100.0%; height: 100.0%;&quot;&gt;NASA Johnson Space Center&lt;/div&gt;`)[0];\n                popup_f038645036fd8ec55db6f24544813e7d.setContent(html_0bc48af64c31e83215e23c2064cfbf0e);\n            \n        \n\n        circle_e4c92d345398ac9f8a87bd4bb69efd8d.bindPopup(popup_f038645036fd8ec55db6f24544813e7d)\n        ;\n\n        \n    \n    \n            var marker_355c4f8620d744c84763846e9e3505e9 = L.marker(\n                [29.559684888503615, -95.0830971930759],\n                {}\n            ).addTo(map_a72f26924533117da5d58eac987a1f80);\n        \n    \n            var div_icon_c74a872b49d8dee72fc1efd664891ae6 = L.divIcon({&quot;className&quot;: &quot;empty&quot;, &quot;html&quot;: &quot;\\u003cdiv style=\\&quot;font-size: 12; color:#d35400;\\&quot;\\u003e\\u003cb\\u003eNASA JSC\\u003c/b\\u003e\\u003c/div\\u003e&quot;, &quot;iconAnchor&quot;: [0, 0], &quot;iconSize&quot;: [20, 20]});\n            marker_355c4f8620d744c84763846e9e3505e9.setIcon(div_icon_c74a872b49d8dee72fc1efd664891ae6);\n        \n    \n            var circle_7b652d39f05bedb0724be6ae870074d0 = L.circle(\n                [28.562302, -80.577356],\n                {&quot;bubblingMouseEvents&quot;: true, &quot;color&quot;: &quot;#d35400&quot;, &quot;dashArray&quot;: null, &quot;dashOffset&quot;: null, &quot;fill&quot;: true, &quot;fillColor&quot;: &quot;#d35400&quot;, &quot;fillOpacity&quot;: 0.2, &quot;fillRule&quot;: &quot;evenodd&quot;, &quot;lineCap&quot;: &quot;round&quot;, &quot;lineJoin&quot;: &quot;round&quot;, &quot;opacity&quot;: 1.0, &quot;radius&quot;: 1000, &quot;stroke&quot;: true, &quot;weight&quot;: 3}\n            ).addTo(map_a72f26924533117da5d58eac987a1f80);\n        \n    \n        var popup_fd1a2e6c4bdb84fba419c472fee26924 = L.popup({&quot;maxWidth&quot;: &quot;100%&quot;});\n\n        \n            \n                var html_112b5bd92498924a3ce710a6416c9634 = $(`&lt;div id=&quot;html_112b5bd92498924a3ce710a6416c9634&quot; style=&quot;width: 100.0%; height: 100.0%;&quot;&gt;CCAFSLC Space Center&lt;/div&gt;`)[0];\n                popup_fd1a2e6c4bdb84fba419c472fee26924.setContent(html_112b5bd92498924a3ce710a6416c9634);\n            \n        \n\n        circle_7b652d39f05bedb0724be6ae870074d0.bindPopup(popup_fd1a2e6c4bdb84fba419c472fee26924)\n        ;\n\n        \n    \n    \n            var marker_afbc19043a30575fe18463df8bfce26f = L.marker(\n                [28.562302, -80.577356],\n                {}\n            ).addTo(map_a72f26924533117da5d58eac987a1f80);\n        \n    \n            var div_icon_c6ac212f805ebdfba9b803697e211a95 = L.divIcon({&quot;className&quot;: &quot;empty&quot;, &quot;html&quot;: &quot;\\u003cdiv style=\\&quot;font-size: 12; color:#d35400;\\&quot;\\u003e\\u003cb\\u003eCCAFSLC\\u003c/b\\u003e\\u003c/div\\u003e&quot;, &quot;iconAnchor&quot;: [0, 0], &quot;iconSize&quot;: [20, 20]});\n            marker_afbc19043a30575fe18463df8bfce26f.setIcon(div_icon_c6ac212f805ebdfba9b803697e211a95);\n        \n    \n            var circle_ed9540f32363037925b6610f4cdb800d = L.circle(\n                [28.563197, -80.57682],\n                {&quot;bubblingMouseEvents&quot;: true, &quot;color&quot;: &quot;#d35400&quot;, &quot;dashArray&quot;: null, &quot;dashOffset&quot;: null, &quot;fill&quot;: true, &quot;fillColor&quot;: &quot;#d35400&quot;, &quot;fillOpacity&quot;: 0.2, &quot;fillRule&quot;: &quot;evenodd&quot;, &quot;lineCap&quot;: &quot;round&quot;, &quot;lineJoin&quot;: &quot;round&quot;, &quot;opacity&quot;: 1.0, &quot;radius&quot;: 1000, &quot;stroke&quot;: true, &quot;weight&quot;: 3}\n            ).addTo(map_a72f26924533117da5d58eac987a1f80);\n        \n    \n        var popup_4617a172c1898bbb4e499cf8f212721e = L.popup({&quot;maxWidth&quot;: &quot;100%&quot;});\n\n        \n            \n                var html_cd08337fbd18e54778a7b1f931899be3 = $(`&lt;div id=&quot;html_cd08337fbd18e54778a7b1f931899be3&quot; style=&quot;width: 100.0%; height: 100.0%;&quot;&gt;CCAFSSLC Space Center&lt;/div&gt;`)[0];\n                popup_4617a172c1898bbb4e499cf8f212721e.setContent(html_cd08337fbd18e54778a7b1f931899be3);\n            \n        \n\n        circle_ed9540f32363037925b6610f4cdb800d.bindPopup(popup_4617a172c1898bbb4e499cf8f212721e)\n        ;\n\n        \n    \n    \n            var marker_03ff75b5a58e8d4d6081b7980e8f427e = L.marker(\n                [28.563197, -80.57682],\n                {}\n            ).addTo(map_a72f26924533117da5d58eac987a1f80);\n        \n    \n            var div_icon_6ec039548fba4a6f11c156fe4b2cadff = L.divIcon({&quot;className&quot;: &quot;empty&quot;, &quot;html&quot;: &quot;\\u003cdiv style=\\&quot;font-size: 12; color:#d35400;\\&quot;\\u003e\\u003cb\\u003eCCAFSSLC\\u003c/b\\u003e\\u003c/div\\u003e&quot;, &quot;iconAnchor&quot;: [0, 0], &quot;iconSize&quot;: [20, 20]});\n            marker_03ff75b5a58e8d4d6081b7980e8f427e.setIcon(div_icon_6ec039548fba4a6f11c156fe4b2cadff);\n        \n    \n            var circle_4b6f3e74895f1704a6b650023e27bf33 = L.circle(\n                [28.573255, -80.646895],\n                {&quot;bubblingMouseEvents&quot;: true, &quot;color&quot;: &quot;#d35400&quot;, &quot;dashArray&quot;: null, &quot;dashOffset&quot;: null, &quot;fill&quot;: true, &quot;fillColor&quot;: &quot;#d35400&quot;, &quot;fillOpacity&quot;: 0.2, &quot;fillRule&quot;: &quot;evenodd&quot;, &quot;lineCap&quot;: &quot;round&quot;, &quot;lineJoin&quot;: &quot;round&quot;, &quot;opacity&quot;: 1.0, &quot;radius&quot;: 1000, &quot;stroke&quot;: true, &quot;weight&quot;: 3}\n            ).addTo(map_a72f26924533117da5d58eac987a1f80);\n        \n    \n        var popup_90f59d85548c9fc773969129b010381a = L.popup({&quot;maxWidth&quot;: &quot;100%&quot;});\n\n        \n            \n                var html_2095eb8c399503bf006bbb94bda7e686 = $(`&lt;div id=&quot;html_2095eb8c399503bf006bbb94bda7e686&quot; style=&quot;width: 100.0%; height: 100.0%;&quot;&gt;KSCLC Space Center&lt;/div&gt;`)[0];\n                popup_90f59d85548c9fc773969129b010381a.setContent(html_2095eb8c399503bf006bbb94bda7e686);\n            \n        \n\n        circle_4b6f3e74895f1704a6b650023e27bf33.bindPopup(popup_90f59d85548c9fc773969129b010381a)\n        ;\n\n        \n    \n    \n            var marker_956ba068b0d3bb31112ab894eb5d707c = L.marker(\n                [28.573255, -80.646895],\n                {}\n            ).addTo(map_a72f26924533117da5d58eac987a1f80);\n        \n    \n            var div_icon_4a14b851e94cea016c1a194bea08fd86 = L.divIcon({&quot;className&quot;: &quot;empty&quot;, &quot;html&quot;: &quot;\\u003cdiv style=\\&quot;font-size: 12; color:#d35400;\\&quot;\\u003e\\u003cb\\u003eKSCLC\\u003c/b\\u003e\\u003c/div\\u003e&quot;, &quot;iconAnchor&quot;: [0, 0], &quot;iconSize&quot;: [20, 20]});\n            marker_956ba068b0d3bb31112ab894eb5d707c.setIcon(div_icon_4a14b851e94cea016c1a194bea08fd86);\n        \n    \n            var circle_b46f74bd679a0a210b467ec462fe7cb4 = L.circle(\n                [34.632834, -120.610746],\n                {&quot;bubblingMouseEvents&quot;: true, &quot;color&quot;: &quot;#d35400&quot;, &quot;dashArray&quot;: null, &quot;dashOffset&quot;: null, &quot;fill&quot;: true, &quot;fillColor&quot;: &quot;#d35400&quot;, &quot;fillOpacity&quot;: 0.2, &quot;fillRule&quot;: &quot;evenodd&quot;, &quot;lineCap&quot;: &quot;round&quot;, &quot;lineJoin&quot;: &quot;round&quot;, &quot;opacity&quot;: 1.0, &quot;radius&quot;: 1000, &quot;stroke&quot;: true, &quot;weight&quot;: 3}\n            ).addTo(map_a72f26924533117da5d58eac987a1f80);\n        \n    \n        var popup_f3fe0391029f9539fafdfd8c6026f251 = L.popup({&quot;maxWidth&quot;: &quot;100%&quot;});\n\n        \n            \n                var html_a19c9f8801bebc64ccc4a32a59d862b0 = $(`&lt;div id=&quot;html_a19c9f8801bebc64ccc4a32a59d862b0&quot; style=&quot;width: 100.0%; height: 100.0%;&quot;&gt;VAFBSLC Space Center&lt;/div&gt;`)[0];\n                popup_f3fe0391029f9539fafdfd8c6026f251.setContent(html_a19c9f8801bebc64ccc4a32a59d862b0);\n            \n        \n\n        circle_b46f74bd679a0a210b467ec462fe7cb4.bindPopup(popup_f3fe0391029f9539fafdfd8c6026f251)\n        ;\n\n        \n    \n    \n            var marker_c6626866c2882a51d522e5ba59c61af1 = L.marker(\n                [34.632834, -120.610746],\n                {}\n            ).addTo(map_a72f26924533117da5d58eac987a1f80);\n        \n    \n            var div_icon_bb1269f1864dc126fde7f01b96cdaf83 = L.divIcon({&quot;className&quot;: &quot;empty&quot;, &quot;html&quot;: &quot;\\u003cdiv style=\\&quot;font-size: 12; color:#d35400;\\&quot;\\u003e\\u003cb\\u003eVAFBSLC\\u003c/b\\u003e\\u003c/div\\u003e&quot;, &quot;iconAnchor&quot;: [0, 0], &quot;iconSize&quot;: [20, 20]});\n            marker_c6626866c2882a51d522e5ba59c61af1.setIcon(div_icon_bb1269f1864dc126fde7f01b96cdaf83);\n        \n    \n            var circle_6a37e27097cb758e333a1da3d36f9acb = L.circle(\n                [29.559684888503615, -95.0830971930759],\n                {&quot;bubblingMouseEvents&quot;: true, &quot;color&quot;: &quot;#d35400&quot;, &quot;dashArray&quot;: null, &quot;dashOffset&quot;: null, &quot;fill&quot;: true, &quot;fillColor&quot;: &quot;#d35400&quot;, &quot;fillOpacity&quot;: 0.2, &quot;fillRule&quot;: &quot;evenodd&quot;, &quot;lineCap&quot;: &quot;round&quot;, &quot;lineJoin&quot;: &quot;round&quot;, &quot;opacity&quot;: 1.0, &quot;radius&quot;: 1000, &quot;stroke&quot;: true, &quot;weight&quot;: 3}\n            ).addTo(map_a72f26924533117da5d58eac987a1f80);\n        \n    \n        var popup_f06cd9f4e87c052e0f1244f01895b252 = L.popup({&quot;maxWidth&quot;: &quot;100%&quot;});\n\n        \n            \n                var html_21b7f8f30b5060eb74df05a8bfe3fb36 = $(`&lt;div id=&quot;html_21b7f8f30b5060eb74df05a8bfe3fb36&quot; style=&quot;width: 100.0%; height: 100.0%;&quot;&gt;NASA Johnson Space Center&lt;/div&gt;`)[0];\n                popup_f06cd9f4e87c052e0f1244f01895b252.setContent(html_21b7f8f30b5060eb74df05a8bfe3fb36);\n            \n        \n\n        circle_6a37e27097cb758e333a1da3d36f9acb.bindPopup(popup_f06cd9f4e87c052e0f1244f01895b252)\n        ;\n\n        \n    \n    \n            var marker_2f47eff827efa0c655d216b875c15a96 = L.marker(\n                [29.559684888503615, -95.0830971930759],\n                {}\n            ).addTo(map_a72f26924533117da5d58eac987a1f80);\n        \n    \n            var div_icon_3b47517c6d535003e2e903677eecd8d3 = L.divIcon({&quot;className&quot;: &quot;empty&quot;, &quot;html&quot;: &quot;\\u003cdiv style=\\&quot;font-size: 12; color:#d35400;\\&quot;\\u003e\\u003cb\\u003eNASA JSC\\u003c/b\\u003e\\u003c/div\\u003e&quot;, &quot;iconAnchor&quot;: [0, 0], &quot;iconSize&quot;: [20, 20]});\n            marker_2f47eff827efa0c655d216b875c15a96.setIcon(div_icon_3b47517c6d535003e2e903677eecd8d3);\n        \n    \n            var circle_feeffd2b33d9239aa4b612edd5fee148 = L.circle(\n                [28.562302, -80.577356],\n                {&quot;bubblingMouseEvents&quot;: true, &quot;color&quot;: &quot;#d35400&quot;, &quot;dashArray&quot;: null, &quot;dashOffset&quot;: null, &quot;fill&quot;: true, &quot;fillColor&quot;: &quot;#d35400&quot;, &quot;fillOpacity&quot;: 0.2, &quot;fillRule&quot;: &quot;evenodd&quot;, &quot;lineCap&quot;: &quot;round&quot;, &quot;lineJoin&quot;: &quot;round&quot;, &quot;opacity&quot;: 1.0, &quot;radius&quot;: 1000, &quot;stroke&quot;: true, &quot;weight&quot;: 3}\n            ).addTo(map_a72f26924533117da5d58eac987a1f80);\n        \n    \n        var popup_fdfe097501ce4efbbc3399ebe71de172 = L.popup({&quot;maxWidth&quot;: &quot;100%&quot;});\n\n        \n            \n                var html_fd5e6e2a891c6a9c7b5668f34fb86311 = $(`&lt;div id=&quot;html_fd5e6e2a891c6a9c7b5668f34fb86311&quot; style=&quot;width: 100.0%; height: 100.0%;&quot;&gt;CCAFSLC Space Center&lt;/div&gt;`)[0];\n                popup_fdfe097501ce4efbbc3399ebe71de172.setContent(html_fd5e6e2a891c6a9c7b5668f34fb86311);\n            \n        \n\n        circle_feeffd2b33d9239aa4b612edd5fee148.bindPopup(popup_fdfe097501ce4efbbc3399ebe71de172)\n        ;\n\n        \n    \n    \n            var marker_bc5373552c8d2a2fb7a633e37abdaeb7 = L.marker(\n                [28.562302, -80.577356],\n                {}\n            ).addTo(map_a72f26924533117da5d58eac987a1f80);\n        \n    \n            var div_icon_27ba64db438084ba25d774708b62e317 = L.divIcon({&quot;className&quot;: &quot;empty&quot;, &quot;html&quot;: &quot;\\u003cdiv style=\\&quot;font-size: 12; color:#d35400;\\&quot;\\u003e\\u003cb\\u003eCCAFSLC\\u003c/b\\u003e\\u003c/div\\u003e&quot;, &quot;iconAnchor&quot;: [0, 0], &quot;iconSize&quot;: [20, 20]});\n            marker_bc5373552c8d2a2fb7a633e37abdaeb7.setIcon(div_icon_27ba64db438084ba25d774708b62e317);\n        \n    \n            var circle_f81458da77972136ee098bee926b9a1d = L.circle(\n                [28.563197, -80.57682],\n                {&quot;bubblingMouseEvents&quot;: true, &quot;color&quot;: &quot;#d35400&quot;, &quot;dashArray&quot;: null, &quot;dashOffset&quot;: null, &quot;fill&quot;: true, &quot;fillColor&quot;: &quot;#d35400&quot;, &quot;fillOpacity&quot;: 0.2, &quot;fillRule&quot;: &quot;evenodd&quot;, &quot;lineCap&quot;: &quot;round&quot;, &quot;lineJoin&quot;: &quot;round&quot;, &quot;opacity&quot;: 1.0, &quot;radius&quot;: 1000, &quot;stroke&quot;: true, &quot;weight&quot;: 3}\n            ).addTo(map_a72f26924533117da5d58eac987a1f80);\n        \n    \n        var popup_06ca51a8b64d40352222b9c5920225f0 = L.popup({&quot;maxWidth&quot;: &quot;100%&quot;});\n\n        \n            \n                var html_aa5847ca1a5ca3dd740d5e01bba2a5c5 = $(`&lt;div id=&quot;html_aa5847ca1a5ca3dd740d5e01bba2a5c5&quot; style=&quot;width: 100.0%; height: 100.0%;&quot;&gt;CCAFSSLC Space Center&lt;/div&gt;`)[0];\n                popup_06ca51a8b64d40352222b9c5920225f0.setContent(html_aa5847ca1a5ca3dd740d5e01bba2a5c5);\n            \n        \n\n        circle_f81458da77972136ee098bee926b9a1d.bindPopup(popup_06ca51a8b64d40352222b9c5920225f0)\n        ;\n\n        \n    \n    \n            var marker_ea6a03e110aaef0dce8053754a557717 = L.marker(\n                [28.563197, -80.57682],\n                {}\n            ).addTo(map_a72f26924533117da5d58eac987a1f80);\n        \n    \n            var div_icon_4a777bd4651a2f7621121e5d84f5e06d = L.divIcon({&quot;className&quot;: &quot;empty&quot;, &quot;html&quot;: &quot;\\u003cdiv style=\\&quot;font-size: 12; color:#d35400;\\&quot;\\u003e\\u003cb\\u003eCCAFSSLC\\u003c/b\\u003e\\u003c/div\\u003e&quot;, &quot;iconAnchor&quot;: [0, 0], &quot;iconSize&quot;: [20, 20]});\n            marker_ea6a03e110aaef0dce8053754a557717.setIcon(div_icon_4a777bd4651a2f7621121e5d84f5e06d);\n        \n    \n            var circle_0c52db90dd157b9aa760bda82cb970ff = L.circle(\n                [28.573255, -80.646895],\n                {&quot;bubblingMouseEvents&quot;: true, &quot;color&quot;: &quot;#d35400&quot;, &quot;dashArray&quot;: null, &quot;dashOffset&quot;: null, &quot;fill&quot;: true, &quot;fillColor&quot;: &quot;#d35400&quot;, &quot;fillOpacity&quot;: 0.2, &quot;fillRule&quot;: &quot;evenodd&quot;, &quot;lineCap&quot;: &quot;round&quot;, &quot;lineJoin&quot;: &quot;round&quot;, &quot;opacity&quot;: 1.0, &quot;radius&quot;: 1000, &quot;stroke&quot;: true, &quot;weight&quot;: 3}\n            ).addTo(map_a72f26924533117da5d58eac987a1f80);\n        \n    \n        var popup_8e1ec43d4cee4aade39cbc8e79092228 = L.popup({&quot;maxWidth&quot;: &quot;100%&quot;});\n\n        \n            \n                var html_5f64e02d86f62bdb7aba8d6fb1da0b2a = $(`&lt;div id=&quot;html_5f64e02d86f62bdb7aba8d6fb1da0b2a&quot; style=&quot;width: 100.0%; height: 100.0%;&quot;&gt;KSCLC Space Center&lt;/div&gt;`)[0];\n                popup_8e1ec43d4cee4aade39cbc8e79092228.setContent(html_5f64e02d86f62bdb7aba8d6fb1da0b2a);\n            \n        \n\n        circle_0c52db90dd157b9aa760bda82cb970ff.bindPopup(popup_8e1ec43d4cee4aade39cbc8e79092228)\n        ;\n\n        \n    \n    \n            var marker_08bbf907acf07fb79321220ff90115e4 = L.marker(\n                [28.573255, -80.646895],\n                {}\n            ).addTo(map_a72f26924533117da5d58eac987a1f80);\n        \n    \n            var div_icon_edde57c637f0b4341dac9bb7cf00159e = L.divIcon({&quot;className&quot;: &quot;empty&quot;, &quot;html&quot;: &quot;\\u003cdiv style=\\&quot;font-size: 12; color:#d35400;\\&quot;\\u003e\\u003cb\\u003eKSCLC\\u003c/b\\u003e\\u003c/div\\u003e&quot;, &quot;iconAnchor&quot;: [0, 0], &quot;iconSize&quot;: [20, 20]});\n            marker_08bbf907acf07fb79321220ff90115e4.setIcon(div_icon_edde57c637f0b4341dac9bb7cf00159e);\n        \n    \n            var circle_7ec5654ed0df130601ca614e82dc395a = L.circle(\n                [34.632834, -120.610746],\n                {&quot;bubblingMouseEvents&quot;: true, &quot;color&quot;: &quot;#d35400&quot;, &quot;dashArray&quot;: null, &quot;dashOffset&quot;: null, &quot;fill&quot;: true, &quot;fillColor&quot;: &quot;#d35400&quot;, &quot;fillOpacity&quot;: 0.2, &quot;fillRule&quot;: &quot;evenodd&quot;, &quot;lineCap&quot;: &quot;round&quot;, &quot;lineJoin&quot;: &quot;round&quot;, &quot;opacity&quot;: 1.0, &quot;radius&quot;: 1000, &quot;stroke&quot;: true, &quot;weight&quot;: 3}\n            ).addTo(map_a72f26924533117da5d58eac987a1f80);\n        \n    \n        var popup_0684055283954cb9ed50cf5e9c8341f0 = L.popup({&quot;maxWidth&quot;: &quot;100%&quot;});\n\n        \n            \n                var html_533537876e69ba07f971e76075b383f0 = $(`&lt;div id=&quot;html_533537876e69ba07f971e76075b383f0&quot; style=&quot;width: 100.0%; height: 100.0%;&quot;&gt;VAFBSLC Space Center&lt;/div&gt;`)[0];\n                popup_0684055283954cb9ed50cf5e9c8341f0.setContent(html_533537876e69ba07f971e76075b383f0);\n            \n        \n\n        circle_7ec5654ed0df130601ca614e82dc395a.bindPopup(popup_0684055283954cb9ed50cf5e9c8341f0)\n        ;\n\n        \n    \n    \n            var marker_e02d486cd65beb439d912aebf6c38ba0 = L.marker(\n                [34.632834, -120.610746],\n                {}\n            ).addTo(map_a72f26924533117da5d58eac987a1f80);\n        \n    \n            var div_icon_9d944f134f66cd7083d29df1c0bcb89f = L.divIcon({&quot;className&quot;: &quot;empty&quot;, &quot;html&quot;: &quot;\\u003cdiv style=\\&quot;font-size: 12; color:#d35400;\\&quot;\\u003e\\u003cb\\u003eVAFBSLC\\u003c/b\\u003e\\u003c/div\\u003e&quot;, &quot;iconAnchor&quot;: [0, 0], &quot;iconSize&quot;: [20, 20]});\n            marker_e02d486cd65beb439d912aebf6c38ba0.setIcon(div_icon_9d944f134f66cd7083d29df1c0bcb89f);\n        \n    \n            var marker_cluster_c0be3883a4345621315572eeda596c41 = L.markerClusterGroup(\n                {}\n            );\n            map_a72f26924533117da5d58eac987a1f80.addLayer(marker_cluster_c0be3883a4345621315572eeda596c41);\n        \n    \n            var marker_36ae786b1c75d5894cf03da5ddd6313b = L.marker(\n                [28.56230197, -80.57735648],\n                {}\n            ).addTo(marker_cluster_c0be3883a4345621315572eeda596c41);\n        \n    \n            var icon_bd2d1662d82d033a102e3020b521cabd = L.AwesomeMarkers.icon(\n                {&quot;extraClasses&quot;: &quot;fa-rotate-0&quot;, &quot;icon&quot;: &quot;info-sign&quot;, &quot;iconColor&quot;: &quot;red&quot;, &quot;markerColor&quot;: &quot;white&quot;, &quot;prefix&quot;: &quot;glyphicon&quot;}\n            );\n            marker_36ae786b1c75d5894cf03da5ddd6313b.setIcon(icon_bd2d1662d82d033a102e3020b521cabd);\n        \n    \n            var marker_a36dd67548c4a25f14753cefef28c19e = L.marker(\n                [28.56230197, -80.57735648],\n                {}\n            ).addTo(marker_cluster_c0be3883a4345621315572eeda596c41);\n        \n    \n            var icon_d6aaa9d754c29135f96e7f972f3592b4 = L.AwesomeMarkers.icon(\n                {&quot;extraClasses&quot;: &quot;fa-rotate-0&quot;, &quot;icon&quot;: &quot;info-sign&quot;, &quot;iconColor&quot;: &quot;red&quot;, &quot;markerColor&quot;: &quot;white&quot;, &quot;prefix&quot;: &quot;glyphicon&quot;}\n            );\n            marker_a36dd67548c4a25f14753cefef28c19e.setIcon(icon_d6aaa9d754c29135f96e7f972f3592b4);\n        \n    \n            var marker_83d961fdcfca49bb4eef08e87844337f = L.marker(\n                [28.56230197, -80.57735648],\n                {}\n            ).addTo(marker_cluster_c0be3883a4345621315572eeda596c41);\n        \n    \n            var icon_2e42873e3da8c3b22ece4032568e809d = L.AwesomeMarkers.icon(\n                {&quot;extraClasses&quot;: &quot;fa-rotate-0&quot;, &quot;icon&quot;: &quot;info-sign&quot;, &quot;iconColor&quot;: &quot;red&quot;, &quot;markerColor&quot;: &quot;white&quot;, &quot;prefix&quot;: &quot;glyphicon&quot;}\n            );\n            marker_83d961fdcfca49bb4eef08e87844337f.setIcon(icon_2e42873e3da8c3b22ece4032568e809d);\n        \n    \n            var marker_7c34beee85bcd834346346351ae72c81 = L.marker(\n                [28.56230197, -80.57735648],\n                {}\n            ).addTo(marker_cluster_c0be3883a4345621315572eeda596c41);\n        \n    \n            var icon_a32acf37a1559f9e77a7c36d18cc8ccf = L.AwesomeMarkers.icon(\n                {&quot;extraClasses&quot;: &quot;fa-rotate-0&quot;, &quot;icon&quot;: &quot;info-sign&quot;, &quot;iconColor&quot;: &quot;red&quot;, &quot;markerColor&quot;: &quot;white&quot;, &quot;prefix&quot;: &quot;glyphicon&quot;}\n            );\n            marker_7c34beee85bcd834346346351ae72c81.setIcon(icon_a32acf37a1559f9e77a7c36d18cc8ccf);\n        \n    \n            var marker_001d59def43e2110a3ee70eaee266286 = L.marker(\n                [28.56230197, -80.57735648],\n                {}\n            ).addTo(marker_cluster_c0be3883a4345621315572eeda596c41);\n        \n    \n            var icon_62a9914b114c5f3f483486b8df76fff6 = L.AwesomeMarkers.icon(\n                {&quot;extraClasses&quot;: &quot;fa-rotate-0&quot;, &quot;icon&quot;: &quot;info-sign&quot;, &quot;iconColor&quot;: &quot;red&quot;, &quot;markerColor&quot;: &quot;white&quot;, &quot;prefix&quot;: &quot;glyphicon&quot;}\n            );\n            marker_001d59def43e2110a3ee70eaee266286.setIcon(icon_62a9914b114c5f3f483486b8df76fff6);\n        \n    \n            var marker_9694b2e594853d23782374ec8b91c54d = L.marker(\n                [28.56230197, -80.57735648],\n                {}\n            ).addTo(marker_cluster_c0be3883a4345621315572eeda596c41);\n        \n    \n            var icon_f1d95b1113ac293d734dbe256b22212f = L.AwesomeMarkers.icon(\n                {&quot;extraClasses&quot;: &quot;fa-rotate-0&quot;, &quot;icon&quot;: &quot;info-sign&quot;, &quot;iconColor&quot;: &quot;red&quot;, &quot;markerColor&quot;: &quot;white&quot;, &quot;prefix&quot;: &quot;glyphicon&quot;}\n            );\n            marker_9694b2e594853d23782374ec8b91c54d.setIcon(icon_f1d95b1113ac293d734dbe256b22212f);\n        \n    \n            var marker_41c759ca14065315fd9dc390cedf4a06 = L.marker(\n                [28.56230197, -80.57735648],\n                {}\n            ).addTo(marker_cluster_c0be3883a4345621315572eeda596c41);\n        \n    \n            var icon_280adeaed8d9208fb34b9dec7c83560d = L.AwesomeMarkers.icon(\n                {&quot;extraClasses&quot;: &quot;fa-rotate-0&quot;, &quot;icon&quot;: &quot;info-sign&quot;, &quot;iconColor&quot;: &quot;red&quot;, &quot;markerColor&quot;: &quot;white&quot;, &quot;prefix&quot;: &quot;glyphicon&quot;}\n            );\n            marker_41c759ca14065315fd9dc390cedf4a06.setIcon(icon_280adeaed8d9208fb34b9dec7c83560d);\n        \n    \n            var marker_fbe26d79d23e8560a3b9b84ac650ddde = L.marker(\n                [28.56230197, -80.57735648],\n                {}\n            ).addTo(marker_cluster_c0be3883a4345621315572eeda596c41);\n        \n    \n            var icon_4e02cff2a6fcf95dedc6563eb305f82a = L.AwesomeMarkers.icon(\n                {&quot;extraClasses&quot;: &quot;fa-rotate-0&quot;, &quot;icon&quot;: &quot;info-sign&quot;, &quot;iconColor&quot;: &quot;red&quot;, &quot;markerColor&quot;: &quot;white&quot;, &quot;prefix&quot;: &quot;glyphicon&quot;}\n            );\n            marker_fbe26d79d23e8560a3b9b84ac650ddde.setIcon(icon_4e02cff2a6fcf95dedc6563eb305f82a);\n        \n    \n            var marker_8d800726ef0315ba28400607edcc7743 = L.marker(\n                [28.56230197, -80.57735648],\n                {}\n            ).addTo(marker_cluster_c0be3883a4345621315572eeda596c41);\n        \n    \n            var icon_5a42d0f405508c5010f4e9eabf69e0cd = L.AwesomeMarkers.icon(\n                {&quot;extraClasses&quot;: &quot;fa-rotate-0&quot;, &quot;icon&quot;: &quot;info-sign&quot;, &quot;iconColor&quot;: &quot;red&quot;, &quot;markerColor&quot;: &quot;white&quot;, &quot;prefix&quot;: &quot;glyphicon&quot;}\n            );\n            marker_8d800726ef0315ba28400607edcc7743.setIcon(icon_5a42d0f405508c5010f4e9eabf69e0cd);\n        \n    \n            var marker_b1a6dbe379009178db9f92f1435fc795 = L.marker(\n                [28.56230197, -80.57735648],\n                {}\n            ).addTo(marker_cluster_c0be3883a4345621315572eeda596c41);\n        \n    \n            var icon_0f08848af97f35be7297d8bb02ef27da = L.AwesomeMarkers.icon(\n                {&quot;extraClasses&quot;: &quot;fa-rotate-0&quot;, &quot;icon&quot;: &quot;info-sign&quot;, &quot;iconColor&quot;: &quot;red&quot;, &quot;markerColor&quot;: &quot;white&quot;, &quot;prefix&quot;: &quot;glyphicon&quot;}\n            );\n            marker_b1a6dbe379009178db9f92f1435fc795.setIcon(icon_0f08848af97f35be7297d8bb02ef27da);\n        \n    \n            var marker_65568d1a7fa0db21c7a41675e6eebe6b = L.marker(\n                [28.56230197, -80.57735648],\n                {}\n            ).addTo(marker_cluster_c0be3883a4345621315572eeda596c41);\n        \n    \n            var icon_1004d44baa5261cddf35eb0c431fcda8 = L.AwesomeMarkers.icon(\n                {&quot;extraClasses&quot;: &quot;fa-rotate-0&quot;, &quot;icon&quot;: &quot;info-sign&quot;, &quot;iconColor&quot;: &quot;red&quot;, &quot;markerColor&quot;: &quot;white&quot;, &quot;prefix&quot;: &quot;glyphicon&quot;}\n            );\n            marker_65568d1a7fa0db21c7a41675e6eebe6b.setIcon(icon_1004d44baa5261cddf35eb0c431fcda8);\n        \n    \n            var marker_2aa3fa4c210729e8c5aafa8990256fb4 = L.marker(\n                [28.56230197, -80.57735648],\n                {}\n            ).addTo(marker_cluster_c0be3883a4345621315572eeda596c41);\n        \n    \n            var icon_022d625e4e1a6dab84c9df2596d0c2d4 = L.AwesomeMarkers.icon(\n                {&quot;extraClasses&quot;: &quot;fa-rotate-0&quot;, &quot;icon&quot;: &quot;info-sign&quot;, &quot;iconColor&quot;: &quot;red&quot;, &quot;markerColor&quot;: &quot;white&quot;, &quot;prefix&quot;: &quot;glyphicon&quot;}\n            );\n            marker_2aa3fa4c210729e8c5aafa8990256fb4.setIcon(icon_022d625e4e1a6dab84c9df2596d0c2d4);\n        \n    \n            var marker_8a6094ddc92fd3ad7d4a6754173db39d = L.marker(\n                [28.56230197, -80.57735648],\n                {}\n            ).addTo(marker_cluster_c0be3883a4345621315572eeda596c41);\n        \n    \n            var icon_32c07d40fa0cb907e4bbf91e418dde7b = L.AwesomeMarkers.icon(\n                {&quot;extraClasses&quot;: &quot;fa-rotate-0&quot;, &quot;icon&quot;: &quot;info-sign&quot;, &quot;iconColor&quot;: &quot;red&quot;, &quot;markerColor&quot;: &quot;white&quot;, &quot;prefix&quot;: &quot;glyphicon&quot;}\n            );\n            marker_8a6094ddc92fd3ad7d4a6754173db39d.setIcon(icon_32c07d40fa0cb907e4bbf91e418dde7b);\n        \n    \n            var marker_3e257050f76524c5a3591ec474c27ff3 = L.marker(\n                [28.56230197, -80.57735648],\n                {}\n            ).addTo(marker_cluster_c0be3883a4345621315572eeda596c41);\n        \n    \n            var icon_94199d6e6447e6b6f1817c2b7a2aec85 = L.AwesomeMarkers.icon(\n                {&quot;extraClasses&quot;: &quot;fa-rotate-0&quot;, &quot;icon&quot;: &quot;info-sign&quot;, &quot;iconColor&quot;: &quot;red&quot;, &quot;markerColor&quot;: &quot;white&quot;, &quot;prefix&quot;: &quot;glyphicon&quot;}\n            );\n            marker_3e257050f76524c5a3591ec474c27ff3.setIcon(icon_94199d6e6447e6b6f1817c2b7a2aec85);\n        \n    \n            var marker_1a046386cb5df00a08e617673c43a499 = L.marker(\n                [28.56230197, -80.57735648],\n                {}\n            ).addTo(marker_cluster_c0be3883a4345621315572eeda596c41);\n        \n    \n            var icon_7b148aea97d56841b2f0858ae60f45b1 = L.AwesomeMarkers.icon(\n                {&quot;extraClasses&quot;: &quot;fa-rotate-0&quot;, &quot;icon&quot;: &quot;info-sign&quot;, &quot;iconColor&quot;: &quot;red&quot;, &quot;markerColor&quot;: &quot;white&quot;, &quot;prefix&quot;: &quot;glyphicon&quot;}\n            );\n            marker_1a046386cb5df00a08e617673c43a499.setIcon(icon_7b148aea97d56841b2f0858ae60f45b1);\n        \n    \n            var marker_a78de5aa82f5a095766b792a0139747e = L.marker(\n                [28.56230197, -80.57735648],\n                {}\n            ).addTo(marker_cluster_c0be3883a4345621315572eeda596c41);\n        \n    \n            var icon_9372d4250ec91799519381498e27bddf = L.AwesomeMarkers.icon(\n                {&quot;extraClasses&quot;: &quot;fa-rotate-0&quot;, &quot;icon&quot;: &quot;info-sign&quot;, &quot;iconColor&quot;: &quot;red&quot;, &quot;markerColor&quot;: &quot;white&quot;, &quot;prefix&quot;: &quot;glyphicon&quot;}\n            );\n            marker_a78de5aa82f5a095766b792a0139747e.setIcon(icon_9372d4250ec91799519381498e27bddf);\n        \n    \n            var marker_e17cae61fbd7853bc9ea5962c45e4467 = L.marker(\n                [28.56230197, -80.57735648],\n                {}\n            ).addTo(marker_cluster_c0be3883a4345621315572eeda596c41);\n        \n    \n            var icon_4bb8c383e743d348fdf17ea523214a71 = L.AwesomeMarkers.icon(\n                {&quot;extraClasses&quot;: &quot;fa-rotate-0&quot;, &quot;icon&quot;: &quot;info-sign&quot;, &quot;iconColor&quot;: &quot;red&quot;, &quot;markerColor&quot;: &quot;white&quot;, &quot;prefix&quot;: &quot;glyphicon&quot;}\n            );\n            marker_e17cae61fbd7853bc9ea5962c45e4467.setIcon(icon_4bb8c383e743d348fdf17ea523214a71);\n        \n    \n            var marker_695288b4343e2992080f03c11bd4fe2d = L.marker(\n                [28.56230197, -80.57735648],\n                {}\n            ).addTo(marker_cluster_c0be3883a4345621315572eeda596c41);\n        \n    \n            var icon_a231e49fe5c1ad6feb96b114c2ae3ef5 = L.AwesomeMarkers.icon(\n                {&quot;extraClasses&quot;: &quot;fa-rotate-0&quot;, &quot;icon&quot;: &quot;info-sign&quot;, &quot;iconColor&quot;: &quot;green&quot;, &quot;markerColor&quot;: &quot;white&quot;, &quot;prefix&quot;: &quot;glyphicon&quot;}\n            );\n            marker_695288b4343e2992080f03c11bd4fe2d.setIcon(icon_a231e49fe5c1ad6feb96b114c2ae3ef5);\n        \n    \n            var marker_361ed302a685117841b35b1d655e791a = L.marker(\n                [28.56230197, -80.57735648],\n                {}\n            ).addTo(marker_cluster_c0be3883a4345621315572eeda596c41);\n        \n    \n            var icon_cb47ef6d6b1aea3ec87c9dc623d5ab83 = L.AwesomeMarkers.icon(\n                {&quot;extraClasses&quot;: &quot;fa-rotate-0&quot;, &quot;icon&quot;: &quot;info-sign&quot;, &quot;iconColor&quot;: &quot;green&quot;, &quot;markerColor&quot;: &quot;white&quot;, &quot;prefix&quot;: &quot;glyphicon&quot;}\n            );\n            marker_361ed302a685117841b35b1d655e791a.setIcon(icon_cb47ef6d6b1aea3ec87c9dc623d5ab83);\n        \n    \n            var marker_de97ca30330e2f5a150a7f516f2e4cfb = L.marker(\n                [28.56230197, -80.57735648],\n                {}\n            ).addTo(marker_cluster_c0be3883a4345621315572eeda596c41);\n        \n    \n            var icon_945cb57f1556b346cc7a9d78d5ca20b3 = L.AwesomeMarkers.icon(\n                {&quot;extraClasses&quot;: &quot;fa-rotate-0&quot;, &quot;icon&quot;: &quot;info-sign&quot;, &quot;iconColor&quot;: &quot;red&quot;, &quot;markerColor&quot;: &quot;white&quot;, &quot;prefix&quot;: &quot;glyphicon&quot;}\n            );\n            marker_de97ca30330e2f5a150a7f516f2e4cfb.setIcon(icon_945cb57f1556b346cc7a9d78d5ca20b3);\n        \n    \n            var marker_5afaa169ddf13d900a7d1f252cebb5bd = L.marker(\n                [28.56230197, -80.57735648],\n                {}\n            ).addTo(marker_cluster_c0be3883a4345621315572eeda596c41);\n        \n    \n            var icon_c4d6320709d86ae592d870dda4399cf9 = L.AwesomeMarkers.icon(\n                {&quot;extraClasses&quot;: &quot;fa-rotate-0&quot;, &quot;icon&quot;: &quot;info-sign&quot;, &quot;iconColor&quot;: &quot;green&quot;, &quot;markerColor&quot;: &quot;white&quot;, &quot;prefix&quot;: &quot;glyphicon&quot;}\n            );\n            marker_5afaa169ddf13d900a7d1f252cebb5bd.setIcon(icon_c4d6320709d86ae592d870dda4399cf9);\n        \n    \n            var marker_d24e3d29bf3bd805523a1609246fb1b7 = L.marker(\n                [28.56230197, -80.57735648],\n                {}\n            ).addTo(marker_cluster_c0be3883a4345621315572eeda596c41);\n        \n    \n            var icon_bb7d43b8447d23a9bab531a65408d9a7 = L.AwesomeMarkers.icon(\n                {&quot;extraClasses&quot;: &quot;fa-rotate-0&quot;, &quot;icon&quot;: &quot;info-sign&quot;, &quot;iconColor&quot;: &quot;green&quot;, &quot;markerColor&quot;: &quot;white&quot;, &quot;prefix&quot;: &quot;glyphicon&quot;}\n            );\n            marker_d24e3d29bf3bd805523a1609246fb1b7.setIcon(icon_bb7d43b8447d23a9bab531a65408d9a7);\n        \n    \n            var marker_09d2e722bcc32269e263a638664a8b9f = L.marker(\n                [28.56230197, -80.57735648],\n                {}\n            ).addTo(marker_cluster_c0be3883a4345621315572eeda596c41);\n        \n    \n            var icon_a9bc8828a0df014318134a7535637dfd = L.AwesomeMarkers.icon(\n                {&quot;extraClasses&quot;: &quot;fa-rotate-0&quot;, &quot;icon&quot;: &quot;info-sign&quot;, &quot;iconColor&quot;: &quot;green&quot;, &quot;markerColor&quot;: &quot;white&quot;, &quot;prefix&quot;: &quot;glyphicon&quot;}\n            );\n            marker_09d2e722bcc32269e263a638664a8b9f.setIcon(icon_a9bc8828a0df014318134a7535637dfd);\n        \n    \n            var marker_6e99c0210a1defbcac0d223356f59a0b = L.marker(\n                [28.56230197, -80.57735648],\n                {}\n            ).addTo(marker_cluster_c0be3883a4345621315572eeda596c41);\n        \n    \n            var icon_fbbdca89801a872ab106be2ef9e4b48d = L.AwesomeMarkers.icon(\n                {&quot;extraClasses&quot;: &quot;fa-rotate-0&quot;, &quot;icon&quot;: &quot;info-sign&quot;, &quot;iconColor&quot;: &quot;red&quot;, &quot;markerColor&quot;: &quot;white&quot;, &quot;prefix&quot;: &quot;glyphicon&quot;}\n            );\n            marker_6e99c0210a1defbcac0d223356f59a0b.setIcon(icon_fbbdca89801a872ab106be2ef9e4b48d);\n        \n    \n            var marker_49c57e530da1360b7290ae0631aaafb2 = L.marker(\n                [28.56230197, -80.57735648],\n                {}\n            ).addTo(marker_cluster_c0be3883a4345621315572eeda596c41);\n        \n    \n            var icon_4ce87f51dbd9361dabaae34cc7b1c3f3 = L.AwesomeMarkers.icon(\n                {&quot;extraClasses&quot;: &quot;fa-rotate-0&quot;, &quot;icon&quot;: &quot;info-sign&quot;, &quot;iconColor&quot;: &quot;green&quot;, &quot;markerColor&quot;: &quot;white&quot;, &quot;prefix&quot;: &quot;glyphicon&quot;}\n            );\n            marker_49c57e530da1360b7290ae0631aaafb2.setIcon(icon_4ce87f51dbd9361dabaae34cc7b1c3f3);\n        \n    \n            var marker_962244659fea996bd0d0020cb9d99ab9 = L.marker(\n                [28.56230197, -80.57735648],\n                {}\n            ).addTo(marker_cluster_c0be3883a4345621315572eeda596c41);\n        \n    \n            var icon_10791829d370422c5473941acc6f55bb = L.AwesomeMarkers.icon(\n                {&quot;extraClasses&quot;: &quot;fa-rotate-0&quot;, &quot;icon&quot;: &quot;info-sign&quot;, &quot;iconColor&quot;: &quot;green&quot;, &quot;markerColor&quot;: &quot;white&quot;, &quot;prefix&quot;: &quot;glyphicon&quot;}\n            );\n            marker_962244659fea996bd0d0020cb9d99ab9.setIcon(icon_10791829d370422c5473941acc6f55bb);\n        \n    \n            var marker_e7fd388698d301d579e5152dd3537303 = L.marker(\n                [34.63283416, -120.61074550000001],\n                {}\n            ).addTo(marker_cluster_c0be3883a4345621315572eeda596c41);\n        \n    \n            var icon_4046853324776b3aef6cf664ffe71319 = L.AwesomeMarkers.icon(\n                {&quot;extraClasses&quot;: &quot;fa-rotate-0&quot;, &quot;icon&quot;: &quot;info-sign&quot;, &quot;iconColor&quot;: &quot;red&quot;, &quot;markerColor&quot;: &quot;white&quot;, &quot;prefix&quot;: &quot;glyphicon&quot;}\n            );\n            marker_e7fd388698d301d579e5152dd3537303.setIcon(icon_4046853324776b3aef6cf664ffe71319);\n        \n    \n            var marker_d25df8c820377ba0a1c52484d0a1674e = L.marker(\n                [34.63283416, -120.61074550000001],\n                {}\n            ).addTo(marker_cluster_c0be3883a4345621315572eeda596c41);\n        \n    \n            var icon_e5132881554e74f7591ab815cc3d6ee5 = L.AwesomeMarkers.icon(\n                {&quot;extraClasses&quot;: &quot;fa-rotate-0&quot;, &quot;icon&quot;: &quot;info-sign&quot;, &quot;iconColor&quot;: &quot;red&quot;, &quot;markerColor&quot;: &quot;white&quot;, &quot;prefix&quot;: &quot;glyphicon&quot;}\n            );\n            marker_d25df8c820377ba0a1c52484d0a1674e.setIcon(icon_e5132881554e74f7591ab815cc3d6ee5);\n        \n    \n            var marker_9be1e50e3cbfc248e1fae7ab60e5c2a4 = L.marker(\n                [34.63283416, -120.61074550000001],\n                {}\n            ).addTo(marker_cluster_c0be3883a4345621315572eeda596c41);\n        \n    \n            var icon_850b4f7afbca005feee8cdf997f18d3f = L.AwesomeMarkers.icon(\n                {&quot;extraClasses&quot;: &quot;fa-rotate-0&quot;, &quot;icon&quot;: &quot;info-sign&quot;, &quot;iconColor&quot;: &quot;green&quot;, &quot;markerColor&quot;: &quot;white&quot;, &quot;prefix&quot;: &quot;glyphicon&quot;}\n            );\n            marker_9be1e50e3cbfc248e1fae7ab60e5c2a4.setIcon(icon_850b4f7afbca005feee8cdf997f18d3f);\n        \n    \n            var marker_daef2d32e203b7e5ca54f4989841b7d6 = L.marker(\n                [34.63283416, -120.61074550000001],\n                {}\n            ).addTo(marker_cluster_c0be3883a4345621315572eeda596c41);\n        \n    \n            var icon_02ac2d294d88afb245acafa248a48941 = L.AwesomeMarkers.icon(\n                {&quot;extraClasses&quot;: &quot;fa-rotate-0&quot;, &quot;icon&quot;: &quot;info-sign&quot;, &quot;iconColor&quot;: &quot;green&quot;, &quot;markerColor&quot;: &quot;white&quot;, &quot;prefix&quot;: &quot;glyphicon&quot;}\n            );\n            marker_daef2d32e203b7e5ca54f4989841b7d6.setIcon(icon_02ac2d294d88afb245acafa248a48941);\n        \n    \n            var marker_2683f5dca9ade44585580ab1c4d2ad01 = L.marker(\n                [34.63283416, -120.61074550000001],\n                {}\n            ).addTo(marker_cluster_c0be3883a4345621315572eeda596c41);\n        \n    \n            var icon_6ff3593a27c6d72035807199e56fcaed = L.AwesomeMarkers.icon(\n                {&quot;extraClasses&quot;: &quot;fa-rotate-0&quot;, &quot;icon&quot;: &quot;info-sign&quot;, &quot;iconColor&quot;: &quot;green&quot;, &quot;markerColor&quot;: &quot;white&quot;, &quot;prefix&quot;: &quot;glyphicon&quot;}\n            );\n            marker_2683f5dca9ade44585580ab1c4d2ad01.setIcon(icon_6ff3593a27c6d72035807199e56fcaed);\n        \n    \n            var marker_1a6d90eccd327233f9a2d1cfc23082d6 = L.marker(\n                [34.63283416, -120.61074550000001],\n                {}\n            ).addTo(marker_cluster_c0be3883a4345621315572eeda596c41);\n        \n    \n            var icon_7222332e2aabd34726514af9cccc4d66 = L.AwesomeMarkers.icon(\n                {&quot;extraClasses&quot;: &quot;fa-rotate-0&quot;, &quot;icon&quot;: &quot;info-sign&quot;, &quot;iconColor&quot;: &quot;green&quot;, &quot;markerColor&quot;: &quot;white&quot;, &quot;prefix&quot;: &quot;glyphicon&quot;}\n            );\n            marker_1a6d90eccd327233f9a2d1cfc23082d6.setIcon(icon_7222332e2aabd34726514af9cccc4d66);\n        \n    \n            var marker_732a9aa99404327ab3c3cf58b0c6d66f = L.marker(\n                [34.63283416, -120.61074550000001],\n                {}\n            ).addTo(marker_cluster_c0be3883a4345621315572eeda596c41);\n        \n    \n            var icon_a429f60edc7eff2c23e1bcb627be4921 = L.AwesomeMarkers.icon(\n                {&quot;extraClasses&quot;: &quot;fa-rotate-0&quot;, &quot;icon&quot;: &quot;info-sign&quot;, &quot;iconColor&quot;: &quot;red&quot;, &quot;markerColor&quot;: &quot;white&quot;, &quot;prefix&quot;: &quot;glyphicon&quot;}\n            );\n            marker_732a9aa99404327ab3c3cf58b0c6d66f.setIcon(icon_a429f60edc7eff2c23e1bcb627be4921);\n        \n    \n            var marker_a6fa4bb5119b55dc54fe7fb8c85803cd = L.marker(\n                [34.63283416, -120.61074550000001],\n                {}\n            ).addTo(marker_cluster_c0be3883a4345621315572eeda596c41);\n        \n    \n            var icon_8d6f2cd26f2a9b97abfbab9cf5d30f9c = L.AwesomeMarkers.icon(\n                {&quot;extraClasses&quot;: &quot;fa-rotate-0&quot;, &quot;icon&quot;: &quot;info-sign&quot;, &quot;iconColor&quot;: &quot;red&quot;, &quot;markerColor&quot;: &quot;white&quot;, &quot;prefix&quot;: &quot;glyphicon&quot;}\n            );\n            marker_a6fa4bb5119b55dc54fe7fb8c85803cd.setIcon(icon_8d6f2cd26f2a9b97abfbab9cf5d30f9c);\n        \n    \n            var marker_5561e0d818d4f6e3527c9f4075c058df = L.marker(\n                [34.63283416, -120.61074550000001],\n                {}\n            ).addTo(marker_cluster_c0be3883a4345621315572eeda596c41);\n        \n    \n            var icon_2aef5223e4ed335e811660fa4352798e = L.AwesomeMarkers.icon(\n                {&quot;extraClasses&quot;: &quot;fa-rotate-0&quot;, &quot;icon&quot;: &quot;info-sign&quot;, &quot;iconColor&quot;: &quot;red&quot;, &quot;markerColor&quot;: &quot;white&quot;, &quot;prefix&quot;: &quot;glyphicon&quot;}\n            );\n            marker_5561e0d818d4f6e3527c9f4075c058df.setIcon(icon_2aef5223e4ed335e811660fa4352798e);\n        \n    \n            var marker_a1f6dd4087a0713085e18c1694294799 = L.marker(\n                [34.63283416, -120.61074550000001],\n                {}\n            ).addTo(marker_cluster_c0be3883a4345621315572eeda596c41);\n        \n    \n            var icon_2a39fb5f1289784fe6840c7dbed813da = L.AwesomeMarkers.icon(\n                {&quot;extraClasses&quot;: &quot;fa-rotate-0&quot;, &quot;icon&quot;: &quot;info-sign&quot;, &quot;iconColor&quot;: &quot;red&quot;, &quot;markerColor&quot;: &quot;white&quot;, &quot;prefix&quot;: &quot;glyphicon&quot;}\n            );\n            marker_a1f6dd4087a0713085e18c1694294799.setIcon(icon_2a39fb5f1289784fe6840c7dbed813da);\n        \n    \n            var marker_ac9700d52c08bed67111a15845f3d805 = L.marker(\n                [28.57325457, -80.64689529],\n                {}\n            ).addTo(marker_cluster_c0be3883a4345621315572eeda596c41);\n        \n    \n            var icon_a2663781e03c15e67d7b2948c539c1ee = L.AwesomeMarkers.icon(\n                {&quot;extraClasses&quot;: &quot;fa-rotate-0&quot;, &quot;icon&quot;: &quot;info-sign&quot;, &quot;iconColor&quot;: &quot;green&quot;, &quot;markerColor&quot;: &quot;white&quot;, &quot;prefix&quot;: &quot;glyphicon&quot;}\n            );\n            marker_ac9700d52c08bed67111a15845f3d805.setIcon(icon_a2663781e03c15e67d7b2948c539c1ee);\n        \n    \n            var marker_2ed0b13fd3e30fd6d27a685fec1b9a32 = L.marker(\n                [28.57325457, -80.64689529],\n                {}\n            ).addTo(marker_cluster_c0be3883a4345621315572eeda596c41);\n        \n    \n            var icon_3ae54b02c5528c4370877f8da9867ff5 = L.AwesomeMarkers.icon(\n                {&quot;extraClasses&quot;: &quot;fa-rotate-0&quot;, &quot;icon&quot;: &quot;info-sign&quot;, &quot;iconColor&quot;: &quot;red&quot;, &quot;markerColor&quot;: &quot;white&quot;, &quot;prefix&quot;: &quot;glyphicon&quot;}\n            );\n            marker_2ed0b13fd3e30fd6d27a685fec1b9a32.setIcon(icon_3ae54b02c5528c4370877f8da9867ff5);\n        \n    \n            var marker_c32129ebd92a4aaaf9444143ae5b8d4d = L.marker(\n                [28.57325457, -80.64689529],\n                {}\n            ).addTo(marker_cluster_c0be3883a4345621315572eeda596c41);\n        \n    \n            var icon_ed41232456aa8fc22f0cd6388d0a6ff2 = L.AwesomeMarkers.icon(\n                {&quot;extraClasses&quot;: &quot;fa-rotate-0&quot;, &quot;icon&quot;: &quot;info-sign&quot;, &quot;iconColor&quot;: &quot;green&quot;, &quot;markerColor&quot;: &quot;white&quot;, &quot;prefix&quot;: &quot;glyphicon&quot;}\n            );\n            marker_c32129ebd92a4aaaf9444143ae5b8d4d.setIcon(icon_ed41232456aa8fc22f0cd6388d0a6ff2);\n        \n    \n            var marker_df02c39a5df66f4a649da5352d66ed7d = L.marker(\n                [28.57325457, -80.64689529],\n                {}\n            ).addTo(marker_cluster_c0be3883a4345621315572eeda596c41);\n        \n    \n            var icon_7aa96129cbb9dc814f2429438226a98b = L.AwesomeMarkers.icon(\n                {&quot;extraClasses&quot;: &quot;fa-rotate-0&quot;, &quot;icon&quot;: &quot;info-sign&quot;, &quot;iconColor&quot;: &quot;green&quot;, &quot;markerColor&quot;: &quot;white&quot;, &quot;prefix&quot;: &quot;glyphicon&quot;}\n            );\n            marker_df02c39a5df66f4a649da5352d66ed7d.setIcon(icon_7aa96129cbb9dc814f2429438226a98b);\n        \n    \n            var marker_c6fd955215fd71e3dea2b1aa5e26a46c = L.marker(\n                [28.57325457, -80.64689529],\n                {}\n            ).addTo(marker_cluster_c0be3883a4345621315572eeda596c41);\n        \n    \n            var icon_1d51eb5ca650fe09943b216e95f16513 = L.AwesomeMarkers.icon(\n                {&quot;extraClasses&quot;: &quot;fa-rotate-0&quot;, &quot;icon&quot;: &quot;info-sign&quot;, &quot;iconColor&quot;: &quot;red&quot;, &quot;markerColor&quot;: &quot;white&quot;, &quot;prefix&quot;: &quot;glyphicon&quot;}\n            );\n            marker_c6fd955215fd71e3dea2b1aa5e26a46c.setIcon(icon_1d51eb5ca650fe09943b216e95f16513);\n        \n    \n            var marker_e2dc8fd09df47b8858920592d6545e75 = L.marker(\n                [28.57325457, -80.64689529],\n                {}\n            ).addTo(marker_cluster_c0be3883a4345621315572eeda596c41);\n        \n    \n            var icon_569f2d40780256ee9c9b4e75cec0d5b4 = L.AwesomeMarkers.icon(\n                {&quot;extraClasses&quot;: &quot;fa-rotate-0&quot;, &quot;icon&quot;: &quot;info-sign&quot;, &quot;iconColor&quot;: &quot;green&quot;, &quot;markerColor&quot;: &quot;white&quot;, &quot;prefix&quot;: &quot;glyphicon&quot;}\n            );\n            marker_e2dc8fd09df47b8858920592d6545e75.setIcon(icon_569f2d40780256ee9c9b4e75cec0d5b4);\n        \n    \n            var marker_ff604c4ff582abb1bdfd00cb1d1a03d8 = L.marker(\n                [28.57325457, -80.64689529],\n                {}\n            ).addTo(marker_cluster_c0be3883a4345621315572eeda596c41);\n        \n    \n            var icon_337adb5bd2a599d546314acadfc7c318 = L.AwesomeMarkers.icon(\n                {&quot;extraClasses&quot;: &quot;fa-rotate-0&quot;, &quot;icon&quot;: &quot;info-sign&quot;, &quot;iconColor&quot;: &quot;green&quot;, &quot;markerColor&quot;: &quot;white&quot;, &quot;prefix&quot;: &quot;glyphicon&quot;}\n            );\n            marker_ff604c4ff582abb1bdfd00cb1d1a03d8.setIcon(icon_337adb5bd2a599d546314acadfc7c318);\n        \n    \n            var marker_55559d366feab8b4a543da94d7004b7b = L.marker(\n                [28.57325457, -80.64689529],\n                {}\n            ).addTo(marker_cluster_c0be3883a4345621315572eeda596c41);\n        \n    \n            var icon_93a166b677091cedc2b8c58f26095232 = L.AwesomeMarkers.icon(\n                {&quot;extraClasses&quot;: &quot;fa-rotate-0&quot;, &quot;icon&quot;: &quot;info-sign&quot;, &quot;iconColor&quot;: &quot;red&quot;, &quot;markerColor&quot;: &quot;white&quot;, &quot;prefix&quot;: &quot;glyphicon&quot;}\n            );\n            marker_55559d366feab8b4a543da94d7004b7b.setIcon(icon_93a166b677091cedc2b8c58f26095232);\n        \n    \n            var marker_184c3ef9350d89253a33e270772bcd5a = L.marker(\n                [28.57325457, -80.64689529],\n                {}\n            ).addTo(marker_cluster_c0be3883a4345621315572eeda596c41);\n        \n    \n            var icon_43dec26d1bc0ae38ad967c960b8c4512 = L.AwesomeMarkers.icon(\n                {&quot;extraClasses&quot;: &quot;fa-rotate-0&quot;, &quot;icon&quot;: &quot;info-sign&quot;, &quot;iconColor&quot;: &quot;green&quot;, &quot;markerColor&quot;: &quot;white&quot;, &quot;prefix&quot;: &quot;glyphicon&quot;}\n            );\n            marker_184c3ef9350d89253a33e270772bcd5a.setIcon(icon_43dec26d1bc0ae38ad967c960b8c4512);\n        \n    \n            var marker_bf7168c2d627565ea984d49ba96f2d39 = L.marker(\n                [28.57325457, -80.64689529],\n                {}\n            ).addTo(marker_cluster_c0be3883a4345621315572eeda596c41);\n        \n    \n            var icon_4eb75a364c6cfe5529841d06545f7655 = L.AwesomeMarkers.icon(\n                {&quot;extraClasses&quot;: &quot;fa-rotate-0&quot;, &quot;icon&quot;: &quot;info-sign&quot;, &quot;iconColor&quot;: &quot;green&quot;, &quot;markerColor&quot;: &quot;white&quot;, &quot;prefix&quot;: &quot;glyphicon&quot;}\n            );\n            marker_bf7168c2d627565ea984d49ba96f2d39.setIcon(icon_4eb75a364c6cfe5529841d06545f7655);\n        \n    \n            var marker_a18c877dadc72a5a8610a4fd97bccc28 = L.marker(\n                [28.57325457, -80.64689529],\n                {}\n            ).addTo(marker_cluster_c0be3883a4345621315572eeda596c41);\n        \n    \n            var icon_ea606a159fe222f7ba491966542dfb67 = L.AwesomeMarkers.icon(\n                {&quot;extraClasses&quot;: &quot;fa-rotate-0&quot;, &quot;icon&quot;: &quot;info-sign&quot;, &quot;iconColor&quot;: &quot;green&quot;, &quot;markerColor&quot;: &quot;white&quot;, &quot;prefix&quot;: &quot;glyphicon&quot;}\n            );\n            marker_a18c877dadc72a5a8610a4fd97bccc28.setIcon(icon_ea606a159fe222f7ba491966542dfb67);\n        \n    \n            var marker_10af6193eda199e7694b1bf5c965ad29 = L.marker(\n                [28.57325457, -80.64689529],\n                {}\n            ).addTo(marker_cluster_c0be3883a4345621315572eeda596c41);\n        \n    \n            var icon_c8f7f4aa5a33e626f985ca0656b9e85f = L.AwesomeMarkers.icon(\n                {&quot;extraClasses&quot;: &quot;fa-rotate-0&quot;, &quot;icon&quot;: &quot;info-sign&quot;, &quot;iconColor&quot;: &quot;green&quot;, &quot;markerColor&quot;: &quot;white&quot;, &quot;prefix&quot;: &quot;glyphicon&quot;}\n            );\n            marker_10af6193eda199e7694b1bf5c965ad29.setIcon(icon_c8f7f4aa5a33e626f985ca0656b9e85f);\n        \n    \n            var marker_c63583ffd9dbf9271c72b2e4964ceb5d = L.marker(\n                [28.57325457, -80.64689529],\n                {}\n            ).addTo(marker_cluster_c0be3883a4345621315572eeda596c41);\n        \n    \n            var icon_28d9f05377f0f30713c334d1bc08e903 = L.AwesomeMarkers.icon(\n                {&quot;extraClasses&quot;: &quot;fa-rotate-0&quot;, &quot;icon&quot;: &quot;info-sign&quot;, &quot;iconColor&quot;: &quot;green&quot;, &quot;markerColor&quot;: &quot;white&quot;, &quot;prefix&quot;: &quot;glyphicon&quot;}\n            );\n            marker_c63583ffd9dbf9271c72b2e4964ceb5d.setIcon(icon_28d9f05377f0f30713c334d1bc08e903);\n        \n    \n            var marker_2bd185d10bab0c1f618932268644810d = L.marker(\n                [28.56319718, -80.57682003],\n                {}\n            ).addTo(marker_cluster_c0be3883a4345621315572eeda596c41);\n        \n    \n            var icon_ee129ffe3c257b7234cf3a2465b5140a = L.AwesomeMarkers.icon(\n                {&quot;extraClasses&quot;: &quot;fa-rotate-0&quot;, &quot;icon&quot;: &quot;info-sign&quot;, &quot;iconColor&quot;: &quot;green&quot;, &quot;markerColor&quot;: &quot;white&quot;, &quot;prefix&quot;: &quot;glyphicon&quot;}\n            );\n            marker_2bd185d10bab0c1f618932268644810d.setIcon(icon_ee129ffe3c257b7234cf3a2465b5140a);\n        \n    \n            var marker_682636f84120d9bcb92730ea1fb2e679 = L.marker(\n                [28.56319718, -80.57682003],\n                {}\n            ).addTo(marker_cluster_c0be3883a4345621315572eeda596c41);\n        \n    \n            var icon_07d3d2467a68c5a561f334f6ed261822 = L.AwesomeMarkers.icon(\n                {&quot;extraClasses&quot;: &quot;fa-rotate-0&quot;, &quot;icon&quot;: &quot;info-sign&quot;, &quot;iconColor&quot;: &quot;green&quot;, &quot;markerColor&quot;: &quot;white&quot;, &quot;prefix&quot;: &quot;glyphicon&quot;}\n            );\n            marker_682636f84120d9bcb92730ea1fb2e679.setIcon(icon_07d3d2467a68c5a561f334f6ed261822);\n        \n    \n            var marker_c48f38a16df5bc25ee05ddda39779b45 = L.marker(\n                [28.56319718, -80.57682003],\n                {}\n            ).addTo(marker_cluster_c0be3883a4345621315572eeda596c41);\n        \n    \n            var icon_0c4ccfcf9d0fb41a2f0a7d4433fd91e4 = L.AwesomeMarkers.icon(\n                {&quot;extraClasses&quot;: &quot;fa-rotate-0&quot;, &quot;icon&quot;: &quot;info-sign&quot;, &quot;iconColor&quot;: &quot;red&quot;, &quot;markerColor&quot;: &quot;white&quot;, &quot;prefix&quot;: &quot;glyphicon&quot;}\n            );\n            marker_c48f38a16df5bc25ee05ddda39779b45.setIcon(icon_0c4ccfcf9d0fb41a2f0a7d4433fd91e4);\n        \n    \n            var marker_c3b85a1c5cb36d22592bba7347a596d9 = L.marker(\n                [28.56319718, -80.57682003],\n                {}\n            ).addTo(marker_cluster_c0be3883a4345621315572eeda596c41);\n        \n    \n            var icon_21e77320eaa68b9a97793dd1f58abf01 = L.AwesomeMarkers.icon(\n                {&quot;extraClasses&quot;: &quot;fa-rotate-0&quot;, &quot;icon&quot;: &quot;info-sign&quot;, &quot;iconColor&quot;: &quot;red&quot;, &quot;markerColor&quot;: &quot;white&quot;, &quot;prefix&quot;: &quot;glyphicon&quot;}\n            );\n            marker_c3b85a1c5cb36d22592bba7347a596d9.setIcon(icon_21e77320eaa68b9a97793dd1f58abf01);\n        \n    \n            var marker_a5d9aba07f5ca94a688739257a4226ad = L.marker(\n                [28.56319718, -80.57682003],\n                {}\n            ).addTo(marker_cluster_c0be3883a4345621315572eeda596c41);\n        \n    \n            var icon_e2622436c2c146cb697e40d7c1b9fe63 = L.AwesomeMarkers.icon(\n                {&quot;extraClasses&quot;: &quot;fa-rotate-0&quot;, &quot;icon&quot;: &quot;info-sign&quot;, &quot;iconColor&quot;: &quot;red&quot;, &quot;markerColor&quot;: &quot;white&quot;, &quot;prefix&quot;: &quot;glyphicon&quot;}\n            );\n            marker_a5d9aba07f5ca94a688739257a4226ad.setIcon(icon_e2622436c2c146cb697e40d7c1b9fe63);\n        \n    \n            var marker_91386f104454f4aa42c8e3dfb219e2d5 = L.marker(\n                [28.56319718, -80.57682003],\n                {}\n            ).addTo(marker_cluster_c0be3883a4345621315572eeda596c41);\n        \n    \n            var icon_a0382d8cdb9e3206e617f7ebf95c2ccf = L.AwesomeMarkers.icon(\n                {&quot;extraClasses&quot;: &quot;fa-rotate-0&quot;, &quot;icon&quot;: &quot;info-sign&quot;, &quot;iconColor&quot;: &quot;green&quot;, &quot;markerColor&quot;: &quot;white&quot;, &quot;prefix&quot;: &quot;glyphicon&quot;}\n            );\n            marker_91386f104454f4aa42c8e3dfb219e2d5.setIcon(icon_a0382d8cdb9e3206e617f7ebf95c2ccf);\n        \n    \n            var marker_e57722eb8e5a519e590f69d90582da09 = L.marker(\n                [28.56319718, -80.57682003],\n                {}\n            ).addTo(marker_cluster_c0be3883a4345621315572eeda596c41);\n        \n    \n            var icon_6ba913d13ac44cd802a1cc15c1c9449e = L.AwesomeMarkers.icon(\n                {&quot;extraClasses&quot;: &quot;fa-rotate-0&quot;, &quot;icon&quot;: &quot;info-sign&quot;, &quot;iconColor&quot;: &quot;red&quot;, &quot;markerColor&quot;: &quot;white&quot;, &quot;prefix&quot;: &quot;glyphicon&quot;}\n            );\n            marker_e57722eb8e5a519e590f69d90582da09.setIcon(icon_6ba913d13ac44cd802a1cc15c1c9449e);\n        \n    \n            var mouse_position_f9ba6083894627742bf4f6e79b6d03c4 = new L.Control.MousePosition(\n                {&quot;emptyString&quot;: &quot;NaN&quot;, &quot;lngFirst&quot;: false, &quot;numDigits&quot;: 20, &quot;position&quot;: &quot;topright&quot;, &quot;prefix&quot;: &quot;Lat:&quot;, &quot;separator&quot;: &quot; Long: &quot;}\n            );\n            mouse_position_f9ba6083894627742bf4f6e79b6d03c4.options[&quot;latFormatter&quot;] =\n                function(num) {return L.Util.formatNum(num, 5);};;\n            mouse_position_f9ba6083894627742bf4f6e79b6d03c4.options[&quot;lngFormatter&quot;] =\n                function(num) {return L.Util.formatNum(num, 5);};;\n            map_a72f26924533117da5d58eac987a1f80.addControl(mouse_position_f9ba6083894627742bf4f6e79b6d03c4);\n        \n&lt;/script&gt;\n&lt;/html&gt;\" style=\"position:absolute;width:100%;height:100%;left:0;top:0;border:none !important;\" allowfullscreen webkitallowfullscreen mozallowfullscreen></iframe></div></div>"
     },
     "execution_count": 28,
     "metadata": {},
     "output_type": "execute_result"
    }
   ],
   "source": [
    "# Add Mouse Position to get the coordinate (Lat, Long) for a mouse over on the map\n",
    "formatter = \"function(num) {return L.Util.formatNum(num, 5);};\"\n",
    "mouse_position = MousePosition(\n",
    "    position='topright',\n",
    "    separator=' Long: ',\n",
    "    empty_string='NaN',\n",
    "    lng_first=False,\n",
    "    num_digits=20,\n",
    "    prefix='Lat:',\n",
    "    lat_formatter=formatter,\n",
    "    lng_formatter=formatter,\n",
    ")\n",
    "\n",
    "site_map.add_child(mouse_position)\n",
    "site_map"
   ],
   "metadata": {
    "collapsed": false,
    "ExecuteTime": {
     "start_time": "2023-04-01T15:02:15.176237Z",
     "end_time": "2023-04-01T15:02:15.251843Z"
    }
   }
  },
  {
   "cell_type": "markdown",
   "source": [
    "Now zoom in to a launch site and explore its proximity to see if you can easily find any railway, highway, coastline, etc. Move your mouse to these points and mark down their coordinates (shown on the top-left) in order to the distance to the launch site."
   ],
   "metadata": {
    "collapsed": false
   }
  },
  {
   "cell_type": "code",
   "execution_count": 34,
   "outputs": [],
   "source": [
    "from math import sin, cos, sqrt, atan2, radians\n",
    "\n",
    "def calculate_distance(lat1, lon1, lat2, lon2):\n",
    "    # approximate radius of earth in km\n",
    "    R = 6373.0\n",
    "\n",
    "    lat1 = radians(lat1)\n",
    "    lon1 = radians(lon1)\n",
    "    lat2 = radians(lat2)\n",
    "    lon2 = radians(lon2)\n",
    "\n",
    "    dlon = lon2 - lon1\n",
    "    dlat = lat2 - lat1\n",
    "\n",
    "    a = sin(dlat / 2)**2 + cos(lat1) * cos(lat2) * sin(dlon / 2)**2\n",
    "    c = 2 * atan2(sqrt(a), sqrt(1 - a))\n",
    "\n",
    "    distance = R * c\n",
    "    return distance"
   ],
   "metadata": {
    "collapsed": false,
    "ExecuteTime": {
     "start_time": "2023-04-01T15:05:38.587363Z",
     "end_time": "2023-04-01T15:05:38.618694Z"
    }
   }
  },
  {
   "cell_type": "markdown",
   "source": [
    "TODO: Mark down a point on the closest coastline using MousePosition and calculate the distance between the coastline point and the launch site"
   ],
   "metadata": {
    "collapsed": false
   }
  },
  {
   "cell_type": "code",
   "execution_count": 35,
   "outputs": [],
   "source": [
    "# find coordinate of the closet coastline\n",
    "# e.g.,: Lat: 28.56367  Lon: -80.57163\n",
    "# distance_coastline = calculate_distance(launch_site_lat, launch_site_lon, coastline_lat, coastline_lon)"
   ],
   "metadata": {
    "collapsed": false,
    "ExecuteTime": {
     "start_time": "2023-04-01T15:05:40.473931Z",
     "end_time": "2023-04-01T15:05:40.489558Z"
    }
   }
  },
  {
   "cell_type": "code",
   "execution_count": 36,
   "outputs": [
    {
     "name": "stdout",
     "output_type": "stream",
     "text": [
      "0.8627671182499878  km\n"
     ]
    }
   ],
   "source": [
    "# find coordinate of the closet coastline\n",
    "# e.g.,: Lat: 28.56367  Lon: -80.57163\n",
    "# distance_coastline = calculate_distance(launch_site_lat, launch_site_lon, coastline_lat, coastline_lon)\n",
    "launch_site_lat = 28.563197\n",
    "launch_site_lon = -80.576820\n",
    "coastline_lat = 28.56334\n",
    "coastline_lon = -80.56799\n",
    "distance_coastline = calculate_distance(launch_site_lat, launch_site_lon, coastline_lat, coastline_lon)\n",
    "print(distance_coastline,' km')"
   ],
   "metadata": {
    "collapsed": false,
    "ExecuteTime": {
     "start_time": "2023-04-01T15:05:41.706037Z",
     "end_time": "2023-04-01T15:05:41.736691Z"
    }
   }
  },
  {
   "cell_type": "code",
   "execution_count": 39,
   "outputs": [],
   "source": [
    "distance_marker = folium.Marker(\n",
    "    coordinate,\n",
    "    icon=DivIcon(\n",
    "        icon_size=(20,20),\n",
    "        icon_anchor=(0,0),\n",
    "        html='<div style=\"font-size: 12; color:#d35400;\"><b>%s</b></div>' % \"{:10.2f} KM\".format(distance_coastline),\n",
    "    )\n",
    ")"
   ],
   "metadata": {
    "collapsed": false,
    "ExecuteTime": {
     "start_time": "2023-04-01T15:07:10.245341Z",
     "end_time": "2023-04-01T15:07:10.276586Z"
    }
   }
  },
  {
   "cell_type": "code",
   "execution_count": 40,
   "outputs": [
    {
     "ename": "NameError",
     "evalue": "name 'coordinates' is not defined",
     "output_type": "error",
     "traceback": [
      "\u001B[1;31m---------------------------------------------------------------------------\u001B[0m",
      "\u001B[1;31mNameError\u001B[0m                                 Traceback (most recent call last)",
      "\u001B[1;32m~\\AppData\\Local\\Temp\\ipykernel_14712\\3050230346.py\u001B[0m in \u001B[0;36m<module>\u001B[1;34m\u001B[0m\n\u001B[0;32m      1\u001B[0m \u001B[1;31m# Create a `folium.PolyLine` object using the coastline coordinates and launch site coordinate\u001B[0m\u001B[1;33m\u001B[0m\u001B[1;33m\u001B[0m\u001B[0m\n\u001B[1;32m----> 2\u001B[1;33m \u001B[0mlines\u001B[0m\u001B[1;33m=\u001B[0m\u001B[0mfolium\u001B[0m\u001B[1;33m.\u001B[0m\u001B[0mPolyLine\u001B[0m\u001B[1;33m(\u001B[0m\u001B[0mlocations\u001B[0m\u001B[1;33m=\u001B[0m\u001B[0mcoordinates\u001B[0m\u001B[1;33m,\u001B[0m \u001B[0mweight\u001B[0m\u001B[1;33m=\u001B[0m\u001B[1;36m1\u001B[0m\u001B[1;33m)\u001B[0m\u001B[1;33m\u001B[0m\u001B[1;33m\u001B[0m\u001B[0m\n\u001B[0m\u001B[0;32m      3\u001B[0m \u001B[0mcoordinates\u001B[0m \u001B[1;33m=\u001B[0m \u001B[1;33m[\u001B[0m\u001B[1;33m[\u001B[0m\u001B[0mlaunch_site_lat\u001B[0m\u001B[1;33m,\u001B[0m\u001B[0mlaunch_site_lon\u001B[0m\u001B[1;33m]\u001B[0m\u001B[1;33m,\u001B[0m\u001B[1;33m[\u001B[0m\u001B[0mcoastline_lat\u001B[0m\u001B[1;33m,\u001B[0m\u001B[0mcoastline_lon\u001B[0m\u001B[1;33m]\u001B[0m\u001B[1;33m]\u001B[0m\u001B[1;33m\u001B[0m\u001B[1;33m\u001B[0m\u001B[0m\n\u001B[0;32m      4\u001B[0m \u001B[0mlines\u001B[0m\u001B[1;33m=\u001B[0m\u001B[0mfolium\u001B[0m\u001B[1;33m.\u001B[0m\u001B[0mPolyLine\u001B[0m\u001B[1;33m(\u001B[0m\u001B[0mlocations\u001B[0m\u001B[1;33m=\u001B[0m\u001B[0mcoordinates\u001B[0m\u001B[1;33m,\u001B[0m \u001B[0mweight\u001B[0m\u001B[1;33m=\u001B[0m\u001B[1;36m1\u001B[0m\u001B[1;33m)\u001B[0m\u001B[1;33m\u001B[0m\u001B[1;33m\u001B[0m\u001B[0m\n\u001B[0;32m      5\u001B[0m \u001B[0msite_map\u001B[0m\u001B[1;33m.\u001B[0m\u001B[0madd_child\u001B[0m\u001B[1;33m(\u001B[0m\u001B[0mlines\u001B[0m\u001B[1;33m)\u001B[0m\u001B[1;33m\u001B[0m\u001B[1;33m\u001B[0m\u001B[0m\n",
      "\u001B[1;31mNameError\u001B[0m: name 'coordinates' is not defined"
     ]
    }
   ],
   "source": [
    "# Create a `folium.PolyLine` object using the coastline coordinates and launch site coordinate\n",
    "lines=folium.PolyLine(locations=coordinates, weight=1)\n",
    "coordinates = [[launch_site_lat,launch_site_lon],[coastline_lat,coastline_lon]]\n",
    "lines=folium.PolyLine(locations=coordinates, weight=1)\n",
    "site_map.add_child(lines)"
   ],
   "metadata": {
    "collapsed": false
   }
  },
  {
   "cell_type": "code",
   "execution_count": 41,
   "outputs": [
    {
     "ename": "NameError",
     "evalue": "name 'coordinates' is not defined",
     "output_type": "error",
     "traceback": [
      "\u001B[1;31m---------------------------------------------------------------------------\u001B[0m",
      "\u001B[1;31mNameError\u001B[0m                                 Traceback (most recent call last)",
      "\u001B[1;32m~\\AppData\\Local\\Temp\\ipykernel_14712\\3050230346.py\u001B[0m in \u001B[0;36m<module>\u001B[1;34m\u001B[0m\n\u001B[0;32m      1\u001B[0m \u001B[1;31m# Create a `folium.PolyLine` object using the coastline coordinates and launch site coordinate\u001B[0m\u001B[1;33m\u001B[0m\u001B[1;33m\u001B[0m\u001B[0m\n\u001B[1;32m----> 2\u001B[1;33m \u001B[0mlines\u001B[0m\u001B[1;33m=\u001B[0m\u001B[0mfolium\u001B[0m\u001B[1;33m.\u001B[0m\u001B[0mPolyLine\u001B[0m\u001B[1;33m(\u001B[0m\u001B[0mlocations\u001B[0m\u001B[1;33m=\u001B[0m\u001B[0mcoordinates\u001B[0m\u001B[1;33m,\u001B[0m \u001B[0mweight\u001B[0m\u001B[1;33m=\u001B[0m\u001B[1;36m1\u001B[0m\u001B[1;33m)\u001B[0m\u001B[1;33m\u001B[0m\u001B[1;33m\u001B[0m\u001B[0m\n\u001B[0m\u001B[0;32m      3\u001B[0m \u001B[0mcoordinates\u001B[0m \u001B[1;33m=\u001B[0m \u001B[1;33m[\u001B[0m\u001B[1;33m[\u001B[0m\u001B[0mlaunch_site_lat\u001B[0m\u001B[1;33m,\u001B[0m\u001B[0mlaunch_site_lon\u001B[0m\u001B[1;33m]\u001B[0m\u001B[1;33m,\u001B[0m\u001B[1;33m[\u001B[0m\u001B[0mcoastline_lat\u001B[0m\u001B[1;33m,\u001B[0m\u001B[0mcoastline_lon\u001B[0m\u001B[1;33m]\u001B[0m\u001B[1;33m]\u001B[0m\u001B[1;33m\u001B[0m\u001B[1;33m\u001B[0m\u001B[0m\n\u001B[0;32m      4\u001B[0m \u001B[0mlines\u001B[0m\u001B[1;33m=\u001B[0m\u001B[0mfolium\u001B[0m\u001B[1;33m.\u001B[0m\u001B[0mPolyLine\u001B[0m\u001B[1;33m(\u001B[0m\u001B[0mlocations\u001B[0m\u001B[1;33m=\u001B[0m\u001B[0mcoordinates\u001B[0m\u001B[1;33m,\u001B[0m \u001B[0mweight\u001B[0m\u001B[1;33m=\u001B[0m\u001B[1;36m1\u001B[0m\u001B[1;33m)\u001B[0m\u001B[1;33m\u001B[0m\u001B[1;33m\u001B[0m\u001B[0m\n\u001B[0;32m      5\u001B[0m \u001B[0msite_map\u001B[0m\u001B[1;33m.\u001B[0m\u001B[0madd_child\u001B[0m\u001B[1;33m(\u001B[0m\u001B[0mlines\u001B[0m\u001B[1;33m)\u001B[0m\u001B[1;33m\u001B[0m\u001B[1;33m\u001B[0m\u001B[0m\n",
      "\u001B[1;31mNameError\u001B[0m: name 'coordinates' is not defined"
     ]
    }
   ],
   "source": [
    "# Create a `folium.PolyLine` object using the coastline coordinates and launch site coordinate\n",
    "lines=folium.PolyLine(locations=coordinates, weight=1)\n",
    "coordinates = [[launch_site_lat,launch_site_lon],[coastline_lat,coastline_lon]]\n",
    "lines=folium.PolyLine(locations=coordinates, weight=1)\n",
    "site_map.add_child(lines)"
   ],
   "metadata": {
    "collapsed": false
   }
  },
  {
   "cell_type": "markdown",
   "source": [
    "TODO: Similarly, you can draw a line betwee a launch site to its closest city, railway, highway, etc. You need to use MousePosition to find the their coordinates on the map first"
   ],
   "metadata": {
    "collapsed": false
   }
  },
  {
   "cell_type": "code",
   "execution_count": 42,
   "outputs": [],
   "source": [
    "# Create a marker with distance to a closest city, railway, highway, etc.\n",
    "# Draw a line between the marker to the launch site"
   ],
   "metadata": {
    "collapsed": false,
    "ExecuteTime": {
     "start_time": "2023-04-01T15:08:39.629593Z",
     "end_time": "2023-04-01T15:08:39.708137Z"
    }
   }
  },
  {
   "cell_type": "code",
   "execution_count": 43,
   "outputs": [],
   "source": [
    "closest_highway = 28.56335, -80.57085\n",
    "closest_railroad = 28.57206, -80.58525\n",
    "closest_city = 28.10473, -80.64531"
   ],
   "metadata": {
    "collapsed": false,
    "ExecuteTime": {
     "start_time": "2023-04-01T15:08:48.184084Z",
     "end_time": "2023-04-01T15:08:48.263159Z"
    }
   }
  },
  {
   "cell_type": "code",
   "execution_count": 44,
   "outputs": [
    {
     "name": "stdout",
     "output_type": "stream",
     "text": [
      "distance_highway = 0.5834695366934144  km\n",
      "distance_railroad = 1.2845344718142522  km\n",
      "distance_city = 51.43416999517233  km\n"
     ]
    }
   ],
   "source": [
    "distance_highway = calculate_distance(launch_site_lat, launch_site_lon, closest_highway[0], closest_highway[1])\n",
    "print('distance_highway =',distance_highway, ' km')\n",
    "distance_railroad = calculate_distance(launch_site_lat, launch_site_lon, closest_railroad[0], closest_railroad[1])\n",
    "print('distance_railroad =',distance_railroad, ' km')\n",
    "distance_city = calculate_distance(launch_site_lat, launch_site_lon, closest_city[0], closest_city[1])\n",
    "print('distance_city =',distance_city, ' km')"
   ],
   "metadata": {
    "collapsed": false,
    "ExecuteTime": {
     "start_time": "2023-04-01T15:08:56.375464Z",
     "end_time": "2023-04-01T15:08:56.438462Z"
    }
   }
  },
  {
   "cell_type": "code",
   "execution_count": 45,
   "outputs": [
    {
     "ename": "SyntaxError",
     "evalue": "EOL while scanning string literal (3005122063.py, line 7)",
     "output_type": "error",
     "traceback": [
      "\u001B[1;36m  File \u001B[1;32m\"C:\\Users\\hadin\\AppData\\Local\\Temp\\ipykernel_14712\\3005122063.py\"\u001B[1;36m, line \u001B[1;32m7\u001B[0m\n\u001B[1;33m    html='\u001B[0m\n\u001B[1;37m          ^\u001B[0m\n\u001B[1;31mSyntaxError\u001B[0m\u001B[1;31m:\u001B[0m EOL while scanning string literal\n"
     ]
    }
   ],
   "source": [
    "# closest highway marker\n",
    "distance_marker = folium.Marker(\n",
    "    closest_highway,\n",
    "    icon=DivIcon(\n",
    "        icon_size=(20,20),\n",
    "        icon_anchor=(0,0),\n",
    "        html='\n",
    "             %s\n",
    "' % \"{:10.2f} KM\".format(distance_highway),\n",
    ")\n",
    ")\n",
    "site_map.add_child(distance_marker)\n",
    "# closest highway line\n",
    "coordinates = [[launch_site_lat,launch_site_lon],closest_highway]\n",
    "lines=folium.PolyLine(locations=coordinates, weight=1)\n",
    "site_map.add_child(lines)\n",
    "\n",
    "# closest railroad marker\n",
    "distance_marker = folium.Marker(\n",
    "    closest_railroad,\n",
    "    icon=DivIcon(\n",
    "        icon_size=(20,20),\n",
    "        icon_anchor=(0,0),\n",
    "        html='\n",
    "             %s\n",
    "' % \"{:10.2f} KM\".format(distance_railroad),\n",
    ")\n",
    ")\n",
    "site_map.add_child(distance_marker)\n",
    "# closest railroad line\n",
    "coordinates = [[launch_site_lat,launch_site_lon],closest_railroad]\n",
    "lines=folium.PolyLine(locations=coordinates, weight=1)\n",
    "site_map.add_child(lines)\n",
    "# closest city marker\n",
    "distance_marker = folium.Marker(\n",
    "    closest_city,\n",
    "    icon=DivIcon(\n",
    "        icon_size=(20,20),\n",
    "        icon_anchor=(0,0),\n",
    "        html='\n",
    "             %s\n",
    "' % \"{:10.2f} KM\".format(distance_city),\n",
    ")\n",
    ")\n",
    "site_map.add_child(distance_marker)\n",
    "# closest city line\n",
    "coordinates = [[launch_site_lat,launch_site_lon],closest_city]\n",
    "lines=folium.PolyLine(locations=coordinates, weight=1)\n",
    "site_map.add_child(lines)"
   ],
   "metadata": {
    "collapsed": false
   }
  },
  {
   "cell_type": "markdown",
   "source": [
    "After you plot distance lines to the proximities, you can answer the following questions easily:\n",
    "\n",
    "Are launch sites in close proximity to railways?\n",
    "Are launch sites in close proximity to highways?\n",
    "Are launch sites in close proximity to coastline?\n",
    "Do launch sites keep certain distance away from cities?\n",
    "Also please try to explain your findings."
   ],
   "metadata": {
    "collapsed": false
   }
  },
  {
   "cell_type": "markdown",
   "source": [
    "### My Findings\n",
    "* As mentioned before, launch sites are in close proximity to equator to minimize fuel consumption by using Earth's ~ 30km/sec eastward spin to help spaceships get into orbit.\n",
    "* Launch sites are in close proximity to coastline so they can fly over the ocean during launch, for at least two safety reasons-- (1) crew has option to abort launch and attempt water landing (2) minimize people and property at risk from falling debris.\n",
    "* Launch sites are in close proximity to highways, which allows for easily transport required people and property.\n",
    "* Launch sites are in close proximity to railways, which allows transport for heavy cargo.\n",
    "* Launch sites are not in close proximity to cities, which minimizes danger to population dense areas."
   ],
   "metadata": {
    "collapsed": false
   }
  },
  {
   "cell_type": "markdown",
   "source": [
    "Now you have discovered many interesting insights related to the launch sites' location using folium, in a very interactive way. Next, you will need to build a dashboard using Ploty Dash on detailed launch records."
   ],
   "metadata": {
    "collapsed": false
   }
  },
  {
   "cell_type": "code",
   "execution_count": null,
   "outputs": [],
   "source": [],
   "metadata": {
    "collapsed": false
   }
  }
 ],
 "metadata": {
  "kernelspec": {
   "display_name": "Python 3",
   "language": "python",
   "name": "python3"
  },
  "language_info": {
   "codemirror_mode": {
    "name": "ipython",
    "version": 2
   },
   "file_extension": ".py",
   "mimetype": "text/x-python",
   "name": "python",
   "nbconvert_exporter": "python",
   "pygments_lexer": "ipython2",
   "version": "2.7.6"
  }
 },
 "nbformat": 4,
 "nbformat_minor": 0
}
